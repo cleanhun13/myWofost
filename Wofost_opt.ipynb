{
 "cells": [
  {
   "cell_type": "markdown",
   "metadata": {},
   "source": [
    "# 导入相关模组"
   ]
  },
  {
   "cell_type": "code",
   "execution_count": 2,
   "metadata": {},
   "outputs": [],
   "source": [
    "import yaml\n",
    "import pcse\n",
    "#  import sys\n",
    "import os\n",
    "import pickle\n",
    "import copy\n",
    "import numpy as np\n",
    "import pandas as pd\n",
    "\n",
    "from Wofost_opt_NWLP import my_crop_dict, my_agro, ModelRerunner\n",
    "from pcse.fileinput import YAMLCropDataProvider, CABOFileReader, YAMLAgroManagementReader\n",
    "from pcse.exceptions import PCSEError, PartitioningError\n",
    "from pcse.util import WOFOST80SiteDataProvider, WOFOST71SiteDataProvider\n",
    "from pcse.base import ParameterProvider\n",
    "from pcse.fileinput import YAMLAgroManagementReader\n",
    "from pcse.fileinput import ExcelWeatherDataProvider\n",
    "from pcse.models import Wofost80_NWLP_FD_beta as Wofost80_NWLP_FD\n",
    "from pcse.models import Wofost72_WLP_FD\n",
    "from tqdm import tqdm"
   ]
  },
  {
   "cell_type": "code",
   "execution_count": 3,
   "metadata": {},
   "outputs": [],
   "source": [
    "from datetime import datetime, timedelta\n",
    "# 日期转儒略日\n",
    "def d2jd(date: str, format=\"%Y-%m-%d\", mode=1) -> int:\n",
    "\n",
    "    dt = datetime.strptime(date, format)\n",
    "    tt = dt.timetuple()\n",
    "    # return tt.tm_year * 1000 + tt.tm_yday\n",
    "    if mode == 1:\n",
    "        return tt.tm_yday\n",
    "    else:\n",
    "        return tt.tm_year * 1000 + tt.tm_yday\n",
    "\n",
    "# 儒略日转日期\n",
    "def jd2d(jd: str, format=\"%Y-%m-%d\") -> str:\n",
    "    dt = datetime.strptime(jd, \"%Y%j\").date()\n",
    "    return dt.strftime(format)"
   ]
  },
  {
   "cell_type": "code",
   "execution_count": 4,
   "metadata": {},
   "outputs": [],
   "source": [
    "data_dir = os.path.join(os.getcwd(), \"data\")"
   ]
  },
  {
   "cell_type": "code",
   "execution_count": 5,
   "metadata": {},
   "outputs": [],
   "source": [
    "def isdir_demo(dir_path):\n",
    "    if not os.path.isdir(dir_path):\n",
    "        try:\n",
    "            os.mkdir(dir_path)\n",
    "        except FileNotFoundError:\n",
    "            os.makedirs(dir_path)"
   ]
  },
  {
   "cell_type": "markdown",
   "metadata": {},
   "source": [
    "## 2.1 读取作物参数"
   ]
  },
  {
   "cell_type": "code",
   "execution_count": 6,
   "metadata": {},
   "outputs": [],
   "source": [
    "cropfile = os.path.join(data_dir, 'npkfile', 'wofost_npk.crop')\n",
    "cropd = CABOFileReader(cropfile)\n"
   ]
  },
  {
   "cell_type": "code",
   "execution_count": null,
   "metadata": {},
   "outputs": [],
   "source": []
  },
  {
   "cell_type": "markdown",
   "metadata": {},
   "source": [
    "## 2.2 土壤参数"
   ]
  },
  {
   "cell_type": "code",
   "execution_count": 7,
   "metadata": {},
   "outputs": [],
   "source": [
    "soilfile = os.path.join(data_dir, 'soil', 'ec3_copy1.soil')\n",
    "soild = CABOFileReader(soilfile)"
   ]
  },
  {
   "cell_type": "markdown",
   "metadata": {},
   "source": [
    "## 2.3 站点数据"
   ]
  },
  {
   "cell_type": "code",
   "execution_count": 8,
   "metadata": {},
   "outputs": [],
   "source": [
    "# NAVAILI       Amount of N available in the pool at initialization of the system [kg/ha] 0-32\n",
    "# sited = WOFOST71SiteDataProvider(WAV=18)\n",
    "sited = WOFOST80SiteDataProvider(WAV=18, NAVAILI=20.5, PAVAILI=50.0, KAVAILI=250.0)"
   ]
  },
  {
   "cell_type": "markdown",
   "metadata": {},
   "source": [
    "## 2.4 合并数据"
   ]
  },
  {
   "cell_type": "code",
   "execution_count": 9,
   "metadata": {},
   "outputs": [],
   "source": [
    "parameters = ParameterProvider(cropdata=cropd, soildata=soild, sitedata=sited)"
   ]
  },
  {
   "cell_type": "markdown",
   "metadata": {},
   "source": [
    "## 2.5 读取管理文件"
   ]
  },
  {
   "cell_type": "code",
   "execution_count": 10,
   "metadata": {},
   "outputs": [],
   "source": [
    "with open(\"./data/npkfile/wofost_npk2022.agro\", 'r') as f:\n",
    "    yaml_agro_2022 = f.read()\n",
    "with open(\"./data/npkfile/wofost_npk2021.agro\", 'r') as f:\n",
    "    yaml_agro_2021 = f.read()"
   ]
  },
  {
   "cell_type": "markdown",
   "metadata": {},
   "source": [
    "## 2.6 气象数据"
   ]
  },
  {
   "cell_type": "code",
   "execution_count": 11,
   "metadata": {},
   "outputs": [],
   "source": [
    "weatherfile = os.path.join(data_dir, 'meteo', 'WOFOSTYL.xlsx')\n",
    "wdp = ExcelWeatherDataProvider(weatherfile)"
   ]
  },
  {
   "cell_type": "markdown",
   "metadata": {},
   "source": [
    "# 3 模型运行"
   ]
  },
  {
   "cell_type": "code",
   "execution_count": 12,
   "metadata": {},
   "outputs": [],
   "source": [
    "def overwrite_para(params, param_dict):\n",
    "    params.clear_override()\n",
    "    params.set_override(\"TSUMEM\", 125.0)\n",
    "    params.set_override(\"TSUM1\", 1300)\n",
    "    params.set_override(\"TSUM2\", 720)\n",
    "    crop_dict = my_crop_dict()\n",
    "\n",
    "    for parname, value in param_dict.items():\n",
    "\n",
    "        tmp_name = parname.split(\"00\")\n",
    "        if len(tmp_name) == 2:\n",
    "            var_name, idx1 = tmp_name[0], int(tmp_name[1])\n",
    "            if var_name == \"FLTB\" or var_name == \"FOTB\":\n",
    "                crop_dict[var_name][idx1] = value\n",
    "                crop_dict['FSTB'][idx1] = 1 - crop_dict['FLTB'][idx1] - crop_dict['FOTB'][idx1]\n",
    "                params.set_override(var_name, crop_dict[var_name])\n",
    "                params.set_override(\"FSTB\", crop_dict[\"FSTB\"])\n",
    "                # print(\"%s: %s\" % (var_name, parameters[var_name]))\n",
    "            else:\n",
    "                crop_dict[var_name][idx1] = value\n",
    "                params.set_override(var_name, crop_dict[var_name])\n",
    "\n",
    "        else:\n",
    "            var_name = parname\n",
    "            params.set_override(var_name, value)\n",
    "    return params"
   ]
  },
  {
   "cell_type": "code",
   "execution_count": 37,
   "metadata": {},
   "outputs": [],
   "source": [
    "# 管理文件数据\n",
    "agro = my_agro(yaml_agro_2022, 180)"
   ]
  },
  {
   "cell_type": "code",
   "execution_count": 38,
   "metadata": {},
   "outputs": [],
   "source": [
    "param_dict = {\n",
    "    \"TSUMEM\": 93.2, \"TSUM1\": 1199.21, \"TSUM2\": 794.35,\n",
    "    'AMAXTB001': 81.7121888514895, 'CVS': 0.329121467457929, 'CVO': 0.9058005069724505,           \n",
    "    'EFFTB001': 0.48336079258353787, 'EFFTB003': 0.6455378025518874, 'FLTB001': 0.6238628980908938, \n",
    "    'KDIFTB003': 0.7234994333878939, 'NCRIT_FR': 0.9110596892310302, 'NMAXSO': 0.015122114006625076, \n",
    "    'SLATB001': 0.0013528940745241608, 'SLATB003': 0.00140832568159012, 'SPAN': 49.30346137485921, \n",
    "    'TDWI': 30.99146290837611, 'TMNFTB003': 1.1870409185448094\n",
    "    }"
   ]
  },
  {
   "cell_type": "code",
   "execution_count": 39,
   "metadata": {},
   "outputs": [],
   "source": [
    "parameters = overwrite_para(params=parameters, param_dict=param_dict)"
   ]
  },
  {
   "cell_type": "code",
   "execution_count": 40,
   "metadata": {},
   "outputs": [
    {
     "data": {
      "text/plain": [
       "20.5"
      ]
     },
     "execution_count": 40,
     "metadata": {},
     "output_type": "execute_result"
    }
   ],
   "source": [
    "parameters['NAVAILI']"
   ]
  },
  {
   "cell_type": "code",
   "execution_count": 41,
   "metadata": {},
   "outputs": [],
   "source": [
    "Wofost1 = Wofost80_NWLP_FD(parameters, wdp, agro)\n",
    "Wofost1.run_till_terminate()\n",
    "\n",
    "rr = Wofost1.get_summary_output()"
   ]
  },
  {
   "cell_type": "code",
   "execution_count": 42,
   "metadata": {},
   "outputs": [
    {
     "name": "stdout",
     "output_type": "stream",
     "text": [
      "6\n",
      "61\n",
      "102\n"
     ]
    }
   ],
   "source": [
    "print((rr[0][\"DOE\"] - rr[0][\"DOS\"]).days)\n",
    "print((rr[0][\"DOA\"] - rr[0][\"DOS\"]).days)\n",
    "print((rr[0][\"DOM\"] - rr[0][\"DOS\"]).days)"
   ]
  },
  {
   "cell_type": "code",
   "execution_count": null,
   "metadata": {},
   "outputs": [],
   "source": []
  },
  {
   "cell_type": "code",
   "execution_count": 18,
   "metadata": {},
   "outputs": [
    {
     "name": "stdout",
     "output_type": "stream",
     "text": [
      "[{'DVS': 2.0, 'LAIMAX': 1.1930396219784034, 'TAGP': 10560.823915238785, 'TWSO': 7539.672380567814, 'TWLV': 860.621014889991, 'TWST': 2160.53051978098, 'TWRT': 449.98895166475586, 'CTRAT': 10.185043796750124, 'RD': 100.0, 'DOS': datetime.date(2021, 6, 12), 'DOE': datetime.date(2021, 6, 19), 'DOA': datetime.date(2021, 8, 12), 'DOM': datetime.date(2021, 9, 25), 'DOH': None, 'DOV': None, 'CEVST': 7.287803551659001, 'NuptakeTotal': 92.31283687575778, 'PuptakeTotal': 31.27646896048108, 'KuptakeTotal': 101.877682849833, 'NamountSO': 69.21890448343055, 'PamountSO': 25.277212917575774, 'KamountSO': 35.67771024645749}]\n"
     ]
    }
   ],
   "source": [
    "modelrerunner = ModelRerunner(parameters, wdp, agro)\n",
    "result = modelrerunner(param_dict, flag=True)\n",
    "print(result[1])"
   ]
  },
  {
   "cell_type": "code",
   "execution_count": 19,
   "metadata": {},
   "outputs": [
    {
     "data": {
      "text/plain": [
       "<AxesSubplot:xlabel='day'>"
      ]
     },
     "execution_count": 19,
     "metadata": {},
     "output_type": "execute_result"
    },
    {
     "data": {
      "image/png": "[encoded data removed]",
      "text/plain": [
       "<Figure size 640x480 with 1 Axes>"
      ]
     },
     "metadata": {},
     "output_type": "display_data"
    }
   ],
   "source": [
    "result[0].LAI.plot()"
   ]
  },
  {
   "cell_type": "code",
   "execution_count": 20,
   "metadata": {},
   "outputs": [
    {
     "name": "stdout",
     "output_type": "stream",
     "text": [
      "[{'DVS': 2.0, 'LAIMAX': 1.2584508321504673, 'TAGP': 6360.338504183919, 'TWSO': 3814.8931588043483, 'TWLV': 788.8388994011405, 'TWST': 1756.6064459784297, 'TWRT': 439.3782806340176, 'CTRAT': 9.19224538875005, 'RD': 82.60000000000005, 'DOS': datetime.date(2021, 6, 12), 'DOE': datetime.date(2021, 6, 20), 'DOA': datetime.date(2021, 7, 23), 'DOM': datetime.date(2021, 9, 1), 'DOH': None, 'DOV': None, 'CEVST': 4.424997119667298, 'NuptakeTotal': 74.44970383463152, 'PuptakeTotal': 23.709936373819737, 'KuptakeTotal': 92.06260926255689, 'NamountSO': 56.305191134714796, 'PamountSO': 19.12876331748382, 'KamountSO': 18.18940444841631}]\n"
     ]
    }
   ],
   "source": [
    "\n",
    "modelrerunner = Wofost80_NWLP_FD(parameters, wdp, agro)\n",
    "modelrerunner.run_till_terminate()\n",
    "print(modelrerunner.get_summary_output())"
   ]
  },
  {
   "cell_type": "code",
   "execution_count": 21,
   "metadata": {},
   "outputs": [
    {
     "data": {
      "text/plain": [
       "[{datetime.date(2021, 6, 1): {'CropCalendar': {'crop_name': 'maize',\n",
       "    'variety_name': 'Grain_maize_201',\n",
       "    'crop_start_date': datetime.date(2021, 6, 12),\n",
       "    'crop_start_type': 'sowing',\n",
       "    'crop_end_date': None,\n",
       "    'crop_end_type': 'maturity',\n",
       "    'max_duration': 140},\n",
       "   'TimedEvents': [{'event_signal': 'irrigate',\n",
       "     'name': 'Timed irrigation events',\n",
       "     'comment': 'All irrigation amounts in cm',\n",
       "     'events_table': [{datetime.date(2021, 8, 2): {'amount': 0,\n",
       "        'efficiency': 1.0}}]},\n",
       "    {'event_signal': 'apply_npk',\n",
       "     'name': 'Timed N/P/K application table',\n",
       "     'comment': 'All fertilizer amounts in kg/ha',\n",
       "     'events_table': [{datetime.date(2021, 6, 11): {'N_amount': 108.0,\n",
       "        'P_amount': 90.0,\n",
       "        'K_amount': 60.0,\n",
       "        'N_recovery': 0.7,\n",
       "        'P_recovery': 0.7,\n",
       "        'K_recovery': 0.7}},\n",
       "      {datetime.date(2021, 8, 2): {'N_amount': 72.0,\n",
       "        'P_amount': 0.0,\n",
       "        'K_amount': 0.0,\n",
       "        'N_recovery': 0.7,\n",
       "        'P_recovery': 0.7,\n",
       "        'K_recovery': 0.7}}]}],\n",
       "   'StateEvents': None}}]"
      ]
     },
     "execution_count": 21,
     "metadata": {},
     "output_type": "execute_result"
    }
   ],
   "source": [
    "agro"
   ]
  },
  {
   "cell_type": "code",
   "execution_count": 22,
   "metadata": {},
   "outputs": [],
   "source": [
    "# 参数顺序\n",
    "parameters_name = [\"SLATB001\", \"SLATB003\", \"SPAN\", \"EFFTB003\", \"TMNFTB003\", \"CVO\", \"FLTB003\", \"TDWI\", \"CVS\",\n",
    "                       \"NCRIT_FR\", \"EFFTB001\", \"KDIFTB003\", \"AMAXTB001\"]"
   ]
  },
  {
   "cell_type": "code",
   "execution_count": 23,
   "metadata": {},
   "outputs": [],
   "source": [
    "param_df = pd.read_csv(os.path.join(data_dir, \"opt\", \"optNWLP\", \"opt_ZDN180_NWLP_result3.csv\"), index_col=0)\n",
    "param_df.sort_values(by=['rmse'], ascending=True, inplace=True)\n",
    "# param_df = param_df[param_df['rmse'] < 0.31]"
   ]
  },
  {
   "cell_type": "code",
   "execution_count": 24,
   "metadata": {},
   "outputs": [],
   "source": [
    "parameters_name = param_df.columns.to_list()\n",
    "parameters_name = parameters_name[1: ]"
   ]
  },
  {
   "cell_type": "code",
   "execution_count": 25,
   "metadata": {},
   "outputs": [],
   "source": [
    "def read_obs(file_path):\n",
    "    obs_LAI = pd.read_csv(file_path)\n",
    "    obs_LAI.index = pd.to_datetime(obs_LAI.day)\n",
    "    obs_LAI.drop(\"day\", axis=1, inplace=True)\n",
    "    return obs_LAI\n",
    "\n",
    "bio2022 = read_obs(\"F:\\\\paper_code\\\\MLlai\\\\data\\\\obs\\\\ZDN180Y2022_TAGP_OBS.csv\")\n",
    "bio2021 = read_obs(\"F:\\\\paper_code\\\\MLlai\\\\data\\\\obs\\\\ZDN180Y2021_TAGP_OBS.csv\")\n",
    "lai2021 = read_obs(\"F:\\\\paper_code\\\\MLlai\\\\data\\\\obs\\\\ZDN180Y2021_LAI_OBS.csv\")\n",
    "lai2022 = read_obs(\"F:\\\\paper_code\\\\MLlai\\\\data\\\\obs\\\\ZDN180Y2022_LAI_OBS.csv\")\n",
    "# sm2021 = read_obs(\"F:\\\\paper_code\\\\MLlai\\\\data\\\\obs\\\\ZDN180Y2021_SM_OBS.csv\")\n",
    "# sm2022 = read_obs(\"F:\\\\paper_code\\\\MLlai\\\\data\\\\obs\\\\ZDN180Y2022_SM_OBS.csv\")\n"
   ]
  },
  {
   "cell_type": "code",
   "execution_count": 26,
   "metadata": {},
   "outputs": [],
   "source": [
    "sited = WOFOST80SiteDataProvider(WAV=18, NAVAILI=20.5, PAVAILI=50.0, KAVAILI=250.0)\n",
    "parameters = ParameterProvider(cropdata=cropd, soildata=soild, sitedata=sited)"
   ]
  },
  {
   "cell_type": "code",
   "execution_count": 177,
   "metadata": {},
   "outputs": [
    {
     "name": "stderr",
     "output_type": "stream",
     "text": [
      "100%|██████████| 1/1 [00:00<00:00,  1.87it/s]\n"
     ]
    }
   ],
   "source": [
    "# 管理文件数据\n",
    "## ZD idx = 1, 20.5 60\n",
    "rows, _ = param_df.shape\n",
    "df_dict = dict()\n",
    "for nn in [180]:\n",
    "    agro = my_agro(yaml_agro_2021, nn)\n",
    "    modelrerunner = None\n",
    "    modelrerunner = ModelRerunner(parameters, wdp, agro)\n",
    "    twso_list = list()\n",
    "    for i in tqdm([30]):\n",
    "        p_value = dict()\n",
    "        for each in parameters_name:\n",
    "            p_value[each] = param_df.iloc[i][each]\n",
    "        result = modelrerunner(p_value, flag=True)\n",
    "        # if result[1][0]['TWSO'] > 8000:\n",
    "        twso_list.append([i, result[1][0]['TWSO']])\n",
    "    df1 = pd.DataFrame(twso_list, columns=[\"id\", \"TWSO\"])\n",
    "    df1.set_index(\"id\", inplace=True)\n",
    "    df_dict[str(nn)] = df1\n",
    "    # print(result[0])\n",
    "# print(modelrerunner.summary[0])"
   ]
  },
  {
   "cell_type": "code",
   "execution_count": 178,
   "metadata": {},
   "outputs": [
    {
     "data": {
      "text/html": [
       "<div>\n",
       "<style scoped>\n",
       "    .dataframe tbody tr th:only-of-type {\n",
       "        vertical-align: middle;\n",
       "    }\n",
       "\n",
       "    .dataframe tbody tr th {\n",
       "        vertical-align: top;\n",
       "    }\n",
       "\n",
       "    .dataframe thead th {\n",
       "        text-align: right;\n",
       "    }\n",
       "</style>\n",
       "<table border=\"1\" class=\"dataframe\">\n",
       "  <thead>\n",
       "    <tr style=\"text-align: right;\">\n",
       "      <th></th>\n",
       "      <th>TWSO</th>\n",
       "    </tr>\n",
       "    <tr>\n",
       "      <th>id</th>\n",
       "      <th></th>\n",
       "    </tr>\n",
       "  </thead>\n",
       "  <tbody>\n",
       "    <tr>\n",
       "      <th>30</th>\n",
       "      <td>8919.618625</td>\n",
       "    </tr>\n",
       "  </tbody>\n",
       "</table>\n",
       "</div>"
      ],
      "text/plain": [
       "           TWSO\n",
       "id             \n",
       "30  8919.618625"
      ]
     },
     "execution_count": 178,
     "metadata": {},
     "output_type": "execute_result"
    }
   ],
   "source": [
    "df_dict[\"180\"]"
   ]
  },
  {
   "cell_type": "code",
   "execution_count": 179,
   "metadata": {},
   "outputs": [
    {
     "data": {
      "text/plain": [
       "<AxesSubplot:xlabel='day'>"
      ]
     },
     "execution_count": 179,
     "metadata": {},
     "output_type": "execute_result"
    },
    {
     "data": {
      "image/png": "[encoded data removed]",
      "text/plain": [
       "<Figure size 1600x600 with 1 Axes>"
      ]
     },
     "metadata": {},
     "output_type": "display_data"
    }
   ],
   "source": [
    "from matplotlib import pyplot as plt\n",
    "fig, axes = plt.subplots(figsize=(16,6))\n",
    "result[0].LAI.plot(ax=axes)\n",
    "df2.LAI.plot(ax=axes)"
   ]
  },
  {
   "cell_type": "code",
   "execution_count": 180,
   "metadata": {},
   "outputs": [
    {
     "data": {
      "text/html": [
       "<div>\n",
       "<style scoped>\n",
       "    .dataframe tbody tr th:only-of-type {\n",
       "        vertical-align: middle;\n",
       "    }\n",
       "\n",
       "    .dataframe tbody tr th {\n",
       "        vertical-align: top;\n",
       "    }\n",
       "\n",
       "    .dataframe thead th {\n",
       "        text-align: right;\n",
       "    }\n",
       "</style>\n",
       "<table border=\"1\" class=\"dataframe\">\n",
       "  <thead>\n",
       "    <tr style=\"text-align: right;\">\n",
       "      <th></th>\n",
       "      <th>DVS</th>\n",
       "      <th>LAI</th>\n",
       "      <th>TAGP</th>\n",
       "      <th>TWSO</th>\n",
       "      <th>TWLV</th>\n",
       "      <th>TWST</th>\n",
       "      <th>TWRT</th>\n",
       "      <th>TRA</th>\n",
       "      <th>RD</th>\n",
       "      <th>SM</th>\n",
       "      <th>...</th>\n",
       "      <th>KAVAIL</th>\n",
       "      <th>Ndemand</th>\n",
       "      <th>RNuptake</th>\n",
       "      <th>Pdemand</th>\n",
       "      <th>RPuptake</th>\n",
       "      <th>Kdemand</th>\n",
       "      <th>RKuptake</th>\n",
       "      <th>NamountSO</th>\n",
       "      <th>PamountSO</th>\n",
       "      <th>KamountSO</th>\n",
       "    </tr>\n",
       "    <tr>\n",
       "      <th>day</th>\n",
       "      <th></th>\n",
       "      <th></th>\n",
       "      <th></th>\n",
       "      <th></th>\n",
       "      <th></th>\n",
       "      <th></th>\n",
       "      <th></th>\n",
       "      <th></th>\n",
       "      <th></th>\n",
       "      <th></th>\n",
       "      <th></th>\n",
       "      <th></th>\n",
       "      <th></th>\n",
       "      <th></th>\n",
       "      <th></th>\n",
       "      <th></th>\n",
       "      <th></th>\n",
       "      <th></th>\n",
       "      <th></th>\n",
       "      <th></th>\n",
       "      <th></th>\n",
       "    </tr>\n",
       "  </thead>\n",
       "  <tbody>\n",
       "    <tr>\n",
       "      <th>2021-06-01</th>\n",
       "      <td>NaN</td>\n",
       "      <td>NaN</td>\n",
       "      <td>NaN</td>\n",
       "      <td>NaN</td>\n",
       "      <td>NaN</td>\n",
       "      <td>NaN</td>\n",
       "      <td>NaN</td>\n",
       "      <td>NaN</td>\n",
       "      <td>NaN</td>\n",
       "      <td>0.400000</td>\n",
       "      <td>...</td>\n",
       "      <td>250.000000</td>\n",
       "      <td>NaN</td>\n",
       "      <td>NaN</td>\n",
       "      <td>NaN</td>\n",
       "      <td>NaN</td>\n",
       "      <td>NaN</td>\n",
       "      <td>NaN</td>\n",
       "      <td>NaN</td>\n",
       "      <td>NaN</td>\n",
       "      <td>NaN</td>\n",
       "    </tr>\n",
       "    <tr>\n",
       "      <th>2021-06-02</th>\n",
       "      <td>NaN</td>\n",
       "      <td>NaN</td>\n",
       "      <td>NaN</td>\n",
       "      <td>NaN</td>\n",
       "      <td>NaN</td>\n",
       "      <td>NaN</td>\n",
       "      <td>NaN</td>\n",
       "      <td>NaN</td>\n",
       "      <td>NaN</td>\n",
       "      <td>0.335000</td>\n",
       "      <td>...</td>\n",
       "      <td>250.000000</td>\n",
       "      <td>NaN</td>\n",
       "      <td>NaN</td>\n",
       "      <td>NaN</td>\n",
       "      <td>NaN</td>\n",
       "      <td>NaN</td>\n",
       "      <td>NaN</td>\n",
       "      <td>NaN</td>\n",
       "      <td>NaN</td>\n",
       "      <td>NaN</td>\n",
       "    </tr>\n",
       "    <tr>\n",
       "      <th>2021-06-03</th>\n",
       "      <td>NaN</td>\n",
       "      <td>NaN</td>\n",
       "      <td>NaN</td>\n",
       "      <td>NaN</td>\n",
       "      <td>NaN</td>\n",
       "      <td>NaN</td>\n",
       "      <td>NaN</td>\n",
       "      <td>NaN</td>\n",
       "      <td>NaN</td>\n",
       "      <td>0.345402</td>\n",
       "      <td>...</td>\n",
       "      <td>250.000000</td>\n",
       "      <td>NaN</td>\n",
       "      <td>NaN</td>\n",
       "      <td>NaN</td>\n",
       "      <td>NaN</td>\n",
       "      <td>NaN</td>\n",
       "      <td>NaN</td>\n",
       "      <td>NaN</td>\n",
       "      <td>NaN</td>\n",
       "      <td>NaN</td>\n",
       "    </tr>\n",
       "    <tr>\n",
       "      <th>2021-06-04</th>\n",
       "      <td>NaN</td>\n",
       "      <td>NaN</td>\n",
       "      <td>NaN</td>\n",
       "      <td>NaN</td>\n",
       "      <td>NaN</td>\n",
       "      <td>NaN</td>\n",
       "      <td>NaN</td>\n",
       "      <td>NaN</td>\n",
       "      <td>NaN</td>\n",
       "      <td>0.311917</td>\n",
       "      <td>...</td>\n",
       "      <td>250.000000</td>\n",
       "      <td>NaN</td>\n",
       "      <td>NaN</td>\n",
       "      <td>NaN</td>\n",
       "      <td>NaN</td>\n",
       "      <td>NaN</td>\n",
       "      <td>NaN</td>\n",
       "      <td>NaN</td>\n",
       "      <td>NaN</td>\n",
       "      <td>NaN</td>\n",
       "    </tr>\n",
       "    <tr>\n",
       "      <th>2021-06-05</th>\n",
       "      <td>NaN</td>\n",
       "      <td>NaN</td>\n",
       "      <td>NaN</td>\n",
       "      <td>NaN</td>\n",
       "      <td>NaN</td>\n",
       "      <td>NaN</td>\n",
       "      <td>NaN</td>\n",
       "      <td>NaN</td>\n",
       "      <td>NaN</td>\n",
       "      <td>0.296869</td>\n",
       "      <td>...</td>\n",
       "      <td>250.000000</td>\n",
       "      <td>NaN</td>\n",
       "      <td>NaN</td>\n",
       "      <td>NaN</td>\n",
       "      <td>NaN</td>\n",
       "      <td>NaN</td>\n",
       "      <td>NaN</td>\n",
       "      <td>NaN</td>\n",
       "      <td>NaN</td>\n",
       "      <td>NaN</td>\n",
       "    </tr>\n",
       "    <tr>\n",
       "      <th>...</th>\n",
       "      <td>...</td>\n",
       "      <td>...</td>\n",
       "      <td>...</td>\n",
       "      <td>...</td>\n",
       "      <td>...</td>\n",
       "      <td>...</td>\n",
       "      <td>...</td>\n",
       "      <td>...</td>\n",
       "      <td>...</td>\n",
       "      <td>...</td>\n",
       "      <td>...</td>\n",
       "      <td>...</td>\n",
       "      <td>...</td>\n",
       "      <td>...</td>\n",
       "      <td>...</td>\n",
       "      <td>...</td>\n",
       "      <td>...</td>\n",
       "      <td>...</td>\n",
       "      <td>...</td>\n",
       "      <td>...</td>\n",
       "      <td>...</td>\n",
       "    </tr>\n",
       "    <tr>\n",
       "      <th>2021-09-27</th>\n",
       "      <td>1.912241</td>\n",
       "      <td>2.379709</td>\n",
       "      <td>18745.616515</td>\n",
       "      <td>9217.141496</td>\n",
       "      <td>3422.588542</td>\n",
       "      <td>6105.886477</td>\n",
       "      <td>2027.219213</td>\n",
       "      <td>0.054559</td>\n",
       "      <td>100.0</td>\n",
       "      <td>0.285056</td>\n",
       "      <td>...</td>\n",
       "      <td>144.165101</td>\n",
       "      <td>32.723565</td>\n",
       "      <td>0.0</td>\n",
       "      <td>13.066185</td>\n",
       "      <td>0.0</td>\n",
       "      <td>0.0</td>\n",
       "      <td>0.0</td>\n",
       "      <td>102.275221</td>\n",
       "      <td>38.279632</td>\n",
       "      <td>43.736021</td>\n",
       "    </tr>\n",
       "    <tr>\n",
       "      <th>2021-09-28</th>\n",
       "      <td>1.933516</td>\n",
       "      <td>2.269679</td>\n",
       "      <td>18772.248003</td>\n",
       "      <td>9243.772984</td>\n",
       "      <td>3422.588542</td>\n",
       "      <td>6105.886477</td>\n",
       "      <td>2027.219213</td>\n",
       "      <td>0.121599</td>\n",
       "      <td>100.0</td>\n",
       "      <td>0.286994</td>\n",
       "      <td>...</td>\n",
       "      <td>144.165101</td>\n",
       "      <td>32.903681</td>\n",
       "      <td>0.0</td>\n",
       "      <td>12.956805</td>\n",
       "      <td>0.0</td>\n",
       "      <td>0.0</td>\n",
       "      <td>0.0</td>\n",
       "      <td>103.396849</td>\n",
       "      <td>38.737610</td>\n",
       "      <td>44.892703</td>\n",
       "    </tr>\n",
       "    <tr>\n",
       "      <th>2021-09-29</th>\n",
       "      <td>1.955612</td>\n",
       "      <td>2.162723</td>\n",
       "      <td>18840.210782</td>\n",
       "      <td>9311.735763</td>\n",
       "      <td>3422.588542</td>\n",
       "      <td>6105.886477</td>\n",
       "      <td>2027.219213</td>\n",
       "      <td>0.100329</td>\n",
       "      <td>100.0</td>\n",
       "      <td>0.284148</td>\n",
       "      <td>...</td>\n",
       "      <td>144.165101</td>\n",
       "      <td>32.988157</td>\n",
       "      <td>0.0</td>\n",
       "      <td>12.811640</td>\n",
       "      <td>0.0</td>\n",
       "      <td>0.0</td>\n",
       "      <td>0.0</td>\n",
       "      <td>104.406314</td>\n",
       "      <td>39.149791</td>\n",
       "      <td>45.949697</td>\n",
       "    </tr>\n",
       "    <tr>\n",
       "      <th>2021-09-30</th>\n",
       "      <td>1.979350</td>\n",
       "      <td>2.059605</td>\n",
       "      <td>18883.523031</td>\n",
       "      <td>9355.048013</td>\n",
       "      <td>3422.588542</td>\n",
       "      <td>6105.886477</td>\n",
       "      <td>2027.219213</td>\n",
       "      <td>0.130118</td>\n",
       "      <td>100.0</td>\n",
       "      <td>0.282936</td>\n",
       "      <td>...</td>\n",
       "      <td>144.165101</td>\n",
       "      <td>32.999674</td>\n",
       "      <td>0.0</td>\n",
       "      <td>12.633028</td>\n",
       "      <td>0.0</td>\n",
       "      <td>0.0</td>\n",
       "      <td>0.0</td>\n",
       "      <td>105.314833</td>\n",
       "      <td>39.520753</td>\n",
       "      <td>46.941769</td>\n",
       "    </tr>\n",
       "    <tr>\n",
       "      <th>2021-10-01</th>\n",
       "      <td>2.000000</td>\n",
       "      <td>1.960260</td>\n",
       "      <td>18918.166212</td>\n",
       "      <td>9389.691193</td>\n",
       "      <td>3422.588542</td>\n",
       "      <td>6105.886477</td>\n",
       "      <td>2027.219213</td>\n",
       "      <td>0.103502</td>\n",
       "      <td>100.0</td>\n",
       "      <td>0.281348</td>\n",
       "      <td>...</td>\n",
       "      <td>144.165101</td>\n",
       "      <td>32.891687</td>\n",
       "      <td>0.0</td>\n",
       "      <td>12.442985</td>\n",
       "      <td>0.0</td>\n",
       "      <td>0.0</td>\n",
       "      <td>0.0</td>\n",
       "      <td>106.132499</td>\n",
       "      <td>39.854619</td>\n",
       "      <td>47.860621</td>\n",
       "    </tr>\n",
       "  </tbody>\n",
       "</table>\n",
       "<p>123 rows × 29 columns</p>\n",
       "</div>"
      ],
      "text/plain": [
       "                 DVS       LAI          TAGP         TWSO         TWLV  \\\n",
       "day                                                                      \n",
       "2021-06-01       NaN       NaN           NaN          NaN          NaN   \n",
       "2021-06-02       NaN       NaN           NaN          NaN          NaN   \n",
       "2021-06-03       NaN       NaN           NaN          NaN          NaN   \n",
       "2021-06-04       NaN       NaN           NaN          NaN          NaN   \n",
       "2021-06-05       NaN       NaN           NaN          NaN          NaN   \n",
       "...              ...       ...           ...          ...          ...   \n",
       "2021-09-27  1.912241  2.379709  18745.616515  9217.141496  3422.588542   \n",
       "2021-09-28  1.933516  2.269679  18772.248003  9243.772984  3422.588542   \n",
       "2021-09-29  1.955612  2.162723  18840.210782  9311.735763  3422.588542   \n",
       "2021-09-30  1.979350  2.059605  18883.523031  9355.048013  3422.588542   \n",
       "2021-10-01  2.000000  1.960260  18918.166212  9389.691193  3422.588542   \n",
       "\n",
       "                   TWST         TWRT       TRA     RD        SM  ...  \\\n",
       "day                                                              ...   \n",
       "2021-06-01          NaN          NaN       NaN    NaN  0.400000  ...   \n",
       "2021-06-02          NaN          NaN       NaN    NaN  0.335000  ...   \n",
       "2021-06-03          NaN          NaN       NaN    NaN  0.345402  ...   \n",
       "2021-06-04          NaN          NaN       NaN    NaN  0.311917  ...   \n",
       "2021-06-05          NaN          NaN       NaN    NaN  0.296869  ...   \n",
       "...                 ...          ...       ...    ...       ...  ...   \n",
       "2021-09-27  6105.886477  2027.219213  0.054559  100.0  0.285056  ...   \n",
       "2021-09-28  6105.886477  2027.219213  0.121599  100.0  0.286994  ...   \n",
       "2021-09-29  6105.886477  2027.219213  0.100329  100.0  0.284148  ...   \n",
       "2021-09-30  6105.886477  2027.219213  0.130118  100.0  0.282936  ...   \n",
       "2021-10-01  6105.886477  2027.219213  0.103502  100.0  0.281348  ...   \n",
       "\n",
       "                KAVAIL    Ndemand  RNuptake    Pdemand  RPuptake  Kdemand  \\\n",
       "day                                                                         \n",
       "2021-06-01  250.000000        NaN       NaN        NaN       NaN      NaN   \n",
       "2021-06-02  250.000000        NaN       NaN        NaN       NaN      NaN   \n",
       "2021-06-03  250.000000        NaN       NaN        NaN       NaN      NaN   \n",
       "2021-06-04  250.000000        NaN       NaN        NaN       NaN      NaN   \n",
       "2021-06-05  250.000000        NaN       NaN        NaN       NaN      NaN   \n",
       "...                ...        ...       ...        ...       ...      ...   \n",
       "2021-09-27  144.165101  32.723565       0.0  13.066185       0.0      0.0   \n",
       "2021-09-28  144.165101  32.903681       0.0  12.956805       0.0      0.0   \n",
       "2021-09-29  144.165101  32.988157       0.0  12.811640       0.0      0.0   \n",
       "2021-09-30  144.165101  32.999674       0.0  12.633028       0.0      0.0   \n",
       "2021-10-01  144.165101  32.891687       0.0  12.442985       0.0      0.0   \n",
       "\n",
       "            RKuptake   NamountSO  PamountSO  KamountSO  \n",
       "day                                                     \n",
       "2021-06-01       NaN         NaN        NaN        NaN  \n",
       "2021-06-02       NaN         NaN        NaN        NaN  \n",
       "2021-06-03       NaN         NaN        NaN        NaN  \n",
       "2021-06-04       NaN         NaN        NaN        NaN  \n",
       "2021-06-05       NaN         NaN        NaN        NaN  \n",
       "...              ...         ...        ...        ...  \n",
       "2021-09-27       0.0  102.275221  38.279632  43.736021  \n",
       "2021-09-28       0.0  103.396849  38.737610  44.892703  \n",
       "2021-09-29       0.0  104.406314  39.149791  45.949697  \n",
       "2021-09-30       0.0  105.314833  39.520753  46.941769  \n",
       "2021-10-01       0.0  106.132499  39.854619  47.860621  \n",
       "\n",
       "[123 rows x 29 columns]"
      ]
     },
     "execution_count": 180,
     "metadata": {},
     "output_type": "execute_result"
    }
   ],
   "source": [
    "df2"
   ]
  },
  {
   "cell_type": "code",
   "execution_count": 167,
   "metadata": {},
   "outputs": [],
   "source": [
    "df2 = result[0]"
   ]
  },
  {
   "cell_type": "code",
   "execution_count": 158,
   "metadata": {},
   "outputs": [
    {
     "data": {
      "text/html": [
       "<div>\n",
       "<style scoped>\n",
       "    .dataframe tbody tr th:only-of-type {\n",
       "        vertical-align: middle;\n",
       "    }\n",
       "\n",
       "    .dataframe tbody tr th {\n",
       "        vertical-align: top;\n",
       "    }\n",
       "\n",
       "    .dataframe thead th {\n",
       "        text-align: right;\n",
       "    }\n",
       "</style>\n",
       "<table border=\"1\" class=\"dataframe\">\n",
       "  <thead>\n",
       "    <tr style=\"text-align: right;\">\n",
       "      <th></th>\n",
       "      <th>DVS</th>\n",
       "      <th>LAI</th>\n",
       "      <th>TAGP</th>\n",
       "      <th>TWSO</th>\n",
       "      <th>TWLV</th>\n",
       "      <th>TWST</th>\n",
       "      <th>TWRT</th>\n",
       "      <th>TRA</th>\n",
       "      <th>RD</th>\n",
       "      <th>SM</th>\n",
       "      <th>...</th>\n",
       "      <th>KAVAIL</th>\n",
       "      <th>Ndemand</th>\n",
       "      <th>RNuptake</th>\n",
       "      <th>Pdemand</th>\n",
       "      <th>RPuptake</th>\n",
       "      <th>Kdemand</th>\n",
       "      <th>RKuptake</th>\n",
       "      <th>NamountSO</th>\n",
       "      <th>PamountSO</th>\n",
       "      <th>KamountSO</th>\n",
       "    </tr>\n",
       "    <tr>\n",
       "      <th>day</th>\n",
       "      <th></th>\n",
       "      <th></th>\n",
       "      <th></th>\n",
       "      <th></th>\n",
       "      <th></th>\n",
       "      <th></th>\n",
       "      <th></th>\n",
       "      <th></th>\n",
       "      <th></th>\n",
       "      <th></th>\n",
       "      <th></th>\n",
       "      <th></th>\n",
       "      <th></th>\n",
       "      <th></th>\n",
       "      <th></th>\n",
       "      <th></th>\n",
       "      <th></th>\n",
       "      <th></th>\n",
       "      <th></th>\n",
       "      <th></th>\n",
       "      <th></th>\n",
       "    </tr>\n",
       "  </thead>\n",
       "  <tbody>\n",
       "    <tr>\n",
       "      <th>2021-06-01</th>\n",
       "      <td>NaN</td>\n",
       "      <td>NaN</td>\n",
       "      <td>NaN</td>\n",
       "      <td>NaN</td>\n",
       "      <td>NaN</td>\n",
       "      <td>NaN</td>\n",
       "      <td>NaN</td>\n",
       "      <td>NaN</td>\n",
       "      <td>NaN</td>\n",
       "      <td>0.400000</td>\n",
       "      <td>...</td>\n",
       "      <td>250.000000</td>\n",
       "      <td>NaN</td>\n",
       "      <td>NaN</td>\n",
       "      <td>NaN</td>\n",
       "      <td>NaN</td>\n",
       "      <td>NaN</td>\n",
       "      <td>NaN</td>\n",
       "      <td>NaN</td>\n",
       "      <td>NaN</td>\n",
       "      <td>NaN</td>\n",
       "    </tr>\n",
       "    <tr>\n",
       "      <th>2021-06-02</th>\n",
       "      <td>NaN</td>\n",
       "      <td>NaN</td>\n",
       "      <td>NaN</td>\n",
       "      <td>NaN</td>\n",
       "      <td>NaN</td>\n",
       "      <td>NaN</td>\n",
       "      <td>NaN</td>\n",
       "      <td>NaN</td>\n",
       "      <td>NaN</td>\n",
       "      <td>0.335000</td>\n",
       "      <td>...</td>\n",
       "      <td>250.000000</td>\n",
       "      <td>NaN</td>\n",
       "      <td>NaN</td>\n",
       "      <td>NaN</td>\n",
       "      <td>NaN</td>\n",
       "      <td>NaN</td>\n",
       "      <td>NaN</td>\n",
       "      <td>NaN</td>\n",
       "      <td>NaN</td>\n",
       "      <td>NaN</td>\n",
       "    </tr>\n",
       "    <tr>\n",
       "      <th>2021-06-03</th>\n",
       "      <td>NaN</td>\n",
       "      <td>NaN</td>\n",
       "      <td>NaN</td>\n",
       "      <td>NaN</td>\n",
       "      <td>NaN</td>\n",
       "      <td>NaN</td>\n",
       "      <td>NaN</td>\n",
       "      <td>NaN</td>\n",
       "      <td>NaN</td>\n",
       "      <td>0.345402</td>\n",
       "      <td>...</td>\n",
       "      <td>250.000000</td>\n",
       "      <td>NaN</td>\n",
       "      <td>NaN</td>\n",
       "      <td>NaN</td>\n",
       "      <td>NaN</td>\n",
       "      <td>NaN</td>\n",
       "      <td>NaN</td>\n",
       "      <td>NaN</td>\n",
       "      <td>NaN</td>\n",
       "      <td>NaN</td>\n",
       "    </tr>\n",
       "    <tr>\n",
       "      <th>2021-06-04</th>\n",
       "      <td>NaN</td>\n",
       "      <td>NaN</td>\n",
       "      <td>NaN</td>\n",
       "      <td>NaN</td>\n",
       "      <td>NaN</td>\n",
       "      <td>NaN</td>\n",
       "      <td>NaN</td>\n",
       "      <td>NaN</td>\n",
       "      <td>NaN</td>\n",
       "      <td>0.311917</td>\n",
       "      <td>...</td>\n",
       "      <td>250.000000</td>\n",
       "      <td>NaN</td>\n",
       "      <td>NaN</td>\n",
       "      <td>NaN</td>\n",
       "      <td>NaN</td>\n",
       "      <td>NaN</td>\n",
       "      <td>NaN</td>\n",
       "      <td>NaN</td>\n",
       "      <td>NaN</td>\n",
       "      <td>NaN</td>\n",
       "    </tr>\n",
       "    <tr>\n",
       "      <th>2021-06-05</th>\n",
       "      <td>NaN</td>\n",
       "      <td>NaN</td>\n",
       "      <td>NaN</td>\n",
       "      <td>NaN</td>\n",
       "      <td>NaN</td>\n",
       "      <td>NaN</td>\n",
       "      <td>NaN</td>\n",
       "      <td>NaN</td>\n",
       "      <td>NaN</td>\n",
       "      <td>0.296869</td>\n",
       "      <td>...</td>\n",
       "      <td>250.000000</td>\n",
       "      <td>NaN</td>\n",
       "      <td>NaN</td>\n",
       "      <td>NaN</td>\n",
       "      <td>NaN</td>\n",
       "      <td>NaN</td>\n",
       "      <td>NaN</td>\n",
       "      <td>NaN</td>\n",
       "      <td>NaN</td>\n",
       "      <td>NaN</td>\n",
       "    </tr>\n",
       "    <tr>\n",
       "      <th>...</th>\n",
       "      <td>...</td>\n",
       "      <td>...</td>\n",
       "      <td>...</td>\n",
       "      <td>...</td>\n",
       "      <td>...</td>\n",
       "      <td>...</td>\n",
       "      <td>...</td>\n",
       "      <td>...</td>\n",
       "      <td>...</td>\n",
       "      <td>...</td>\n",
       "      <td>...</td>\n",
       "      <td>...</td>\n",
       "      <td>...</td>\n",
       "      <td>...</td>\n",
       "      <td>...</td>\n",
       "      <td>...</td>\n",
       "      <td>...</td>\n",
       "      <td>...</td>\n",
       "      <td>...</td>\n",
       "      <td>...</td>\n",
       "      <td>...</td>\n",
       "    </tr>\n",
       "    <tr>\n",
       "      <th>2021-09-27</th>\n",
       "      <td>1.912241</td>\n",
       "      <td>2.379709</td>\n",
       "      <td>18745.616515</td>\n",
       "      <td>9217.141496</td>\n",
       "      <td>3422.588542</td>\n",
       "      <td>6105.886477</td>\n",
       "      <td>2027.219213</td>\n",
       "      <td>0.054559</td>\n",
       "      <td>100.0</td>\n",
       "      <td>0.285056</td>\n",
       "      <td>...</td>\n",
       "      <td>144.165101</td>\n",
       "      <td>32.723565</td>\n",
       "      <td>0.0</td>\n",
       "      <td>13.066185</td>\n",
       "      <td>0.0</td>\n",
       "      <td>0.0</td>\n",
       "      <td>0.0</td>\n",
       "      <td>102.275221</td>\n",
       "      <td>38.279632</td>\n",
       "      <td>43.736021</td>\n",
       "    </tr>\n",
       "    <tr>\n",
       "      <th>2021-09-28</th>\n",
       "      <td>1.933516</td>\n",
       "      <td>2.269679</td>\n",
       "      <td>18772.248003</td>\n",
       "      <td>9243.772984</td>\n",
       "      <td>3422.588542</td>\n",
       "      <td>6105.886477</td>\n",
       "      <td>2027.219213</td>\n",
       "      <td>0.121599</td>\n",
       "      <td>100.0</td>\n",
       "      <td>0.286994</td>\n",
       "      <td>...</td>\n",
       "      <td>144.165101</td>\n",
       "      <td>32.903681</td>\n",
       "      <td>0.0</td>\n",
       "      <td>12.956805</td>\n",
       "      <td>0.0</td>\n",
       "      <td>0.0</td>\n",
       "      <td>0.0</td>\n",
       "      <td>103.396849</td>\n",
       "      <td>38.737610</td>\n",
       "      <td>44.892703</td>\n",
       "    </tr>\n",
       "    <tr>\n",
       "      <th>2021-09-29</th>\n",
       "      <td>1.955612</td>\n",
       "      <td>2.162723</td>\n",
       "      <td>18840.210782</td>\n",
       "      <td>9311.735763</td>\n",
       "      <td>3422.588542</td>\n",
       "      <td>6105.886477</td>\n",
       "      <td>2027.219213</td>\n",
       "      <td>0.100329</td>\n",
       "      <td>100.0</td>\n",
       "      <td>0.284148</td>\n",
       "      <td>...</td>\n",
       "      <td>144.165101</td>\n",
       "      <td>32.988157</td>\n",
       "      <td>0.0</td>\n",
       "      <td>12.811640</td>\n",
       "      <td>0.0</td>\n",
       "      <td>0.0</td>\n",
       "      <td>0.0</td>\n",
       "      <td>104.406314</td>\n",
       "      <td>39.149791</td>\n",
       "      <td>45.949697</td>\n",
       "    </tr>\n",
       "    <tr>\n",
       "      <th>2021-09-30</th>\n",
       "      <td>1.979350</td>\n",
       "      <td>2.059605</td>\n",
       "      <td>18883.523031</td>\n",
       "      <td>9355.048013</td>\n",
       "      <td>3422.588542</td>\n",
       "      <td>6105.886477</td>\n",
       "      <td>2027.219213</td>\n",
       "      <td>0.130118</td>\n",
       "      <td>100.0</td>\n",
       "      <td>0.282936</td>\n",
       "      <td>...</td>\n",
       "      <td>144.165101</td>\n",
       "      <td>32.999674</td>\n",
       "      <td>0.0</td>\n",
       "      <td>12.633028</td>\n",
       "      <td>0.0</td>\n",
       "      <td>0.0</td>\n",
       "      <td>0.0</td>\n",
       "      <td>105.314833</td>\n",
       "      <td>39.520753</td>\n",
       "      <td>46.941769</td>\n",
       "    </tr>\n",
       "    <tr>\n",
       "      <th>2021-10-01</th>\n",
       "      <td>2.000000</td>\n",
       "      <td>1.960260</td>\n",
       "      <td>18918.166212</td>\n",
       "      <td>9389.691193</td>\n",
       "      <td>3422.588542</td>\n",
       "      <td>6105.886477</td>\n",
       "      <td>2027.219213</td>\n",
       "      <td>0.103502</td>\n",
       "      <td>100.0</td>\n",
       "      <td>0.281348</td>\n",
       "      <td>...</td>\n",
       "      <td>144.165101</td>\n",
       "      <td>32.891687</td>\n",
       "      <td>0.0</td>\n",
       "      <td>12.442985</td>\n",
       "      <td>0.0</td>\n",
       "      <td>0.0</td>\n",
       "      <td>0.0</td>\n",
       "      <td>106.132499</td>\n",
       "      <td>39.854619</td>\n",
       "      <td>47.860621</td>\n",
       "    </tr>\n",
       "  </tbody>\n",
       "</table>\n",
       "<p>123 rows × 29 columns</p>\n",
       "</div>"
      ],
      "text/plain": [
       "                 DVS       LAI          TAGP         TWSO         TWLV  \\\n",
       "day                                                                      \n",
       "2021-06-01       NaN       NaN           NaN          NaN          NaN   \n",
       "2021-06-02       NaN       NaN           NaN          NaN          NaN   \n",
       "2021-06-03       NaN       NaN           NaN          NaN          NaN   \n",
       "2021-06-04       NaN       NaN           NaN          NaN          NaN   \n",
       "2021-06-05       NaN       NaN           NaN          NaN          NaN   \n",
       "...              ...       ...           ...          ...          ...   \n",
       "2021-09-27  1.912241  2.379709  18745.616515  9217.141496  3422.588542   \n",
       "2021-09-28  1.933516  2.269679  18772.248003  9243.772984  3422.588542   \n",
       "2021-09-29  1.955612  2.162723  18840.210782  9311.735763  3422.588542   \n",
       "2021-09-30  1.979350  2.059605  18883.523031  9355.048013  3422.588542   \n",
       "2021-10-01  2.000000  1.960260  18918.166212  9389.691193  3422.588542   \n",
       "\n",
       "                   TWST         TWRT       TRA     RD        SM  ...  \\\n",
       "day                                                              ...   \n",
       "2021-06-01          NaN          NaN       NaN    NaN  0.400000  ...   \n",
       "2021-06-02          NaN          NaN       NaN    NaN  0.335000  ...   \n",
       "2021-06-03          NaN          NaN       NaN    NaN  0.345402  ...   \n",
       "2021-06-04          NaN          NaN       NaN    NaN  0.311917  ...   \n",
       "2021-06-05          NaN          NaN       NaN    NaN  0.296869  ...   \n",
       "...                 ...          ...       ...    ...       ...  ...   \n",
       "2021-09-27  6105.886477  2027.219213  0.054559  100.0  0.285056  ...   \n",
       "2021-09-28  6105.886477  2027.219213  0.121599  100.0  0.286994  ...   \n",
       "2021-09-29  6105.886477  2027.219213  0.100329  100.0  0.284148  ...   \n",
       "2021-09-30  6105.886477  2027.219213  0.130118  100.0  0.282936  ...   \n",
       "2021-10-01  6105.886477  2027.219213  0.103502  100.0  0.281348  ...   \n",
       "\n",
       "                KAVAIL    Ndemand  RNuptake    Pdemand  RPuptake  Kdemand  \\\n",
       "day                                                                         \n",
       "2021-06-01  250.000000        NaN       NaN        NaN       NaN      NaN   \n",
       "2021-06-02  250.000000        NaN       NaN        NaN       NaN      NaN   \n",
       "2021-06-03  250.000000        NaN       NaN        NaN       NaN      NaN   \n",
       "2021-06-04  250.000000        NaN       NaN        NaN       NaN      NaN   \n",
       "2021-06-05  250.000000        NaN       NaN        NaN       NaN      NaN   \n",
       "...                ...        ...       ...        ...       ...      ...   \n",
       "2021-09-27  144.165101  32.723565       0.0  13.066185       0.0      0.0   \n",
       "2021-09-28  144.165101  32.903681       0.0  12.956805       0.0      0.0   \n",
       "2021-09-29  144.165101  32.988157       0.0  12.811640       0.0      0.0   \n",
       "2021-09-30  144.165101  32.999674       0.0  12.633028       0.0      0.0   \n",
       "2021-10-01  144.165101  32.891687       0.0  12.442985       0.0      0.0   \n",
       "\n",
       "            RKuptake   NamountSO  PamountSO  KamountSO  \n",
       "day                                                     \n",
       "2021-06-01       NaN         NaN        NaN        NaN  \n",
       "2021-06-02       NaN         NaN        NaN        NaN  \n",
       "2021-06-03       NaN         NaN        NaN        NaN  \n",
       "2021-06-04       NaN         NaN        NaN        NaN  \n",
       "2021-06-05       NaN         NaN        NaN        NaN  \n",
       "...              ...         ...        ...        ...  \n",
       "2021-09-27       0.0  102.275221  38.279632  43.736021  \n",
       "2021-09-28       0.0  103.396849  38.737610  44.892703  \n",
       "2021-09-29       0.0  104.406314  39.149791  45.949697  \n",
       "2021-09-30       0.0  105.314833  39.520753  46.941769  \n",
       "2021-10-01       0.0  106.132499  39.854619  47.860621  \n",
       "\n",
       "[123 rows x 29 columns]"
      ]
     },
     "execution_count": 158,
     "metadata": {},
     "output_type": "execute_result"
    }
   ],
   "source": [
    "df1"
   ]
  },
  {
   "cell_type": "code",
   "execution_count": 29,
   "metadata": {},
   "outputs": [
    {
     "data": {
      "text/plain": [
       "111"
      ]
     },
     "execution_count": 29,
     "metadata": {},
     "output_type": "execute_result"
    }
   ],
   "source": [
    "(result[1][0][\"DOM\"] - result[1][0][\"DOS\"]).days"
   ]
  },
  {
   "cell_type": "code",
   "execution_count": 30,
   "metadata": {},
   "outputs": [
    {
     "data": {
      "text/plain": [
       "datetime.date(2021, 10, 1)"
      ]
     },
     "execution_count": 30,
     "metadata": {},
     "output_type": "execute_result"
    }
   ],
   "source": [
    "result[1][0][\"DOM\"]"
   ]
  },
  {
   "cell_type": "code",
   "execution_count": 231,
   "metadata": {},
   "outputs": [],
   "source": [
    "df_model = result[0]\n",
    "em_date = \"2021-06-12\"\n",
    "doy1 = d2jd(em_date)\n",
    "dap = list()\n",
    "for each in df_model.index:\n",
    "    date_tuple = each.timetuple()\n",
    "    doy2 = date_tuple.tm_yday\n",
    "    dap.append(doy2 - doy1)\n",
    "df_model['doy'] = dap\n",
    "df_model = df_model[df_model.doy > -1]"
   ]
  },
  {
   "cell_type": "code",
   "execution_count": 232,
   "metadata": {},
   "outputs": [
    {
     "name": "stderr",
     "output_type": "stream",
     "text": [
      "C:\\Users\\Dongh\\AppData\\Local\\Temp\\ipykernel_30968\\1491514743.py:2: SettingWithCopyWarning: \n",
      "A value is trying to be set on a copy of a slice from a DataFrame.\n",
      "Try using .loc[row_indexer,col_indexer] = value instead\n",
      "\n",
      "See the caveats in the documentation: https://pandas.pydata.org/pandas-docs/stable/user_guide/indexing.html#returning-a-view-versus-a-copy\n",
      "  df_model.loc[:, \"LAI_G\"] = tmp_df.LAI*np.random.normal(1, 0.08, tmp_df.shape[0])\n",
      "C:\\Users\\Dongh\\AppData\\Local\\Temp\\ipykernel_30968\\1491514743.py:3: SettingWithCopyWarning: \n",
      "A value is trying to be set on a copy of a slice from a DataFrame.\n",
      "Try using .loc[row_indexer,col_indexer] = value instead\n",
      "\n",
      "See the caveats in the documentation: https://pandas.pydata.org/pandas-docs/stable/user_guide/indexing.html#returning-a-view-versus-a-copy\n",
      "  df_model.loc[:, \"SM_G\"] = tmp_df.SM*np.random.normal(1, 0.05, tmp_df.shape[0])\n"
     ]
    }
   ],
   "source": [
    "tmp_df = df2.copy()\n",
    "df_model.loc[:, \"LAI_G\"] = tmp_df.LAI*np.random.normal(1, 0.08, tmp_df.shape[0])\n",
    "df_model.loc[:, \"SM_G\"] = tmp_df.SM*np.random.normal(1, 0.05, tmp_df.shape[0])"
   ]
  },
  {
   "cell_type": "code",
   "execution_count": null,
   "metadata": {},
   "outputs": [],
   "source": [
    "\n"
   ]
  },
  {
   "cell_type": "code",
   "execution_count": 233,
   "metadata": {},
   "outputs": [],
   "source": [
    "# df_model.LAI.plot()\n"
   ]
  },
  {
   "cell_type": "code",
   "execution_count": 234,
   "metadata": {},
   "outputs": [],
   "source": [
    "lai_tagp = df_model[[\"doy\", \"LAI\", \"TAGP\", \"SM\", \"SM_G\", \"LAI_G\"]]"
   ]
  },
  {
   "cell_type": "code",
   "execution_count": 235,
   "metadata": {},
   "outputs": [],
   "source": [
    "concat1 = pd.concat([lai_tagp, bio2021, lai2021], axis=1)\n"
   ]
  },
  {
   "cell_type": "code",
   "execution_count": 236,
   "metadata": {},
   "outputs": [
    {
     "data": {
      "text/html": [
       "<div>\n",
       "<style scoped>\n",
       "    .dataframe tbody tr th:only-of-type {\n",
       "        vertical-align: middle;\n",
       "    }\n",
       "\n",
       "    .dataframe tbody tr th {\n",
       "        vertical-align: top;\n",
       "    }\n",
       "\n",
       "    .dataframe thead th {\n",
       "        text-align: right;\n",
       "    }\n",
       "</style>\n",
       "<table border=\"1\" class=\"dataframe\">\n",
       "  <thead>\n",
       "    <tr style=\"text-align: right;\">\n",
       "      <th></th>\n",
       "      <th>doy</th>\n",
       "      <th>LAI</th>\n",
       "      <th>TAGP</th>\n",
       "      <th>SM</th>\n",
       "      <th>SM_G</th>\n",
       "      <th>LAI_G</th>\n",
       "      <th>TAGP_OBS</th>\n",
       "      <th>LAI_OBS</th>\n",
       "    </tr>\n",
       "    <tr>\n",
       "      <th>day</th>\n",
       "      <th></th>\n",
       "      <th></th>\n",
       "      <th></th>\n",
       "      <th></th>\n",
       "      <th></th>\n",
       "      <th></th>\n",
       "      <th></th>\n",
       "      <th></th>\n",
       "    </tr>\n",
       "  </thead>\n",
       "  <tbody>\n",
       "    <tr>\n",
       "      <th>2021-06-12</th>\n",
       "      <td>0</td>\n",
       "      <td>0.060107</td>\n",
       "      <td>40.525542</td>\n",
       "      <td>0.230010</td>\n",
       "      <td>0.198841</td>\n",
       "      <td>0.062254</td>\n",
       "      <td>NaN</td>\n",
       "      <td>NaN</td>\n",
       "    </tr>\n",
       "    <tr>\n",
       "      <th>2021-06-13</th>\n",
       "      <td>1</td>\n",
       "      <td>0.060107</td>\n",
       "      <td>40.525542</td>\n",
       "      <td>0.223805</td>\n",
       "      <td>0.227594</td>\n",
       "      <td>0.060964</td>\n",
       "      <td>NaN</td>\n",
       "      <td>NaN</td>\n",
       "    </tr>\n",
       "    <tr>\n",
       "      <th>2021-06-14</th>\n",
       "      <td>2</td>\n",
       "      <td>0.060107</td>\n",
       "      <td>40.525542</td>\n",
       "      <td>0.218721</td>\n",
       "      <td>0.213790</td>\n",
       "      <td>0.064463</td>\n",
       "      <td>NaN</td>\n",
       "      <td>NaN</td>\n",
       "    </tr>\n",
       "    <tr>\n",
       "      <th>2021-06-15</th>\n",
       "      <td>3</td>\n",
       "      <td>0.060107</td>\n",
       "      <td>40.525542</td>\n",
       "      <td>0.382866</td>\n",
       "      <td>0.375832</td>\n",
       "      <td>0.063518</td>\n",
       "      <td>NaN</td>\n",
       "      <td>NaN</td>\n",
       "    </tr>\n",
       "    <tr>\n",
       "      <th>2021-06-16</th>\n",
       "      <td>4</td>\n",
       "      <td>0.060107</td>\n",
       "      <td>40.525542</td>\n",
       "      <td>0.335000</td>\n",
       "      <td>0.341169</td>\n",
       "      <td>0.058326</td>\n",
       "      <td>NaN</td>\n",
       "      <td>NaN</td>\n",
       "    </tr>\n",
       "    <tr>\n",
       "      <th>...</th>\n",
       "      <td>...</td>\n",
       "      <td>...</td>\n",
       "      <td>...</td>\n",
       "      <td>...</td>\n",
       "      <td>...</td>\n",
       "      <td>...</td>\n",
       "      <td>...</td>\n",
       "      <td>...</td>\n",
       "    </tr>\n",
       "    <tr>\n",
       "      <th>2021-09-27</th>\n",
       "      <td>107</td>\n",
       "      <td>2.228668</td>\n",
       "      <td>18259.152242</td>\n",
       "      <td>0.288174</td>\n",
       "      <td>0.255186</td>\n",
       "      <td>2.366932</td>\n",
       "      <td>NaN</td>\n",
       "      <td>NaN</td>\n",
       "    </tr>\n",
       "    <tr>\n",
       "      <th>2021-09-28</th>\n",
       "      <td>108</td>\n",
       "      <td>2.124478</td>\n",
       "      <td>18276.873020</td>\n",
       "      <td>0.290134</td>\n",
       "      <td>0.320368</td>\n",
       "      <td>2.139906</td>\n",
       "      <td>NaN</td>\n",
       "      <td>NaN</td>\n",
       "    </tr>\n",
       "    <tr>\n",
       "      <th>2021-09-29</th>\n",
       "      <td>109</td>\n",
       "      <td>2.024008</td>\n",
       "      <td>18330.704866</td>\n",
       "      <td>0.287283</td>\n",
       "      <td>0.296573</td>\n",
       "      <td>1.973947</td>\n",
       "      <td>NaN</td>\n",
       "      <td>NaN</td>\n",
       "    </tr>\n",
       "    <tr>\n",
       "      <th>2021-09-30</th>\n",
       "      <td>110</td>\n",
       "      <td>1.927206</td>\n",
       "      <td>18362.648482</td>\n",
       "      <td>0.286113</td>\n",
       "      <td>0.255295</td>\n",
       "      <td>2.181048</td>\n",
       "      <td>NaN</td>\n",
       "      <td>NaN</td>\n",
       "    </tr>\n",
       "    <tr>\n",
       "      <th>2021-10-01</th>\n",
       "      <td>111</td>\n",
       "      <td>1.834411</td>\n",
       "      <td>18387.883046</td>\n",
       "      <td>0.284581</td>\n",
       "      <td>0.303248</td>\n",
       "      <td>1.703339</td>\n",
       "      <td>NaN</td>\n",
       "      <td>NaN</td>\n",
       "    </tr>\n",
       "  </tbody>\n",
       "</table>\n",
       "<p>112 rows × 8 columns</p>\n",
       "</div>"
      ],
      "text/plain": [
       "            doy       LAI          TAGP        SM      SM_G     LAI_G  \\\n",
       "day                                                                     \n",
       "2021-06-12    0  0.060107     40.525542  0.230010  0.198841  0.062254   \n",
       "2021-06-13    1  0.060107     40.525542  0.223805  0.227594  0.060964   \n",
       "2021-06-14    2  0.060107     40.525542  0.218721  0.213790  0.064463   \n",
       "2021-06-15    3  0.060107     40.525542  0.382866  0.375832  0.063518   \n",
       "2021-06-16    4  0.060107     40.525542  0.335000  0.341169  0.058326   \n",
       "...         ...       ...           ...       ...       ...       ...   \n",
       "2021-09-27  107  2.228668  18259.152242  0.288174  0.255186  2.366932   \n",
       "2021-09-28  108  2.124478  18276.873020  0.290134  0.320368  2.139906   \n",
       "2021-09-29  109  2.024008  18330.704866  0.287283  0.296573  1.973947   \n",
       "2021-09-30  110  1.927206  18362.648482  0.286113  0.255295  2.181048   \n",
       "2021-10-01  111  1.834411  18387.883046  0.284581  0.303248  1.703339   \n",
       "\n",
       "            TAGP_OBS  LAI_OBS  \n",
       "day                            \n",
       "2021-06-12       NaN      NaN  \n",
       "2021-06-13       NaN      NaN  \n",
       "2021-06-14       NaN      NaN  \n",
       "2021-06-15       NaN      NaN  \n",
       "2021-06-16       NaN      NaN  \n",
       "...              ...      ...  \n",
       "2021-09-27       NaN      NaN  \n",
       "2021-09-28       NaN      NaN  \n",
       "2021-09-29       NaN      NaN  \n",
       "2021-09-30       NaN      NaN  \n",
       "2021-10-01       NaN      NaN  \n",
       "\n",
       "[112 rows x 8 columns]"
      ]
     },
     "execution_count": 236,
     "metadata": {},
     "output_type": "execute_result"
    }
   ],
   "source": [
    "concat1"
   ]
  },
  {
   "cell_type": "code",
   "execution_count": 237,
   "metadata": {},
   "outputs": [],
   "source": [
    "savePath = \"./data/LAI/2021N180_4.csv\"\n",
    "remove = True\n",
    "if remove:\n",
    "    concat1.to_csv(savePath)\n",
    "else:\n",
    "    if os.path.isfile(savePath):\n",
    "        print(\"该文件已存在，请检查路径\")\n",
    "    else:\n",
    "        concat1.to_csv(savePath)"
   ]
  },
  {
   "cell_type": "code",
   "execution_count": 238,
   "metadata": {},
   "outputs": [],
   "source": [
    "# 一致性分析\n",
    "def cal_d(df_sim, df_obs):\n",
    "    frac = np.sum((df_sim - df_obs)**2)\n",
    "    divid = np.sum((np.abs(df_sim - df_sim.mean()) + np.abs(df_obs - df_obs.mean()))**2)\n",
    "    return 1 - frac / divid"
   ]
  },
  {
   "cell_type": "code",
   "execution_count": 239,
   "metadata": {},
   "outputs": [],
   "source": [
    "import matplotlib.pyplot as plt\n",
    "import matplotlib\n",
    "font_options = {'family': 'serif', 'serif': 'Simsun',}\n",
    "plt.rc('font', **font_options)\n",
    "matplotlib.rcParams.update({'font.family': 'sans', 'mathtext.fontset': 'stix', 'text.usetex': False})\n",
    "plt.rcParams['font.sans-serif']=['Simsun'] #用来正常显示中文标签\n",
    "plt.rcParams['axes.unicode_minus']=False #用来正常显示负号\n",
    "font_dict={'family' : 'Times New Roman', 'size'   : 12}\n",
    "def draw_demo(X, Y1, X2, Y2, rangeX, rangeY, path_save=None, param_name=\"\", text=None):\n",
    "    \n",
    "    fig, ax = plt.subplots(figsize=(6, 4))\n",
    "    box = ax.get_position()\n",
    "    ax.set_position([box.x0, box.y0, box.width*0.8, box.height])\n",
    "    ax.set_xlim(rangeX[0], rangeX[1])\n",
    "    ax.set_ylim(rangeY[0], rangeY[1])\n",
    "    # 去除边框\n",
    "    ax.spines['right'].set_visible(False)\n",
    "    ax.spines['top'].set_visible(False)\n",
    "    ax.plot(X, Y1, 'k', label=\"模拟值\")\n",
    "    ax.scatter(X2, Y2, c='k', label=\"实测值\")\n",
    "    # label显示在右外侧\n",
    "    ax.legend(fontsize=13, bbox_to_anchor=(1.05, 0.3), prop={'family':'Simsun', 'size': 12})\n",
    "    # ax.legend(fontsize=13, loc='lower right', bbox_to_anchor=(1.05, 0.5), prop={'family':'Times New Roman'})\n",
    "    # ax.legend(prop={'family':'Simsun', 'size': 12})\n",
    "\n",
    "    # 设置x轴刻度 size设置字体大小，fontproperties设置字体样式\n",
    "    xticks = ax.get_xticks()\n",
    "    x_label = [f\"{i:<.0f}\" for i in xticks]\n",
    "    ax.set_xticks(xticks, x_label, fontproperties = 'Times New Roman', size=12)\n",
    "    # 设置y轴刻度的字体和大小\n",
    "    yticks = ax.get_yticks()\n",
    "    y_label = [f\"{i:<.1f}\" for i in yticks]\n",
    "    ax.set_yticks(yticks, y_label, fontproperties = 'Times New Roman', size=12)\n",
    "    # 设置y轴 16单位是像素  相当于word中的小四\n",
    "    ax.set_ylabel(param_name, size=14, linespacing=1.25)\n",
    "    ax.set_xlabel('播种后天数(d)\\n$\\mathrm{Day\\quadafter\\quadsowing(d)}$', size=14, linespacing=1.25)\n",
    "    if text is None:\n",
    "        pass\n",
    "    else:\n",
    "        ax.text(5, 0.8*rangeY[1], text, fontdict={'family':'Times New Roman', 'size': 12}, linespacing=1.25)\n",
    "    if path_save is None:\n",
    "        pass\n",
    "    else:\n",
    "        # 解决导出svg格式的时候，图片外侧显示不全的问题\n",
    "        # fig.subplots_adjust(right=0.75)\n",
    "        plt.savefig(path_save, format=\"svg\", dpi=750, bbox_inches = 'tight')\n",
    "    # plt.close(fig)"
   ]
  },
  {
   "cell_type": "code",
   "execution_count": 240,
   "metadata": {},
   "outputs": [],
   "source": [
    "draw_data = pd.read_csv(\"./data/LAI/2021N180_4.csv\", index_col=0)\n",
    "df_obs1 = draw_data.copy()\n",
    "df_obs1.dropna(inplace=True, how=\"all\", subset=[\"TAGP_OBS\", \"LAI_OBS\"], axis=0)"
   ]
  },
  {
   "cell_type": "code",
   "execution_count": null,
   "metadata": {},
   "outputs": [],
   "source": [
    "\n"
   ]
  },
  {
   "attachments": {},
   "cell_type": "markdown",
   "metadata": {},
   "source": [
    "## LAI画图用"
   ]
  },
  {
   "cell_type": "code",
   "execution_count": 241,
   "metadata": {},
   "outputs": [],
   "source": [
    "# LAI画图用\n",
    "df_obs = df_obs1[[\"doy\", \"LAI_G\"]]\n",
    "df_obs = df_obs.replace(0, np.nan)\n",
    "df_obs = df_obs.dropna(axis=0, how=\"any\")\n",
    "# 计算一致性\n",
    "frac = np.sum((draw_data.LAI - df_obs.LAI_G)**2)\n",
    "divid = np.sum((np.abs(draw_data.LAI - draw_data.LAI.mean()) +\n",
    "               np.abs(df_obs.LAI_G - df_obs.LAI_G.mean()))**2)\n",
    "d = 1 - frac / divid\n",
    "\n",
    "# 计算RMSE\n",
    "RMSE = (draw_data.LAI - df_obs.LAI_G)**2\n",
    "RMSE = np.sqrt(np.mean(RMSE))\n",
    "nRMSE = RMSE / np.mean(df_obs.LAI_G) * 100"
   ]
  },
  {
   "cell_type": "code",
   "execution_count": 242,
   "metadata": {},
   "outputs": [
    {
     "data": {
      "text/plain": [
       "9.659926348002289"
      ]
     },
     "execution_count": 242,
     "metadata": {},
     "output_type": "execute_result"
    }
   ],
   "source": [
    "nRMSE"
   ]
  },
  {
   "cell_type": "code",
   "execution_count": 243,
   "metadata": {},
   "outputs": [
    {
     "data": {
      "image/png": "[encoded data removed]",
      "text/plain": [
       "<Figure size 600x400 with 1 Axes>"
      ]
     },
     "metadata": {},
     "output_type": "display_data"
    }
   ],
   "source": [
    "my_text = \"$(a)\\quad2021$\\n$d = %.3f$ \\n $nRMSE = %.3f$%%\" % (d, nRMSE)\n",
    "xlim = (0, 120)\n",
    "ylim = (0, 5)\n",
    "draw_demo(draw_data.doy, draw_data.LAI, df_obs.doy, df_obs.LAI_G, xlim, ylim,\n",
    "          path_save=\"./img/opt/ZDN180LAI2021_0.svg\", param_name=\"LAI\", text=my_text)\n"
   ]
  },
  {
   "attachments": {},
   "cell_type": "markdown",
   "metadata": {},
   "source": [
    "## TAGP画图用"
   ]
  },
  {
   "cell_type": "code",
   "execution_count": 91,
   "metadata": {},
   "outputs": [],
   "source": [
    "df_obs = draw_data[[\"doy\", \"TAGP_OBS\"]]\n",
    "df_obs = df_obs.dropna(axis=0, how=\"any\")\n",
    "df_obs = df_obs.replace(0, np.nan)\n",
    "df_obs = df_obs.dropna(axis=0, how=\"any\")\n",
    "# 计算一致性\n",
    "frac = np.sum((draw_data.TAGP - df_obs.TAGP_OBS)**2)\n",
    "divid = np.sum((np.abs(draw_data.TAGP - draw_data.TAGP.mean()) +\n",
    "               np.abs(df_obs.TAGP_OBS - df_obs.TAGP_OBS.mean()))**2)\n",
    "d = 1 - frac / divid\n",
    "# 计算RMSE\n",
    "RMSE = (draw_data.TAGP - df_obs.TAGP_OBS)**2\n",
    "RMSE = np.sqrt(np.mean(RMSE))\n",
    "nRMSE = RMSE / np.mean(df_obs.TAGP_OBS) * 100\n"
   ]
  },
  {
   "cell_type": "code",
   "execution_count": 92,
   "metadata": {},
   "outputs": [
    {
     "data": {
      "image/png": "[encoded data removed]",
      "text/plain": [
       "<Figure size 600x400 with 1 Axes>"
      ]
     },
     "metadata": {},
     "output_type": "display_data"
    }
   ],
   "source": [
    "my_text = \"$(b)\\quad2021$\\n$d = %.3f$ \\n $nRMSE = %.3f$%%\" % (d, nRMSE)\n",
    "y_label = \"地上部生物量($kg$·$ha^{-1}$)\\n$\\mathrm{Aboveground \\quad biomass(kg·ha^{-1})}$\"\n",
    "xlim = (0, 120)\n",
    "ylim = (0, 21000)\n",
    "draw_demo(draw_data.doy, draw_data.TAGP, df_obs.doy, df_obs.TAGP_OBS, xlim, ylim, path_save=\"./img/opt/ZDN180TAGP2021_0.svg\", param_name=y_label, text=my_text)"
   ]
  },
  {
   "cell_type": "code",
   "execution_count": 95,
   "metadata": {},
   "outputs": [],
   "source": [
    "df_obs = draw_data[[\"doy\", \"SM_G\"]]\n",
    "df_obs = df_obs.dropna(axis=0, how=\"any\")\n",
    "df_obs = df_obs.replace(0, np.nan)\n",
    "df_obs = df_obs.dropna(axis=0, how=\"any\")\n",
    "# 计算一致性\n",
    "frac = np.sum((draw_data.SM - df_obs.SM_G)**2)\n",
    "divid = np.sum((np.abs(draw_data.SM- draw_data.SM.mean()) +\n",
    "               np.abs(df_obs.SM_G - df_obs.SM_G.mean()))**2)\n",
    "d = 1 - frac / divid\n",
    "# 计算RMSE\n",
    "RMSE = (draw_data.SM - df_obs.SM_G)**2\n",
    "RMSE = np.sqrt(np.mean(RMSE))\n",
    "nRMSE = RMSE / np.mean(df_obs.SM_G) * 100"
   ]
  },
  {
   "cell_type": "code",
   "execution_count": 97,
   "metadata": {},
   "outputs": [
    {
     "data": {
      "image/png": "[encoded data removed]",
      "text/plain": [
       "<Figure size 600x400 with 1 Axes>"
      ]
     },
     "metadata": {},
     "output_type": "display_data"
    }
   ],
   "source": [
    "my_text = \"$(b)\\quad2021$\\n$d = %.3f$ \\n $nRMSE = %.3f$%%\" % (d, nRMSE)\n",
    "y_label = \"土壤含水量($cm^3$·$cm^{-3}$) \\n$Soil \\quad water\\quad content(cm^3$·$cm^{-3})$\"\n",
    "xlim = (0, 120)\n",
    "ylim = (0, 0.5)\n",
    "draw_demo(draw_data.doy, draw_data.SM, df_obs.doy, df_obs.SM_G, xlim, ylim,\n",
    "          path_save=\"./img/opt/ZDN180SM2021_0.svg\", param_name=y_label, text=my_text)\n"
   ]
  },
  {
   "cell_type": "code",
   "execution_count": null,
   "metadata": {},
   "outputs": [],
   "source": [
    "\n"
   ]
  },
  {
   "cell_type": "code",
   "execution_count": 114,
   "metadata": {},
   "outputs": [
    {
     "data": {
      "text/html": [
       "<div>\n",
       "<style scoped>\n",
       "    .dataframe tbody tr th:only-of-type {\n",
       "        vertical-align: middle;\n",
       "    }\n",
       "\n",
       "    .dataframe tbody tr th {\n",
       "        vertical-align: top;\n",
       "    }\n",
       "\n",
       "    .dataframe thead th {\n",
       "        text-align: right;\n",
       "    }\n",
       "</style>\n",
       "<table border=\"1\" class=\"dataframe\">\n",
       "  <thead>\n",
       "    <tr style=\"text-align: right;\">\n",
       "      <th></th>\n",
       "      <th>3</th>\n",
       "    </tr>\n",
       "    <tr>\n",
       "      <th>day</th>\n",
       "      <th></th>\n",
       "    </tr>\n",
       "  </thead>\n",
       "  <tbody>\n",
       "    <tr>\n",
       "      <th>2021-07-29</th>\n",
       "      <td>3912.0</td>\n",
       "    </tr>\n",
       "    <tr>\n",
       "      <th>2021-08-06</th>\n",
       "      <td>5891.4</td>\n",
       "    </tr>\n",
       "    <tr>\n",
       "      <th>2021-08-16</th>\n",
       "      <td>10603.0</td>\n",
       "    </tr>\n",
       "    <tr>\n",
       "      <th>2021-08-27</th>\n",
       "      <td>12909.0</td>\n",
       "    </tr>\n",
       "    <tr>\n",
       "      <th>2021-09-07</th>\n",
       "      <td>17898.0</td>\n",
       "    </tr>\n",
       "    <tr>\n",
       "      <th>2021-09-27</th>\n",
       "      <td>18928.8</td>\n",
       "    </tr>\n",
       "  </tbody>\n",
       "</table>\n",
       "</div>"
      ],
      "text/plain": [
       "                  3\n",
       "day                \n",
       "2021-07-29   3912.0\n",
       "2021-08-06   5891.4\n",
       "2021-08-16  10603.0\n",
       "2021-08-27  12909.0\n",
       "2021-09-07  17898.0\n",
       "2021-09-27  18928.8"
      ]
     },
     "execution_count": 114,
     "metadata": {},
     "output_type": "execute_result"
    }
   ],
   "source": [
    "bio2021[[\"3\"]]"
   ]
  },
  {
   "cell_type": "code",
   "execution_count": 90,
   "metadata": {},
   "outputs": [],
   "source": [
    "yield_dict = {\n",
    "        \"ZDN180\": {\"0\": [6796, 6274],\n",
    "                   \"90\": [8288, 7397],\n",
    "                   \"180\": [9607, 8426],\n",
    "                   \"270\": [9573, 8346]\n",
    "                   }\n",
    "    }"
   ]
  },
  {
   "cell_type": "code",
   "execution_count": 1,
   "metadata": {},
   "outputs": [],
   "source": [
    "import numpy as np"
   ]
  },
  {
   "cell_type": "code",
   "execution_count": 3,
   "metadata": {},
   "outputs": [],
   "source": [
    "bounds = {\n",
    "        \"SLATB001\": np.arange(0.0013, 0.0039, 0.0001),\n",
    "        \"SLATB003\": np.arange(0.0005, 0.0015, 0.0001),\n",
    "        \"SPAN\": np.arange(16.5, 50.5, 0.5),\n",
    "        \"EFFTB003\": np.arange(0.225, 0.675, 0.001),\n",
    "        \"TMNFTB003\": np.arange(0.5, 1.2, 0.1),\n",
    "        \"CVO\": np.arange(0.4955, 0.9065, 0.0001),\n",
    "        \"FLTB001\": np.arange(0.465, 0.775, 0.001),\n",
    "        \"TDWI\": np.arange(25, 80, 1),\n",
    "        \"CVS\": np.arange(0.329, 0.987, 0.001),\n",
    "        \"EFFTB001\": np.arange(0.25, 0.75, 0.01),\n",
    "        \"KDIFTB003\": np.arange(0.30, 0.90, 0.01),\n",
    "        \"NCRIT_FR\": np.arange(0.50, 1.50, 0.01),\n",
    "        \"AMAXTB001\": np.arange(35.0, 90.0, 2),\n",
    "        \"NMAXSO\": np.arange(0.011, 0.033, 0.001),\n",
    "\n",
    "    }"
   ]
  },
  {
   "cell_type": "code",
   "execution_count": 110,
   "metadata": {},
   "outputs": [],
   "source": [
    "doa = 64\n",
    "dom = 111\n"
   ]
  },
  {
   "cell_type": "code",
   "execution_count": 111,
   "metadata": {},
   "outputs": [],
   "source": [
    "from scipy.stats import norm, uniform\n",
    "like_doa = norm(loc=doa, scale=1.5)\n",
    "like_dom = norm(loc=dom, scale=1.5)\n"
   ]
  },
  {
   "cell_type": "code",
   "execution_count": 115,
   "metadata": {},
   "outputs": [
    {
     "data": {
      "text/plain": [
       "-4.879959196868392"
      ]
     },
     "execution_count": 115,
     "metadata": {},
     "output_type": "execute_result"
    }
   ],
   "source": [
    "like_doa.logpdf(60)"
   ]
  },
  {
   "cell_type": "code",
   "execution_count": 128,
   "metadata": {},
   "outputs": [],
   "source": [
    "like = uniform(loc=500, scale=500)"
   ]
  },
  {
   "cell_type": "code",
   "execution_count": 130,
   "metadata": {},
   "outputs": [
    {
     "data": {
      "text/plain": [
       "750.0"
      ]
     },
     "execution_count": 130,
     "metadata": {},
     "output_type": "execute_result"
    }
   ],
   "source": [
    "like.mean()"
   ]
  },
  {
   "cell_type": "code",
   "execution_count": null,
   "metadata": {},
   "outputs": [],
   "source": []
  }
 ],
 "metadata": {
  "kernelspec": {
   "display_name": "pcse",
   "language": "python",
   "name": "pcse"
  },
  "language_info": {
   "codemirror_mode": {
    "name": "ipython",
    "version": 3
   },
   "file_extension": ".py",
   "mimetype": "text/x-python",
   "name": "python",
   "nbconvert_exporter": "python",
   "pygments_lexer": "ipython3",
   "version": "3.8.15"
  },
  "orig_nbformat": 4
 },
 "nbformat": 4,
 "nbformat_minor": 2
}
