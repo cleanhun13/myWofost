{
 "cells": [
  {
   "cell_type": "markdown",
   "metadata": {},
   "source": [
    "# 导入相关模组"
   ]
  },
  {
   "cell_type": "code",
   "execution_count": 1,
   "metadata": {},
   "outputs": [],
   "source": [
    "import yaml\n",
    "import pcse\n",
    "#  import sys\n",
    "import os\n",
    "import pickle\n",
    "import copy\n",
    "import numpy as np\n",
    "import pandas as pd\n",
    "\n",
    "from Wofost_opt_NWLP import my_crop_dict, my_agro, ModelRerunner\n",
    "from pcse.fileinput import YAMLCropDataProvider, CABOFileReader, YAMLAgroManagementReader\n",
    "from pcse.exceptions import PCSEError, PartitioningError\n",
    "from pcse.util import WOFOST80SiteDataProvider, WOFOST71SiteDataProvider\n",
    "from pcse.base import ParameterProvider\n",
    "from pcse.fileinput import YAMLAgroManagementReader\n",
    "from pcse.fileinput import ExcelWeatherDataProvider\n",
    "from pcse.models import Wofost80_NWLP_FD_beta as Wofost80_NWLP_FD\n",
    "from pcse.models import Wofost72_WLP_FD\n",
    "from tqdm import tqdm"
   ]
  },
  {
   "cell_type": "code",
   "execution_count": 2,
   "metadata": {},
   "outputs": [],
   "source": [
    "data_dir = os.path.join(os.getcwd(), \"data\")"
   ]
  },
  {
   "cell_type": "markdown",
   "metadata": {},
   "source": [
    "## 2.1 读取作物参数"
   ]
  },
  {
   "cell_type": "code",
   "execution_count": 3,
   "metadata": {},
   "outputs": [],
   "source": [
    "cropfile = os.path.join(data_dir, 'npkfile', 'wofost_npk.crop')\n",
    "cropd = CABOFileReader(cropfile)\n"
   ]
  },
  {
   "cell_type": "code",
   "execution_count": null,
   "metadata": {},
   "outputs": [],
   "source": []
  },
  {
   "cell_type": "markdown",
   "metadata": {},
   "source": [
    "## 2.2 土壤参数"
   ]
  },
  {
   "cell_type": "code",
   "execution_count": 4,
   "metadata": {},
   "outputs": [],
   "source": [
    "soilfile = os.path.join(data_dir, 'soil', 'ec3_copy1.soil')\n",
    "soild = CABOFileReader(soilfile)"
   ]
  },
  {
   "cell_type": "markdown",
   "metadata": {},
   "source": [
    "## 2.3 站点数据"
   ]
  },
  {
   "cell_type": "code",
   "execution_count": 5,
   "metadata": {},
   "outputs": [],
   "source": [
    "# NAVAILI       Amount of N available in the pool at initialization of the system [kg/ha] 0-32\n",
    "# sited = WOFOST71SiteDataProvider(WAV=18)\n",
    "sited = WOFOST80SiteDataProvider(WAV=18, NAVAILI=20.5, PAVAILI=50.0, KAVAILI=250.0)"
   ]
  },
  {
   "cell_type": "markdown",
   "metadata": {},
   "source": [
    "## 2.4 合并数据"
   ]
  },
  {
   "cell_type": "code",
   "execution_count": 6,
   "metadata": {},
   "outputs": [],
   "source": [
    "parameters = ParameterProvider(cropdata=cropd, soildata=soild, sitedata=sited)"
   ]
  },
  {
   "cell_type": "markdown",
   "metadata": {},
   "source": [
    "## 2.5 读取管理文件"
   ]
  },
  {
   "cell_type": "code",
   "execution_count": 7,
   "metadata": {},
   "outputs": [],
   "source": [
    "with open(\"./data/npkfile/wofost_npk2022.agro\", 'r') as f:\n",
    "    yaml_agro_2022 = f.read()\n",
    "with open(\"./data/npkfile/wofost_npk2021.agro\", 'r') as f:\n",
    "    yaml_agro_2021 = f.read()"
   ]
  },
  {
   "cell_type": "markdown",
   "metadata": {},
   "source": [
    "## 2.6 气象数据"
   ]
  },
  {
   "cell_type": "code",
   "execution_count": 8,
   "metadata": {},
   "outputs": [],
   "source": [
    "weatherfile = os.path.join(data_dir, 'meteo', 'WOFOSTYL.xlsx')\n",
    "wdp = ExcelWeatherDataProvider(weatherfile)"
   ]
  },
  {
   "cell_type": "markdown",
   "metadata": {},
   "source": [
    "# 3 模型运行"
   ]
  },
  {
   "cell_type": "code",
   "execution_count": 9,
   "metadata": {},
   "outputs": [],
   "source": [
    "def overwrite_para(params, param_dict):\n",
    "    params.clear_override()\n",
    "    params.set_override(\"TSUMEM\", 125.0)\n",
    "    params.set_override(\"TSUM1\", 1300)\n",
    "    params.set_override(\"TSUM2\", 720)\n",
    "    crop_dict = my_crop_dict()\n",
    "\n",
    "    for parname, value in param_dict.items():\n",
    "\n",
    "        tmp_name = parname.split(\"00\")\n",
    "        if len(tmp_name) == 2:\n",
    "            var_name, idx1 = tmp_name[0], int(tmp_name[1])\n",
    "            if var_name == \"FLTB\" or var_name == \"FOTB\":\n",
    "                crop_dict[var_name][idx1] = value\n",
    "                crop_dict['FSTB'][idx1] = 1 - crop_dict['FLTB'][idx1] - crop_dict['FOTB'][idx1]\n",
    "                params.set_override(var_name, crop_dict[var_name])\n",
    "                params.set_override(\"FSTB\", crop_dict[\"FSTB\"])\n",
    "                # print(\"%s: %s\" % (var_name, parameters[var_name]))\n",
    "            else:\n",
    "                crop_dict[var_name][idx1] = value\n",
    "                params.set_override(var_name, crop_dict[var_name])\n",
    "\n",
    "        else:\n",
    "            var_name = parname\n",
    "            params.set_override(var_name, value)\n",
    "    return params"
   ]
  },
  {
   "cell_type": "code",
   "execution_count": 10,
   "metadata": {},
   "outputs": [],
   "source": [
    "# 管理文件数据\n",
    "agro = my_agro(yaml_agro_2022, 180)"
   ]
  },
  {
   "cell_type": "code",
   "execution_count": 11,
   "metadata": {},
   "outputs": [],
   "source": [
    "param_dict = {'AMAXTB001': 81.7121888514895, 'CVS': 0.329121467457929, 'CVO': 0.9058005069724505, 'EFFTB001': 0.48336079258353787, 'EFFTB003': 0.6455378025518874, 'FLTB001': 0.6238628980908938, 'KDIFTB003': 0.7234994333878939, 'NCRIT_FR': 0.9110596892310302, 'NMAXSO': 0.015122114006625076, 'SLATB001': 0.0013528940745241608, 'SLATB003': 0.00140832568159012, 'SPAN': 49.30346137485921, 'TDWI': 30.99146290837611, 'TMNFTB003': 1.1870409185448094}"
   ]
  },
  {
   "cell_type": "code",
   "execution_count": 12,
   "metadata": {},
   "outputs": [],
   "source": [
    "parameters = overwrite_para(params=parameters, param_dict=param_dict)"
   ]
  },
  {
   "cell_type": "code",
   "execution_count": 13,
   "metadata": {},
   "outputs": [
    {
     "data": {
      "text/plain": [
       "20.5"
      ]
     },
     "execution_count": 13,
     "metadata": {},
     "output_type": "execute_result"
    }
   ],
   "source": [
    "parameters['NAVAILI']"
   ]
  },
  {
   "cell_type": "code",
   "execution_count": 14,
   "metadata": {},
   "outputs": [
    {
     "name": "stdout",
     "output_type": "stream",
     "text": [
      "[{'DVS': 2.0, 'LAIMAX': 2.0951239693316706, 'TAGP': 13161.627935260181, 'TWSO': 7866.944539901459, 'TWLV': 1511.3984390856856, 'TWST': 3783.2849562730357, 'TWRT': 797.0755246178718, 'CTRAT': 15.237545983698826, 'RD': 100.0, 'DOS': datetime.date(2022, 6, 11), 'DOE': datetime.date(2022, 6, 19), 'DOA': datetime.date(2022, 8, 18), 'DOM': datetime.date(2022, 9, 27), 'DOH': None, 'DOV': None, 'CEVST': 11.293817742684688, 'NuptakeTotal': 131.96252748587682, 'PuptakeTotal': 34.37809293063995, 'KuptakeTotal': 179.84402903610612, 'NamountSO': 92.55112578192865, 'PamountSO': 29.954584508891372, 'KamountSO': 38.537656324994224}]\n"
     ]
    }
   ],
   "source": [
    "Wofost1 = Wofost80_NWLP_FD(parameters, wdp, agro)\n",
    "Wofost1.run_till_terminate()\n",
    "print(Wofost1.get_summary_output())"
   ]
  },
  {
   "cell_type": "code",
   "execution_count": 15,
   "metadata": {},
   "outputs": [
    {
     "name": "stdout",
     "output_type": "stream",
     "text": [
      "[{'DVS': 2.0, 'LAIMAX': 2.0951239693316706, 'TAGP': 13161.627935260181, 'TWSO': 7866.944539901459, 'TWLV': 1511.3984390856856, 'TWST': 3783.2849562730357, 'TWRT': 797.0755246178718, 'CTRAT': 15.237545983698826, 'RD': 100.0, 'DOS': datetime.date(2022, 6, 11), 'DOE': datetime.date(2022, 6, 19), 'DOA': datetime.date(2022, 8, 18), 'DOM': datetime.date(2022, 9, 27), 'DOH': None, 'DOV': None, 'CEVST': 11.293817742684688, 'NuptakeTotal': 131.96252748587682, 'PuptakeTotal': 34.37809293063995, 'KuptakeTotal': 179.84402903610612, 'NamountSO': 92.55112578192865, 'PamountSO': 29.954584508891372, 'KamountSO': 38.537656324994224}]\n"
     ]
    }
   ],
   "source": [
    "modelrerunner = ModelRerunner(parameters, wdp, agro)\n",
    "result = modelrerunner(param_dict, flag=True)\n",
    "print(result[1])"
   ]
  },
  {
   "cell_type": "code",
   "execution_count": 16,
   "metadata": {},
   "outputs": [
    {
     "data": {
      "text/plain": [
       "<AxesSubplot:xlabel='day'>"
      ]
     },
     "execution_count": 16,
     "metadata": {},
     "output_type": "execute_result"
    },
    {
     "data": {
      "image/png": "[encoded data removed]",
      "text/plain": [
       "<Figure size 640x480 with 1 Axes>"
      ]
     },
     "metadata": {},
     "output_type": "display_data"
    }
   ],
   "source": [
    "result[0].LAI.plot()"
   ]
  },
  {
   "cell_type": "code",
   "execution_count": 17,
   "metadata": {},
   "outputs": [
    {
     "name": "stdout",
     "output_type": "stream",
     "text": [
      "[{'DVS': 2.0, 'LAIMAX': 1.4624725006094215, 'TAGP': 7299.617521827588, 'TWSO': 4298.386018736899, 'TWLV': 919.5722932182789, 'TWST': 2081.6592098724095, 'TWRT': 479.42699833812105, 'CTRAT': 11.800432701791296, 'RD': 80.40000000000005, 'DOS': datetime.date(2022, 6, 11), 'DOE': datetime.date(2022, 6, 18), 'DOA': datetime.date(2022, 7, 20), 'DOM': datetime.date(2022, 8, 26), 'DOH': None, 'DOV': None, 'CEVST': 8.793022820326575, 'NuptakeTotal': 82.91717558045465, 'PuptakeTotal': 26.003547294326385, 'KuptakeTotal': 105.6450312103625, 'NamountSO': 61.61894974598381, 'PamountSO': 20.69443416078578, 'KamountSO': 20.49535040556597}]\n"
     ]
    }
   ],
   "source": [
    "\n",
    "modelrerunner = Wofost80_NWLP_FD(parameters, wdp, agro)\n",
    "modelrerunner.run_till_terminate()\n",
    "print(modelrerunner.get_summary_output())"
   ]
  },
  {
   "cell_type": "code",
   "execution_count": 18,
   "metadata": {},
   "outputs": [
    {
     "data": {
      "text/plain": [
       "[{datetime.date(2022, 6, 1): {'CropCalendar': {'crop_name': 'maize',\n",
       "    'variety_name': 'Grain_maize_201',\n",
       "    'crop_start_date': datetime.date(2022, 6, 11),\n",
       "    'crop_start_type': 'sowing',\n",
       "    'crop_end_date': None,\n",
       "    'crop_end_type': 'maturity',\n",
       "    'max_duration': 140},\n",
       "   'TimedEvents': [{'event_signal': 'irrigate',\n",
       "     'name': 'Timed irrigation events',\n",
       "     'comment': 'All irrigation amounts in cm',\n",
       "     'events_table': [{datetime.date(2022, 6, 28): {'amount': 7.5,\n",
       "        'efficiency': 0.9}},\n",
       "      {datetime.date(2022, 7, 7): {'amount': 7.5, 'efficiency': 0.9}},\n",
       "      {datetime.date(2022, 8, 8): {'amount': 7.5, 'efficiency': 0.9}}]},\n",
       "    {'event_signal': 'apply_npk',\n",
       "     'name': 'Timed N/P/K application table',\n",
       "     'comment': 'All fertilizer amounts in kg/ha',\n",
       "     'events_table': [{datetime.date(2022, 6, 11): {'N_amount': 108.0,\n",
       "        'P_amount': 90.0,\n",
       "        'K_amount': 60.0,\n",
       "        'N_recovery': 0.7,\n",
       "        'P_recovery': 0.7,\n",
       "        'K_recovery': 0.7}},\n",
       "      {datetime.date(2022, 7, 15): {'N_amount': 72.0,\n",
       "        'P_amount': 0.0,\n",
       "        'K_amount': 0.0,\n",
       "        'N_recovery': 0.7,\n",
       "        'P_recovery': 0.7,\n",
       "        'K_recovery': 0.7}}]}],\n",
       "   'StateEvents': None}}]"
      ]
     },
     "execution_count": 18,
     "metadata": {},
     "output_type": "execute_result"
    }
   ],
   "source": [
    "agro"
   ]
  },
  {
   "cell_type": "code",
   "execution_count": 19,
   "metadata": {},
   "outputs": [],
   "source": [
    "# 参数顺序\n",
    "parameters_name = [\"SLATB001\", \"SLATB003\", \"SPAN\", \"EFFTB003\", \"TMNFTB003\", \"CVO\", \"FLTB003\", \"TDWI\", \"CVS\",\n",
    "                       \"NCRIT_FR\", \"EFFTB001\", \"KDIFTB003\", \"AMAXTB001\"]"
   ]
  },
  {
   "cell_type": "code",
   "execution_count": 22,
   "metadata": {},
   "outputs": [],
   "source": [
    "param_df = pd.read_csv(os.path.join(data_dir, \"opt\", \"opt1\", \"opt_ZDN180_NWLP_result.csv\"), index_col=0)\n",
    "param_df.sort_values(by=['rmse'], ascending=True, inplace=True)\n",
    "# param_df = param_df[param_df['rmse'] < 0.31]"
   ]
  },
  {
   "cell_type": "code",
   "execution_count": 23,
   "metadata": {},
   "outputs": [],
   "source": [
    "parameters_name = param_df.columns.to_list()\n",
    "parameters_name = parameters_name[1: ]"
   ]
  },
  {
   "cell_type": "code",
   "execution_count": 24,
   "metadata": {},
   "outputs": [],
   "source": [
    "sited = WOFOST80SiteDataProvider(WAV=18, NAVAILI=20.5, PAVAILI=50.0, KAVAILI=250.0)\n",
    "parameters = ParameterProvider(cropdata=cropd, soildata=soild, sitedata=sited)"
   ]
  },
  {
   "cell_type": "code",
   "execution_count": 29,
   "metadata": {},
   "outputs": [
    {
     "name": "stderr",
     "output_type": "stream",
     "text": [
      "100%|██████████| 1/1 [00:00<00:00,  2.33it/s]\n",
      "100%|██████████| 1/1 [00:00<00:00,  2.43it/s]\n"
     ]
    }
   ],
   "source": [
    "# 管理文件数据\n",
    "\n",
    "rows, _ = param_df.shape\n",
    "df_dict = dict()\n",
    "for nn in [90, 180]:\n",
    "    agro = my_agro(yaml_agro_2021, nn)\n",
    "    modelrerunner = None\n",
    "    modelrerunner = ModelRerunner(parameters, wdp, agro)\n",
    "    twso_list = list()\n",
    "    for i in tqdm([0]):\n",
    "        p_value = dict()\n",
    "        for each in parameters_name:\n",
    "            p_value[each] = param_df.iloc[i][each]\n",
    "        result = modelrerunner(p_value, flag=True)\n",
    "        # if result[1][0]['TWSO'] > 8000:\n",
    "        twso_list.append([i, result[1][0]['TWSO']])\n",
    "    df1 = pd.DataFrame(twso_list, columns=[\"id\", \"TWSO\"])\n",
    "    df1.set_index(\"id\", inplace=True)\n",
    "    df_dict[str(nn)] = df1\n",
    "    # print(result[0])\n",
    "# print(modelrerunner.summary[0])"
   ]
  },
  {
   "cell_type": "code",
   "execution_count": 32,
   "metadata": {},
   "outputs": [
    {
     "data": {
      "text/html": [
       "<div>\n",
       "<style scoped>\n",
       "    .dataframe tbody tr th:only-of-type {\n",
       "        vertical-align: middle;\n",
       "    }\n",
       "\n",
       "    .dataframe tbody tr th {\n",
       "        vertical-align: top;\n",
       "    }\n",
       "\n",
       "    .dataframe thead th {\n",
       "        text-align: right;\n",
       "    }\n",
       "</style>\n",
       "<table border=\"1\" class=\"dataframe\">\n",
       "  <thead>\n",
       "    <tr style=\"text-align: right;\">\n",
       "      <th></th>\n",
       "      <th>TWSO</th>\n",
       "    </tr>\n",
       "    <tr>\n",
       "      <th>id</th>\n",
       "      <th></th>\n",
       "    </tr>\n",
       "  </thead>\n",
       "  <tbody>\n",
       "    <tr>\n",
       "      <th>0</th>\n",
       "      <td>9587.498924</td>\n",
       "    </tr>\n",
       "  </tbody>\n",
       "</table>\n",
       "</div>"
      ],
      "text/plain": [
       "           TWSO\n",
       "id             \n",
       "0   9587.498924"
      ]
     },
     "execution_count": 32,
     "metadata": {},
     "output_type": "execute_result"
    }
   ],
   "source": [
    "df_dict[\"180\"]"
   ]
  },
  {
   "cell_type": "code",
   "execution_count": 33,
   "metadata": {},
   "outputs": [
    {
     "data": {
      "text/plain": [
       "[{'DVS': 2.0,\n",
       "  'LAIMAX': 5.017079467720782,\n",
       "  'TAGP': 19722.6808300284,\n",
       "  'TWSO': 9587.498924368643,\n",
       "  'TWLV': 3466.2781173403,\n",
       "  'TWST': 6668.903788319456,\n",
       "  'TWRT': 2148.002154500457,\n",
       "  'CTRAT': 25.55544413685283,\n",
       "  'RD': 100.0,\n",
       "  'DOS': datetime.date(2021, 6, 12),\n",
       "  'DOE': datetime.date(2021, 6, 21),\n",
       "  'DOA': datetime.date(2021, 8, 22),\n",
       "  'DOM': datetime.date(2021, 10, 1),\n",
       "  'DOH': None,\n",
       "  'DOV': None,\n",
       "  'CEVST': 3.8382230225246365,\n",
       "  'NuptakeTotal': 146.50000000000003,\n",
       "  'PuptakeTotal': 48.41766652062588,\n",
       "  'KuptakeTotal': 388.9542127743453,\n",
       "  'NamountSO': 94.91066201274948,\n",
       "  'PamountSO': 41.82910220037272,\n",
       "  'KamountSO': 49.42681150370075}]"
      ]
     },
     "execution_count": 33,
     "metadata": {},
     "output_type": "execute_result"
    }
   ],
   "source": [
    "result[1]"
   ]
  },
  {
   "cell_type": "code",
   "execution_count": 110,
   "metadata": {},
   "outputs": [
    {
     "data": {
      "text/plain": [
       "3.0"
      ]
     },
     "execution_count": 110,
     "metadata": {},
     "output_type": "execute_result"
    }
   ],
   "source": []
  },
  {
   "cell_type": "code",
   "execution_count": 31,
   "metadata": {},
   "outputs": [],
   "source": [
    "res_2021 = result[0]"
   ]
  },
  {
   "cell_type": "code",
   "execution_count": 32,
   "metadata": {},
   "outputs": [
    {
     "data": {
      "text/plain": [
       "<AxesSubplot:xlabel='day'>"
      ]
     },
     "execution_count": 32,
     "metadata": {},
     "output_type": "execute_result"
    },
    {
     "data": {
      "image/png": "[encoded data removed]",
      "text/plain": [
       "<Figure size 640x480 with 1 Axes>"
      ]
     },
     "metadata": {},
     "output_type": "display_data"
    }
   ],
   "source": [
    "res_2021.LAI.plot()"
   ]
  },
  {
   "cell_type": "code",
   "execution_count": 90,
   "metadata": {},
   "outputs": [],
   "source": [
    "yield_dict = {\n",
    "        \"ZDN180\": {\"0\": [6796, 6274],\n",
    "                   \"90\": [8288, 7397],\n",
    "                   \"180\": [9607, 8426],\n",
    "                   \"270\": [9573, 8346]\n",
    "                   }\n",
    "    }"
   ]
  },
  {
   "cell_type": "code",
   "execution_count": 1,
   "metadata": {},
   "outputs": [],
   "source": [
    "import numpy as np"
   ]
  },
  {
   "cell_type": "code",
   "execution_count": 3,
   "metadata": {},
   "outputs": [],
   "source": [
    "bounds = {\n",
    "        \"SLATB001\": np.arange(0.0013, 0.0039, 0.0001),\n",
    "        \"SLATB003\": np.arange(0.0005, 0.0015, 0.0001),\n",
    "        \"SPAN\": np.arange(16.5, 50.5, 0.5),\n",
    "        \"EFFTB003\": np.arange(0.225, 0.675, 0.001),\n",
    "        \"TMNFTB003\": np.arange(0.5, 1.2, 0.1),\n",
    "        \"CVO\": np.arange(0.4955, 0.9065, 0.0001),\n",
    "        \"FLTB001\": np.arange(0.465, 0.775, 0.001),\n",
    "        \"TDWI\": np.arange(25, 80, 1),\n",
    "        \"CVS\": np.arange(0.329, 0.987, 0.001),\n",
    "        \"EFFTB001\": np.arange(0.25, 0.75, 0.01),\n",
    "        \"KDIFTB003\": np.arange(0.30, 0.90, 0.01),\n",
    "        \"NCRIT_FR\": np.arange(0.50, 1.50, 0.01),\n",
    "        \"AMAXTB001\": np.arange(35.0, 90.0, 2),\n",
    "        \"NMAXSO\": np.arange(0.011, 0.033, 0.001),\n",
    "\n",
    "    }"
   ]
  },
  {
   "cell_type": "code",
   "execution_count": null,
   "metadata": {},
   "outputs": [],
   "source": []
  },
  {
   "cell_type": "code",
   "execution_count": null,
   "metadata": {},
   "outputs": [],
   "source": []
  }
 ],
 "metadata": {
  "kernelspec": {
   "display_name": "pcse",
   "language": "python",
   "name": "pcse"
  },
  "language_info": {
   "codemirror_mode": {
    "name": "ipython",
    "version": 3
   },
   "file_extension": ".py",
   "mimetype": "text/x-python",
   "name": "python",
   "nbconvert_exporter": "python",
   "pygments_lexer": "ipython3",
   "version": "3.8.15"
  },
  "orig_nbformat": 4
 },
 "nbformat": 4,
 "nbformat_minor": 2
}
