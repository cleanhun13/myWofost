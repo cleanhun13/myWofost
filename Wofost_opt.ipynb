{
 "cells": [
  {
   "cell_type": "markdown",
   "metadata": {},
   "source": [
    "# 导入相关模组"
   ]
  },
  {
   "cell_type": "code",
   "execution_count": 170,
   "metadata": {},
   "outputs": [],
   "source": [
    "import yaml\n",
    "import pcse\n",
    "#  import sys\n",
    "import os\n",
    "import pickle\n",
    "import copy\n",
    "import numpy as np\n",
    "import pandas as pd\n",
    "\n",
    "from Wofost_opt_NWLP import my_crop_dict, my_agro, ModelRerunner\n",
    "from pcse.fileinput import YAMLCropDataProvider, CABOFileReader, YAMLAgroManagementReader\n",
    "from pcse.exceptions import PCSEError, PartitioningError\n",
    "from pcse.util import WOFOST80SiteDataProvider, WOFOST71SiteDataProvider\n",
    "from pcse.base import ParameterProvider\n",
    "from pcse.fileinput import YAMLAgroManagementReader\n",
    "from pcse.fileinput import ExcelWeatherDataProvider\n",
    "from pcse.models import Wofost80_NWLP_FD_beta as Wofost80_NWLP_FD\n",
    "from pcse.models import Wofost72_WLP_FD\n",
    "from tqdm import tqdm"
   ]
  },
  {
   "cell_type": "code",
   "execution_count": 171,
   "metadata": {},
   "outputs": [],
   "source": [
    "from datetime import datetime, timedelta\n",
    "# 日期转儒略日\n",
    "def d2jd(date: str, format=\"%Y-%m-%d\", mode=1) -> int:\n",
    "\n",
    "    dt = datetime.strptime(date, format)\n",
    "    tt = dt.timetuple()\n",
    "    # return tt.tm_year * 1000 + tt.tm_yday\n",
    "    if mode == 1:\n",
    "        return tt.tm_yday\n",
    "    else:\n",
    "        return tt.tm_year * 1000 + tt.tm_yday\n",
    "\n",
    "# 儒略日转日期\n",
    "def jd2d(jd: str, format=\"%Y-%m-%d\") -> str:\n",
    "    dt = datetime.strptime(jd, \"%Y%j\").date()\n",
    "    return dt.strftime(format)"
   ]
  },
  {
   "cell_type": "code",
   "execution_count": 172,
   "metadata": {},
   "outputs": [],
   "source": [
    "data_dir = os.path.join(os.getcwd(), \"data\")"
   ]
  },
  {
   "cell_type": "code",
   "execution_count": 173,
   "metadata": {},
   "outputs": [],
   "source": [
    "def isdir_demo(dir_path):\n",
    "    if not os.path.isdir(dir_path):\n",
    "        try:\n",
    "            os.mkdir(dir_path)\n",
    "        except FileNotFoundError:\n",
    "            os.makedirs(dir_path)"
   ]
  },
  {
   "cell_type": "markdown",
   "metadata": {},
   "source": [
    "## 2.1 读取作物参数"
   ]
  },
  {
   "cell_type": "code",
   "execution_count": 174,
   "metadata": {},
   "outputs": [],
   "source": [
    "cropfile = os.path.join(data_dir, 'npkfile', 'wofost_npk.crop')\n",
    "cropd = CABOFileReader(cropfile)\n"
   ]
  },
  {
   "cell_type": "code",
   "execution_count": null,
   "metadata": {},
   "outputs": [],
   "source": []
  },
  {
   "cell_type": "markdown",
   "metadata": {},
   "source": [
    "## 2.2 土壤参数"
   ]
  },
  {
   "cell_type": "code",
   "execution_count": 175,
   "metadata": {},
   "outputs": [],
   "source": [
    "soilfile = os.path.join(data_dir, 'soil', 'ec3_copy1.soil')\n",
    "soild = CABOFileReader(soilfile)"
   ]
  },
  {
   "cell_type": "markdown",
   "metadata": {},
   "source": [
    "## 2.3 站点数据"
   ]
  },
  {
   "cell_type": "code",
   "execution_count": 176,
   "metadata": {},
   "outputs": [],
   "source": [
    "# NAVAILI       Amount of N available in the pool at initialization of the system [kg/ha] 0-32\n",
    "# sited = WOFOST71SiteDataProvider(WAV=18)\n",
    "sited = WOFOST80SiteDataProvider(WAV=18, NAVAILI=20.5, PAVAILI=50.0, KAVAILI=250.0)"
   ]
  },
  {
   "cell_type": "markdown",
   "metadata": {},
   "source": [
    "## 2.4 合并数据"
   ]
  },
  {
   "cell_type": "code",
   "execution_count": 177,
   "metadata": {},
   "outputs": [],
   "source": [
    "parameters = ParameterProvider(cropdata=cropd, soildata=soild, sitedata=sited)"
   ]
  },
  {
   "cell_type": "markdown",
   "metadata": {},
   "source": [
    "## 2.5 读取管理文件"
   ]
  },
  {
   "cell_type": "code",
   "execution_count": 178,
   "metadata": {},
   "outputs": [],
   "source": [
    "with open(\"./data/npkfile/wofost_npk2022.agro\", 'r') as f:\n",
    "    yaml_agro_2022 = f.read()\n",
    "with open(\"./data/npkfile/wofost_npk2021.agro\", 'r') as f:\n",
    "    yaml_agro_2021 = f.read()"
   ]
  },
  {
   "cell_type": "markdown",
   "metadata": {},
   "source": [
    "## 2.6 气象数据"
   ]
  },
  {
   "cell_type": "code",
   "execution_count": 179,
   "metadata": {},
   "outputs": [],
   "source": [
    "weatherfile = os.path.join(data_dir, 'meteo', 'WOFOSTYL.xlsx')\n",
    "wdp = ExcelWeatherDataProvider(weatherfile)"
   ]
  },
  {
   "cell_type": "markdown",
   "metadata": {},
   "source": [
    "# 3 模型运行"
   ]
  },
  {
   "cell_type": "code",
   "execution_count": 180,
   "metadata": {},
   "outputs": [],
   "source": [
    "def overwrite_para(params, param_dict):\n",
    "    params.clear_override()\n",
    "    params.set_override(\"TSUMEM\", 125.0)\n",
    "    params.set_override(\"TSUM1\", 1300)\n",
    "    params.set_override(\"TSUM2\", 720)\n",
    "    crop_dict = my_crop_dict()\n",
    "\n",
    "    for parname, value in param_dict.items():\n",
    "\n",
    "        tmp_name = parname.split(\"00\")\n",
    "        if len(tmp_name) == 2:\n",
    "            var_name, idx1 = tmp_name[0], int(tmp_name[1])\n",
    "            if var_name == \"FLTB\" or var_name == \"FOTB\":\n",
    "                crop_dict[var_name][idx1] = value\n",
    "                crop_dict['FSTB'][idx1] = 1 - crop_dict['FLTB'][idx1] - crop_dict['FOTB'][idx1]\n",
    "                params.set_override(var_name, crop_dict[var_name])\n",
    "                params.set_override(\"FSTB\", crop_dict[\"FSTB\"])\n",
    "                # print(\"%s: %s\" % (var_name, parameters[var_name]))\n",
    "            else:\n",
    "                crop_dict[var_name][idx1] = value\n",
    "                params.set_override(var_name, crop_dict[var_name])\n",
    "\n",
    "        else:\n",
    "            var_name = parname\n",
    "            params.set_override(var_name, value)\n",
    "    return params"
   ]
  },
  {
   "cell_type": "code",
   "execution_count": 181,
   "metadata": {},
   "outputs": [],
   "source": [
    "# 管理文件数据\n",
    "agro = my_agro(yaml_agro_2022, 180)"
   ]
  },
  {
   "cell_type": "code",
   "execution_count": 182,
   "metadata": {},
   "outputs": [],
   "source": [
    "param_dict = {'AMAXTB001': 81.7121888514895, 'CVS': 0.329121467457929, 'CVO': 0.9058005069724505, 'EFFTB001': 0.48336079258353787, 'EFFTB003': 0.6455378025518874, 'FLTB001': 0.6238628980908938, 'KDIFTB003': 0.7234994333878939, 'NCRIT_FR': 0.9110596892310302, 'NMAXSO': 0.015122114006625076, 'SLATB001': 0.0013528940745241608, 'SLATB003': 0.00140832568159012, 'SPAN': 49.30346137485921, 'TDWI': 30.99146290837611, 'TMNFTB003': 1.1870409185448094}"
   ]
  },
  {
   "cell_type": "code",
   "execution_count": 183,
   "metadata": {},
   "outputs": [],
   "source": [
    "parameters = overwrite_para(params=parameters, param_dict=param_dict)"
   ]
  },
  {
   "cell_type": "code",
   "execution_count": 184,
   "metadata": {},
   "outputs": [
    {
     "data": {
      "text/plain": [
       "20.5"
      ]
     },
     "execution_count": 184,
     "metadata": {},
     "output_type": "execute_result"
    }
   ],
   "source": [
    "parameters['NAVAILI']"
   ]
  },
  {
   "cell_type": "code",
   "execution_count": 185,
   "metadata": {},
   "outputs": [
    {
     "name": "stdout",
     "output_type": "stream",
     "text": [
      "[{'DVS': 2.0, 'LAIMAX': 2.0951239693316706, 'TAGP': 13161.627935260181, 'TWSO': 7866.944539901459, 'TWLV': 1511.3984390856856, 'TWST': 3783.2849562730357, 'TWRT': 797.0755246178718, 'CTRAT': 15.237545983698826, 'RD': 100.0, 'DOS': datetime.date(2022, 6, 11), 'DOE': datetime.date(2022, 6, 19), 'DOA': datetime.date(2022, 8, 18), 'DOM': datetime.date(2022, 9, 27), 'DOH': None, 'DOV': None, 'CEVST': 11.293817742684688, 'NuptakeTotal': 131.96252748587682, 'PuptakeTotal': 34.37809293063995, 'KuptakeTotal': 179.84402903610612, 'NamountSO': 92.55112578192865, 'PamountSO': 29.954584508891372, 'KamountSO': 38.537656324994224}]\n"
     ]
    }
   ],
   "source": [
    "Wofost1 = Wofost80_NWLP_FD(parameters, wdp, agro)\n",
    "Wofost1.run_till_terminate()\n",
    "print(Wofost1.get_summary_output())"
   ]
  },
  {
   "cell_type": "code",
   "execution_count": 186,
   "metadata": {},
   "outputs": [
    {
     "name": "stdout",
     "output_type": "stream",
     "text": [
      "[{'DVS': 2.0, 'LAIMAX': 2.0951239693316706, 'TAGP': 13161.627935260181, 'TWSO': 7866.944539901459, 'TWLV': 1511.3984390856856, 'TWST': 3783.2849562730357, 'TWRT': 797.0755246178718, 'CTRAT': 15.237545983698826, 'RD': 100.0, 'DOS': datetime.date(2022, 6, 11), 'DOE': datetime.date(2022, 6, 19), 'DOA': datetime.date(2022, 8, 18), 'DOM': datetime.date(2022, 9, 27), 'DOH': None, 'DOV': None, 'CEVST': 11.293817742684688, 'NuptakeTotal': 131.96252748587682, 'PuptakeTotal': 34.37809293063995, 'KuptakeTotal': 179.84402903610612, 'NamountSO': 92.55112578192865, 'PamountSO': 29.954584508891372, 'KamountSO': 38.537656324994224}]\n"
     ]
    }
   ],
   "source": [
    "modelrerunner = ModelRerunner(parameters, wdp, agro)\n",
    "result = modelrerunner(param_dict, flag=True)\n",
    "print(result[1])"
   ]
  },
  {
   "cell_type": "code",
   "execution_count": 187,
   "metadata": {},
   "outputs": [
    {
     "data": {
      "text/plain": [
       "<AxesSubplot:xlabel='day'>"
      ]
     },
     "execution_count": 187,
     "metadata": {},
     "output_type": "execute_result"
    },
    {
     "data": {
      "image/png": "[encoded data removed]",
      "text/plain": [
       "<Figure size 640x480 with 1 Axes>"
      ]
     },
     "metadata": {},
     "output_type": "display_data"
    }
   ],
   "source": [
    "result[0].LAI.plot()"
   ]
  },
  {
   "cell_type": "code",
   "execution_count": 188,
   "metadata": {},
   "outputs": [
    {
     "name": "stdout",
     "output_type": "stream",
     "text": [
      "[{'DVS': 2.0, 'LAIMAX': 1.4624725006094215, 'TAGP': 7299.617521827588, 'TWSO': 4298.386018736899, 'TWLV': 919.5722932182789, 'TWST': 2081.6592098724095, 'TWRT': 479.42699833812105, 'CTRAT': 11.800432701791296, 'RD': 80.40000000000005, 'DOS': datetime.date(2022, 6, 11), 'DOE': datetime.date(2022, 6, 18), 'DOA': datetime.date(2022, 7, 20), 'DOM': datetime.date(2022, 8, 26), 'DOH': None, 'DOV': None, 'CEVST': 8.793022820326575, 'NuptakeTotal': 82.91717558045465, 'PuptakeTotal': 26.003547294326385, 'KuptakeTotal': 105.6450312103625, 'NamountSO': 61.61894974598381, 'PamountSO': 20.69443416078578, 'KamountSO': 20.49535040556597}]\n"
     ]
    }
   ],
   "source": [
    "\n",
    "modelrerunner = Wofost80_NWLP_FD(parameters, wdp, agro)\n",
    "modelrerunner.run_till_terminate()\n",
    "print(modelrerunner.get_summary_output())"
   ]
  },
  {
   "cell_type": "code",
   "execution_count": 189,
   "metadata": {},
   "outputs": [
    {
     "data": {
      "text/plain": [
       "[{datetime.date(2022, 6, 1): {'CropCalendar': {'crop_name': 'maize',\n",
       "    'variety_name': 'Grain_maize_201',\n",
       "    'crop_start_date': datetime.date(2022, 6, 11),\n",
       "    'crop_start_type': 'sowing',\n",
       "    'crop_end_date': None,\n",
       "    'crop_end_type': 'maturity',\n",
       "    'max_duration': 140},\n",
       "   'TimedEvents': [{'event_signal': 'irrigate',\n",
       "     'name': 'Timed irrigation events',\n",
       "     'comment': 'All irrigation amounts in cm',\n",
       "     'events_table': [{datetime.date(2022, 6, 28): {'amount': 7.5,\n",
       "        'efficiency': 0.9}},\n",
       "      {datetime.date(2022, 7, 7): {'amount': 7.5, 'efficiency': 0.9}},\n",
       "      {datetime.date(2022, 8, 8): {'amount': 7.5, 'efficiency': 0.9}}]},\n",
       "    {'event_signal': 'apply_npk',\n",
       "     'name': 'Timed N/P/K application table',\n",
       "     'comment': 'All fertilizer amounts in kg/ha',\n",
       "     'events_table': [{datetime.date(2022, 6, 11): {'N_amount': 108.0,\n",
       "        'P_amount': 90.0,\n",
       "        'K_amount': 60.0,\n",
       "        'N_recovery': 0.7,\n",
       "        'P_recovery': 0.7,\n",
       "        'K_recovery': 0.7}},\n",
       "      {datetime.date(2022, 7, 15): {'N_amount': 72.0,\n",
       "        'P_amount': 0.0,\n",
       "        'K_amount': 0.0,\n",
       "        'N_recovery': 0.7,\n",
       "        'P_recovery': 0.7,\n",
       "        'K_recovery': 0.7}}]}],\n",
       "   'StateEvents': None}}]"
      ]
     },
     "execution_count": 189,
     "metadata": {},
     "output_type": "execute_result"
    }
   ],
   "source": [
    "agro"
   ]
  },
  {
   "cell_type": "code",
   "execution_count": 190,
   "metadata": {},
   "outputs": [],
   "source": [
    "# 参数顺序\n",
    "parameters_name = [\"SLATB001\", \"SLATB003\", \"SPAN\", \"EFFTB003\", \"TMNFTB003\", \"CVO\", \"FLTB003\", \"TDWI\", \"CVS\",\n",
    "                       \"NCRIT_FR\", \"EFFTB001\", \"KDIFTB003\", \"AMAXTB001\"]"
   ]
  },
  {
   "cell_type": "code",
   "execution_count": 191,
   "metadata": {},
   "outputs": [],
   "source": [
    "param_df = pd.read_csv(os.path.join(data_dir, \"opt\", \"optNWLP\", \"opt_ZDN180_NWLP_result3.csv\"), index_col=0)\n",
    "param_df.sort_values(by=['rmse'], ascending=True, inplace=True)\n",
    "# param_df = param_df[param_df['rmse'] < 0.31]"
   ]
  },
  {
   "cell_type": "code",
   "execution_count": 192,
   "metadata": {},
   "outputs": [],
   "source": [
    "parameters_name = param_df.columns.to_list()\n",
    "parameters_name = parameters_name[1: ]"
   ]
  },
  {
   "cell_type": "code",
   "execution_count": 236,
   "metadata": {},
   "outputs": [],
   "source": [
    "def read_obs(file_path):\n",
    "    obs_LAI = pd.read_csv(file_path)\n",
    "    obs_LAI.index = pd.to_datetime(obs_LAI.day)\n",
    "    obs_LAI.drop(\"day\", axis=1, inplace=True)\n",
    "    return obs_LAI\n",
    "\n",
    "bio2022 = read_obs(\"F:\\\\paper_code\\\\MLlai\\\\data\\\\obs\\\\ZDN180Y2022_TAGP_OBS.csv\")\n",
    "bio2021 = read_obs(\"F:\\\\paper_code\\\\MLlai\\\\data\\\\obs\\\\ZDN180Y2021_TAGP_OBS.csv\")\n",
    "lai2021 = read_obs(\"F:\\\\paper_code\\\\MLlai\\\\data\\\\obs\\\\ZDN180Y2021_LAI_OBS.csv\")\n",
    "lai2022 = read_obs(\"F:\\\\paper_code\\\\MLlai\\\\data\\\\obs\\\\ZDN180Y2022_LAI_OBS.csv\")"
   ]
  },
  {
   "cell_type": "code",
   "execution_count": 237,
   "metadata": {},
   "outputs": [],
   "source": [
    "sited = WOFOST80SiteDataProvider(WAV=18, NAVAILI=20.5, PAVAILI=50.0, KAVAILI=250.0)\n",
    "parameters = ParameterProvider(cropdata=cropd, soildata=soild, sitedata=sited)"
   ]
  },
  {
   "cell_type": "code",
   "execution_count": 386,
   "metadata": {},
   "outputs": [
    {
     "name": "stderr",
     "output_type": "stream",
     "text": [
      "100%|██████████| 1/1 [00:00<00:00,  2.24it/s]\n"
     ]
    }
   ],
   "source": [
    "# 管理文件数据\n",
    "## ZD idx = 1, 20.5 60\n",
    "rows, _ = param_df.shape\n",
    "df_dict = dict()\n",
    "for nn in [180]:\n",
    "    agro = my_agro(yaml_agro_2021, nn)\n",
    "    modelrerunner = None\n",
    "    modelrerunner = ModelRerunner(parameters, wdp, agro)\n",
    "    twso_list = list()\n",
    "    for i in tqdm([10]):\n",
    "        p_value = dict()\n",
    "        for each in parameters_name:\n",
    "            p_value[each] = param_df.iloc[i][each]\n",
    "        result = modelrerunner(p_value, flag=True)\n",
    "        # if result[1][0]['TWSO'] > 8000:\n",
    "        twso_list.append([i, result[1][0]['TWSO']])\n",
    "    df1 = pd.DataFrame(twso_list, columns=[\"id\", \"TWSO\"])\n",
    "    df1.set_index(\"id\", inplace=True)\n",
    "    df_dict[str(nn)] = df1\n",
    "    # print(result[0])\n",
    "# print(modelrerunner.summary[0])"
   ]
  },
  {
   "cell_type": "code",
   "execution_count": 387,
   "metadata": {},
   "outputs": [
    {
     "data": {
      "text/html": [
       "<div>\n",
       "<style scoped>\n",
       "    .dataframe tbody tr th:only-of-type {\n",
       "        vertical-align: middle;\n",
       "    }\n",
       "\n",
       "    .dataframe tbody tr th {\n",
       "        vertical-align: top;\n",
       "    }\n",
       "\n",
       "    .dataframe thead th {\n",
       "        text-align: right;\n",
       "    }\n",
       "</style>\n",
       "<table border=\"1\" class=\"dataframe\">\n",
       "  <thead>\n",
       "    <tr style=\"text-align: right;\">\n",
       "      <th></th>\n",
       "      <th>TWSO</th>\n",
       "    </tr>\n",
       "    <tr>\n",
       "      <th>id</th>\n",
       "      <th></th>\n",
       "    </tr>\n",
       "  </thead>\n",
       "  <tbody>\n",
       "    <tr>\n",
       "      <th>10</th>\n",
       "      <td>9142.817998</td>\n",
       "    </tr>\n",
       "  </tbody>\n",
       "</table>\n",
       "</div>"
      ],
      "text/plain": [
       "           TWSO\n",
       "id             \n",
       "10  9142.817998"
      ]
     },
     "execution_count": 387,
     "metadata": {},
     "output_type": "execute_result"
    }
   ],
   "source": [
    "df_dict[\"180\"]"
   ]
  },
  {
   "cell_type": "code",
   "execution_count": 388,
   "metadata": {},
   "outputs": [
    {
     "data": {
      "text/plain": [
       "datetime.timedelta(days=111)"
      ]
     },
     "execution_count": 388,
     "metadata": {},
     "output_type": "execute_result"
    }
   ],
   "source": [
    "result[1][0][\"DOM\"] - result[1][0][\"DOS\"]"
   ]
  },
  {
   "cell_type": "code",
   "execution_count": 389,
   "metadata": {},
   "outputs": [
    {
     "data": {
      "text/plain": [
       "datetime.date(2021, 10, 1)"
      ]
     },
     "execution_count": 389,
     "metadata": {},
     "output_type": "execute_result"
    }
   ],
   "source": [
    "result[1][0][\"DOM\"]"
   ]
  },
  {
   "cell_type": "code",
   "execution_count": 390,
   "metadata": {},
   "outputs": [],
   "source": [
    "df_model = result[0]\n",
    "em_date = \"2021-06-12\"\n",
    "doy1 = d2jd(em_date)\n",
    "dap = list()\n",
    "for each in df_model.index:\n",
    "    date_tuple = each.timetuple()\n",
    "    doy2 = date_tuple.tm_yday\n",
    "    dap.append(doy2 - doy1)\n",
    "df_model['doy'] = dap\n",
    "df_model = df_model[df_model.doy > -1]"
   ]
  },
  {
   "cell_type": "code",
   "execution_count": null,
   "metadata": {},
   "outputs": [],
   "source": []
  },
  {
   "cell_type": "code",
   "execution_count": 391,
   "metadata": {},
   "outputs": [],
   "source": [
    "# df_model.LAI.plot()\n"
   ]
  },
  {
   "cell_type": "code",
   "execution_count": 392,
   "metadata": {},
   "outputs": [],
   "source": [
    "lai_tagp = df_model[[\"doy\", \"LAI\", \"TAGP\"]]"
   ]
  },
  {
   "cell_type": "code",
   "execution_count": 393,
   "metadata": {},
   "outputs": [],
   "source": [
    "concat1 = pd.concat([lai_tagp, bio2021, lai2021], axis=1)"
   ]
  },
  {
   "cell_type": "code",
   "execution_count": 394,
   "metadata": {},
   "outputs": [
    {
     "data": {
      "text/html": [
       "<div>\n",
       "<style scoped>\n",
       "    .dataframe tbody tr th:only-of-type {\n",
       "        vertical-align: middle;\n",
       "    }\n",
       "\n",
       "    .dataframe tbody tr th {\n",
       "        vertical-align: top;\n",
       "    }\n",
       "\n",
       "    .dataframe thead th {\n",
       "        text-align: right;\n",
       "    }\n",
       "</style>\n",
       "<table border=\"1\" class=\"dataframe\">\n",
       "  <thead>\n",
       "    <tr style=\"text-align: right;\">\n",
       "      <th></th>\n",
       "      <th>doy</th>\n",
       "      <th>LAI</th>\n",
       "      <th>TAGP</th>\n",
       "      <th>TAGP_OBS</th>\n",
       "      <th>LAI_OBS</th>\n",
       "    </tr>\n",
       "    <tr>\n",
       "      <th>day</th>\n",
       "      <th></th>\n",
       "      <th></th>\n",
       "      <th></th>\n",
       "      <th></th>\n",
       "      <th></th>\n",
       "    </tr>\n",
       "  </thead>\n",
       "  <tbody>\n",
       "    <tr>\n",
       "      <th>2021-06-12</th>\n",
       "      <td>0</td>\n",
       "      <td>0.068008</td>\n",
       "      <td>40.643904</td>\n",
       "      <td>NaN</td>\n",
       "      <td>NaN</td>\n",
       "    </tr>\n",
       "    <tr>\n",
       "      <th>2021-06-13</th>\n",
       "      <td>1</td>\n",
       "      <td>0.068008</td>\n",
       "      <td>40.643904</td>\n",
       "      <td>NaN</td>\n",
       "      <td>NaN</td>\n",
       "    </tr>\n",
       "    <tr>\n",
       "      <th>2021-06-14</th>\n",
       "      <td>2</td>\n",
       "      <td>0.068008</td>\n",
       "      <td>40.643904</td>\n",
       "      <td>NaN</td>\n",
       "      <td>NaN</td>\n",
       "    </tr>\n",
       "    <tr>\n",
       "      <th>2021-06-15</th>\n",
       "      <td>3</td>\n",
       "      <td>0.068008</td>\n",
       "      <td>40.643904</td>\n",
       "      <td>NaN</td>\n",
       "      <td>NaN</td>\n",
       "    </tr>\n",
       "    <tr>\n",
       "      <th>2021-06-16</th>\n",
       "      <td>4</td>\n",
       "      <td>0.068008</td>\n",
       "      <td>40.643904</td>\n",
       "      <td>NaN</td>\n",
       "      <td>NaN</td>\n",
       "    </tr>\n",
       "    <tr>\n",
       "      <th>...</th>\n",
       "      <td>...</td>\n",
       "      <td>...</td>\n",
       "      <td>...</td>\n",
       "      <td>...</td>\n",
       "      <td>...</td>\n",
       "    </tr>\n",
       "    <tr>\n",
       "      <th>2021-09-27</th>\n",
       "      <td>107</td>\n",
       "      <td>2.184854</td>\n",
       "      <td>18683.570207</td>\n",
       "      <td>NaN</td>\n",
       "      <td>NaN</td>\n",
       "    </tr>\n",
       "    <tr>\n",
       "      <th>2021-09-28</th>\n",
       "      <td>108</td>\n",
       "      <td>2.074011</td>\n",
       "      <td>18690.543138</td>\n",
       "      <td>NaN</td>\n",
       "      <td>NaN</td>\n",
       "    </tr>\n",
       "    <tr>\n",
       "      <th>2021-09-29</th>\n",
       "      <td>109</td>\n",
       "      <td>1.967999</td>\n",
       "      <td>18726.494808</td>\n",
       "      <td>NaN</td>\n",
       "      <td>NaN</td>\n",
       "    </tr>\n",
       "    <tr>\n",
       "      <th>2021-09-30</th>\n",
       "      <td>110</td>\n",
       "      <td>1.867351</td>\n",
       "      <td>18743.958900</td>\n",
       "      <td>NaN</td>\n",
       "      <td>NaN</td>\n",
       "    </tr>\n",
       "    <tr>\n",
       "      <th>2021-10-01</th>\n",
       "      <td>111</td>\n",
       "      <td>1.771325</td>\n",
       "      <td>18755.891265</td>\n",
       "      <td>NaN</td>\n",
       "      <td>NaN</td>\n",
       "    </tr>\n",
       "  </tbody>\n",
       "</table>\n",
       "<p>112 rows × 5 columns</p>\n",
       "</div>"
      ],
      "text/plain": [
       "            doy       LAI          TAGP  TAGP_OBS  LAI_OBS\n",
       "day                                                       \n",
       "2021-06-12    0  0.068008     40.643904       NaN      NaN\n",
       "2021-06-13    1  0.068008     40.643904       NaN      NaN\n",
       "2021-06-14    2  0.068008     40.643904       NaN      NaN\n",
       "2021-06-15    3  0.068008     40.643904       NaN      NaN\n",
       "2021-06-16    4  0.068008     40.643904       NaN      NaN\n",
       "...         ...       ...           ...       ...      ...\n",
       "2021-09-27  107  2.184854  18683.570207       NaN      NaN\n",
       "2021-09-28  108  2.074011  18690.543138       NaN      NaN\n",
       "2021-09-29  109  1.967999  18726.494808       NaN      NaN\n",
       "2021-09-30  110  1.867351  18743.958900       NaN      NaN\n",
       "2021-10-01  111  1.771325  18755.891265       NaN      NaN\n",
       "\n",
       "[112 rows x 5 columns]"
      ]
     },
     "execution_count": 394,
     "metadata": {},
     "output_type": "execute_result"
    }
   ],
   "source": [
    "concat1"
   ]
  },
  {
   "cell_type": "code",
   "execution_count": 395,
   "metadata": {},
   "outputs": [],
   "source": [
    "savePath = \"./data/LAI/2021N180_4.csv\"\n",
    "remove = True\n",
    "if remove:\n",
    "    concat1.to_csv(savePath)\n",
    "else:\n",
    "    if os.path.isfile(savePath):\n",
    "        print(\"该文件已存在，请检查路径\")\n",
    "    else:\n",
    "        concat1.to_csv(savePath)"
   ]
  },
  {
   "cell_type": "code",
   "execution_count": 396,
   "metadata": {},
   "outputs": [],
   "source": [
    "# 一致性分析\n",
    "def cal_d(df_sim, df_obs):\n",
    "    frac = np.sum((df_sim - df_obs)**2)\n",
    "    divid = np.sum((np.abs(df_sim - df_sim.mean()) + np.abs(df_obs - df_obs.mean()))**2)\n",
    "    return 1 - frac / divid"
   ]
  },
  {
   "cell_type": "code",
   "execution_count": 397,
   "metadata": {},
   "outputs": [],
   "source": [
    "import matplotlib.pyplot as plt\n",
    "import matplotlib\n",
    "font_options = {'family': 'serif', 'serif': 'Simsun',}\n",
    "plt.rc('font', **font_options)\n",
    "matplotlib.rcParams.update({'font.family': 'sans', 'mathtext.fontset': 'stix', 'text.usetex': False})\n",
    "plt.rcParams['font.sans-serif']=['Simsun'] #用来正常显示中文标签\n",
    "plt.rcParams['axes.unicode_minus']=False #用来正常显示负号\n",
    "font_dict={'family' : 'Times New Roman', 'size'   : 12}\n",
    "def draw_demo(X, Y1, X2, Y2, rangeX, rangeY, path_save=None, param_name=\"\", text=None):\n",
    "    \n",
    "    fig, ax = plt.subplots(figsize=(6, 4))\n",
    "    box = ax.get_position()\n",
    "    ax.set_position([box.x0, box.y0, box.width*0.8, box.height])\n",
    "    ax.set_xlim(rangeX[0], rangeX[1])\n",
    "    ax.set_ylim(rangeY[0], rangeY[1])\n",
    "    # 去除边框\n",
    "    ax.spines['right'].set_visible(False)\n",
    "    ax.spines['top'].set_visible(False)\n",
    "    ax.plot(X, Y1, 'k', label=\"模拟值\")\n",
    "    ax.scatter(X2, Y2, c='k', label=\"实测值\")\n",
    "    # label显示在右外侧\n",
    "    ax.legend(fontsize=13, bbox_to_anchor=(1.05, 0.3), prop={'family':'Simsun', 'size': 12})\n",
    "    # ax.legend(fontsize=13, loc='lower right', bbox_to_anchor=(1.05, 0.5), prop={'family':'Times New Roman'})\n",
    "    # ax.legend(prop={'family':'Simsun', 'size': 12})\n",
    "\n",
    "    # 设置x轴刻度 size设置字体大小，fontproperties设置字体样式\n",
    "    xticks = ax.get_xticks()\n",
    "    x_label = [f\"{i:<.0f}\" for i in xticks]\n",
    "    ax.set_xticks(xticks, x_label, fontproperties = 'Times New Roman', size=12)\n",
    "    # 设置y轴刻度的字体和大小\n",
    "    yticks = ax.get_yticks()\n",
    "    y_label = [f\"{i:<.1f}\" for i in yticks]\n",
    "    ax.set_yticks(yticks, y_label, fontproperties = 'Times New Roman', size=12)\n",
    "    # 设置y轴 16单位是像素  相当于word中的小四\n",
    "    ax.set_ylabel(param_name, size=14, linespacing=1.25)\n",
    "    ax.set_xlabel('播种后天数(d)\\n$\\mathrm{Day\\quadafter\\quadsowing(d)}$', size=14, linespacing=1.25)\n",
    "    if text is None:\n",
    "        pass\n",
    "    else:\n",
    "        ax.text(5, 0.8*rangeY[1], text, fontdict={'family':'Times New Roman', 'size': 12}, linespacing=1.25)\n",
    "    if path_save is None:\n",
    "        pass\n",
    "    else:\n",
    "        # 解决导出svg格式的时候，图片外侧显示不全的问题\n",
    "        # fig.subplots_adjust(right=0.75)\n",
    "        plt.savefig(path_save, format=\"svg\", dpi=750, bbox_inches = 'tight')\n",
    "    # plt.close(fig)"
   ]
  },
  {
   "cell_type": "code",
   "execution_count": 398,
   "metadata": {},
   "outputs": [],
   "source": [
    "draw_data = pd.read_csv(\"./data/LAI/2021N180_4.csv\", index_col=0)"
   ]
  },
  {
   "cell_type": "code",
   "execution_count": null,
   "metadata": {},
   "outputs": [],
   "source": [
    "\n"
   ]
  },
  {
   "attachments": {},
   "cell_type": "markdown",
   "metadata": {},
   "source": [
    "## LAI画图用"
   ]
  },
  {
   "cell_type": "code",
   "execution_count": 399,
   "metadata": {},
   "outputs": [],
   "source": [
    "# LAI画图用\n",
    "df_obs = draw_data[[\"doy\", \"LAI_OBS\"]]\n",
    "df_obs = df_obs.replace(0, np.nan)\n",
    "df_obs = df_obs.dropna(axis=0, how=\"any\")\n",
    "# 计算一致性\n",
    "frac = np.sum((draw_data.LAI - df_obs.LAI_OBS)**2)\n",
    "divid = np.sum((np.abs(draw_data.LAI - draw_data.LAI.mean()) +\n",
    "               np.abs(df_obs.LAI_OBS - df_obs.LAI_OBS.mean()))**2)\n",
    "d = 1 - frac / divid\n",
    "\n",
    "# 计算RMSE\n",
    "RMSE = (draw_data.LAI - df_obs.LAI_OBS)**2\n",
    "RMSE = np.sqrt(np.mean(RMSE))\n",
    "nRMSE = RMSE / np.mean(df_obs.LAI_OBS) * 100"
   ]
  },
  {
   "cell_type": "code",
   "execution_count": 400,
   "metadata": {},
   "outputs": [
    {
     "data": {
      "text/plain": [
       "30.64212349066771"
      ]
     },
     "execution_count": 400,
     "metadata": {},
     "output_type": "execute_result"
    }
   ],
   "source": [
    "nRMSE"
   ]
  },
  {
   "cell_type": "code",
   "execution_count": 401,
   "metadata": {},
   "outputs": [
    {
     "data": {
      "image/png": "[encoded data removed]",
      "text/plain": [
       "<Figure size 600x400 with 1 Axes>"
      ]
     },
     "metadata": {},
     "output_type": "display_data"
    }
   ],
   "source": [
    "my_text = \"$(a)\\quad2021$\\n$d = %.3f$ \\n $nRMSE = %.3f$%%\" % (d, nRMSE)\n",
    "xlim = (0, 120)\n",
    "ylim = (0, 5)\n",
    "draw_demo(draw_data.doy, draw_data.LAI, df_obs.doy, df_obs.LAI_OBS, xlim, ylim,\n",
    "          path_save=\"./img/opt/ZDN180LAI2021_0.svg\", param_name=\"LAI\", text=my_text)\n"
   ]
  },
  {
   "attachments": {},
   "cell_type": "markdown",
   "metadata": {},
   "source": [
    "## TAGP画图用"
   ]
  },
  {
   "cell_type": "code",
   "execution_count": 402,
   "metadata": {},
   "outputs": [],
   "source": [
    "df_obs = draw_data[[\"doy\", \"TAGP_OBS\"]]\n",
    "df_obs = df_obs.dropna(axis=0, how=\"any\")\n",
    "df_obs = df_obs.replace(0, np.nan)\n",
    "df_obs = df_obs.dropna(axis=0, how=\"any\")\n",
    "# 计算一致性\n",
    "frac = np.sum((draw_data.TAGP - df_obs.TAGP_OBS)**2)\n",
    "divid = np.sum((np.abs(draw_data.TAGP - draw_data.TAGP.mean()) +\n",
    "               np.abs(df_obs.TAGP_OBS - df_obs.TAGP_OBS.mean()))**2)\n",
    "d = 1 - frac / divid\n",
    "# 计算RMSE\n",
    "RMSE = (draw_data.TAGP - df_obs.TAGP_OBS)**2\n",
    "RMSE = np.sqrt(np.mean(RMSE))\n",
    "nRMSE = RMSE / np.mean(df_obs.TAGP_OBS) * 100\n"
   ]
  },
  {
   "cell_type": "code",
   "execution_count": 403,
   "metadata": {},
   "outputs": [
    {
     "data": {
      "image/png": "[encoded data removed]",
      "text/plain": [
       "<Figure size 600x400 with 1 Axes>"
      ]
     },
     "metadata": {},
     "output_type": "display_data"
    }
   ],
   "source": [
    "my_text = \"$(b)\\quad2021$\\n$d = %.3f$ \\n $nRMSE = %.3f$%%\" % (d, nRMSE)\n",
    "y_label = \"地上部生物量($kg$·$ha^{-1}$)\\n$\\mathrm{Aboveground \\quad biomass(kg·ha^{-1})}$\"\n",
    "xlim = (0, 120)\n",
    "ylim = (0, 21000)\n",
    "draw_demo(draw_data.doy, draw_data.TAGP, df_obs.doy, df_obs.TAGP_OBS, xlim, ylim, path_save=\"./img/opt/ZDN180TAGP2021_0.svg\", param_name=y_label, text=my_text)"
   ]
  },
  {
   "cell_type": "code",
   "execution_count": null,
   "metadata": {},
   "outputs": [],
   "source": []
  },
  {
   "cell_type": "code",
   "execution_count": null,
   "metadata": {},
   "outputs": [],
   "source": []
  },
  {
   "cell_type": "code",
   "execution_count": null,
   "metadata": {},
   "outputs": [],
   "source": [
    "\n"
   ]
  },
  {
   "cell_type": "code",
   "execution_count": 114,
   "metadata": {},
   "outputs": [
    {
     "data": {
      "text/html": [
       "<div>\n",
       "<style scoped>\n",
       "    .dataframe tbody tr th:only-of-type {\n",
       "        vertical-align: middle;\n",
       "    }\n",
       "\n",
       "    .dataframe tbody tr th {\n",
       "        vertical-align: top;\n",
       "    }\n",
       "\n",
       "    .dataframe thead th {\n",
       "        text-align: right;\n",
       "    }\n",
       "</style>\n",
       "<table border=\"1\" class=\"dataframe\">\n",
       "  <thead>\n",
       "    <tr style=\"text-align: right;\">\n",
       "      <th></th>\n",
       "      <th>3</th>\n",
       "    </tr>\n",
       "    <tr>\n",
       "      <th>day</th>\n",
       "      <th></th>\n",
       "    </tr>\n",
       "  </thead>\n",
       "  <tbody>\n",
       "    <tr>\n",
       "      <th>2021-07-29</th>\n",
       "      <td>3912.0</td>\n",
       "    </tr>\n",
       "    <tr>\n",
       "      <th>2021-08-06</th>\n",
       "      <td>5891.4</td>\n",
       "    </tr>\n",
       "    <tr>\n",
       "      <th>2021-08-16</th>\n",
       "      <td>10603.0</td>\n",
       "    </tr>\n",
       "    <tr>\n",
       "      <th>2021-08-27</th>\n",
       "      <td>12909.0</td>\n",
       "    </tr>\n",
       "    <tr>\n",
       "      <th>2021-09-07</th>\n",
       "      <td>17898.0</td>\n",
       "    </tr>\n",
       "    <tr>\n",
       "      <th>2021-09-27</th>\n",
       "      <td>18928.8</td>\n",
       "    </tr>\n",
       "  </tbody>\n",
       "</table>\n",
       "</div>"
      ],
      "text/plain": [
       "                  3\n",
       "day                \n",
       "2021-07-29   3912.0\n",
       "2021-08-06   5891.4\n",
       "2021-08-16  10603.0\n",
       "2021-08-27  12909.0\n",
       "2021-09-07  17898.0\n",
       "2021-09-27  18928.8"
      ]
     },
     "execution_count": 114,
     "metadata": {},
     "output_type": "execute_result"
    }
   ],
   "source": [
    "bio2021[[\"3\"]]"
   ]
  },
  {
   "cell_type": "code",
   "execution_count": 90,
   "metadata": {},
   "outputs": [],
   "source": [
    "yield_dict = {\n",
    "        \"ZDN180\": {\"0\": [6796, 6274],\n",
    "                   \"90\": [8288, 7397],\n",
    "                   \"180\": [9607, 8426],\n",
    "                   \"270\": [9573, 8346]\n",
    "                   }\n",
    "    }"
   ]
  },
  {
   "cell_type": "code",
   "execution_count": 1,
   "metadata": {},
   "outputs": [],
   "source": [
    "import numpy as np"
   ]
  },
  {
   "cell_type": "code",
   "execution_count": 3,
   "metadata": {},
   "outputs": [],
   "source": [
    "bounds = {\n",
    "        \"SLATB001\": np.arange(0.0013, 0.0039, 0.0001),\n",
    "        \"SLATB003\": np.arange(0.0005, 0.0015, 0.0001),\n",
    "        \"SPAN\": np.arange(16.5, 50.5, 0.5),\n",
    "        \"EFFTB003\": np.arange(0.225, 0.675, 0.001),\n",
    "        \"TMNFTB003\": np.arange(0.5, 1.2, 0.1),\n",
    "        \"CVO\": np.arange(0.4955, 0.9065, 0.0001),\n",
    "        \"FLTB001\": np.arange(0.465, 0.775, 0.001),\n",
    "        \"TDWI\": np.arange(25, 80, 1),\n",
    "        \"CVS\": np.arange(0.329, 0.987, 0.001),\n",
    "        \"EFFTB001\": np.arange(0.25, 0.75, 0.01),\n",
    "        \"KDIFTB003\": np.arange(0.30, 0.90, 0.01),\n",
    "        \"NCRIT_FR\": np.arange(0.50, 1.50, 0.01),\n",
    "        \"AMAXTB001\": np.arange(35.0, 90.0, 2),\n",
    "        \"NMAXSO\": np.arange(0.011, 0.033, 0.001),\n",
    "\n",
    "    }"
   ]
  },
  {
   "cell_type": "code",
   "execution_count": null,
   "metadata": {},
   "outputs": [],
   "source": []
  },
  {
   "cell_type": "code",
   "execution_count": null,
   "metadata": {},
   "outputs": [],
   "source": []
  }
 ],
 "metadata": {
  "kernelspec": {
   "display_name": "pcse",
   "language": "python",
   "name": "pcse"
  },
  "language_info": {
   "codemirror_mode": {
    "name": "ipython",
    "version": 3
   },
   "file_extension": ".py",
   "mimetype": "text/x-python",
   "name": "python",
   "nbconvert_exporter": "python",
   "pygments_lexer": "ipython3",
   "version": "3.8.15"
  },
  "orig_nbformat": 4
 },
 "nbformat": 4,
 "nbformat_minor": 2
}
