{
 "cells": [
  {
   "cell_type": "markdown",
   "metadata": {},
   "source": [
    "# 导入相关模组"
   ]
  },
  {
   "cell_type": "code",
   "execution_count": 1,
   "metadata": {},
   "outputs": [],
   "source": [
    "import yaml\n",
    "import pcse\n",
    "#  import sys\n",
    "import os\n",
    "import pickle\n",
    "import copy\n",
    "import numpy as np\n",
    "import pandas as pd\n",
    "\n",
    "from Wofost_opt import my_crop_dict, my_agro, ModelRerunner\n",
    "from pcse.fileinput import YAMLCropDataProvider, CABOFileReader, YAMLAgroManagementReader\n",
    "from pcse.exceptions import PCSEError, PartitioningError\n",
    "from pcse.util import WOFOST80SiteDataProvider, WOFOST71SiteDataProvider\n",
    "from pcse.base import ParameterProvider\n",
    "from pcse.fileinput import YAMLAgroManagementReader\n",
    "from pcse.fileinput import ExcelWeatherDataProvider\n",
    "from pcse.models import Wofost80_NWLP_FD_beta as Wofost80_NWLP_FD\n",
    "from pcse.models import Wofost72_WLP_FD"
   ]
  },
  {
   "cell_type": "code",
   "execution_count": 2,
   "metadata": {},
   "outputs": [],
   "source": [
    "data_dir = os.path.join(os.getcwd(), \"data\")"
   ]
  },
  {
   "cell_type": "markdown",
   "metadata": {},
   "source": [
    "## 2.1 读取作物参数"
   ]
  },
  {
   "cell_type": "code",
   "execution_count": 3,
   "metadata": {},
   "outputs": [],
   "source": [
    "cropfile = os.path.join(data_dir, 'npkfile', 'wofost_npk.crop')\n",
    "cropd = CABOFileReader(cropfile)\n"
   ]
  },
  {
   "cell_type": "code",
   "execution_count": null,
   "metadata": {},
   "outputs": [],
   "source": []
  },
  {
   "cell_type": "markdown",
   "metadata": {},
   "source": [
    "## 2.2 土壤参数"
   ]
  },
  {
   "cell_type": "code",
   "execution_count": 4,
   "metadata": {},
   "outputs": [],
   "source": [
    "soilfile = os.path.join(data_dir, 'soil', 'ec3_copy1.soil')\n",
    "soild = CABOFileReader(soilfile)"
   ]
  },
  {
   "cell_type": "markdown",
   "metadata": {},
   "source": [
    "## 2.3 站点数据"
   ]
  },
  {
   "cell_type": "code",
   "execution_count": 5,
   "metadata": {},
   "outputs": [],
   "source": [
    "# NAVAILI       Amount of N available in the pool at initialization of the system [kg/ha]\n",
    "sited = WOFOST71SiteDataProvider(WAV=18)\n",
    "# sited = WOFOST72SiteDataProvider(WAV=18)"
   ]
  },
  {
   "cell_type": "markdown",
   "metadata": {},
   "source": [
    "## 2.4 合并数据"
   ]
  },
  {
   "cell_type": "code",
   "execution_count": 6,
   "metadata": {},
   "outputs": [],
   "source": [
    "parameters = ParameterProvider(cropdata=cropd, soildata=soild, sitedata=sited)"
   ]
  },
  {
   "cell_type": "markdown",
   "metadata": {},
   "source": [
    "## 2.5 读取管理文件"
   ]
  },
  {
   "cell_type": "code",
   "execution_count": 7,
   "metadata": {},
   "outputs": [],
   "source": [
    "with open(\"./data/npkfile/wofost_npk2022.agro\", 'r') as f:\n",
    "    yaml_agro_2022 = f.read()\n",
    "with open(\"./data/npkfile/wofost_npk2021.agro\", 'r') as f:\n",
    "    yaml_agro_2021 = f.read()"
   ]
  },
  {
   "cell_type": "markdown",
   "metadata": {},
   "source": [
    "## 2.6 气象数据"
   ]
  },
  {
   "cell_type": "code",
   "execution_count": 8,
   "metadata": {},
   "outputs": [],
   "source": [
    "weatherfile = os.path.join(data_dir, 'meteo', 'WOFOSTYL.xlsx')\n",
    "wdp = ExcelWeatherDataProvider(weatherfile)"
   ]
  },
  {
   "cell_type": "markdown",
   "metadata": {},
   "source": [
    "# 3 模型运行"
   ]
  },
  {
   "cell_type": "code",
   "execution_count": 9,
   "metadata": {},
   "outputs": [],
   "source": [
    "# 管理文件数据\n",
    "agro = my_agro(yaml_agro_2021, 180)"
   ]
  },
  {
   "cell_type": "code",
   "execution_count": null,
   "metadata": {},
   "outputs": [],
   "source": []
  },
  {
   "cell_type": "code",
   "execution_count": 10,
   "metadata": {},
   "outputs": [],
   "source": [
    "# 参数顺序\n",
    "parameters_name = [\"SLATB001\", \"SPAN\", \"EFFTB003\", \"TMNFTB003\", \"CVO\", \"FLTB003\", \"TDWI\", \"CVL\",\n",
    "                       \"TEFFMX\", \"EFFTB001\", \"KDIFTB003\"]"
   ]
  },
  {
   "cell_type": "code",
   "execution_count": 11,
   "metadata": {},
   "outputs": [],
   "source": [
    "param_df = pd.read_csv(os.path.join(data_dir, \"opt\", \"opt1\", \"opt_ZDN180_result.csv\"), index_col=0)\n",
    "param_df.sort_values(by=['rmse'], ascending=True, inplace=True)\n",
    "# param_df = param_df[param_df['rmse'] < 0.31]"
   ]
  },
  {
   "cell_type": "code",
   "execution_count": 12,
   "metadata": {},
   "outputs": [
    {
     "name": "stdout",
     "output_type": "stream",
     "text": [
      "103-9984.061\n",
      "198-9955.159\n",
      "354-9933.568\n",
      "392-9965.869\n",
      "398-9955.851\n",
      "418-9992.156\n",
      "464-9976.701\n",
      "488-9958.049\n",
      "515-9976.816\n",
      "523-9930.528\n",
      "559-9961.303\n",
      "560-9917.832\n",
      "582-9929.070\n",
      "632-9929.855\n",
      "670-9854.337\n",
      "680-9922.295\n",
      "730-9991.237\n",
      "735-9964.030\n",
      "789-9967.841\n",
      "809-9993.289\n",
      "810-9973.660\n",
      "851-9921.944\n",
      "881-9966.825\n",
      "912-9976.390\n",
      "940-9798.914\n",
      "947-9983.681\n",
      "955-9875.875\n",
      "972-9941.905\n",
      "973-9998.525\n",
      "989-9962.082\n",
      "1002-9929.633\n",
      "1051-9961.098\n",
      "1057-9954.207\n",
      "1062-9946.720\n",
      "1063-9973.011\n",
      "1069-9944.599\n",
      "1082-9972.451\n",
      "1099-9749.670\n",
      "1119-9974.007\n",
      "1149-9971.574\n",
      "1164-9982.444\n",
      "1182-9990.029\n",
      "1183-9992.112\n",
      "1188-9997.433\n",
      "1189-9936.727\n",
      "1197-9981.487\n",
      "1204-9963.658\n",
      "1244-9955.595\n",
      "1252-9967.470\n",
      "1265-9999.700\n",
      "1280-9963.309\n",
      "1293-9964.244\n",
      "1294-9980.983\n",
      "1305-9995.721\n",
      "1309-9855.537\n",
      "1312-9836.357\n",
      "1313-9972.516\n",
      "1329-9883.848\n",
      "1331-9923.370\n",
      "1336-9949.640\n",
      "1342-9893.691\n",
      "1352-9961.645\n",
      "1364-9916.860\n",
      "1374-9991.263\n",
      "1375-9974.153\n",
      "1386-9740.346\n",
      "1388-9983.439\n",
      "1393-9984.493\n",
      "1402-9978.427\n",
      "1406-9943.319\n",
      "1411-9920.736\n",
      "1421-9936.679\n",
      "1423-9999.052\n",
      "1426-9992.381\n",
      "1437-9999.558\n",
      "1450-9847.987\n",
      "1454-9984.814\n",
      "1463-9983.757\n",
      "1464-9967.253\n",
      "1494-9931.074\n",
      "1498-9987.412\n",
      "1502-9974.894\n",
      "1516-9950.131\n",
      "1541-9863.402\n",
      "1546-9972.913\n",
      "1554-9928.716\n",
      "1555-9916.555\n",
      "1558-9906.223\n",
      "1564-9972.452\n",
      "1570-9845.363\n",
      "1599-9959.724\n",
      "1601-9954.157\n",
      "1612-9983.243\n",
      "1616-9954.351\n",
      "1619-9982.499\n",
      "1628-9879.942\n",
      "1636-9979.829\n",
      "1637-9945.366\n",
      "1645-9952.145\n",
      "1646-9957.361\n",
      "1650-9961.104\n",
      "1651-9822.740\n",
      "1652-9955.826\n",
      "1666-9994.918\n",
      "1667-9994.059\n",
      "1668-9948.614\n",
      "1671-9887.743\n",
      "1679-9879.751\n",
      "1681-9937.298\n",
      "1688-9953.827\n",
      "1696-9747.674\n",
      "1697-9928.342\n",
      "1701-9988.385\n",
      "1709-9949.651\n",
      "1713-9994.963\n",
      "1715-9963.847\n",
      "1721-9994.339\n",
      "1725-9974.824\n",
      "1731-9975.651\n",
      "1734-9955.105\n",
      "1735-9980.286\n",
      "1739-9961.102\n",
      "1746-9963.690\n",
      "1755-9970.301\n",
      "1766-9826.526\n",
      "1771-9950.176\n",
      "1776-9979.403\n",
      "1784-9954.027\n",
      "1785-9923.336\n",
      "1788-9669.475\n",
      "1792-9972.393\n",
      "1795-9993.265\n",
      "1800-9939.618\n",
      "1801-9914.857\n",
      "1803-9960.944\n",
      "1805-9885.256\n",
      "1807-9952.977\n",
      "1815-9843.950\n",
      "1817-9841.817\n",
      "1827-9985.342\n",
      "1839-9983.035\n",
      "1858-9981.087\n",
      "1859-9996.829\n",
      "1862-9995.884\n",
      "1866-9993.271\n",
      "1869-9960.947\n",
      "1871-9968.558\n",
      "1892-9929.901\n",
      "1896-9945.286\n",
      "1901-9963.445\n",
      "1908-9807.418\n",
      "1912-9946.266\n",
      "1915-9992.704\n",
      "1917-9954.028\n",
      "1918-9914.973\n",
      "1919-9919.346\n",
      "1926-9971.260\n",
      "1927-9923.804\n",
      "1929-9937.296\n",
      "1931-9982.440\n",
      "1935-9987.872\n",
      "1939-9995.390\n",
      "1942-9959.033\n",
      "1946-9972.978\n",
      "1947-9874.157\n",
      "1950-9837.739\n",
      "1951-9940.245\n",
      "1959-9910.772\n",
      "1964-9994.016\n",
      "1965-9913.349\n",
      "1970-9907.728\n",
      "1972-9872.762\n",
      "1974-9892.218\n",
      "1975-9774.683\n",
      "1980-9962.222\n",
      "1982-9936.520\n",
      "1985-9958.599\n",
      "1986-9932.297\n",
      "1988-9995.505\n",
      "1997-9889.076\n",
      "2017-9988.572\n",
      "2030-9971.514\n",
      "2032-9968.351\n",
      "2036-9910.038\n",
      "2037-9961.695\n",
      "2044-9978.705\n",
      "2046-9740.341\n",
      "2049-9972.212\n",
      "2050-9896.103\n",
      "2056-9922.733\n",
      "2057-9901.111\n",
      "2061-9989.207\n",
      "2063-9988.061\n",
      "2065-9911.910\n",
      "2071-9971.728\n",
      "2075-9983.393\n",
      "2080-9792.855\n",
      "2090-9961.247\n",
      "2093-9787.168\n",
      "2094-9954.035\n",
      "2095-9943.745\n",
      "2100-9788.448\n",
      "2107-9903.776\n",
      "2117-9866.873\n",
      "2120-9955.374\n",
      "2122-9999.946\n",
      "2123-9961.414\n",
      "2137-9991.972\n",
      "2139-9951.869\n",
      "2140-9695.405\n",
      "2141-9899.939\n",
      "2147-9931.939\n",
      "2148-9984.462\n",
      "2151-9926.791\n",
      "2152-9988.855\n",
      "2153-9980.775\n",
      "2155-9950.301\n",
      "2156-9909.022\n",
      "2160-9983.950\n",
      "2161-9970.948\n",
      "2163-9967.540\n",
      "2165-9937.501\n",
      "2167-9611.181\n",
      "2175-9626.355\n",
      "2180-9853.628\n",
      "2181-9987.859\n",
      "2185-9955.493\n",
      "2186-9962.285\n",
      "2195-9922.741\n",
      "2199-9637.331\n",
      "2200-9949.468\n",
      "2201-9941.594\n",
      "2204-9990.191\n",
      "2207-9987.820\n",
      "2212-9959.084\n",
      "2213-9949.502\n",
      "2214-9948.915\n",
      "2219-9922.093\n",
      "2225-9956.269\n",
      "2228-9975.128\n",
      "2231-9961.049\n",
      "2234-9982.786\n",
      "2235-9743.858\n",
      "2236-9813.526\n",
      "2237-9932.524\n",
      "2239-9799.212\n",
      "2245-9928.148\n",
      "2248-9899.384\n",
      "2249-9895.094\n",
      "2251-9959.501\n",
      "2253-9863.462\n",
      "2258-9983.828\n",
      "2260-9993.796\n",
      "2261-9945.970\n",
      "2269-9969.299\n",
      "2273-9837.143\n",
      "2274-9898.043\n",
      "2275-9913.814\n",
      "2279-9920.592\n",
      "2281-9962.539\n",
      "2283-9949.737\n",
      "2290-9842.353\n",
      "2294-9957.654\n",
      "2302-9938.890\n",
      "2303-9887.304\n",
      "2305-9993.574\n",
      "2306-9912.383\n",
      "2309-9921.688\n",
      "2312-9878.792\n",
      "2316-9978.464\n",
      "2325-9835.366\n",
      "2327-9914.614\n",
      "2330-9852.139\n",
      "2333-9824.968\n",
      "2334-9769.783\n",
      "2337-9905.696\n",
      "2345-9799.008\n",
      "2347-9940.162\n",
      "2354-9909.169\n",
      "2355-9789.570\n",
      "2357-9924.541\n",
      "2359-9816.351\n",
      "2361-9939.911\n",
      "2362-9994.855\n",
      "2363-9928.794\n",
      "2364-9748.669\n",
      "2365-9989.921\n",
      "2368-9777.829\n",
      "2369-9825.743\n",
      "2372-9927.938\n",
      "2374-9999.854\n",
      "2375-9924.380\n",
      "2376-9986.151\n",
      "2377-9913.985\n",
      "2379-9934.279\n",
      "2380-9952.012\n",
      "2382-9766.100\n",
      "2383-9960.573\n",
      "2387-9956.517\n",
      "2389-9988.077\n",
      "2392-9984.616\n",
      "2393-9971.409\n",
      "2395-9785.134\n",
      "2409-9949.596\n",
      "2410-9873.613\n",
      "2413-9896.694\n",
      "2416-9848.599\n",
      "2417-9957.919\n",
      "2418-9882.088\n",
      "2429-9938.541\n",
      "2433-9979.222\n",
      "2436-9847.772\n",
      "2440-9956.567\n",
      "2441-9680.257\n",
      "2443-9913.317\n",
      "2444-9774.598\n",
      "2448-9910.476\n",
      "2450-9941.291\n",
      "2454-9836.960\n",
      "2459-9836.203\n",
      "2461-9984.779\n",
      "2462-9943.818\n",
      "2468-9924.983\n",
      "2469-9869.460\n",
      "2470-9847.250\n",
      "2471-9860.298\n",
      "2474-9877.736\n",
      "2482-9853.286\n",
      "2485-9871.225\n",
      "2486-9847.555\n",
      "2487-9562.177\n",
      "2488-9886.622\n",
      "2490-9852.163\n",
      "2491-9886.347\n",
      "2493-9894.093\n",
      "2494-9941.672\n",
      "2498-9969.841\n",
      "2499-9749.781\n",
      "2501-9935.003\n",
      "2502-9815.662\n",
      "2504-9872.504\n",
      "2505-9861.595\n",
      "2506-9885.031\n",
      "2507-9814.658\n",
      "2516-9856.923\n",
      "2517-9769.445\n",
      "2518-9957.404\n",
      "2519-9933.535\n",
      "2520-9789.725\n",
      "2522-9911.299\n",
      "2524-9898.600\n",
      "2530-9722.544\n",
      "2535-9954.907\n",
      "2538-9974.460\n",
      "2541-9875.180\n",
      "2543-9989.818\n"
     ]
    },
    {
     "ename": "",
     "evalue": "",
     "output_type": "error",
     "traceback": [
      "\u001b[1;31mCanceled future for execute_request message before replies were done"
     ]
    },
    {
     "ename": "",
     "evalue": "",
     "output_type": "error",
     "traceback": [
      "\u001b[1;31mThe Kernel crashed while executing code in the the current cell or a previous cell. Please review the code in the cell(s) to identify a possible cause of the failure. Click <a href='https://aka.ms/vscodeJupyterKernelCrash'>here</a> for more info. View Jupyter <a href='command:jupyter.viewOutput'>log</a> for further details."
     ]
    }
   ],
   "source": [
    "rows, _ = param_df.shape\n",
    "modelrerunner = None\n",
    "modelrerunner = ModelRerunner(parameters, wdp, agro)\n",
    "for i in range(rows):\n",
    "    p_value = list()\n",
    "    for each in parameters_name:\n",
    "        p_value.append(param_df.iloc[i][each])\n",
    "    result = modelrerunner(p_value, flag=True)\n",
    "    if modelrerunner.summary[0]['TWSO'] > 9000 and modelrerunner.summary[0]['TWSO'] < 10000:\n",
    "        print(\"%i-%.3f\" % (i, modelrerunner.summary[0]['TWSO']))\n",
    "# print(result[0])\n",
    "print(modelrerunner.summary[0])"
   ]
  },
  {
   "cell_type": "code",
   "execution_count": 30,
   "metadata": {},
   "outputs": [],
   "source": [
    "res_2021 = result[0]"
   ]
  },
  {
   "cell_type": "code",
   "execution_count": 31,
   "metadata": {},
   "outputs": [
    {
     "data": {
      "text/plain": [
       "<AxesSubplot:xlabel='day'>"
      ]
     },
     "execution_count": 31,
     "metadata": {},
     "output_type": "execute_result"
    },
    {
     "data": {
      "image/png": "[encoded data removed]",
      "text/plain": [
       "<Figure size 640x480 with 1 Axes>"
      ]
     },
     "metadata": {},
     "output_type": "display_data"
    }
   ],
   "source": [
    "res_2021.LAI.plot()"
   ]
  },
  {
   "cell_type": "code",
   "execution_count": null,
   "metadata": {},
   "outputs": [],
   "source": []
  }
 ],
 "metadata": {
  "kernelspec": {
   "display_name": "pcse",
   "language": "python",
   "name": "pcse"
  },
  "language_info": {
   "codemirror_mode": {
    "name": "ipython",
    "version": 3
   },
   "file_extension": ".py",
   "mimetype": "text/x-python",
   "name": "python",
   "nbconvert_exporter": "python",
   "pygments_lexer": "ipython3",
   "version": "3.8.15"
  },
  "orig_nbformat": 4
 },
 "nbformat": 4,
 "nbformat_minor": 2
}
