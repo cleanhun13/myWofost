{
 "cells": [
  {
   "cell_type": "markdown",
   "metadata": {},
   "source": [
    "# 导入相关模组"
   ]
  },
  {
   "cell_type": "code",
   "execution_count": 62,
   "metadata": {},
   "outputs": [],
   "source": [
    "import yaml\n",
    "import pcse\n",
    "#  import sys\n",
    "import os\n",
    "import pickle\n",
    "import copy\n",
    "import numpy as np\n",
    "import pandas as pd\n",
    "\n",
    "from Wofost_optV1 import my_crop_dict, my_agro, ModelRerunner\n",
    "from pcse.fileinput import YAMLCropDataProvider, CABOFileReader, YAMLAgroManagementReader\n",
    "from pcse.exceptions import PCSEError, PartitioningError\n",
    "from pcse.util import WOFOST80SiteDataProvider, WOFOST71SiteDataProvider\n",
    "from pcse.base import ParameterProvider\n",
    "from pcse.fileinput import YAMLAgroManagementReader\n",
    "from pcse.fileinput import ExcelWeatherDataProvider\n",
    "from pcse.models import Wofost80_NWLP_FD_beta as Wofost80_NWLP_FD\n",
    "from pcse.models import Wofost72_WLP_FD\n",
    "from tqdm import tqdm"
   ]
  },
  {
   "cell_type": "code",
   "execution_count": 63,
   "metadata": {},
   "outputs": [],
   "source": [
    "from datetime import datetime, timedelta\n",
    "# 日期转儒略日\n",
    "def d2jd(date: str, format=\"%Y-%m-%d\", mode=1) -> int:\n",
    "\n",
    "    dt = datetime.strptime(date, format)\n",
    "    tt = dt.timetuple()\n",
    "    # return tt.tm_year * 1000 + tt.tm_yday\n",
    "    if mode == 1:\n",
    "        return tt.tm_yday\n",
    "    else:\n",
    "        return tt.tm_year * 1000 + tt.tm_yday\n",
    "\n",
    "# 儒略日转日期\n",
    "def jd2d(jd: str, format=\"%Y-%m-%d\") -> str:\n",
    "    dt = datetime.strptime(jd, \"%Y%j\").date()\n",
    "    return dt.strftime(format)"
   ]
  },
  {
   "cell_type": "code",
   "execution_count": 64,
   "metadata": {},
   "outputs": [],
   "source": [
    "data_dir = os.path.join(os.getcwd(), \"data\")"
   ]
  },
  {
   "cell_type": "code",
   "execution_count": 65,
   "metadata": {},
   "outputs": [],
   "source": [
    "def isdir_demo(dir_path):\n",
    "    if not os.path.isdir(dir_path):\n",
    "        try:\n",
    "            os.mkdir(dir_path)\n",
    "        except FileNotFoundError:\n",
    "            os.makedirs(dir_path)"
   ]
  },
  {
   "cell_type": "markdown",
   "metadata": {},
   "source": [
    "## 2.1 读取作物参数"
   ]
  },
  {
   "cell_type": "code",
   "execution_count": 66,
   "metadata": {},
   "outputs": [],
   "source": [
    "cropfile = os.path.join(data_dir, 'npkfile', 'wofost_npk.crop')\n",
    "cropd = CABOFileReader(cropfile)\n"
   ]
  },
  {
   "cell_type": "code",
   "execution_count": null,
   "metadata": {},
   "outputs": [],
   "source": []
  },
  {
   "cell_type": "markdown",
   "metadata": {},
   "source": [
    "## 2.2 土壤参数"
   ]
  },
  {
   "cell_type": "code",
   "execution_count": 67,
   "metadata": {},
   "outputs": [],
   "source": [
    "soilfile = os.path.join(data_dir, 'soil', 'ec3_copy1.soil')\n",
    "soild = CABOFileReader(soilfile)"
   ]
  },
  {
   "cell_type": "markdown",
   "metadata": {},
   "source": [
    "## 2.3 站点数据"
   ]
  },
  {
   "cell_type": "code",
   "execution_count": 68,
   "metadata": {},
   "outputs": [],
   "source": [
    "# NAVAILI       Amount of N available in the pool at initialization of the system [kg/ha] 0-32\n",
    "sited = WOFOST71SiteDataProvider(WAV=18)\n",
    "# sited = WOFOST72SiteDataProvider(WAV=18, NAVAILI=20.5, PAVAILI=50.0, KAVAILI=250.0)"
   ]
  },
  {
   "cell_type": "markdown",
   "metadata": {},
   "source": [
    "## 2.4 合并数据"
   ]
  },
  {
   "cell_type": "code",
   "execution_count": 69,
   "metadata": {},
   "outputs": [],
   "source": [
    "parameters = ParameterProvider(cropdata=cropd, soildata=soild, sitedata=sited)"
   ]
  },
  {
   "cell_type": "markdown",
   "metadata": {},
   "source": [
    "## 2.5 读取管理文件"
   ]
  },
  {
   "cell_type": "code",
   "execution_count": 70,
   "metadata": {},
   "outputs": [],
   "source": [
    "with open(\"./data/npkfile/wofost_npk2022.agro\", 'r') as f:\n",
    "    yaml_agro_2022 = f.read()\n",
    "with open(\"./data/npkfile/wofost_npk2021.agro\", 'r') as f:\n",
    "    yaml_agro_2021 = f.read()"
   ]
  },
  {
   "cell_type": "markdown",
   "metadata": {},
   "source": [
    "## 2.6 气象数据"
   ]
  },
  {
   "cell_type": "code",
   "execution_count": 71,
   "metadata": {},
   "outputs": [],
   "source": [
    "weatherfile = os.path.join(data_dir, 'meteo', 'WOFOSTYL.xlsx')\n",
    "wdp = ExcelWeatherDataProvider(weatherfile)"
   ]
  },
  {
   "cell_type": "markdown",
   "metadata": {},
   "source": [
    "# 3 模型运行"
   ]
  },
  {
   "cell_type": "code",
   "execution_count": 72,
   "metadata": {},
   "outputs": [],
   "source": [
    "def overwrite_para(params, param_dict):\n",
    "    params.clear_override()\n",
    "    params.set_override(\"TSUMEM\", 125.0)\n",
    "    params.set_override(\"TSUM1\", 1300)\n",
    "    params.set_override(\"TSUM2\", 720)\n",
    "    crop_dict = my_crop_dict()\n",
    "\n",
    "    for parname, value in param_dict.items():\n",
    "\n",
    "        tmp_name = parname.split(\"00\")\n",
    "        if len(tmp_name) == 2:\n",
    "            var_name, idx1 = tmp_name[0], int(tmp_name[1])\n",
    "            if var_name == \"FLTB\" or var_name == \"FOTB\":\n",
    "                crop_dict[var_name][idx1] = value\n",
    "                crop_dict['FSTB'][idx1] = 1 - crop_dict['FLTB'][idx1] - crop_dict['FOTB'][idx1]\n",
    "                params.set_override(var_name, crop_dict[var_name])\n",
    "                params.set_override(\"FSTB\", crop_dict[\"FSTB\"])\n",
    "                # print(\"%s: %s\" % (var_name, parameters[var_name]))\n",
    "            else:\n",
    "                crop_dict[var_name][idx1] = value\n",
    "                params.set_override(var_name, crop_dict[var_name])\n",
    "\n",
    "        else:\n",
    "            var_name = parname\n",
    "            params.set_override(var_name, value)\n",
    "    return params"
   ]
  },
  {
   "cell_type": "code",
   "execution_count": 73,
   "metadata": {},
   "outputs": [],
   "source": [
    "# 参数顺序\n",
    "parameters_name = [\"SLATB001\", \"SLATB003\", \"SPAN\", \"EFFTB003\", \"TMNFTB003\", \"CVO\", \"FLTB003\", \"TDWI\", \"CVS\",\n",
    "                       \"NCRIT_FR\", \"EFFTB001\", \"KDIFTB003\", \"AMAXTB001\"]"
   ]
  },
  {
   "cell_type": "code",
   "execution_count": 74,
   "metadata": {},
   "outputs": [],
   "source": [
    "param_df = pd.read_csv(os.path.join(data_dir, \"opt\", \"opt_ZDN180_result.csv\"), index_col=0)\n",
    "param_df.sort_values(by=['rmse'], ascending=True, inplace=True)\n",
    "# param_df = param_df[param_df['rmse'] < 0.31]"
   ]
  },
  {
   "cell_type": "code",
   "execution_count": 75,
   "metadata": {},
   "outputs": [],
   "source": [
    "parameters_name = param_df.columns.to_list()\n",
    "parameters_name = parameters_name[1: ]"
   ]
  },
  {
   "cell_type": "code",
   "execution_count": 76,
   "metadata": {},
   "outputs": [],
   "source": [
    "def read_obs(file_path):\n",
    "    obs_LAI = pd.read_csv(file_path)\n",
    "    obs_LAI.index = pd.to_datetime(obs_LAI.day)\n",
    "    obs_LAI.drop(\"day\", axis=1, inplace=True)\n",
    "    return obs_LAI\n",
    "\n",
    "bio2022 = read_obs(\"F:\\\\paper_code\\\\MLlai\\\\data\\\\obs\\\\ZDN180Y2022_TAGP_OBS.csv\")\n",
    "bio2021 = read_obs(\"F:\\\\paper_code\\\\MLlai\\\\data\\\\obs\\\\ZDN180Y2021_TAGP_OBS.csv\")\n",
    "lai2021 = read_obs(\"F:\\\\paper_code\\\\MLlai\\\\data\\\\obs\\\\ZDN180Y2021_LAI_OBS.csv\")\n",
    "lai2022 = read_obs(\"F:\\\\paper_code\\\\MLlai\\\\data\\\\obs\\\\ZDN180Y2022_LAI_OBS.csv\")"
   ]
  },
  {
   "cell_type": "code",
   "execution_count": 77,
   "metadata": {},
   "outputs": [
    {
     "name": "stderr",
     "output_type": "stream",
     "text": [
      "100%|██████████| 1/1 [00:00<00:00,  1.59it/s]\n"
     ]
    }
   ],
   "source": [
    "# 管理文件数据\n",
    "## ZD idx = 1, 20.5 60\n",
    "rows, _ = param_df.shape\n",
    "df_dict = dict()\n",
    "for nn in [180]:\n",
    "    agro = my_agro(yaml_agro_2021, nn)\n",
    "    modelrerunner = None\n",
    "    modelrerunner = ModelRerunner(parameters, wdp, agro)\n",
    "    twso_list = list()\n",
    "    for i in tqdm([0]):\n",
    "        p_value = dict()\n",
    "        for each in parameters_name:\n",
    "            p_value[each] = param_df.iloc[i][each]\n",
    "        result = modelrerunner(p_value, flag=True)\n",
    "        # if result[1][0]['TWSO'] > 8000:\n",
    "        twso_list.append([i, result[1][0]['TWSO']])\n",
    "    df1 = pd.DataFrame(twso_list, columns=[\"id\", \"TWSO\"])\n",
    "    df1.set_index(\"id\", inplace=True)\n",
    "    df_dict[str(nn)] = df1\n",
    "    # print(result[0])\n",
    "# print(modelrerunner.summary[0])"
   ]
  },
  {
   "cell_type": "code",
   "execution_count": 78,
   "metadata": {},
   "outputs": [
    {
     "data": {
      "text/html": [
       "<div>\n",
       "<style scoped>\n",
       "    .dataframe tbody tr th:only-of-type {\n",
       "        vertical-align: middle;\n",
       "    }\n",
       "\n",
       "    .dataframe tbody tr th {\n",
       "        vertical-align: top;\n",
       "    }\n",
       "\n",
       "    .dataframe thead th {\n",
       "        text-align: right;\n",
       "    }\n",
       "</style>\n",
       "<table border=\"1\" class=\"dataframe\">\n",
       "  <thead>\n",
       "    <tr style=\"text-align: right;\">\n",
       "      <th></th>\n",
       "      <th>TWSO</th>\n",
       "    </tr>\n",
       "    <tr>\n",
       "      <th>id</th>\n",
       "      <th></th>\n",
       "    </tr>\n",
       "  </thead>\n",
       "  <tbody>\n",
       "    <tr>\n",
       "      <th>0</th>\n",
       "      <td>9613.095765</td>\n",
       "    </tr>\n",
       "  </tbody>\n",
       "</table>\n",
       "</div>"
      ],
      "text/plain": [
       "           TWSO\n",
       "id             \n",
       "0   9613.095765"
      ]
     },
     "execution_count": 78,
     "metadata": {},
     "output_type": "execute_result"
    }
   ],
   "source": [
    "df_dict[\"180\"]"
   ]
  },
  {
   "cell_type": "code",
   "execution_count": 79,
   "metadata": {},
   "outputs": [
    {
     "data": {
      "text/plain": [
       "datetime.timedelta(days=111)"
      ]
     },
     "execution_count": 79,
     "metadata": {},
     "output_type": "execute_result"
    }
   ],
   "source": [
    "result[1][0][\"DOM\"] - result[1][0][\"DOS\"]"
   ]
  },
  {
   "cell_type": "code",
   "execution_count": 80,
   "metadata": {},
   "outputs": [
    {
     "data": {
      "text/plain": [
       "datetime.date(2021, 10, 1)"
      ]
     },
     "execution_count": 80,
     "metadata": {},
     "output_type": "execute_result"
    }
   ],
   "source": [
    "result[1][0][\"DOM\"]"
   ]
  },
  {
   "cell_type": "code",
   "execution_count": 81,
   "metadata": {},
   "outputs": [],
   "source": [
    "df_model = result[0]\n",
    "em_date = \"2021-06-12\"\n",
    "doy1 = d2jd(em_date)\n",
    "dap = list()\n",
    "for each in df_model.index:\n",
    "    date_tuple = each.timetuple()\n",
    "    doy2 = date_tuple.tm_yday\n",
    "    dap.append(doy2 - doy1)\n",
    "df_model['doy'] = dap\n",
    "df_model = df_model[df_model.doy > -1]"
   ]
  },
  {
   "cell_type": "code",
   "execution_count": null,
   "metadata": {},
   "outputs": [],
   "source": []
  },
  {
   "cell_type": "code",
   "execution_count": 82,
   "metadata": {},
   "outputs": [
    {
     "data": {
      "text/plain": [
       "<AxesSubplot:xlabel='day'>"
      ]
     },
     "execution_count": 82,
     "metadata": {},
     "output_type": "execute_result"
    },
    {
     "data": {
      "image/png": "[encoded data removed]",
      "text/plain": [
       "<Figure size 640x480 with 1 Axes>"
      ]
     },
     "metadata": {},
     "output_type": "display_data"
    }
   ],
   "source": [
    "df_model.LAI.plot()\n"
   ]
  },
  {
   "cell_type": "code",
   "execution_count": 83,
   "metadata": {},
   "outputs": [],
   "source": [
    "lai_tagp = df_model[[\"doy\", \"LAI\", \"TAGP\"]]"
   ]
  },
  {
   "cell_type": "code",
   "execution_count": 84,
   "metadata": {},
   "outputs": [],
   "source": [
    "concat1 = pd.concat([lai_tagp, bio2021, lai2021], axis=1)"
   ]
  },
  {
   "cell_type": "code",
   "execution_count": 85,
   "metadata": {},
   "outputs": [
    {
     "data": {
      "text/html": [
       "<div>\n",
       "<style scoped>\n",
       "    .dataframe tbody tr th:only-of-type {\n",
       "        vertical-align: middle;\n",
       "    }\n",
       "\n",
       "    .dataframe tbody tr th {\n",
       "        vertical-align: top;\n",
       "    }\n",
       "\n",
       "    .dataframe thead th {\n",
       "        text-align: right;\n",
       "    }\n",
       "</style>\n",
       "<table border=\"1\" class=\"dataframe\">\n",
       "  <thead>\n",
       "    <tr style=\"text-align: right;\">\n",
       "      <th></th>\n",
       "      <th>doy</th>\n",
       "      <th>LAI</th>\n",
       "      <th>TAGP</th>\n",
       "      <th>TAGP_OBS</th>\n",
       "      <th>LAI_OBS</th>\n",
       "    </tr>\n",
       "    <tr>\n",
       "      <th>day</th>\n",
       "      <th></th>\n",
       "      <th></th>\n",
       "      <th></th>\n",
       "      <th></th>\n",
       "      <th></th>\n",
       "    </tr>\n",
       "  </thead>\n",
       "  <tbody>\n",
       "    <tr>\n",
       "      <th>2021-06-12</th>\n",
       "      <td>0</td>\n",
       "      <td>0.023939</td>\n",
       "      <td>19.214626</td>\n",
       "      <td>NaN</td>\n",
       "      <td>NaN</td>\n",
       "    </tr>\n",
       "    <tr>\n",
       "      <th>2021-06-13</th>\n",
       "      <td>1</td>\n",
       "      <td>0.023939</td>\n",
       "      <td>19.214626</td>\n",
       "      <td>NaN</td>\n",
       "      <td>NaN</td>\n",
       "    </tr>\n",
       "    <tr>\n",
       "      <th>2021-06-14</th>\n",
       "      <td>2</td>\n",
       "      <td>0.023939</td>\n",
       "      <td>19.214626</td>\n",
       "      <td>NaN</td>\n",
       "      <td>NaN</td>\n",
       "    </tr>\n",
       "    <tr>\n",
       "      <th>2021-06-15</th>\n",
       "      <td>3</td>\n",
       "      <td>0.023939</td>\n",
       "      <td>19.214626</td>\n",
       "      <td>NaN</td>\n",
       "      <td>NaN</td>\n",
       "    </tr>\n",
       "    <tr>\n",
       "      <th>2021-06-16</th>\n",
       "      <td>4</td>\n",
       "      <td>0.023939</td>\n",
       "      <td>19.214626</td>\n",
       "      <td>NaN</td>\n",
       "      <td>NaN</td>\n",
       "    </tr>\n",
       "    <tr>\n",
       "      <th>...</th>\n",
       "      <td>...</td>\n",
       "      <td>...</td>\n",
       "      <td>...</td>\n",
       "      <td>...</td>\n",
       "      <td>...</td>\n",
       "    </tr>\n",
       "    <tr>\n",
       "      <th>2021-09-27</th>\n",
       "      <td>107</td>\n",
       "      <td>2.176952</td>\n",
       "      <td>19931.745517</td>\n",
       "      <td>NaN</td>\n",
       "      <td>NaN</td>\n",
       "    </tr>\n",
       "    <tr>\n",
       "      <th>2021-09-28</th>\n",
       "      <td>108</td>\n",
       "      <td>2.176952</td>\n",
       "      <td>20074.650260</td>\n",
       "      <td>NaN</td>\n",
       "      <td>NaN</td>\n",
       "    </tr>\n",
       "    <tr>\n",
       "      <th>2021-09-29</th>\n",
       "      <td>109</td>\n",
       "      <td>2.176952</td>\n",
       "      <td>20302.763802</td>\n",
       "      <td>NaN</td>\n",
       "      <td>NaN</td>\n",
       "    </tr>\n",
       "    <tr>\n",
       "      <th>2021-09-30</th>\n",
       "      <td>110</td>\n",
       "      <td>2.094810</td>\n",
       "      <td>20511.985111</td>\n",
       "      <td>NaN</td>\n",
       "      <td>NaN</td>\n",
       "    </tr>\n",
       "    <tr>\n",
       "      <th>2021-10-01</th>\n",
       "      <td>111</td>\n",
       "      <td>2.013926</td>\n",
       "      <td>20701.373065</td>\n",
       "      <td>NaN</td>\n",
       "      <td>NaN</td>\n",
       "    </tr>\n",
       "  </tbody>\n",
       "</table>\n",
       "<p>112 rows × 5 columns</p>\n",
       "</div>"
      ],
      "text/plain": [
       "            doy       LAI          TAGP  TAGP_OBS  LAI_OBS\n",
       "day                                                       \n",
       "2021-06-12    0  0.023939     19.214626       NaN      NaN\n",
       "2021-06-13    1  0.023939     19.214626       NaN      NaN\n",
       "2021-06-14    2  0.023939     19.214626       NaN      NaN\n",
       "2021-06-15    3  0.023939     19.214626       NaN      NaN\n",
       "2021-06-16    4  0.023939     19.214626       NaN      NaN\n",
       "...         ...       ...           ...       ...      ...\n",
       "2021-09-27  107  2.176952  19931.745517       NaN      NaN\n",
       "2021-09-28  108  2.176952  20074.650260       NaN      NaN\n",
       "2021-09-29  109  2.176952  20302.763802       NaN      NaN\n",
       "2021-09-30  110  2.094810  20511.985111       NaN      NaN\n",
       "2021-10-01  111  2.013926  20701.373065       NaN      NaN\n",
       "\n",
       "[112 rows x 5 columns]"
      ]
     },
     "execution_count": 85,
     "metadata": {},
     "output_type": "execute_result"
    }
   ],
   "source": [
    "concat1"
   ]
  },
  {
   "cell_type": "code",
   "execution_count": 86,
   "metadata": {},
   "outputs": [],
   "source": [
    "savePath = \"./data/LAI/2021N180_4.csv\"\n",
    "remove = True\n",
    "if remove:\n",
    "    concat1.to_csv(savePath)\n",
    "else:\n",
    "    if os.path.isfile(savePath):\n",
    "        print(\"该文件已存在，请检查路径\")\n",
    "    else:\n",
    "        concat1.to_csv(savePath)"
   ]
  },
  {
   "cell_type": "code",
   "execution_count": 87,
   "metadata": {},
   "outputs": [],
   "source": [
    "# 一致性分析\n",
    "def cal_d(df_sim, df_obs):\n",
    "    frac = np.sum((df_sim - df_obs)**2)\n",
    "    divid = np.sum((np.abs(df_sim - df_sim.mean()) + np.abs(df_obs - df_obs.mean()))**2)\n",
    "    return 1 - frac / divid"
   ]
  },
  {
   "cell_type": "code",
   "execution_count": 88,
   "metadata": {},
   "outputs": [],
   "source": [
    "import matplotlib.pyplot as plt\n",
    "import matplotlib\n",
    "font_options = {'family': 'serif', 'serif': 'Simsun',}\n",
    "plt.rc('font', **font_options)\n",
    "matplotlib.rcParams.update({'font.family': 'sans', 'mathtext.fontset': 'stix', 'text.usetex': False})\n",
    "plt.rcParams['font.sans-serif']=['Simsun'] #用来正常显示中文标签\n",
    "plt.rcParams['axes.unicode_minus']=False #用来正常显示负号\n",
    "font_dict={'family' : 'Times New Roman', 'size'   : 12}\n",
    "def draw_demo(X, Y1, X2, Y2, rangeX, rangeY, path_save=None, param_name=\"\", text=None):\n",
    "    \n",
    "    fig, ax = plt.subplots(figsize=(6, 4))\n",
    "    box = ax.get_position()\n",
    "    ax.set_position([box.x0, box.y0, box.width*0.8, box.height])\n",
    "    ax.set_xlim(rangeX[0], rangeX[1])\n",
    "    ax.set_ylim(rangeY[0], rangeY[1])\n",
    "    # 去除边框\n",
    "    ax.spines['right'].set_visible(False)\n",
    "    ax.spines['top'].set_visible(False)\n",
    "    ax.plot(X, Y1, 'k', label=\"模拟值\")\n",
    "    ax.scatter(X2, Y2, c='k', label=\"实测值\")\n",
    "    # label显示在右外侧\n",
    "    ax.legend(fontsize=13, bbox_to_anchor=(1.05, 0.3), prop={'family':'Simsun', 'size': 12})\n",
    "    # ax.legend(fontsize=13, loc='lower right', bbox_to_anchor=(1.05, 0.5), prop={'family':'Times New Roman'})\n",
    "    # ax.legend(prop={'family':'Simsun', 'size': 12})\n",
    "\n",
    "    # 设置x轴刻度 size设置字体大小，fontproperties设置字体样式\n",
    "    xticks = ax.get_xticks()\n",
    "    x_label = [f\"{i:<.0f}\" for i in xticks]\n",
    "    ax.set_xticks(xticks, x_label, fontproperties = 'Times New Roman', size=12)\n",
    "    # 设置y轴刻度的字体和大小\n",
    "    yticks = ax.get_yticks()\n",
    "    y_label = [f\"{i:<.1f}\" for i in yticks]\n",
    "    ax.set_yticks(yticks, y_label, fontproperties = 'Times New Roman', size=12)\n",
    "    # 设置y轴 16单位是像素  相当于word中的小四\n",
    "    ax.set_ylabel(param_name, size=14, linespacing=1.25)\n",
    "    ax.set_xlabel('播种后天数(d)\\n$\\mathrm{Day\\quadafter\\quadsowing(d)}$', size=14, linespacing=1.25)\n",
    "    if text is None:\n",
    "        pass\n",
    "    else:\n",
    "        ax.text(5, 0.8*rangeY[1], text, fontdict={'family':'Times New Roman', 'size': 12}, linespacing=1.25)\n",
    "    if path_save is None:\n",
    "        pass\n",
    "    else:\n",
    "        # 解决导出svg格式的时候，图片外侧显示不全的问题\n",
    "        # fig.subplots_adjust(right=0.75)\n",
    "        plt.savefig(path_save, format=\"svg\", dpi=750, bbox_inches = 'tight')\n",
    "    # plt.close(fig)"
   ]
  },
  {
   "cell_type": "code",
   "execution_count": 56,
   "metadata": {},
   "outputs": [],
   "source": [
    "draw_data = pd.read_csv(\"./data/LAI/2021N180_4.csv\", index_col=0)"
   ]
  },
  {
   "cell_type": "code",
   "execution_count": null,
   "metadata": {},
   "outputs": [],
   "source": [
    "\n"
   ]
  },
  {
   "attachments": {},
   "cell_type": "markdown",
   "metadata": {},
   "source": [
    "## LAI画图用"
   ]
  },
  {
   "cell_type": "code",
   "execution_count": 57,
   "metadata": {},
   "outputs": [],
   "source": [
    "# LAI画图用\n",
    "df_obs = draw_data[[\"doy\", \"LAI_OBS\"]]\n",
    "df_obs = df_obs.replace(0, np.nan)\n",
    "df_obs = df_obs.dropna(axis=0, how=\"any\")\n",
    "# 计算一致性\n",
    "frac = np.sum((draw_data.LAI - df_obs.LAI_OBS)**2)\n",
    "divid = np.sum((np.abs(draw_data.LAI - draw_data.LAI.mean()) +\n",
    "               np.abs(df_obs.LAI_OBS - df_obs.LAI_OBS.mean()))**2)\n",
    "d = 1 - frac / divid\n",
    "\n",
    "# 计算RMSE\n",
    "RMSE = (draw_data.LAI - df_obs.LAI_OBS)**2\n",
    "RMSE = np.sqrt(np.mean(RMSE))\n",
    "nRMSE = RMSE / np.mean(df_obs.LAI_OBS) * 100"
   ]
  },
  {
   "cell_type": "code",
   "execution_count": 58,
   "metadata": {},
   "outputs": [
    {
     "data": {
      "text/plain": [
       "14.975339032852238"
      ]
     },
     "execution_count": 58,
     "metadata": {},
     "output_type": "execute_result"
    }
   ],
   "source": [
    "nRMSE"
   ]
  },
  {
   "cell_type": "code",
   "execution_count": 59,
   "metadata": {},
   "outputs": [
    {
     "data": {
      "image/png": "[encoded data removed]",
      "text/plain": [
       "<Figure size 600x400 with 1 Axes>"
      ]
     },
     "metadata": {},
     "output_type": "display_data"
    }
   ],
   "source": [
    "my_text = \"$(a)\\quad2021$\\n$d = %.3f$ \\n $nRMSE = %.3f$%%\" % (d, nRMSE)\n",
    "xlim = (0, 120)\n",
    "ylim = (0, 5)\n",
    "draw_demo(draw_data.doy, draw_data.LAI, df_obs.doy, df_obs.LAI_OBS, xlim, ylim,\n",
    "          path_save=\"./img/opt/ZDN180LAI2021_0.svg\", param_name=\"LAI\", text=my_text)\n"
   ]
  },
  {
   "attachments": {},
   "cell_type": "markdown",
   "metadata": {},
   "source": [
    "## TAGP画图用"
   ]
  },
  {
   "cell_type": "code",
   "execution_count": 60,
   "metadata": {},
   "outputs": [],
   "source": [
    "df_obs = draw_data[[\"doy\", \"TAGP_OBS\"]]\n",
    "df_obs = df_obs.dropna(axis=0, how=\"any\")\n",
    "df_obs = df_obs.replace(0, np.nan)\n",
    "df_obs = df_obs.dropna(axis=0, how=\"any\")\n",
    "# 计算一致性\n",
    "frac = np.sum((draw_data.TAGP - df_obs.TAGP_OBS)**2)\n",
    "divid = np.sum((np.abs(draw_data.TAGP - draw_data.TAGP.mean()) +\n",
    "               np.abs(df_obs.TAGP_OBS - df_obs.TAGP_OBS.mean()))**2)\n",
    "d = 1 - frac / divid\n",
    "# 计算RMSE\n",
    "RMSE = (draw_data.TAGP - df_obs.TAGP_OBS)**2\n",
    "RMSE = np.sqrt(np.mean(RMSE))\n",
    "nRMSE = RMSE / np.mean(df_obs.TAGP_OBS) * 100\n"
   ]
  },
  {
   "cell_type": "code",
   "execution_count": 61,
   "metadata": {},
   "outputs": [
    {
     "data": {
      "image/png": "[encoded data removed]",
      "text/plain": [
       "<Figure size 600x400 with 1 Axes>"
      ]
     },
     "metadata": {},
     "output_type": "display_data"
    }
   ],
   "source": [
    "my_text = \"$(b)\\quad2021$\\n$d = %.3f$ \\n $nRMSE = %.3f$%%\" % (d, nRMSE)\n",
    "y_label = \"地上部生物量($kg$·$ha^{-1}$)\\n$\\mathrm{Aboveground \\quad biomass(kg·ha^{-1})}$\"\n",
    "xlim = (0, 120)\n",
    "ylim = (0, 21000)\n",
    "draw_demo(draw_data.doy, draw_data.TAGP, df_obs.doy, df_obs.TAGP_OBS, xlim, ylim, path_save=\"./img/opt/ZDN180TAGP2021_0.svg\", param_name=y_label, text=my_text)"
   ]
  },
  {
   "cell_type": "code",
   "execution_count": null,
   "metadata": {},
   "outputs": [],
   "source": []
  },
  {
   "cell_type": "code",
   "execution_count": null,
   "metadata": {},
   "outputs": [],
   "source": []
  },
  {
   "cell_type": "code",
   "execution_count": null,
   "metadata": {},
   "outputs": [],
   "source": [
    "\n"
   ]
  },
  {
   "cell_type": "code",
   "execution_count": 114,
   "metadata": {},
   "outputs": [
    {
     "data": {
      "text/html": [
       "<div>\n",
       "<style scoped>\n",
       "    .dataframe tbody tr th:only-of-type {\n",
       "        vertical-align: middle;\n",
       "    }\n",
       "\n",
       "    .dataframe tbody tr th {\n",
       "        vertical-align: top;\n",
       "    }\n",
       "\n",
       "    .dataframe thead th {\n",
       "        text-align: right;\n",
       "    }\n",
       "</style>\n",
       "<table border=\"1\" class=\"dataframe\">\n",
       "  <thead>\n",
       "    <tr style=\"text-align: right;\">\n",
       "      <th></th>\n",
       "      <th>3</th>\n",
       "    </tr>\n",
       "    <tr>\n",
       "      <th>day</th>\n",
       "      <th></th>\n",
       "    </tr>\n",
       "  </thead>\n",
       "  <tbody>\n",
       "    <tr>\n",
       "      <th>2021-07-29</th>\n",
       "      <td>3912.0</td>\n",
       "    </tr>\n",
       "    <tr>\n",
       "      <th>2021-08-06</th>\n",
       "      <td>5891.4</td>\n",
       "    </tr>\n",
       "    <tr>\n",
       "      <th>2021-08-16</th>\n",
       "      <td>10603.0</td>\n",
       "    </tr>\n",
       "    <tr>\n",
       "      <th>2021-08-27</th>\n",
       "      <td>12909.0</td>\n",
       "    </tr>\n",
       "    <tr>\n",
       "      <th>2021-09-07</th>\n",
       "      <td>17898.0</td>\n",
       "    </tr>\n",
       "    <tr>\n",
       "      <th>2021-09-27</th>\n",
       "      <td>18928.8</td>\n",
       "    </tr>\n",
       "  </tbody>\n",
       "</table>\n",
       "</div>"
      ],
      "text/plain": [
       "                  3\n",
       "day                \n",
       "2021-07-29   3912.0\n",
       "2021-08-06   5891.4\n",
       "2021-08-16  10603.0\n",
       "2021-08-27  12909.0\n",
       "2021-09-07  17898.0\n",
       "2021-09-27  18928.8"
      ]
     },
     "execution_count": 114,
     "metadata": {},
     "output_type": "execute_result"
    }
   ],
   "source": [
    "bio2021[[\"3\"]]"
   ]
  },
  {
   "cell_type": "code",
   "execution_count": 90,
   "metadata": {},
   "outputs": [],
   "source": [
    "yield_dict = {\n",
    "        \"ZDN180\": {\"0\": [6796, 6274],\n",
    "                   \"90\": [8288, 7397],\n",
    "                   \"180\": [9607, 8426],\n",
    "                   \"270\": [9573, 8346]\n",
    "                   }\n",
    "    }"
   ]
  },
  {
   "cell_type": "code",
   "execution_count": 1,
   "metadata": {},
   "outputs": [],
   "source": [
    "import numpy as np"
   ]
  },
  {
   "cell_type": "code",
   "execution_count": 3,
   "metadata": {},
   "outputs": [],
   "source": [
    "bounds = {\n",
    "        \"SLATB001\": np.arange(0.0013, 0.0039, 0.0001),\n",
    "        \"SLATB003\": np.arange(0.0005, 0.0015, 0.0001),\n",
    "        \"SPAN\": np.arange(16.5, 50.5, 0.5),\n",
    "        \"EFFTB003\": np.arange(0.225, 0.675, 0.001),\n",
    "        \"TMNFTB003\": np.arange(0.5, 1.2, 0.1),\n",
    "        \"CVO\": np.arange(0.4955, 0.9065, 0.0001),\n",
    "        \"FLTB001\": np.arange(0.465, 0.775, 0.001),\n",
    "        \"TDWI\": np.arange(25, 80, 1),\n",
    "        \"CVS\": np.arange(0.329, 0.987, 0.001),\n",
    "        \"EFFTB001\": np.arange(0.25, 0.75, 0.01),\n",
    "        \"KDIFTB003\": np.arange(0.30, 0.90, 0.01),\n",
    "        \"NCRIT_FR\": np.arange(0.50, 1.50, 0.01),\n",
    "        \"AMAXTB001\": np.arange(35.0, 90.0, 2),\n",
    "        \"NMAXSO\": np.arange(0.011, 0.033, 0.001),\n",
    "\n",
    "    }"
   ]
  },
  {
   "cell_type": "code",
   "execution_count": null,
   "metadata": {},
   "outputs": [],
   "source": []
  },
  {
   "cell_type": "code",
   "execution_count": null,
   "metadata": {},
   "outputs": [],
   "source": []
  }
 ],
 "metadata": {
  "kernelspec": {
   "display_name": "pcse",
   "language": "python",
   "name": "pcse"
  },
  "language_info": {
   "codemirror_mode": {
    "name": "ipython",
    "version": 3
   },
   "file_extension": ".py",
   "mimetype": "text/x-python",
   "name": "python",
   "nbconvert_exporter": "python",
   "pygments_lexer": "ipython3",
   "version": "3.8.15"
  },
  "orig_nbformat": 4
 },
 "nbformat": 4,
 "nbformat_minor": 2
}
