{
 "cells": [
  {
   "cell_type": "code",
   "execution_count": 1,
   "metadata": {
    "pycharm": {
     "name": "#%%\n"
    }
   },
   "outputs": [],
   "source": [
    "import pickle\n",
    "import os\n",
    "import yaml\n",
    "import pandas as pd\n",
    "import numpy as np\n",
    "import matplotlib\n",
    "# matplotlib.style.use(\"ggplot\")\n",
    "import matplotlib.pyplot as plt\n",
    "from SALib.analyze import fast\n",
    "import sqlite3"
   ]
  },
  {
   "cell_type": "code",
   "execution_count": 2,
   "metadata": {
    "pycharm": {
     "name": "#%%\n"
    }
   },
   "outputs": [],
   "source": [
    "with open(os.path.join('yaml', 'params2.yaml'), 'r', encoding='utf-8') as f:\n",
    "    problem_yaml = f.read()\n",
    "problem = yaml.safe_load(problem_yaml)"
   ]
  },
  {
   "cell_type": "code",
   "execution_count": 3,
   "metadata": {
    "pycharm": {
     "name": "#%%\n"
    }
   },
   "outputs": [],
   "source": [
    "with open(\"../fastsample1.sam\", \"r\", encoding=\"utf-8\") as f:\n",
    "    problem_name = list()\n",
    "    tmp_list, res_list = list(), list()\n",
    "    count = 0\n",
    "    f.seek(0)\n",
    "    flag = 0\n",
    "    for num, line in enumerate(f):\n",
    "        if num == 1:\n",
    "            total = int(line)\n",
    "            continue\n",
    "        elif num == 2:\n",
    "            num_var = int(line)\n",
    "            continue\n",
    "\n",
    "        elif num > 2:\n",
    "\n",
    "            try:\n",
    "                line = line.rstrip()\n",
    "                tmp_list = line.split('\\t')\n",
    "                # print(len(tmp_list))\n",
    "                if len(tmp_list) == num_var and count < total:\n",
    "                    res_list.append(tmp_list)\n",
    "                    count += 1\n",
    "                else:\n",
    "                    temp_str = f\"{num_var} Distributions\"\n",
    "                    if temp_str in line:\n",
    "                        start1 = num + 2\n",
    "                        flag = 1\n",
    "                        count1 = 0\n",
    "                    \n",
    "                    if flag and count1 < num_var and num == start1 + count1*6:\n",
    "                        problem_name.append(line)\n",
    "                        count1 += 1\n",
    "\n",
    "            except ValueError:\n",
    "                pass\n",
    "\n",
    "\n",
    "paramsets = np.array(res_list, dtype=np.float64)"
   ]
  },
  {
   "cell_type": "code",
   "execution_count": 4,
   "metadata": {
    "pycharm": {
     "name": "#%%\n"
    }
   },
   "outputs": [],
   "source": [
    "problem_dict1 = dict()\n",
    "for each in problem_name:\n",
    "    for name, value in zip(problem[\"names\"], problem[\"bounds\"]):\n",
    "        if each == name:\n",
    "            problem_dict1[each] = value"
   ]
  },
  {
   "cell_type": "code",
   "execution_count": 5,
   "metadata": {
    "pycharm": {
     "name": "#%%\n"
    }
   },
   "outputs": [],
   "source": [
    "bounds_list = list()"
   ]
  },
  {
   "cell_type": "code",
   "execution_count": 6,
   "metadata": {
    "pycharm": {
     "name": "#%%\n"
    }
   },
   "outputs": [],
   "source": [
    "for each in problem_name:\n",
    "    bounds_list.append(problem_dict1[each])"
   ]
  },
  {
   "cell_type": "code",
   "execution_count": 7,
   "metadata": {
    "pycharm": {
     "name": "#%%\n"
    }
   },
   "outputs": [],
   "source": [
    "problem[\"bounds\"] = bounds_list\n",
    "problem[\"names\"] = problem_name\n",
    "problem[\"num_vars\"] = len(bounds_list)"
   ]
  },
  {
   "cell_type": "code",
   "execution_count": 8,
   "metadata": {
    "pycharm": {
     "name": "#%%\n"
    }
   },
   "outputs": [],
   "source": [
    "def gen_res_dict(input_dict: dict):\n",
    "    tmp_df = None\n",
    "    for key_ in input_dict.keys():\n",
    "        \n",
    "        if key_.isnumeric():\n",
    "            if key_ == \"0\":\n",
    "                name = input_dict[\"names1\"]\n",
    "                tmp_df = pd.DataFrame(input_dict[key_], columns=input_dict[\"names1\"])\n",
    "            else:\n",
    "                name = input_dict[\"names2\"]\n",
    "                tmp_df = pd.DataFrame(input_dict[key_], columns=input_dict[\"names2\"])\n",
    "            \n",
    "            yield (key_, name, tmp_df)"
   ]
  },
  {
   "cell_type": "code",
   "execution_count": 9,
   "metadata": {
    "pycharm": {
     "name": "#%%\n"
    }
   },
   "outputs": [],
   "source": [
    "def create_sql(path_sql):\n",
    "    conn = sqlite3.connect(path_sql)\n",
    "    c = conn.cursor()\n",
    "    for var_name in col2[: -1]:\n",
    "        for ni in n_amout:\n",
    "            table_name1 = \"PPN%s%s\" % (ni, var_name)\n",
    "            table_name2 = \"WLPN%s%s\" % (ni, var_name)\n",
    "            c.execute(f\"\"\"CREATE TABLE {table_name1}\n",
    "            (ID INTEGER PRIMARY KEY AUTOINCREMENT,\n",
    "            YEAR INT NOT NULL,\n",
    "            Parameter CHAR(20) NOT NULL,\n",
    "            First_order REAL,\n",
    "            Total_order REAL,\n",
    "            DOY INT NOT NULL);\"\"\")\n",
    "            c.execute(f\"\"\"CREATE TABLE {table_name2}\n",
    "            (ID INTEGER PRIMARY KEY AUTOINCREMENT,\n",
    "            YEAR INT NOT NULL,\n",
    "            Parameter CHAR(20) NOT NULL,\n",
    "            First_order REAL,\n",
    "            Total_order REAL,\n",
    "            DOY INT NOT NULL);\"\"\")\n",
    "            conn.commit()\n",
    "    conn.close()\n"
   ]
  },
  {
   "cell_type": "code",
   "execution_count": 10,
   "metadata": {
    "pycharm": {
     "name": "#%%\n"
    }
   },
   "outputs": [],
   "source": [
    "n_amout = [0, 90, 180, 270]\n",
    "col1 = [\"LAIMAX\", \"TAGP\", \"TWSO\", \"id\"]\n",
    "col2 = [\"LAI\", \"TAGP\", \"id\"]"
   ]
  },
  {
   "cell_type": "code",
   "execution_count": 11,
   "metadata": {
    "pycharm": {
     "name": "#%%\n"
    }
   },
   "outputs": [],
   "source": [
    "from tqdm import tqdm"
   ]
  },
  {
   "cell_type": "code",
   "execution_count": 12,
   "metadata": {
    "pycharm": {
     "name": "#%%\n"
    }
   },
   "outputs": [
    {
     "name": "stderr",
     "output_type": "stream",
     "text": [
      "100%|██████████| 16/16 [16:14<00:00, 60.91s/it]\n"
     ]
    }
   ],
   "source": [
    "root_dir = \"./pickleFile/FinalRes/\"\n",
    "sql_path = \"./time_LAI36.db\"\n",
    "create_sql(sql_path)\n",
    "conn = sqlite3.connect(sql_path)\n",
    "for dir_root, _, file_list in os.walk(root_dir):\n",
    "    for file_name in tqdm(file_list):\n",
    "        save_name = file_name.split(\".\")[0]\n",
    "        prefix_ = save_name[: -4]\n",
    "        year = save_name[-4:]\n",
    "        with open(os.path.join(dir_root, file_name), 'rb') as f:\n",
    "            result_pp = pickle.load(f)\n",
    "        \n",
    "        gen_dict = gen_res_dict(result_pp)\n",
    "        \n",
    "        for num_, names_l, df1 in gen_dict:\n",
    "            if num_ == \"0\":\n",
    "                continue\n",
    "            for each in names_l[: -1]:\n",
    "                # continue\n",
    "                Y = df1[each]\n",
    "                Y = Y.to_numpy()\n",
    "                Si = fast.analyze(problem, Y, print_to_console=False)\n",
    "                df_sensitivity = pd.DataFrame({\n",
    "                    \"Parameter\": problem[\"names\"],\n",
    "                    \"First_order\": Si[\"S1\"],\n",
    "                    \"Total_order\": Si[\"ST\"]}).set_index(\"Parameter\")\n",
    "                df_sensitivity[\"YEAR\"] = year\n",
    "                df_sensitivity[\"DOY\"] = int(num_)\n",
    "                save_name1 = f\"{prefix_}{each}\"\n",
    "                df_sensitivity.to_sql(save_name1, con=conn, chunksize=10000, if_exists='append')\n",
    "\n",
    "conn.close()"
   ]
  },
  {
   "cell_type": "code",
   "execution_count": 89,
   "metadata": {
    "pycharm": {
     "name": "#%%\n"
    }
   },
   "outputs": [],
   "source": [
    "conn.close()"
   ]
  },
  {
   "cell_type": "code",
   "execution_count": 83,
   "metadata": {
    "pycharm": {
     "name": "#%%\n"
    }
   },
   "outputs": [
    {
     "data": {
      "text/plain": [
       "'PPN0'"
      ]
     },
     "execution_count": 83,
     "metadata": {},
     "output_type": "execute_result"
    }
   ],
   "source": []
  },
  {
   "cell_type": "code",
   "execution_count": 23,
   "metadata": {
    "pycharm": {
     "name": "#%%\n"
    }
   },
   "outputs": [],
   "source": [
    "def df_mean(df1, df2):\n",
    "    return (df1 + df2) / 2.0"
   ]
  },
  {
   "cell_type": "code",
   "execution_count": 26,
   "metadata": {
    "pycharm": {
     "name": "#%%\n"
    }
   },
   "outputs": [],
   "source": [
    "\n",
    "root_dir = \"./modelOut/Si/\""
   ]
  },
  {
   "cell_type": "code",
   "execution_count": 34,
   "metadata": {
    "pycharm": {
     "name": "#%%\n"
    }
   },
   "outputs": [],
   "source": [
    "root_dir = \"./modelOut/Si/\"\n",
    "for var_name in col1[: -1]:\n",
    "    for ni in n_amout:\n",
    "        file_name1 = f\"WLPN{ni}2021_{var_name}_0.csv\"\n",
    "        file_name2 = f\"WLPN{ni}2022_{var_name}_0.csv\"\n",
    "        df1 = pd.read_csv(os.path.join(root_dir, file_name1), header=0, index_col=0)\n",
    "        df2 = pd.read_csv(os.path.join(root_dir, file_name2), header=0, index_col=0)\n",
    "        df = df_mean(df1, df2)\n",
    "        df.to_csv(os.path.join(root_dir, f\"WLPN{ni}_{var_name}.csv\"))\n",
    "    "
   ]
  },
  {
   "cell_type": "code",
   "execution_count": 88,
   "metadata": {
    "pycharm": {
     "name": "#%%\n"
    }
   },
   "outputs": [],
   "source": [
    "conn.close()"
   ]
  },
  {
   "cell_type": "code",
   "execution_count": 72,
   "metadata": {
    "pycharm": {
     "name": "#%%\n"
    }
   },
   "outputs": [],
   "source": []
  },
  {
   "cell_type": "code",
   "execution_count": 76,
   "metadata": {
    "pycharm": {
     "name": "#%%\n"
    }
   },
   "outputs": [],
   "source": [
    "conn = sqlite3.connect('time_series.db')"
   ]
  },
  {
   "cell_type": "code",
   "execution_count": 74,
   "metadata": {
    "pycharm": {
     "name": "#%%\n"
    }
   },
   "outputs": [],
   "source": [
    "c = conn.cursor()"
   ]
  },
  {
   "cell_type": "code",
   "execution_count": 75,
   "metadata": {
    "pycharm": {
     "name": "#%%\n"
    }
   },
   "outputs": [],
   "source": [
    "conn = sqlite3.connect('time_series.db')\n",
    "c = conn.cursor()\n",
    "for var_name in col2[: -1]:\n",
    "    for ni in n_amout:\n",
    "        table_name1 = \"PPN%s%s\" % (ni, var_name)\n",
    "        # table_name2 = \"PPN%s2022%s\" % (ni, var_name)\n",
    "        c.execute(f\"\"\"CREATE TABLE {table_name1}\n",
    "        (ID INTEGER PRIMARY KEY AUTOINCREMENT,\n",
    "        YEAR INT NOT NULL,\n",
    "        Parameter CHAR(20) NOT NULL,\n",
    "        First_order REAL,\n",
    "        Total_order REAL,\n",
    "        DOY INT NOT NULL);\"\"\")\n",
    "        conn.commit()\n",
    "conn.close()"
   ]
  },
  {
   "cell_type": "code",
   "execution_count": null,
   "metadata": {
    "pycharm": {
     "name": "#%%\n"
    }
   },
   "outputs": [],
   "source": [
    "df1[\"id\"] = 1"
   ]
  },
  {
   "cell_type": "code",
   "execution_count": null,
   "metadata": {
    "pycharm": {
     "name": "#%%\n"
    }
   },
   "outputs": [
    {
     "data": {
      "text/html": [
       "<div>\n",
       "<style scoped>\n",
       "    .dataframe tbody tr th:only-of-type {\n",
       "        vertical-align: middle;\n",
       "    }\n",
       "\n",
       "    .dataframe tbody tr th {\n",
       "        vertical-align: top;\n",
       "    }\n",
       "\n",
       "    .dataframe thead th {\n",
       "        text-align: right;\n",
       "    }\n",
       "</style>\n",
       "<table border=\"1\" class=\"dataframe\">\n",
       "  <thead>\n",
       "    <tr style=\"text-align: right;\">\n",
       "      <th></th>\n",
       "      <th>First_order</th>\n",
       "      <th>Total_order</th>\n",
       "      <th>id</th>\n",
       "    </tr>\n",
       "    <tr>\n",
       "      <th>Parameter</th>\n",
       "      <th></th>\n",
       "      <th></th>\n",
       "      <th></th>\n",
       "    </tr>\n",
       "  </thead>\n",
       "  <tbody>\n",
       "    <tr>\n",
       "      <th>SLATB1</th>\n",
       "      <td>0.096058</td>\n",
       "      <td>0.191488</td>\n",
       "      <td>1</td>\n",
       "    </tr>\n",
       "    <tr>\n",
       "      <th>SLATB2</th>\n",
       "      <td>0.008117</td>\n",
       "      <td>0.016103</td>\n",
       "      <td>1</td>\n",
       "    </tr>\n",
       "    <tr>\n",
       "      <th>SLATB3</th>\n",
       "      <td>0.000034</td>\n",
       "      <td>0.003235</td>\n",
       "      <td>1</td>\n",
       "    </tr>\n",
       "    <tr>\n",
       "      <th>KDIFTB0</th>\n",
       "      <td>0.035883</td>\n",
       "      <td>0.056186</td>\n",
       "      <td>1</td>\n",
       "    </tr>\n",
       "    <tr>\n",
       "      <th>KDIFTB2</th>\n",
       "      <td>0.000685</td>\n",
       "      <td>0.013220</td>\n",
       "      <td>1</td>\n",
       "    </tr>\n",
       "    <tr>\n",
       "      <th>EFFTB1</th>\n",
       "      <td>0.008553</td>\n",
       "      <td>0.015379</td>\n",
       "      <td>1</td>\n",
       "    </tr>\n",
       "    <tr>\n",
       "      <th>EFFTB2</th>\n",
       "      <td>0.091203</td>\n",
       "      <td>0.158128</td>\n",
       "      <td>1</td>\n",
       "    </tr>\n",
       "    <tr>\n",
       "      <th>AMAXTB125</th>\n",
       "      <td>0.007670</td>\n",
       "      <td>0.015771</td>\n",
       "      <td>1</td>\n",
       "    </tr>\n",
       "    <tr>\n",
       "      <th>AMAXTB150</th>\n",
       "      <td>0.000612</td>\n",
       "      <td>0.001724</td>\n",
       "      <td>1</td>\n",
       "    </tr>\n",
       "    <tr>\n",
       "      <th>AMAXTB175</th>\n",
       "      <td>0.001911</td>\n",
       "      <td>0.009608</td>\n",
       "      <td>1</td>\n",
       "    </tr>\n",
       "    <tr>\n",
       "      <th>AMAXTB000</th>\n",
       "      <td>0.004137</td>\n",
       "      <td>0.014710</td>\n",
       "      <td>1</td>\n",
       "    </tr>\n",
       "    <tr>\n",
       "      <th>AMAXTB200</th>\n",
       "      <td>0.000203</td>\n",
       "      <td>0.002531</td>\n",
       "      <td>1</td>\n",
       "    </tr>\n",
       "    <tr>\n",
       "      <th>TMPFTB0</th>\n",
       "      <td>0.000013</td>\n",
       "      <td>0.001700</td>\n",
       "      <td>1</td>\n",
       "    </tr>\n",
       "    <tr>\n",
       "      <th>TMPFTB30</th>\n",
       "      <td>0.033982</td>\n",
       "      <td>0.076631</td>\n",
       "      <td>1</td>\n",
       "    </tr>\n",
       "    <tr>\n",
       "      <th>TMNFTB8</th>\n",
       "      <td>0.490636</td>\n",
       "      <td>0.641260</td>\n",
       "      <td>1</td>\n",
       "    </tr>\n",
       "    <tr>\n",
       "      <th>RFSETB0</th>\n",
       "      <td>0.000277</td>\n",
       "      <td>0.002166</td>\n",
       "      <td>1</td>\n",
       "    </tr>\n",
       "    <tr>\n",
       "      <th>RFSETB2</th>\n",
       "      <td>0.000200</td>\n",
       "      <td>0.004458</td>\n",
       "      <td>1</td>\n",
       "    </tr>\n",
       "    <tr>\n",
       "      <th>CVL</th>\n",
       "      <td>0.056917</td>\n",
       "      <td>0.092623</td>\n",
       "      <td>1</td>\n",
       "    </tr>\n",
       "    <tr>\n",
       "      <th>CVO</th>\n",
       "      <td>0.089000</td>\n",
       "      <td>0.145596</td>\n",
       "      <td>1</td>\n",
       "    </tr>\n",
       "    <tr>\n",
       "      <th>CVR</th>\n",
       "      <td>0.002566</td>\n",
       "      <td>0.006694</td>\n",
       "      <td>1</td>\n",
       "    </tr>\n",
       "    <tr>\n",
       "      <th>CVS</th>\n",
       "      <td>0.017882</td>\n",
       "      <td>0.044565</td>\n",
       "      <td>1</td>\n",
       "    </tr>\n",
       "    <tr>\n",
       "      <th>Q10</th>\n",
       "      <td>0.008072</td>\n",
       "      <td>0.023104</td>\n",
       "      <td>1</td>\n",
       "    </tr>\n",
       "    <tr>\n",
       "      <th>RML</th>\n",
       "      <td>0.004219</td>\n",
       "      <td>0.007950</td>\n",
       "      <td>1</td>\n",
       "    </tr>\n",
       "    <tr>\n",
       "      <th>RMO</th>\n",
       "      <td>0.002609</td>\n",
       "      <td>0.008397</td>\n",
       "      <td>1</td>\n",
       "    </tr>\n",
       "    <tr>\n",
       "      <th>RMR</th>\n",
       "      <td>0.001144</td>\n",
       "      <td>0.006845</td>\n",
       "      <td>1</td>\n",
       "    </tr>\n",
       "    <tr>\n",
       "      <th>RMS</th>\n",
       "      <td>0.011887</td>\n",
       "      <td>0.025663</td>\n",
       "      <td>1</td>\n",
       "    </tr>\n",
       "    <tr>\n",
       "      <th>PERDL</th>\n",
       "      <td>0.000031</td>\n",
       "      <td>0.001534</td>\n",
       "      <td>1</td>\n",
       "    </tr>\n",
       "    <tr>\n",
       "      <th>RDI</th>\n",
       "      <td>0.000032</td>\n",
       "      <td>0.001294</td>\n",
       "      <td>1</td>\n",
       "    </tr>\n",
       "    <tr>\n",
       "      <th>RRI</th>\n",
       "      <td>0.000102</td>\n",
       "      <td>0.005262</td>\n",
       "      <td>1</td>\n",
       "    </tr>\n",
       "    <tr>\n",
       "      <th>TBASEM</th>\n",
       "      <td>0.000472</td>\n",
       "      <td>0.003121</td>\n",
       "      <td>1</td>\n",
       "    </tr>\n",
       "    <tr>\n",
       "      <th>TEFFMX</th>\n",
       "      <td>0.000025</td>\n",
       "      <td>0.001125</td>\n",
       "      <td>1</td>\n",
       "    </tr>\n",
       "    <tr>\n",
       "      <th>TSUM1</th>\n",
       "      <td>0.123743</td>\n",
       "      <td>0.199077</td>\n",
       "      <td>1</td>\n",
       "    </tr>\n",
       "    <tr>\n",
       "      <th>TSUM2</th>\n",
       "      <td>0.052372</td>\n",
       "      <td>0.102341</td>\n",
       "      <td>1</td>\n",
       "    </tr>\n",
       "    <tr>\n",
       "      <th>TDWI</th>\n",
       "      <td>0.001511</td>\n",
       "      <td>0.004633</td>\n",
       "      <td>1</td>\n",
       "    </tr>\n",
       "    <tr>\n",
       "      <th>RGRLAI</th>\n",
       "      <td>0.000095</td>\n",
       "      <td>0.013940</td>\n",
       "      <td>1</td>\n",
       "    </tr>\n",
       "    <tr>\n",
       "      <th>SPAN</th>\n",
       "      <td>0.091731</td>\n",
       "      <td>0.218443</td>\n",
       "      <td>1</td>\n",
       "    </tr>\n",
       "  </tbody>\n",
       "</table>\n",
       "</div>"
      ],
      "text/plain": [
       "           First_order  Total_order  id\n",
       "Parameter                              \n",
       "SLATB1        0.096058     0.191488   1\n",
       "SLATB2        0.008117     0.016103   1\n",
       "SLATB3        0.000034     0.003235   1\n",
       "KDIFTB0       0.035883     0.056186   1\n",
       "KDIFTB2       0.000685     0.013220   1\n",
       "EFFTB1        0.008553     0.015379   1\n",
       "EFFTB2        0.091203     0.158128   1\n",
       "AMAXTB125     0.007670     0.015771   1\n",
       "AMAXTB150     0.000612     0.001724   1\n",
       "AMAXTB175     0.001911     0.009608   1\n",
       "AMAXTB000     0.004137     0.014710   1\n",
       "AMAXTB200     0.000203     0.002531   1\n",
       "TMPFTB0       0.000013     0.001700   1\n",
       "TMPFTB30      0.033982     0.076631   1\n",
       "TMNFTB8       0.490636     0.641260   1\n",
       "RFSETB0       0.000277     0.002166   1\n",
       "RFSETB2       0.000200     0.004458   1\n",
       "CVL           0.056917     0.092623   1\n",
       "CVO           0.089000     0.145596   1\n",
       "CVR           0.002566     0.006694   1\n",
       "CVS           0.017882     0.044565   1\n",
       "Q10           0.008072     0.023104   1\n",
       "RML           0.004219     0.007950   1\n",
       "RMO           0.002609     0.008397   1\n",
       "RMR           0.001144     0.006845   1\n",
       "RMS           0.011887     0.025663   1\n",
       "PERDL         0.000031     0.001534   1\n",
       "RDI           0.000032     0.001294   1\n",
       "RRI           0.000102     0.005262   1\n",
       "TBASEM        0.000472     0.003121   1\n",
       "TEFFMX        0.000025     0.001125   1\n",
       "TSUM1         0.123743     0.199077   1\n",
       "TSUM2         0.052372     0.102341   1\n",
       "TDWI          0.001511     0.004633   1\n",
       "RGRLAI        0.000095     0.013940   1\n",
       "SPAN          0.091731     0.218443   1"
      ]
     },
     "execution_count": 40,
     "metadata": {},
     "output_type": "execute_result"
    }
   ],
   "source": [
    "df1"
   ]
  }
 ],
 "metadata": {
  "kernelspec": {
   "display_name": "drawing",
   "language": "python",
   "name": "drawing"
  }
 },
 "nbformat": 4,
 "nbformat_minor": 4
}
