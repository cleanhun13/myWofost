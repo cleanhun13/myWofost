{
 "cells": [
  {
   "cell_type": "markdown",
   "metadata": {
    "pycharm": {
     "name": "#%% md\n"
    }
   },
   "source": [
    "# 1 气象数据处理\n",
    "## CSV文件表头\n",
    "csv文件结构如下\n",
    "```\n",
    "## Site Characteristics\n",
    "Country     = 'Netherlands'\n",
    "Station     = 'Wageningen, Haarweg'\n",
    "Description = 'Observed data from Station Haarweg in Wageningen'\n",
    "Source      = 'Meteorology and Air Quality Group, Wageningen University'\n",
    "Contact     = 'Peter Uithol'\n",
    "Longitude = 5.67; Latitude = 51.97; Elevation = 7; AngstromA = 0.18; AngstromB = 0.55; HasSunshine = False\n",
    "## Daily weather observations (missing values are NaN)\n",
    "DAY,IRRAD,TMIN,TMAX,VAP,WIND,RAIN,SNOWDEPTH\n",
    "20040101,NaN,-0.7,1.1,0.55,3.6,0.5,NaN\n",
    "20040102,3888,-7.5,0.9,0.44,3.1,0,NaN\n",
    "20040103,2074,-6.8,-0.5,0.45,1.8,0,NaN\n",
    "20040104,1814,-3.6,5.9,0.66,3.2,2.5,NaN\n",
    "20040105,1469,3,5.7,0.78,2.3,1.3,NaN\n",
    "[...]\n",
    "\n",
    "with\n",
    "IRRAD in kJ/m2/day or hours\n",
    "TMIN and TMAX in Celsius (°C)\n",
    "VAP in kPa\n",
    "WIND in m/sec\n",
    "RAIN in mm\n",
    "SNOWDEPTH in cm\n",
    "```\n"
   ]
  },
  {
   "cell_type": "code",
   "execution_count": 1,
   "metadata": {
    "collapsed": false,
    "jupyter": {
     "outputs_hidden": false
    },
    "pycharm": {
     "name": "#%%\n"
    },
    "vscode": {
     "languageId": "python"
    }
   },
   "outputs": [],
   "source": [
    "## 两日相隔天数\n",
    "from datetime import datetime\n",
    "def calDays(start, end, format=\"%Y-%m-%d\"):\n",
    "    strptime, strftime = datetime.strptime, datetime.strftime\n",
    "    days = (strptime(end, format) - strptime(start, format)).days\n",
    "    return days"
   ]
  },
  {
   "cell_type": "code",
   "execution_count": 2,
   "metadata": {
    "pycharm": {
     "name": "#%%\n"
    },
    "vscode": {
     "languageId": "python"
    }
   },
   "outputs": [],
   "source": [
    "def csv_header(country=\"China\", station=\"Yangling\", longitude=108.12, latitude=34.33, elevation=521):\n",
    "    res_s = f\"## Site Characteristics\\nCountry     = {country}\\nStation     = {station}\\nDescription = 'Observed data from Station {station} in {country}'\\\n",
    "    \\nSource      = 'Meteorology and Air Quality Group, Wageningen University'\\nContact     = 'Peter Uithol'\\\n",
    "    \\nLongitude = {longitude:.2f}; Latitude = {latitude:.2f}; Elevation = {elevation:.0f}; AngstromA = 0.18; AngstromB = 0.55; HasSunshine = False\\\n",
    "    \\n## Daily weather observations (missing values are NaN)\"\n",
    "    return res_s"
   ]
  },
  {
   "cell_type": "code",
   "execution_count": 3,
   "metadata": {
    "pycharm": {
     "name": "#%%\n"
    },
    "vscode": {
     "languageId": "python"
    }
   },
   "outputs": [
    {
     "name": "stdout",
     "output_type": "stream",
     "text": [
      "## Site Characteristics\n",
      "Country     = China\n",
      "Station     = Yangling\n",
      "Description = 'Observed data from Station Yangling in China'    \n",
      "Source      = 'Meteorology and Air Quality Group, Wageningen University'\n",
      "Contact     = 'Peter Uithol'    \n",
      "Longitude = 108.12; Latitude = 34.33; Elevation = 521; AngstromA = 0.18; AngstromB = 0.55; HasSunshine = False    \n",
      "## Daily weather observations (missing values are NaN)\n"
     ]
    }
   ],
   "source": [
    "print(csv_header())"
   ]
  },
  {
   "cell_type": "code",
   "execution_count": null,
   "metadata": {
    "pycharm": {
     "name": "#%%\n"
    },
    "vscode": {
     "languageId": "python"
    }
   },
   "outputs": [],
   "source": []
  },
  {
   "cell_type": "markdown",
   "metadata": {
    "pycharm": {
     "name": "#%% md\n"
    }
   },
   "source": [
    "# 2 读取模型参数"
   ]
  },
  {
   "cell_type": "code",
   "execution_count": 4,
   "metadata": {
    "pycharm": {
     "name": "#%%\n"
    },
    "vscode": {
     "languageId": "python"
    }
   },
   "outputs": [
    {
     "name": "stdout",
     "output_type": "stream",
     "text": [
      "This notebook was built with:\n",
      "python version: 3.8.15 (default, Nov  4 2022, 15:16:59) [MSC v.1916 64 bit (AMD64)] \n",
      "PCSE version: 5.5.4\n"
     ]
    }
   ],
   "source": [
    "%matplotlib inline\n",
    "import sys, os\n",
    "import matplotlib\n",
    "matplotlib.style.use(\"ggplot\")\n",
    "import matplotlib.pyplot as plt\n",
    "import pandas as pd\n",
    "\n",
    "data_dir = os.path.join(os.getcwd(), \"data\")\n",
    "import pcse\n",
    "print(\"This notebook was built with:\")\n",
    "print(\"python version: %s \" % sys.version)\n",
    "print(\"PCSE version: %s\" %  pcse.__version__)"
   ]
  },
  {
   "cell_type": "markdown",
   "metadata": {
    "pycharm": {
     "name": "#%% md\n"
    }
   },
   "source": [
    "## 2.1 作物参数"
   ]
  },
  {
   "cell_type": "code",
   "execution_count": 5,
   "metadata": {
    "collapsed": false,
    "jupyter": {
     "outputs_hidden": false
    },
    "pycharm": {
     "name": "#%%\n"
    },
    "vscode": {
     "languageId": "python"
    }
   },
   "outputs": [],
   "source": [
    "from pcse.fileinput import CABOFileReader\n",
    "from pcse.exceptions import PCSEError, PartitioningError"
   ]
  },
  {
   "cell_type": "code",
   "execution_count": 6,
   "metadata": {
    "collapsed": true,
    "jupyter": {
     "outputs_hidden": true
    },
    "pycharm": {
     "name": "#%%\n"
    },
    "tags": [],
    "vscode": {
     "languageId": "python"
    }
   },
   "outputs": [
    {
     "name": "stdout",
     "output_type": "stream",
     "text": [
      "** $Id: mag201.cab 1.3 1997/09/25 14:06:58 LEM release $\n",
      "** File MAG201.CAB\n",
      "** CROP DATA FILE for use with WOFOST Version 5.4, June 1992\n",
      "**\n",
      "** GRAIN MAIZE 201\n",
      "** Regions : Germany, R13, R15, R16, R17 and Luxembourg\n",
      "** sowing date 1 May\n",
      "** mean date of flowering 26 July, mature 20 October\n",
      "** Derived from SUCROS87 data set for maize.\n",
      "** Calibrated for use in WOFOST model at the Centre for Agrobiological\n",
      "** Research (CABO-DLO) for the simulation of crop growth and yield on the\n",
      "** basis of daily weather data.\n",
      "** Purpose of application: Crop growth monitoring with agrometeorological\n",
      "** model in the EC.\n",
      "** Developed in the framework of JRC Agriculture Project Action 3.\n",
      "**\n",
      "------------------------------------\n",
      "TBASEM: 4.0 <class 'float'>\n",
      "TEFFMX: 30.0 <class 'float'>\n",
      "TSUMEM: 110.0 <class 'float'>\n",
      "IDSL: 0 <class 'int'>\n",
      "DLO: -99.0 <class 'float'>\n",
      "DLC: -99.0 <class 'float'>\n",
      "TSUM1: 695.0 <class 'float'>\n",
      "TSUM2: 800.0 <class 'float'>\n",
      "DVSI: 0.0 <class 'float'>\n",
      "DVSEND: 2.0 <class 'float'>\n",
      "TDWI: 50.0 <class 'float'>\n",
      "LAIEM: 0.04836 <class 'float'>\n",
      "RGRLAI: 0.0294 <class 'float'>\n",
      "SPA: 0.0 <class 'float'>\n",
      "SPAN: 33.0 <class 'float'>\n",
      "TBASE: 10.0 <class 'float'>\n",
      "CVL: 0.68 <class 'float'>\n",
      "CVO: 0.671 <class 'float'>\n",
      "CVR: 0.69 <class 'float'>\n",
      "CVS: 0.658 <class 'float'>\n",
      "Q10: 2.0 <class 'float'>\n",
      "RML: 0.03 <class 'float'>\n",
      "RMO: 0.01 <class 'float'>\n",
      "RMR: 0.015 <class 'float'>\n",
      "RMS: 0.015 <class 'float'>\n",
      "PERDL: 0.03 <class 'float'>\n",
      "CFET: 1.0 <class 'float'>\n",
      "DEPNR: 4.5 <class 'float'>\n",
      "IAIRDU: 0 <class 'int'>\n",
      "IOX: 0 <class 'int'>\n",
      "RDI: 10.0 <class 'float'>\n",
      "RRI: 2.2 <class 'float'>\n",
      "RDMCR: 100.0 <class 'float'>\n",
      "NMINSO: 0.0095 <class 'float'>\n",
      "NMINVE: 0.004 <class 'float'>\n",
      "NMAXSO: 0.022 <class 'float'>\n",
      "NMAXVE: 0.0125 <class 'float'>\n",
      "PMINSO: 0.0017 <class 'float'>\n",
      "PMINVE: 0.0004 <class 'float'>\n",
      "PMAXSO: 0.0075 <class 'float'>\n",
      "PMAXVE: 0.003 <class 'float'>\n",
      "KMINSO: 0.002 <class 'float'>\n",
      "KMINVE: 0.005 <class 'float'>\n",
      "KMAXSO: 0.006 <class 'float'>\n",
      "KMAXVE: 0.02 <class 'float'>\n",
      "YZERO: 400.0 <class 'float'>\n",
      "NFIX: 0.0 <class 'float'>\n",
      "CRPNAM: Grain maize 201, N-Germany, Luxembourg <class 'str'>\n",
      "DTSMTB: [0.0, 0.0, 6.0, 0.0, 30.0, 24.0, 35.0, 24.0] <class 'list'>\n",
      "SLATB: [0.0, 0.0026, 0.78, 0.0012, 2.0, 0.0012] <class 'list'>\n",
      "SSATB: [0.0, 0.0, 2.0, 0.0] <class 'list'>\n",
      "KDIFTB: [0.0, 0.6, 2.0, 0.6] <class 'list'>\n",
      "EFFTB: [0.0, 0.45, 40.0, 0.45] <class 'list'>\n",
      "AMAXTB: [0.0, 70.0, 1.25, 70.0, 1.5, 63.0, 1.75, 49.0, 2.0, 21.0] <class 'list'>\n",
      "TMPFTB: [0.0, 0.01, 9.0, 0.05, 16.0, 0.8, 18.0, 0.94, 20.0, 1.0, 30.0, 1.0, 36.0, 0.95, 42.0, 0.56] <class 'list'>\n",
      "TMNFTB: [5.0, 0.0, 8.0, 1.0] <class 'list'>\n",
      "RFSETB: [0.0, 1.0, 1.5, 1.0, 1.75, 0.75, 2.0, 0.25] <class 'list'>\n",
      "FRTB: [0.0, 0.4, 0.1, 0.37, 0.2, 0.34, 0.3, 0.31, 0.4, 0.27, 0.5, 0.23, 0.6, 0.19, 0.7, 0.15, 0.8, 0.1, 0.9, 0.06, 1.0, 0.0, 2.0, 0.0] <class 'list'>\n",
      "FLTB: [0.0, 0.62, 0.33, 0.62, 0.88, 0.15, 0.95, 0.15, 1.1, 0.1, 1.2, 0.0, 2.0, 0.0] <class 'list'>\n",
      "FSTB: [0.0, 0.38, 0.33, 0.38, 0.88, 0.85, 0.95, 0.85, 1.1, 0.4, 1.2, 0.0, 2.0, 0.0] <class 'list'>\n",
      "FOTB: [0.95, 0.0, 1.1, 0.5, 1.2, 1.0, 2.0, 1.0] <class 'list'>\n",
      "RDRRTB: [0.0, 0.0, 1.5, 0.0, 1.5001, 0.02, 2.0, 0.02] <class 'list'>\n",
      "RDRSTB: [0.0, 0.0, 1.5, 0.0, 1.5001, 0.02, 2.0, 0.02] <class 'list'>\n",
      "\n"
     ]
    }
   ],
   "source": [
    "cropfile = os.path.join(data_dir, 'crop', 'MAG201.CAB')\n",
    "cropd = CABOFileReader(cropfile)\n",
    "print(cropd)"
   ]
  },
  {
   "cell_type": "code",
   "execution_count": null,
   "metadata": {
    "collapsed": false,
    "jupyter": {
     "outputs_hidden": false
    },
    "pycharm": {
     "name": "#%%\n"
    },
    "vscode": {
     "languageId": "python"
    }
   },
   "outputs": [],
   "source": []
  },
  {
   "cell_type": "markdown",
   "metadata": {
    "pycharm": {
     "name": "#%% md\n"
    }
   },
   "source": [
    "## 2.2 土壤参数"
   ]
  },
  {
   "cell_type": "code",
   "execution_count": 7,
   "metadata": {
    "pycharm": {
     "name": "#%%\n"
    },
    "vscode": {
     "languageId": "python"
    }
   },
   "outputs": [],
   "source": [
    "soilfile = os.path.join(data_dir, 'soil', 'ec3.soil')\n",
    "soild = CABOFileReader(soilfile)"
   ]
  },
  {
   "cell_type": "markdown",
   "metadata": {
    "pycharm": {
     "name": "#%% md\n"
    }
   },
   "source": [
    "## 2.3 站点数据"
   ]
  },
  {
   "cell_type": "code",
   "execution_count": 8,
   "metadata": {
    "collapsed": false,
    "pycharm": {
     "name": "#%%\n"
    },
    "vscode": {
     "languageId": "python"
    }
   },
   "outputs": [],
   "source": [
    "from pcse.util import WOFOST72SiteDataProvider\n",
    "sited = WOFOST72SiteDataProvider(WAV=18)"
   ]
  },
  {
   "cell_type": "markdown",
   "metadata": {
    "collapsed": false,
    "pycharm": {
     "name": "#%% md\n"
    }
   },
   "source": [
    "## 2.4 整合模型参数"
   ]
  },
  {
   "cell_type": "code",
   "execution_count": 9,
   "metadata": {
    "collapsed": false,
    "pycharm": {
     "name": "#%%\n"
    },
    "vscode": {
     "languageId": "python"
    }
   },
   "outputs": [],
   "source": [
    "from pcse.base import ParameterProvider\n",
    "# parameters = ParameterProvider(cropdata=cropd, soildata=soild, sitedata=sited)\n",
    "class CropParam:\n",
    "    def __init__(self, crop_file, soildata, sitedata):\n",
    "        self.cropd_file = crop_file\n",
    "        self.cropd = None\n",
    "        self.cropd1()\n",
    "        self.soild = soildata\n",
    "        self.sited = sitedata\n",
    "        self.params = ParameterProvider(cropdata=self.cropd, soildata=self.soild, sitedata=self.sited)\n",
    "    def cropd1(self):\n",
    "        self.cropd = CABOFileReader(self.cropd_file)\n",
    "    def initial(self):\n",
    "        self.cropd1()\n",
    "        return ParameterProvider(cropdata=self.cropd, soildata=self.soild, sitedata=self.sited)"
   ]
  },
  {
   "cell_type": "code",
   "execution_count": 10,
   "metadata": {
    "vscode": {
     "languageId": "python"
    },
    "pycharm": {
     "name": "#%%\n"
    }
   },
   "outputs": [],
   "source": [
    "# cropfile = os.path.join(data_dir, 'crop', 'MAG201.CAB')\n",
    "# crop_param = CropParam(cropfile, soild, sited)\n",
    "parameters = ParameterProvider(cropdata=cropd, soildata=soild, sitedata=sited)"
   ]
  },
  {
   "cell_type": "markdown",
   "metadata": {
    "pycharm": {
     "name": "#%% md\n"
    }
   },
   "source": [
    "## 2.5 管理文件"
   ]
  },
  {
   "cell_type": "code",
   "execution_count": 11,
   "metadata": {
    "vscode": {
     "languageId": "python"
    },
    "pycharm": {
     "name": "#%%\n"
    }
   },
   "outputs": [],
   "source": [
    "from pcse.fileinput import YAMLAgroManagementReader\n",
    "agromanagement21 = YAMLAgroManagementReader(os.path.join(data_dir, 'agro', 'maize_2021.agro'))\n",
    "agromanagement22 = YAMLAgroManagementReader(os.path.join(data_dir, 'agro', 'maize_2022.agro'))"
   ]
  },
  {
   "cell_type": "markdown",
   "metadata": {
    "pycharm": {
     "name": "#%% md\n"
    }
   },
   "source": [
    "## 2.6气象数据"
   ]
  },
  {
   "cell_type": "code",
   "execution_count": 12,
   "metadata": {
    "collapsed": false,
    "jupyter": {
     "outputs_hidden": false
    },
    "pycharm": {
     "name": "#%%\n"
    },
    "vscode": {
     "languageId": "python"
    }
   },
   "outputs": [],
   "source": [
    "from pcse.fileinput import ExcelWeatherDataProvider\n",
    "weatherfile = os.path.join(data_dir, 'meteo', 'WOFOSTYL.xlsx')\n",
    "wdp = ExcelWeatherDataProvider(weatherfile)\n",
    "# print(wdp)"
   ]
  },
  {
   "cell_type": "markdown",
   "metadata": {
    "pycharm": {
     "name": "#%% md\n"
    }
   },
   "source": [
    "## 测试参数是否可用于敏感性分析"
   ]
  },
  {
   "cell_type": "markdown",
   "metadata": {
    "pycharm": {
     "name": "#%% md\n"
    }
   },
   "source": [
    "TMPFTB=[0, 4, 16, 18, 20, 28, 36, 42]\n",
    "TMNFTB = 8℃\n",
    "RFSETB 只涉及后两个参数[0, 1.5, 1.75, 2]"
   ]
  },
  {
   "cell_type": "code",
   "execution_count": 13,
   "metadata": {
    "collapsed": false,
    "jupyter": {
     "outputs_hidden": false
    },
    "pycharm": {
     "name": "#%%\n"
    },
    "vscode": {
     "languageId": "python"
    }
   },
   "outputs": [],
   "source": [
    "from pcse.models import Wofost72_PP, Wofost72_WLP_FD\n",
    "wofostpp = Wofost72_PP(parameters, wdp, agromanagement21)\n",
    "wofostwlp = Wofost72_WLP_FD(parameters, wdp, agromanagement21)\n",
    "wofostpp.run_till_terminate()\n",
    "wofostwlp.run_till_terminate()"
   ]
  },
  {
   "cell_type": "code",
   "execution_count": 14,
   "metadata": {
    "collapsed": false,
    "jupyter": {
     "outputs_hidden": false
    },
    "pycharm": {
     "name": "#%%\n"
    },
    "vscode": {
     "languageId": "python"
    }
   },
   "outputs": [],
   "source": [
    "r = wofostwlp.get_output()"
   ]
  },
  {
   "cell_type": "code",
   "execution_count": 15,
   "metadata": {
    "collapsed": false,
    "jupyter": {
     "outputs_hidden": false
    },
    "pycharm": {
     "name": "#%%\n"
    },
    "vscode": {
     "languageId": "python"
    }
   },
   "outputs": [
    {
     "data": {
      "text/plain": [
       "[{'DVS': 2.0,\n",
       "  'LAIMAX': 1.374125857971024,\n",
       "  'TAGP': 6481.005715263842,\n",
       "  'TWSO': 3696.896648798934,\n",
       "  'TWLV': 862.3064007340049,\n",
       "  'TWST': 1921.8026657309024,\n",
       "  'TWRT': 481.2448555816113,\n",
       "  'CTRAT': 9.615071426324379,\n",
       "  'RD': 84.80000000000005,\n",
       "  'DOS': datetime.date(2021, 6, 11),\n",
       "  'DOE': datetime.date(2021, 6, 16),\n",
       "  'DOA': datetime.date(2021, 7, 20),\n",
       "  'DOM': datetime.date(2021, 8, 29),\n",
       "  'DOH': None,\n",
       "  'DOV': None,\n",
       "  'CEVST': 5.759676374580274}]"
      ]
     },
     "execution_count": 15,
     "metadata": {},
     "output_type": "execute_result"
    }
   ],
   "source": [
    "wofostwlp.get_summary_output()"
   ]
  },
  {
   "cell_type": "code",
   "execution_count": 16,
   "metadata": {
    "vscode": {
     "languageId": "python"
    },
    "pycharm": {
     "name": "#%%\n"
    }
   },
   "outputs": [
    {
     "data": {
      "text/plain": [
       "101"
      ]
     },
     "execution_count": 16,
     "metadata": {},
     "output_type": "execute_result"
    }
   ],
   "source": [
    "i = calDays(\"2021-06-11\", \"2021-09-20\")\n",
    "i"
   ]
  },
  {
   "cell_type": "code",
   "execution_count": null,
   "metadata": {
    "collapsed": false,
    "jupyter": {
     "outputs_hidden": false
    },
    "pycharm": {
     "name": "#%%\n"
    },
    "vscode": {
     "languageId": "python"
    }
   },
   "outputs": [],
   "source": []
  },
  {
   "cell_type": "code",
   "execution_count": null,
   "metadata": {
    "collapsed": false,
    "jupyter": {
     "outputs_hidden": false
    },
    "pycharm": {
     "name": "#%%\n"
    },
    "vscode": {
     "languageId": "python"
    }
   },
   "outputs": [],
   "source": [
    "\n"
   ]
  },
  {
   "cell_type": "code",
   "execution_count": null,
   "metadata": {
    "collapsed": false,
    "jupyter": {
     "outputs_hidden": false
    },
    "pycharm": {
     "name": "#%%\n"
    },
    "vscode": {
     "languageId": "python"
    }
   },
   "outputs": [],
   "source": []
  },
  {
   "cell_type": "code",
   "execution_count": 17,
   "metadata": {
    "collapsed": false,
    "jupyter": {
     "outputs_hidden": false
    },
    "pycharm": {
     "name": "#%%\n"
    },
    "vscode": {
     "languageId": "python"
    }
   },
   "outputs": [],
   "source": [
    "param_name = [\"TDWI\", \"LAIEM\", \"RGRLAI\", \"SLATB\", \"SPAN\", \"TBASE\", \"KDIFTB\", \"EFFTB\", \"AMAXTB\", \"TMPFTB\", \"TMNFTB\", \"CVL\", \"CVO\", \"CVR\", \"CVS\", \"Q10\", \"RML\",\n",
    "              \"RMO\", \"RMR\", \"RMS\", \"RFSETB\", \"FRTB\", \"FLTB\", \"FOTB\", \"RDRRTB\", \"RDRSTB\", \"CFET\", \"DEPNR\", \"RDI\", \"RRI\", \"RDMCR\"]"
   ]
  },
  {
   "cell_type": "code",
   "execution_count": 18,
   "metadata": {
    "collapsed": false,
    "jupyter": {
     "outputs_hidden": false
    },
    "pycharm": {
     "name": "#%%\n"
    },
    "vscode": {
     "languageId": "python"
    }
   },
   "outputs": [
    {
     "name": "stdout",
     "output_type": "stream",
     "text": [
      "**************\n",
      "\n",
      "TDWI\n",
      "50.0\n",
      "**************\n",
      "\n",
      "LAIEM\n",
      "0.04836\n",
      "**************\n",
      "\n",
      "RGRLAI\n",
      "0.0294\n",
      "**************\n",
      "\n",
      "SLATB\n",
      "[0.0, 0.0026, 0.78, 0.0012, 2.0, 0.0012]\n",
      "**************\n",
      "\n",
      "SPAN\n",
      "33.0\n",
      "**************\n",
      "\n",
      "TBASE\n",
      "10.0\n",
      "**************\n",
      "\n",
      "KDIFTB\n",
      "[0.0, 0.6, 2.0, 0.6]\n",
      "**************\n",
      "\n",
      "EFFTB\n",
      "[0.0, 0.45, 40.0, 0.45]\n",
      "**************\n",
      "\n",
      "AMAXTB\n",
      "[0.0, 70.0, 1.25, 70.0, 1.5, 63.0, 1.75, 49.0, 2.0, 21.0]\n",
      "**************\n",
      "\n",
      "TMPFTB\n",
      "[0.0, 0.01, 9.0, 0.05, 16.0, 0.8, 18.0, 0.94, 20.0, 1.0, 30.0, 1.0, 36.0, 0.95, 42.0, 0.56]\n",
      "**************\n",
      "\n",
      "TMNFTB\n",
      "[5.0, 0.0, 8.0, 1.0]\n",
      "**************\n",
      "\n",
      "CVL\n",
      "0.68\n",
      "**************\n",
      "\n",
      "CVO\n",
      "0.671\n",
      "**************\n",
      "\n",
      "CVR\n",
      "0.69\n",
      "**************\n",
      "\n",
      "CVS\n",
      "0.658\n",
      "**************\n",
      "\n",
      "Q10\n",
      "2.0\n",
      "**************\n",
      "\n",
      "RML\n",
      "0.03\n",
      "**************\n",
      "\n",
      "RMO\n",
      "0.01\n",
      "**************\n",
      "\n",
      "RMR\n",
      "0.015\n",
      "**************\n",
      "\n",
      "RMS\n",
      "0.015\n",
      "**************\n",
      "\n",
      "RFSETB\n",
      "[0.0, 1.0, 1.5, 1.0, 1.75, 0.75, 2.0, 0.25]\n",
      "**************\n",
      "\n",
      "FRTB\n",
      "[0.0, 0.4, 0.1, 0.37, 0.2, 0.34, 0.3, 0.31, 0.4, 0.27, 0.5, 0.23, 0.6, 0.19, 0.7, 0.15, 0.8, 0.1, 0.9, 0.06, 1.0, 0.0, 2.0, 0.0]\n",
      "**************\n",
      "\n",
      "FLTB\n",
      "[0.0, 0.62, 0.33, 0.62, 0.88, 0.15, 0.95, 0.15, 1.1, 0.1, 1.2, 0.0, 2.0, 0.0]\n",
      "**************\n",
      "\n",
      "FOTB\n",
      "[0.95, 0.0, 1.1, 0.5, 1.2, 1.0, 2.0, 1.0]\n",
      "**************\n",
      "\n",
      "RDRRTB\n",
      "[0.0, 0.0, 1.5, 0.0, 1.5001, 0.02, 2.0, 0.02]\n",
      "**************\n",
      "\n",
      "RDRSTB\n",
      "[0.0, 0.0, 1.5, 0.0, 1.5001, 0.02, 2.0, 0.02]\n",
      "**************\n",
      "\n",
      "CFET\n",
      "1.0\n",
      "**************\n",
      "\n",
      "DEPNR\n",
      "4.5\n",
      "**************\n",
      "\n",
      "RDI\n",
      "10.0\n",
      "**************\n",
      "\n",
      "RRI\n",
      "2.2\n",
      "**************\n",
      "\n",
      "RDMCR\n",
      "100.0\n"
     ]
    }
   ],
   "source": [
    "for each in param_name:\n",
    "    try:\n",
    "        print(\"**************\\n\")\n",
    "        print(each)\n",
    "        print(parameters[each])\n",
    "\n",
    "    except KeyError:\n",
    "        print(each)"
   ]
  },
  {
   "cell_type": "markdown",
   "metadata": {
    "pycharm": {
     "name": "#%% md\n"
    }
   },
   "source": [
    "# 3 敏感性分析"
   ]
  },
  {
   "cell_type": "code",
   "execution_count": 2,
   "metadata": {
    "collapsed": false,
    "jupyter": {
     "outputs_hidden": false
    },
    "pycharm": {
     "name": "#%%\n"
    },
    "vscode": {
     "languageId": "python"
    }
   },
   "outputs": [],
   "source": [
    "import pandas as pd\n",
    "import yaml\n",
    "import numpy as np\n",
    "# import pandas as pd\n",
    "from SALib.sample import sobol as sobolSample\n",
    "from SALib.analyze import sobol, fast\n",
    "# import matplotlib.pyplot as plt\n",
    "from IPython.display import display\n",
    "# pd.set_option(\"display.max_rows\", None)\n",
    "pd.set_option(\"display.max_colwidth\", 250)\n",
    "from progressbar import printProgressBar, PrintProgressBar"
   ]
  },
  {
   "cell_type": "markdown",
   "metadata": {
    "pycharm": {
     "name": "#%% md\n"
    }
   },
   "source": [
    "## 3.1敏感性分析设置"
   ]
  },
  {
   "cell_type": "code",
   "execution_count": 5,
   "metadata": {
    "collapsed": false,
    "jupyter": {
     "outputs_hidden": false
    },
    "pycharm": {
     "name": "#%%\n"
    },
    "vscode": {
     "languageId": "python"
    }
   },
   "outputs": [],
   "source": [
    "# Define the target variable\n",
    "# target_variable = [\"TWSO\", \"TWLV\", \"TWST\", \"TAGP\", \"LAImax\"]\n",
    "with open(os.path.join(data_dir, 'yaml', 'params.yaml'), 'r', encoding='utf-8') as f:\n",
    "    problem_yaml = f.read()\n",
    "# For each scalar parameter, determine a sensible interval\n",
    "# problem_yaml = \"\"\"\n",
    "#     num_vars: 5\n",
    "#     names:\n",
    "#     - TSUM1\n",
    "#     - TSUM2\n",
    "#     - SPAN\n",
    "#     - Q10\n",
    "#     - TDWI\n",
    "#     bounds:\n",
    "#     - [500, 800]\n",
    "#     - [1200, 1600]\n",
    "#     - [28, 37]\n",
    "#     - [1.8, 2.2]\n",
    "#     - [0.4, 0.6]\n",
    "# \"\"\"\n",
    "problem = yaml.safe_load(problem_yaml)"
   ]
  },
  {
   "cell_type": "code",
   "execution_count": 5,
   "metadata": {
    "vscode": {
     "languageId": "python"
    },
    "pycharm": {
     "name": "#%%\n"
    }
   },
   "outputs": [],
   "source": []
  },
  {
   "cell_type": "code",
   "execution_count": 6,
   "metadata": {
    "collapsed": false,
    "jupyter": {
     "outputs_hidden": false
    },
    "pycharm": {
     "name": "#%%\n"
    },
    "vscode": {
     "languageId": "python"
    }
   },
   "outputs": [
    {
     "name": "stdout",
     "output_type": "stream",
     "text": [
      "We are going to do 6656 simulations\n"
     ]
    }
   ],
   "source": [
    "\n",
    "calc_second_order = True\n",
    "nsamples = 2 ** 6\n",
    "paramsets = sobolSample.sample(problem, nsamples, calc_second_order=calc_second_order)\n",
    "print(\"We are going to do %s simulations\" % len(paramsets))"
   ]
  },
  {
   "cell_type": "code",
   "execution_count": 6,
   "metadata": {
    "vscode": {
     "languageId": "python"
    },
    "pycharm": {
     "name": "#%%\n"
    }
   },
   "outputs": [],
   "source": []
  },
  {
   "cell_type": "code",
   "execution_count": 6,
   "metadata": {
    "vscode": {
     "languageId": "python"
    },
    "pycharm": {
     "name": "#%%\n"
    }
   },
   "outputs": [],
   "source": []
  },
  {
   "cell_type": "code",
   "execution_count": 7,
   "metadata": {
    "collapsed": false,
    "jupyter": {
     "outputs_hidden": false
    },
    "pycharm": {
     "name": "#%%\n"
    },
    "vscode": {
     "languageId": "python"
    }
   },
   "outputs": [],
   "source": [
    "# from SALib.sample.fast_sampler import sample as efast_sample\n",
    "# nsamples = 75\n",
    "# paramsets = efast_sample(problem, nsamples, 4, seed=666)"
   ]
  },
  {
   "cell_type": "code",
   "execution_count": 8,
   "metadata": {
    "collapsed": false,
    "jupyter": {
     "outputs_hidden": false
    },
    "pycharm": {
     "name": "#%%\n"
    },
    "vscode": {
     "languageId": "python"
    }
   },
   "outputs": [],
   "source": [
    "# 修改作物参数用\n",
    "param_dict = {\n",
    "    \"SLATB\": {\"SLATB1\": [0.00, 1], \"SLATB2\": [0.50, 3], \"SLATB3\": [0.78, 5], \"SLATB4\": [2.00, 7]},\n",
    "    \"KDIFTB\": {\"KDIFTB1\": [0.0, 1], \"KDIFTB2\": [2.0, 3]},\n",
    "    \"EFFTB\": {\"EFFTB1\": [0.0, 1], \"EFFTB2\": [40.0, 3]},\n",
    "    \"AMAXTB\": {\"AMAXTB1\": [0.00, 1], \"AMAXTB2\": [1.25, 3], \"AMAXTB3\": [1.50, 5], \"AMAXTB4\": [1.75, 7], \"AMAXTB5\": [2.00, 9]},\n",
    "    \"TMPFTB\": {\n",
    "        \"TMPFTB1\": [0.00, 1],\n",
    "        \"TMPFTB2\": [4.00, 3],\n",
    "        \"TMPFTB3\": [16.00, 5],\n",
    "        \"TMPFTB4\": [18.00, 7],\n",
    "        \"TMPFTB5\": [20.00, 9],\n",
    "        \"TMPFTB6\": [28.00, 11],\n",
    "        \"TMPFTB7\": [36.00, 13],\n",
    "        \"TMPFTB8\": [42.00, 15]\n",
    "    },\n",
    "    \"TMNFTB\": {\"TMNFTB1\": [8.00, 3]},\n",
    "    \"RFSETB\": {\n",
    "        \"RFSETB1\": [1.75, 5],\n",
    "        \"RFSETB2\": [2.00, 7],\n",
    "    },\n",
    "    \"FRTB\": {\n",
    "        \"FRTB1\": [0.00, 1],\n",
    "        \"FRTB2\": [0.70, 15],\n",
    "        \"FRTB3\": [0.90, 19]\n",
    "    },\n",
    "    \"FLTB\": {\n",
    "        \"FLTB1\": [0.00, 1],\n",
    "        \"FLTB2\": [0.33, 3],\n",
    "        \"FLTB3\": [0.88, 5],\n",
    "        \"FLTB4\": [1.10, 9],\n",
    "    },\n",
    "    \"FOTB\": {\"FOTB1\": [1.25, 7]},\n",
    "    \"RDRRTB\": {\n",
    "        \"RDRRTB1\": [1.5001, 5],\n",
    "        \"RDRRTB2\": [2.00, 7]\n",
    "    },\n",
    "    \"RDRSTB\": {\n",
    "        \"RDRSTB1\": [1.5001, 5],\n",
    "        \"RDRSTB2\": [2.00, 7],\n",
    "    }\n",
    "}"
   ]
  },
  {
   "cell_type": "code",
   "execution_count": null,
   "metadata": {
    "collapsed": false,
    "jupyter": {
     "outputs_hidden": false
    },
    "pycharm": {
     "name": "#%%\n"
    },
    "vscode": {
     "languageId": "python"
    }
   },
   "outputs": [],
   "source": []
  },
  {
   "cell_type": "code",
   "execution_count": 25,
   "metadata": {
    "collapsed": false,
    "jupyter": {
     "outputs_hidden": false
    },
    "pycharm": {
     "name": "#%%\n"
    },
    "vscode": {
     "languageId": "python"
    }
   },
   "outputs": [],
   "source": [
    "\n",
    "# parameters.clear_override()\n",
    "# for name, value in zip(problem[\"names\"], paramsets[0]):\n",
    "#     try:\n",
    "#         parameters.set_override(name, value)\n",
    "#     except PCSEError:\n",
    "#         tmp_n = name[: -1]\n",
    "#         tem_d1 = param_dict[tmp_n]\n",
    "#         tmp_list = tem_d1[name]\n",
    "#         tmp_value = parameters[tmp_n]\n",
    "#         try:\n",
    "#             tmp_value[tmp_list[1] -1], tmp_value[tmp_list[1]] = tmp_list[0], value\n",
    "#         except IndexError:\n",
    "#             tmp_value.extend([tmp_list[0], value])\n",
    "#             print(tmp_value)\n",
    "#         parameters.set_override(tmp_n, tmp_value)\n"
   ]
  },
  {
   "cell_type": "code",
   "execution_count": 26,
   "metadata": {
    "collapsed": false,
    "jupyter": {
     "outputs_hidden": false
    },
    "pycharm": {
     "name": "#%%\n"
    },
    "vscode": {
     "languageId": "python"
    }
   },
   "outputs": [],
   "source": [
    "def deciaml1(num:float, n:int):\n",
    "    return int(num * 10**n) / 10 ** n"
   ]
  },
  {
   "cell_type": "code",
   "execution_count": null,
   "metadata": {
    "collapsed": false,
    "jupyter": {
     "outputs_hidden": false
    },
    "pycharm": {
     "name": "#%%\n"
    },
    "vscode": {
     "languageId": "python"
    }
   },
   "outputs": [],
   "source": []
  },
  {
   "cell_type": "code",
   "execution_count": 27,
   "metadata": {
    "collapsed": false,
    "jupyter": {
     "outputs_hidden": false
    },
    "pycharm": {
     "name": "#%%\n"
    },
    "vscode": {
     "languageId": "python"
    }
   },
   "outputs": [],
   "source": [
    "# parameters = crop_param.initial()\n",
    "# parameters.set_override(\"FLTB\", [0.00, 0.62, 0.33, 0.59, 0.88, 0.16, 0.95, 0.15, 1.10, 0.11, 1.20, 0.00, 2.00, 0.00])\n",
    "# wofostpp = Wofost72_PP(parameters, wdp, agromanagement21)\n",
    "# wofostpp.run_till_terminate()"
   ]
  },
  {
   "cell_type": "code",
   "execution_count": 28,
   "metadata": {
    "collapsed": false,
    "jupyter": {
     "outputs_hidden": false
    },
    "pycharm": {
     "name": "#%%\n"
    },
    "vscode": {
     "languageId": "python"
    }
   },
   "outputs": [],
   "source": [
    "from pcse.models import Wofost72_PP, Wofost72_WLP_FD"
   ]
  },
  {
   "cell_type": "markdown",
   "metadata": {
    "pycharm": {
     "name": "#%% md\n"
    }
   },
   "source": [
    "### 3.1.1设置提取的值 "
   ]
  },
  {
   "cell_type": "code",
   "execution_count": null,
   "metadata": {
    "vscode": {
     "languageId": "python"
    },
    "pycharm": {
     "name": "#%%\n"
    }
   },
   "outputs": [],
   "source": []
  },
  {
   "cell_type": "code",
   "execution_count": 29,
   "metadata": {
    "vscode": {
     "languageId": "python"
    },
    "pycharm": {
     "name": "#%%\n"
    }
   },
   "outputs": [],
   "source": [
    "def parase_model_ouput(model_outplut: list, var_name: list, pid, idx=0):\n",
    "    res_ = list()\n",
    "    for each in var_name:\n",
    "        try:\n",
    "            res_.append(model_outplut[idx][each])\n",
    "        except KeyError as e:\n",
    "            print(\"%s\\n 不存在key=%s\"%(e, each))\n",
    "            res_.append(None)\n",
    "        except IndexError:\n",
    "            res_.append(None)\n",
    "    \n",
    "    res_.append(pid)\n",
    "    return res_"
   ]
  },
  {
   "cell_type": "code",
   "execution_count": 30,
   "metadata": {
    "vscode": {
     "languageId": "python"
    },
    "pycharm": {
     "name": "#%%\n"
    }
   },
   "outputs": [],
   "source": [
    "def create_dict(key_das):\n",
    "    res_dict = dict()\n",
    "    res_dict[\"0\"] = list()\n",
    "    for each in key_das:\n",
    "        dict_key = str(each)\n",
    "        res_dict[dict_key] = list()\n",
    "    return res_dict\n",
    "\n",
    "\n",
    "def get_wofost_output(wofostModel, var_names, template_dict, pid, var_list=None):\n",
    "    wofostModel.run_till_terminate()\n",
    "    r = wofostModel.get_summary_output()\n",
    "    tmp_res = parase_model_ouput(r, var_name=var_names, pid=pid, idx=0)\n",
    "    template_dict[\"0\"].append(tmp_res)\n",
    "    if var_list is None:\n",
    "        pass\n",
    "    else:\n",
    "        days, name_ = var_list\n",
    "        r = wofostModel.get_output()\n",
    "        for ii in days:\n",
    "            # print(ii)\n",
    "            tmp_res = None\n",
    "            tmp_res = parase_model_ouput(r, var_name=name_, idx=ii, pid=pid)\n",
    "            template_dict[str(ii)].append(tmp_res)\n",
    "    \n",
    "    return template_dict\n",
    "\n"
   ]
  },
  {
   "cell_type": "code",
   "execution_count": null,
   "metadata": {
    "vscode": {
     "languageId": "python"
    },
    "pycharm": {
     "name": "#%%\n"
    }
   },
   "outputs": [],
   "source": []
  },
  {
   "cell_type": "code",
   "execution_count": 31,
   "metadata": {
    "vscode": {
     "languageId": "python"
    },
    "pycharm": {
     "name": "#%%\n"
    }
   },
   "outputs": [],
   "source": [
    "final_target = [\"LAIMAX\", \"TAGP\", \"TWSO\", \"DOE\", \"DOA\", \"DOM\"]\n",
    "time_target = [\"LAI\", \"TAGP\"]\n",
    "das = [18, 27, 37, 48, 56, 65, 75, 85, 95]\n",
    "model_start_date = \"2021-06-01\"\n",
    "sowing_date = \"2021-06-11\"\n",
    "base_i = calDays(model_start_date, sowing_date)\n",
    "for idx, value_ in enumerate(das):\n",
    "    das[idx] = base_i + value_"
   ]
  },
  {
   "cell_type": "code",
   "execution_count": 32,
   "metadata": {
    "vscode": {
     "languageId": "python"
    },
    "pycharm": {
     "name": "#%%\n"
    }
   },
   "outputs": [],
   "source": [
    "import time\n",
    "from progressbar import printProgressBar, PrintProgressBar"
   ]
  },
  {
   "cell_type": "code",
   "execution_count": null,
   "metadata": {
    "collapsed": false,
    "jupyter": {
     "outputs_hidden": false
    },
    "pycharm": {
     "name": "#%%\n",
     "is_executing": true
    },
    "vscode": {
     "languageId": "python"
    }
   },
   "outputs": [],
   "source": [
    "nsets = len(paramsets)\n",
    "result_pp = create_dict(das)\n",
    "result_wlp = create_dict(das)\n",
    "pbar = PrintProgressBar(nsets, prefix='Progress:', suffix='Complete', decimals=1, length=50, fill='█', printEnd=\"\\r\")\n",
    "pbar.printProgressBar(0)\n",
    "# printProgressBar(0, nsets, prefix = 'Progress:', suffix = 'Complete', length = 50)\n",
    "for i, paramset in enumerate(paramsets):\n",
    "    parameters.clear_override()\n",
    "    ## 修改敏感参数值\n",
    "    for name, value in zip(problem[\"names\"], paramsets[0]):\n",
    "        try:\n",
    "            parameters.set_override(name, value)\n",
    "        except PCSEError:\n",
    "            tmp_n = name[: -1]\n",
    "            tem_d1 = param_dict[tmp_n]\n",
    "            tmp_list = tem_d1[name]\n",
    "            tmp_value = parameters[tmp_n]\n",
    "            try:\n",
    "                tmp_value[tmp_list[1] -1], tmp_value[tmp_list[1]] = tmp_list[0], value\n",
    "            except IndexError:\n",
    "                tmp_value.extend([tmp_list[0], value])\n",
    "                # print(tmp_value)\n",
    "            parameters.set_override(tmp_n, tmp_value)\n",
    "    ## 模型运算\n",
    "    # 潜在产量数据\n",
    "    tmp_res = None\n",
    "    try:\n",
    "        wofostpp = Wofost72_PP(parameters, wdp, agromanagement21)\n",
    "        wofostwlp = Wofost72_WLP_FD(parameters, wdp, agromanagement21)\n",
    "        result_pp = get_wofost_output(wofostpp, final_target, result_pp, pid=i, var_list=(das, time_target))\n",
    "        result_wlp = get_wofost_output(wofostwlp, final_target, result_wlp, pid=i, var_list=(das, time_target))\n",
    "        \n",
    "    except ZeroDivisionError as e:\n",
    "        print(e)\n",
    "\n",
    "    pbar.printProgressBar(i+1)\n"
   ]
  },
  {
   "cell_type": "code",
   "execution_count": 72,
   "metadata": {
    "vscode": {
     "languageId": "python"
    },
    "pycharm": {
     "name": "#%%\n"
    }
   },
   "outputs": [],
   "source": [
    "col1 = final_target.copy()\n",
    "col2 = time_target.copy()\n",
    "col1.extend([\"id\"])\n",
    "col2.extend([\"id\"])\n",
    "result_pp[\"names1\"] = col1\n",
    "result_pp[\"names2\"] = col2\n",
    "result_wlp[\"names1\"] = col1\n",
    "result_wlp[\"names2\"] = col2"
   ]
  },
  {
   "cell_type": "code",
   "execution_count": 10,
   "metadata": {
    "vscode": {
     "languageId": "python"
    },
    "pycharm": {
     "name": "#%%\n"
    }
   },
   "outputs": [],
   "source": [
    "import pickle\n",
    "pkl_file = \"./data/pickleFile/result_pp_sobol_2021.pkl\"\n",
    "pkl_data = paramsets\n",
    "with open(pkl_file, 'rb') as pf:\n",
    "    result_pp = pickle.load(pf)"
   ]
  },
  {
   "cell_type": "code",
   "execution_count": 13,
   "outputs": [
    {
     "data": {
      "text/plain": "[[0.5424668463934613,\n  2714.9659479432967,\n  1535.2548843158977,\n  datetime.date(2021, 6, 20),\n  datetime.date(2021, 7, 23),\n  datetime.date(2021, 9, 3),\n  0],\n [0.5566733556226992,\n  2778.08015991957,\n  1569.1925801398559,\n  datetime.date(2021, 6, 20),\n  datetime.date(2021, 7, 23),\n  datetime.date(2021, 9, 3),\n  1],\n [0.5424668463934613,\n  2714.9659479432967,\n  1535.2548843158977,\n  datetime.date(2021, 6, 20),\n  datetime.date(2021, 7, 23),\n  datetime.date(2021, 9, 3),\n  2],\n [0.5139604323486922,\n  2585.9920218405546,\n  1462.8404438639427,\n  datetime.date(2021, 6, 20),\n  datetime.date(2021, 7, 23),\n  datetime.date(2021, 9, 3),\n  3],\n [0.5527486481778591,\n  2763.2506217015416,\n  1566.0935047517921,\n  datetime.date(2021, 6, 20),\n  datetime.date(2021, 7, 23),\n  datetime.date(2021, 9, 3),\n  4],\n [0.5398457786443956,\n  2703.2672832128806,\n  1525.9095396847279,\n  datetime.date(2021, 6, 20),\n  datetime.date(2021, 7, 23),\n  datetime.date(2021, 9, 3),\n  5],\n [0.5426656788247142,\n  2715.7608733768857,\n  1535.987362583013,\n  datetime.date(2021, 6, 20),\n  datetime.date(2021, 7, 23),\n  datetime.date(2021, 9, 3),\n  6],\n [0.5424668463934613,\n  2745.9032293574587,\n  1566.1921657300595,\n  datetime.date(2021, 6, 20),\n  datetime.date(2021, 7, 23),\n  datetime.date(2021, 9, 3),\n  7],\n [0.5424668463934613,\n  2687.538697866561,\n  1507.8276342391619,\n  datetime.date(2021, 6, 20),\n  datetime.date(2021, 7, 23),\n  datetime.date(2021, 9, 3),\n  8],\n [0.6563424218259487,\n  3306.8985996446163,\n  1853.3184668167016,\n  datetime.date(2021, 6, 20),\n  datetime.date(2021, 7, 23),\n  datetime.date(2021, 9, 3),\n  9],\n [0.5420450197608184,\n  2710.6586301701363,\n  1532.296860851171,\n  datetime.date(2021, 6, 20),\n  datetime.date(2021, 7, 23),\n  datetime.date(2021, 9, 3),\n  10],\n [0.5482893165749236,\n  2753.1387137938923,\n  1558.458154465099,\n  datetime.date(2021, 6, 20),\n  datetime.date(2021, 7, 23),\n  datetime.date(2021, 9, 3),\n  11],\n [0.4949024082034175,\n  2410.6015436715643,\n  1352.9239138338635,\n  datetime.date(2021, 6, 20),\n  datetime.date(2021, 7, 23),\n  datetime.date(2021, 9, 3),\n  12],\n [0.5338526858578001,\n  2672.730434611057,\n  1512.9320111375448,\n  datetime.date(2021, 6, 20),\n  datetime.date(2021, 7, 23),\n  datetime.date(2021, 9, 3),\n  13],\n [0.5484108340663317,\n  2762.2321461028882,\n  1564.352427132464,\n  datetime.date(2021, 6, 20),\n  datetime.date(2021, 7, 23),\n  datetime.date(2021, 9, 3),\n  14],\n [0.5424668463934613,\n  2737.6028874090125,\n  1557.8918237816135,\n  datetime.date(2021, 6, 20),\n  datetime.date(2021, 7, 23),\n  datetime.date(2021, 9, 3),\n  15],\n [0.5424668463934613,\n  2747.3491048760898,\n  1567.6380412486903,\n  datetime.date(2021, 6, 20),\n  datetime.date(2021, 7, 23),\n  datetime.date(2021, 9, 3),\n  16],\n [0.5424668463934613,\n  2711.267760336904,\n  1531.5566967095049,\n  datetime.date(2021, 6, 20),\n  datetime.date(2021, 7, 23),\n  datetime.date(2021, 9, 3),\n  17],\n [0.5424668463934613,\n  2714.9659479432967,\n  1535.2548843158977,\n  datetime.date(2021, 6, 20),\n  datetime.date(2021, 7, 23),\n  datetime.date(2021, 9, 3),\n  18],\n [0.5424668463934613,\n  2714.9659479432967,\n  1535.2548843158977,\n  datetime.date(2021, 6, 20),\n  datetime.date(2021, 7, 23),\n  datetime.date(2021, 9, 3),\n  19],\n [0.5424668463934613,\n  2714.9659479432967,\n  1535.2548843158977,\n  datetime.date(2021, 6, 20),\n  datetime.date(2021, 7, 23),\n  datetime.date(2021, 9, 3),\n  20],\n [0.5424668463934613,\n  2714.9659479432967,\n  1535.2548843158977,\n  datetime.date(2021, 6, 20),\n  datetime.date(2021, 7, 23),\n  datetime.date(2021, 9, 3),\n  21],\n [0.5425322459188595,\n  2715.6549151619556,\n  1535.7865495912029,\n  datetime.date(2021, 6, 20),\n  datetime.date(2021, 7, 23),\n  datetime.date(2021, 9, 3),\n  22],\n [0.5192141079788657,\n  2557.390735489237,\n  1436.2054186729376,\n  datetime.date(2021, 6, 20),\n  datetime.date(2021, 7, 23),\n  datetime.date(2021, 9, 3),\n  23],\n [0.5351619793362734,\n  2666.4878887935083,\n  1505.5135607913537,\n  datetime.date(2021, 6, 20),\n  datetime.date(2021, 7, 23),\n  datetime.date(2021, 9, 3),\n  24],\n [0.5424668463934613,\n  2714.9659479432967,\n  1535.2548843158977,\n  datetime.date(2021, 6, 20),\n  datetime.date(2021, 7, 23),\n  datetime.date(2021, 9, 3),\n  25],\n [0.5679566430729629,\n  2884.06307398552,\n  1638.9886791006752,\n  datetime.date(2021, 6, 20),\n  datetime.date(2021, 7, 23),\n  datetime.date(2021, 9, 3),\n  26],\n [0.509972967173283,\n  2554.231199414664,\n  1450.1904347987759,\n  datetime.date(2021, 6, 20),\n  datetime.date(2021, 7, 23),\n  datetime.date(2021, 9, 3),\n  27],\n [0.5450991204521437,\n  2919.9021011145624,\n  1728.650156609781,\n  datetime.date(2021, 6, 20),\n  datetime.date(2021, 7, 23),\n  datetime.date(2021, 9, 3),\n  28],\n [0.5492122982336224,\n  2747.135544172414,\n  1552.391085291736,\n  datetime.date(2021, 6, 20),\n  datetime.date(2021, 7, 23),\n  datetime.date(2021, 9, 3),\n  29],\n [0.5730629646370982,\n  2883.773338273199,\n  1617.118467372658,\n  datetime.date(2021, 6, 20),\n  datetime.date(2021, 7, 23),\n  datetime.date(2021, 9, 3),\n  30],\n [0.5429191936175546,\n  2718.3449437629906,\n  1537.307578229308,\n  datetime.date(2021, 6, 20),\n  datetime.date(2021, 7, 23),\n  datetime.date(2021, 9, 3),\n  31],\n [0.543866412621298,\n  2725.432644795799,\n  1541.7986457658913,\n  datetime.date(2021, 6, 20),\n  datetime.date(2021, 7, 23),\n  datetime.date(2021, 9, 3),\n  32],\n [0.5424829600951431,\n  2724.5468544652535,\n  1544.7674489223245,\n  datetime.date(2021, 6, 20),\n  datetime.date(2021, 7, 23),\n  datetime.date(2021, 9, 3),\n  33],\n [0.5424791458004016,\n  2715.0475060995327,\n  1535.303968828102,\n  datetime.date(2021, 6, 20),\n  datetime.date(2021, 7, 23),\n  datetime.date(2021, 9, 3),\n  34],\n [0.5399395992416546,\n  2688.1922469268707,\n  1516.6609174141495,\n  datetime.date(2021, 6, 20),\n  datetime.date(2021, 7, 23),\n  datetime.date(2021, 9, 3),\n  35],\n [0.5424668463934613,\n  2700.659184443009,\n  1520.9481208156099,\n  datetime.date(2021, 6, 20),\n  datetime.date(2021, 7, 23),\n  datetime.date(2021, 9, 3),\n  36],\n [0.5424668463934613,\n  2712.857167127835,\n  1533.1461035004356,\n  datetime.date(2021, 6, 20),\n  datetime.date(2021, 7, 23),\n  datetime.date(2021, 9, 3),\n  37],\n [0.604470582455479,\n  2991.004190968572,\n  1683.6930553148995,\n  datetime.date(2021, 6, 20),\n  datetime.date(2021, 7, 23),\n  datetime.date(2021, 9, 3),\n  38],\n [0.5437477129633899,\n  2723.3109608788227,\n  1539.5051535405582,\n  datetime.date(2021, 6, 20),\n  datetime.date(2021, 7, 23),\n  datetime.date(2021, 9, 3),\n  39],\n [0.5422630200581575,\n  2713.2007810005143,\n  1534.5435180738914,\n  datetime.date(2021, 6, 20),\n  datetime.date(2021, 7, 23),\n  datetime.date(2021, 9, 3),\n  40],\n [0.5424668463934613,\n  2714.9138805494977,\n  1535.2028169220987,\n  datetime.date(2021, 6, 20),\n  datetime.date(2021, 7, 23),\n  datetime.date(2021, 9, 3),\n  41],\n [0.5424668463934613,\n  2714.990727248848,\n  1535.2796636214491,\n  datetime.date(2021, 6, 20),\n  datetime.date(2021, 7, 23),\n  datetime.date(2021, 9, 3),\n  42],\n [0.5424668463934613,\n  2714.1290669887376,\n  1534.4180033613382,\n  datetime.date(2021, 6, 20),\n  datetime.date(2021, 7, 23),\n  datetime.date(2021, 9, 3),\n  43],\n [0.5424668463934613,\n  2714.487835152414,\n  1534.7767715250143,\n  datetime.date(2021, 6, 20),\n  datetime.date(2021, 7, 23),\n  datetime.date(2021, 9, 3),\n  44],\n [0.5424668463934613,\n  2714.9659479432967,\n  1535.2548843158977,\n  datetime.date(2021, 6, 20),\n  datetime.date(2021, 7, 23),\n  datetime.date(2021, 9, 3),\n  45],\n [0.5424668463934613,\n  2714.9659479432967,\n  1535.2548843158977,\n  datetime.date(2021, 6, 20),\n  datetime.date(2021, 7, 23),\n  datetime.date(2021, 9, 3),\n  46],\n [0.5424668463934613,\n  2714.9659479432967,\n  1535.2548843158977,\n  datetime.date(2021, 6, 20),\n  datetime.date(2021, 7, 23),\n  datetime.date(2021, 9, 3),\n  47],\n [0.5424668463934613,\n  2714.9659479432967,\n  1535.2548843158977,\n  datetime.date(2021, 6, 20),\n  datetime.date(2021, 7, 23),\n  datetime.date(2021, 9, 3),\n  48],\n [0.5424668463934613,\n  2714.9659479432967,\n  1535.2548843158977,\n  datetime.date(2021, 6, 20),\n  datetime.date(2021, 7, 23),\n  datetime.date(2021, 9, 3),\n  49],\n [0.5741959177617446,\n  2851.8544584839383,\n  1585.5267385898874,\n  datetime.date(2021, 6, 17),\n  datetime.date(2021, 7, 21),\n  datetime.date(2021, 8, 31),\n  50],\n [0.5424668463934613,\n  2714.9659479432967,\n  1535.2548843158977,\n  datetime.date(2021, 6, 20),\n  datetime.date(2021, 7, 23),\n  datetime.date(2021, 9, 3),\n  51],\n [0.6853657580094141,\n  3619.7313031108583,\n  2082.410787307154,\n  datetime.date(2021, 6, 17),\n  datetime.date(2021, 7, 21),\n  datetime.date(2021, 8, 31),\n  52],\n [0.7024396102922891,\n  3696.329494887762,\n  2123.6346807142,\n  datetime.date(2021, 6, 17),\n  datetime.date(2021, 7, 21),\n  datetime.date(2021, 8, 31),\n  53],\n [0.741199396936585,\n  3870.0142916587715,\n  2220.627140110341,\n  datetime.date(2021, 6, 17),\n  datetime.date(2021, 7, 21),\n  datetime.date(2021, 8, 31),\n  54],\n [0.6895580652708404,\n  3634.5944400057533,\n  2084.042026350281,\n  datetime.date(2021, 6, 17),\n  datetime.date(2021, 7, 21),\n  datetime.date(2021, 8, 31),\n  55],\n [0.7060539226360368,\n  3712.998469919825,\n  2137.010692205942,\n  datetime.date(2021, 6, 17),\n  datetime.date(2021, 7, 21),\n  datetime.date(2021, 8, 31),\n  56],\n [0.7021756553327145,\n  3695.219892129444,\n  2122.6106742164466,\n  datetime.date(2021, 6, 17),\n  datetime.date(2021, 7, 21),\n  datetime.date(2021, 8, 31),\n  57],\n [0.7024396102922891,\n  3654.7091302310255,\n  2082.014316057464,\n  datetime.date(2021, 6, 17),\n  datetime.date(2021, 7, 21),\n  datetime.date(2021, 8, 31),\n  58],\n [0.7024396102922891,\n  3734.6912125813005,\n  2161.9963984077385,\n  datetime.date(2021, 6, 17),\n  datetime.date(2021, 7, 21),\n  datetime.date(2021, 8, 31),\n  59],\n [0.5779723054242903,\n  3029.7892013126066,\n  1755.6927602528635,\n  datetime.date(2021, 6, 17),\n  datetime.date(2021, 7, 21),\n  datetime.date(2021, 8, 31),\n  60],\n [0.7028887396849585,\n  3701.3256480281343,\n  2127.1811974364705,\n  datetime.date(2021, 6, 17),\n  datetime.date(2021, 7, 21),\n  datetime.date(2021, 8, 31),\n  61],\n [0.6939877769243076,\n  3640.993544384102,\n  2089.7924602645253,\n  datetime.date(2021, 6, 17),\n  datetime.date(2021, 7, 21),\n  datetime.date(2021, 8, 31),\n  62],\n [0.7662744259200233,\n  4127.659893689083,\n  2386.809177662078,\n  datetime.date(2021, 6, 17),\n  datetime.date(2021, 7, 21),\n  datetime.date(2021, 8, 31),\n  63],\n [0.7145595701935341,\n  3755.410546120598,\n  2154.669895610535,\n  datetime.date(2021, 6, 17),\n  datetime.date(2021, 7, 21),\n  datetime.date(2021, 8, 31),\n  64],\n [0.694145392314959,\n  3632.009872130976,\n  2085.0185084796185,\n  datetime.date(2021, 6, 17),\n  datetime.date(2021, 7, 21),\n  datetime.date(2021, 8, 31),\n  65],\n [0.7024396102922891,\n  3663.1995668461304,\n  2090.5047526725684,\n  datetime.date(2021, 6, 17),\n  datetime.date(2021, 7, 21),\n  datetime.date(2021, 8, 31),\n  66],\n [0.7024396102922891,\n  3653.5823892425096,\n  2080.887575068948,\n  datetime.date(2021, 6, 17),\n  datetime.date(2021, 7, 21),\n  datetime.date(2021, 8, 31),\n  67],\n [0.7024396102922891,\n  3701.9615134581254,\n  2129.2666992845634,\n  datetime.date(2021, 6, 17),\n  datetime.date(2021, 7, 21),\n  datetime.date(2021, 8, 31),\n  68],\n [0.7024396102922891,\n  3696.329494887762,\n  2123.6346807142,\n  datetime.date(2021, 6, 17),\n  datetime.date(2021, 7, 21),\n  datetime.date(2021, 8, 31),\n  69],\n [0.7024396102922891,\n  3696.329494887762,\n  2123.6346807142,\n  datetime.date(2021, 6, 17),\n  datetime.date(2021, 7, 21),\n  datetime.date(2021, 8, 31),\n  70],\n [0.7024396102922891,\n  3696.329494887762,\n  2123.6346807142,\n  datetime.date(2021, 6, 17),\n  datetime.date(2021, 7, 21),\n  datetime.date(2021, 8, 31),\n  71],\n [0.7024217483160557,\n  3696.2496637222066,\n  2123.5917848394542,\n  datetime.date(2021, 6, 17),\n  datetime.date(2021, 7, 21),\n  datetime.date(2021, 8, 31),\n  72],\n [0.7022773125337181,\n  3695.1342959410176,\n  2122.808991570791,\n  datetime.date(2021, 6, 17),\n  datetime.date(2021, 7, 21),\n  datetime.date(2021, 8, 31),\n  73],\n [0.7360069876327773,\n  3924.6033403406427,\n  2267.2833425169174,\n  datetime.date(2021, 6, 17),\n  datetime.date(2021, 7, 21),\n  datetime.date(2021, 8, 31),\n  74],\n [0.7115258601973634,\n  3760.0221506783937,\n  2162.9046173816823,\n  datetime.date(2021, 6, 17),\n  datetime.date(2021, 7, 21),\n  datetime.date(2021, 8, 31),\n  75],\n [0.7024396102922891,\n  3696.329494887762,\n  2123.6346807142,\n  datetime.date(2021, 6, 17),\n  datetime.date(2021, 7, 21),\n  datetime.date(2021, 8, 31),\n  76],\n [0.6706200226897386,\n  3482.5761841305793,\n  1991.899144311672,\n  datetime.date(2021, 6, 17),\n  datetime.date(2021, 7, 21),\n  datetime.date(2021, 8, 31),\n  77],\n [0.7511749022224123,\n  3934.4770055337376,\n  2248.003337335102,\n  datetime.date(2021, 6, 17),\n  datetime.date(2021, 7, 21),\n  datetime.date(2021, 8, 31),\n  78],\n [0.6994312531929684,\n  3445.150936862056,\n  1885.8417437417743,\n  datetime.date(2021, 6, 17),\n  datetime.date(2021, 7, 21),\n  datetime.date(2021, 8, 31),\n  79],\n [0.6939047217562815,\n  3655.406608004942,\n  2101.84625935416,\n  datetime.date(2021, 6, 17),\n  datetime.date(2021, 7, 21),\n  datetime.date(2021, 8, 31),\n  80],\n [0.6649602600088343,\n  3488.409522145188,\n  2022.6604816942818,\n  datetime.date(2021, 6, 17),\n  datetime.date(2021, 7, 21),\n  datetime.date(2021, 8, 31),\n  81],\n [0.7019588840637951,\n  3691.8987044428372,\n  2120.801723286096,\n  datetime.date(2021, 6, 17),\n  datetime.date(2021, 7, 21),\n  datetime.date(2021, 8, 31),\n  82],\n [0.7006479124283082,\n  3682.2300524451166,\n  2114.6491455046075,\n  datetime.date(2021, 6, 17),\n  datetime.date(2021, 7, 21),\n  datetime.date(2021, 8, 31),\n  83],\n [0.7024162476878505,\n  3680.9994361456093,\n  2108.4046661068223,\n  datetime.date(2021, 6, 17),\n  datetime.date(2021, 7, 21),\n  datetime.date(2021, 8, 31),\n  84],\n [0.702425436583259,\n  3696.229465939221,\n  2123.573204341982,\n  datetime.date(2021, 6, 17),\n  datetime.date(2021, 7, 21),\n  datetime.date(2021, 8, 31),\n  85],\n [0.7058049726719351,\n  3735.276205210007,\n  2151.370965934471,\n  datetime.date(2021, 6, 17),\n  datetime.date(2021, 7, 21),\n  datetime.date(2021, 8, 31),\n  86],\n [0.7024396102922891,\n  3718.3689975809802,\n  2145.6741834074187,\n  datetime.date(2021, 6, 17),\n  datetime.date(2021, 7, 21),\n  datetime.date(2021, 8, 31),\n  87],\n [0.7024396102922891,\n  3699.4506116152243,\n  2126.7557974416627,\n  datetime.date(2021, 6, 17),\n  datetime.date(2021, 7, 21),\n  datetime.date(2021, 8, 31),\n  88],\n [0.6332739523761314,\n  3379.1451118101613,\n  1951.4273647295238,\n  datetime.date(2021, 6, 17),\n  datetime.date(2021, 7, 21),\n  datetime.date(2021, 8, 31),\n  89],\n [0.7008919304800527,\n  3686.0030640741616,\n  2118.38620951657,\n  datetime.date(2021, 6, 17),\n  datetime.date(2021, 7, 21),\n  datetime.date(2021, 8, 31),\n  90],\n [0.7027248123499757,\n  3698.860059045996,\n  2124.6393268937313,\n  datetime.date(2021, 6, 17),\n  datetime.date(2021, 7, 21),\n  datetime.date(2021, 8, 31),\n  91],\n [0.7024396102922891,\n  3696.4065814568867,\n  2123.7117672833247,\n  datetime.date(2021, 6, 17),\n  datetime.date(2021, 7, 21),\n  datetime.date(2021, 8, 31),\n  92],\n [0.7024396102922891,\n  3696.2922235332917,\n  2123.5974093597297,\n  datetime.date(2021, 6, 17),\n  datetime.date(2021, 7, 21),\n  datetime.date(2021, 8, 31),\n  93],\n [0.7024396102922891,\n  3697.7626361316284,\n  2125.0678219580664,\n  datetime.date(2021, 6, 17),\n  datetime.date(2021, 7, 21),\n  datetime.date(2021, 8, 31),\n  94],\n [0.7024396102922891,\n  3697.16275011132,\n  2124.467935937758,\n  datetime.date(2021, 6, 17),\n  datetime.date(2021, 7, 21),\n  datetime.date(2021, 8, 31),\n  95],\n [0.7024396102922891,\n  3696.329494887762,\n  2123.6346807142,\n  datetime.date(2021, 6, 17),\n  datetime.date(2021, 7, 21),\n  datetime.date(2021, 8, 31),\n  96],\n [0.7024396102922891,\n  3696.329494887762,\n  2123.6346807142,\n  datetime.date(2021, 6, 17),\n  datetime.date(2021, 7, 21),\n  datetime.date(2021, 8, 31),\n  97],\n [0.7024396102922891,\n  3696.329494887762,\n  2123.6346807142,\n  datetime.date(2021, 6, 17),\n  datetime.date(2021, 7, 21),\n  datetime.date(2021, 8, 31),\n  98],\n [0.7024396102922891,\n  3696.329494887762,\n  2123.6346807142,\n  datetime.date(2021, 6, 17),\n  datetime.date(2021, 7, 21),\n  datetime.date(2021, 8, 31),\n  99],\n [0.7024396102922891,\n  3696.329494887762,\n  2123.6346807142,\n  datetime.date(2021, 6, 17),\n  datetime.date(2021, 7, 21),\n  datetime.date(2021, 8, 31),\n  100],\n [0.6545274529031583,\n  3492.085790368603,\n  2041.5654974124225,\n  datetime.date(2021, 6, 20),\n  datetime.date(2021, 7, 23),\n  datetime.date(2021, 9, 3),\n  101],\n [0.7024396102922891,\n  3696.329494887762,\n  2123.6346807142,\n  datetime.date(2021, 6, 17),\n  datetime.date(2021, 7, 21),\n  datetime.date(2021, 8, 31),\n  102],\n [0.7024396102922891,\n  3696.329494887762,\n  2123.6346807142,\n  datetime.date(2021, 6, 17),\n  datetime.date(2021, 7, 21),\n  datetime.date(2021, 8, 31),\n  103],\n [0.7582070656730053,\n  3332.1186742942546,\n  1752.121865847882,\n  datetime.date(2021, 6, 16),\n  datetime.date(2021, 7, 20),\n  datetime.date(2021, 8, 29),\n  104],\n [0.7365900611500624,\n  3250.658190993293,\n  1712.3298709006924,\n  datetime.date(2021, 6, 16),\n  datetime.date(2021, 7, 20),\n  datetime.date(2021, 8, 29),\n  105],\n [0.7582070656730053,\n  3332.1186742942546,\n  1752.121865847882,\n  datetime.date(2021, 6, 16),\n  datetime.date(2021, 7, 20),\n  datetime.date(2021, 8, 29),\n  106],\n [0.8172862779627391,\n  3553.583781180938,\n  1864.8993782564755,\n  datetime.date(2021, 6, 16),\n  datetime.date(2021, 7, 20),\n  datetime.date(2021, 8, 29),\n  107],\n [0.7551789465004857,\n  3319.856739816677,\n  1744.7127542747694,\n  datetime.date(2021, 6, 16),\n  datetime.date(2021, 7, 20),\n  datetime.date(2021, 8, 29),\n  108],\n [0.7824720820459437,\n  3433.9556770800255,\n  1833.4606700798468,\n  datetime.date(2021, 6, 16),\n  datetime.date(2021, 7, 20),\n  datetime.date(2021, 8, 29),\n  109],\n [0.7579584641189687,\n  3331.1496105225096,\n  1751.225646916757,\n  datetime.date(2021, 6, 16),\n  datetime.date(2021, 7, 20),\n  datetime.date(2021, 8, 29),\n  110],\n [0.7582070656730053,\n  3411.0886206613486,\n  1831.091812214976,\n  datetime.date(2021, 6, 16),\n  datetime.date(2021, 7, 20),\n  datetime.date(2021, 8, 29),\n  111],\n [0.7582070656730053,\n  3376.1624200289953,\n  1796.1656115826224,\n  datetime.date(2021, 6, 16),\n  datetime.date(2021, 7, 20),\n  datetime.date(2021, 8, 29),\n  112],\n [0.6821474600001904,\n  2989.2678435038383,\n  1577.367728117487,\n  datetime.date(2021, 6, 16),\n  datetime.date(2021, 7, 20),\n  datetime.date(2021, 8, 29),\n  113],\n [0.7521857412670607,\n  3274.802303925273,\n  1712.9596032912712,\n  datetime.date(2021, 6, 16),\n  datetime.date(2021, 7, 20),\n  datetime.date(2021, 8, 29),\n  114],\n [0.7674920010454169,\n  3382.589943160216,\n  1780.8300432844535,\n  datetime.date(2021, 6, 16),\n  datetime.date(2021, 7, 20),\n  datetime.date(2021, 8, 29),\n  115],\n [0.7507018636126057,\n  3289.241717685918,\n  1727.5878544439804,\n  datetime.date(2021, 6, 16),\n  datetime.date(2021, 7, 20),\n  datetime.date(2021, 8, 29),\n  116],\n [0.7745620943998912,\n  3400.126716285666,\n  1784.8567927920742,\n  datetime.date(2021, 6, 16),\n  datetime.date(2021, 7, 20),\n  datetime.date(2021, 8, 29),\n  117],\n [0.762310346534999,\n  3360.009227689937,\n  1768.0587367302705,\n  datetime.date(2021, 6, 16),\n  datetime.date(2021, 7, 20),\n  datetime.date(2021, 8, 29),\n  118],\n [0.7582070656730053,\n  3315.146821228993,\n  1735.1500127826203,\n  datetime.date(2021, 6, 16),\n  datetime.date(2021, 7, 20),\n  datetime.date(2021, 8, 29),\n  119],\n [0.7582070656730053,\n  3317.7223608303148,\n  1737.7255523839424,\n  datetime.date(2021, 6, 16),\n  datetime.date(2021, 7, 20),\n  datetime.date(2021, 8, 29),\n  120],\n [0.7582070656730053,\n  3332.020520010994,\n  1752.0237115646212,\n  datetime.date(2021, 6, 16),\n  datetime.date(2021, 7, 20),\n  datetime.date(2021, 8, 29),\n  121],\n [0.7582070656730053,\n  3332.1186742942546,\n  1752.121865847882,\n  datetime.date(2021, 6, 16),\n  datetime.date(2021, 7, 20),\n  datetime.date(2021, 8, 29),\n  122],\n [0.7582070656730053,\n  3332.1186742942546,\n  1752.121865847882,\n  datetime.date(2021, 6, 16),\n  datetime.date(2021, 7, 20),\n  datetime.date(2021, 8, 29),\n  123],\n [0.7582070656730053,\n  3332.1186742942546,\n  1752.121865847882,\n  datetime.date(2021, 6, 16),\n  datetime.date(2021, 7, 20),\n  datetime.date(2021, 8, 29),\n  124],\n [0.7584609906261921,\n  3333.0740460541224,\n  1752.5886791819566,\n  datetime.date(2021, 6, 16),\n  datetime.date(2021, 7, 20),\n  datetime.date(2021, 8, 29),\n  125],\n [0.7594625952098044,\n  3338.4813911807523,\n  1755.8825521818194,\n  datetime.date(2021, 6, 16),\n  datetime.date(2021, 7, 20),\n  datetime.date(2021, 8, 29),\n  126],\n [0.8553687150703349,\n  3884.9543435192745,\n  2076.5784708826973,\n  datetime.date(2021, 6, 16),\n  datetime.date(2021, 7, 20),\n  datetime.date(2021, 8, 29),\n  127],\n [0.7835273402855683,\n  3489.790648260925,\n  1844.7798733514485,\n  datetime.date(2021, 6, 16),\n  datetime.date(2021, 7, 20),\n  datetime.date(2021, 8, 29),\n  128],\n [0.7582070656730053,\n  3332.1186742942546,\n  1752.121865847882,\n  datetime.date(2021, 6, 16),\n  datetime.date(2021, 7, 20),\n  datetime.date(2021, 8, 29),\n  129],\n [0.7731047457634455,\n  3416.698884197416,\n  1800.9163596715891,\n  datetime.date(2021, 6, 16),\n  datetime.date(2021, 7, 20),\n  datetime.date(2021, 8, 29),\n  130],\n [0.7839002914276778,\n  3439.414478504562,\n  1803.7922645739097,\n  datetime.date(2021, 6, 16),\n  datetime.date(2021, 7, 20),\n  datetime.date(2021, 8, 29),\n  131],\n [0.7558722656131487,\n  3163.742394070454,\n  1594.179967142146,\n  datetime.date(2021, 6, 16),\n  datetime.date(2021, 7, 20),\n  datetime.date(2021, 8, 29),\n  132],\n [0.7607673435963616,\n  3342.490034797643,\n  1757.1759151894862,\n  datetime.date(2021, 6, 16),\n  datetime.date(2021, 7, 20),\n  datetime.date(2021, 8, 29),\n  133],\n [0.7295700129573219,\n  3193.7077953130547,\n  1689.7286703310813,\n  datetime.date(2021, 6, 16),\n  datetime.date(2021, 7, 20),\n  datetime.date(2021, 8, 29),\n  134],\n [0.7596625344943113,\n  3345.2416229596215,\n  1760.4433553303206,\n  datetime.date(2021, 6, 16),\n  datetime.date(2021, 7, 20),\n  datetime.date(2021, 8, 29),\n  135],\n [0.7522599227687967,\n  3291.9765008419363,\n  1727.852756940624,\n  datetime.date(2021, 6, 16),\n  datetime.date(2021, 7, 20),\n  datetime.date(2021, 8, 29),\n  136],\n [0.7581862949862881,\n  3319.4379614633262,\n  1739.5308264641865,\n  datetime.date(2021, 6, 16),\n  datetime.date(2021, 7, 20),\n  datetime.date(2021, 8, 29),\n  137],\n [0.7592167992069407,\n  3338.377742681925,\n  1755.8155577670993,\n  datetime.date(2021, 6, 16),\n  datetime.date(2021, 7, 20),\n  datetime.date(2021, 8, 29),\n  138],\n [0.7627756856002117,\n  3380.0921102707184,\n  1785.693568647741,\n  datetime.date(2021, 6, 16),\n  datetime.date(2021, 7, 20),\n  datetime.date(2021, 8, 29),\n  139],\n [0.7582070656730053,\n  3345.8507639829886,\n  1765.8539555366158,\n  datetime.date(2021, 6, 16),\n  datetime.date(2021, 7, 20),\n  datetime.date(2021, 8, 29),\n  140],\n [0.7582070656730053,\n  3332.700401629231,\n  1752.7035931828582,\n  datetime.date(2021, 6, 16),\n  datetime.date(2021, 7, 20),\n  datetime.date(2021, 8, 29),\n  141],\n [0.6691572330547042,\n  2988.4046998105114,\n  1582.2110504224108,\n  datetime.date(2021, 6, 16),\n  datetime.date(2021, 7, 20),\n  datetime.date(2021, 8, 29),\n  142],\n [0.7565571136678484,\n  3321.879637172994,\n  1747.0266871095682,\n  datetime.date(2021, 6, 16),\n  datetime.date(2021, 7, 20),\n  datetime.date(2021, 8, 29),\n  143],\n [0.7585899362343687,\n  3335.4014882139063,\n  1753.3876491025155,\n  datetime.date(2021, 6, 16),\n  datetime.date(2021, 7, 20),\n  datetime.date(2021, 8, 29),\n  144],\n [0.7582070656730053,\n  3332.1901373218006,\n  1752.1933288754278,\n  datetime.date(2021, 6, 16),\n  datetime.date(2021, 7, 20),\n  datetime.date(2021, 8, 29),\n  145],\n [0.7582070656730053,\n  3332.0547593088695,\n  1752.0579508624967,\n  datetime.date(2021, 6, 16),\n  datetime.date(2021, 7, 20),\n  datetime.date(2021, 8, 29),\n  146],\n [0.7582070656730053,\n  3331.6217585573927,\n  1751.6249501110203,\n  datetime.date(2021, 6, 16),\n  datetime.date(2021, 7, 20),\n  datetime.date(2021, 8, 29),\n  147],\n [0.7582070656730053,\n  3333.0500469638555,\n  1753.0532385174831,\n  datetime.date(2021, 6, 16),\n  datetime.date(2021, 7, 20),\n  datetime.date(2021, 8, 29),\n  148],\n [0.7582070656730053,\n  3332.1186742942546,\n  1752.121865847882,\n  datetime.date(2021, 6, 16),\n  datetime.date(2021, 7, 20),\n  datetime.date(2021, 8, 29),\n  149],\n [0.7582070656730053,\n  3332.1186742942546,\n  1752.121865847882,\n  datetime.date(2021, 6, 16),\n  datetime.date(2021, 7, 20),\n  datetime.date(2021, 8, 29),\n  150],\n [0.7582070656730053,\n  3332.1186742942546,\n  1752.121865847882,\n  datetime.date(2021, 6, 16),\n  datetime.date(2021, 7, 20),\n  datetime.date(2021, 8, 29),\n  151],\n [0.7582070656730053,\n  3332.1186742942546,\n  1752.121865847882,\n  datetime.date(2021, 6, 16),\n  datetime.date(2021, 7, 20),\n  datetime.date(2021, 8, 29),\n  152],\n [0.7582070656730053,\n  3332.1186742942546,\n  1752.121865847882,\n  datetime.date(2021, 6, 16),\n  datetime.date(2021, 7, 20),\n  datetime.date(2021, 8, 29),\n  153],\n [0.760933550499322,\n  3345.939342490873,\n  1761.7956201472552,\n  datetime.date(2021, 6, 17),\n  datetime.date(2021, 7, 21),\n  datetime.date(2021, 8, 31),\n  154],\n [0.7582070656730053,\n  3332.1186742942546,\n  1752.121865847882,\n  datetime.date(2021, 6, 16),\n  datetime.date(2021, 7, 20),\n  datetime.date(2021, 8, 29),\n  155],\n [0.8012118866509665,\n  3607.401812567794,\n  1960.6266030205777,\n  datetime.date(2021, 6, 17),\n  datetime.date(2021, 7, 21),\n  datetime.date(2021, 8, 31),\n  156],\n [0.7785137531209124,\n  3519.9827601473276,\n  1916.4115469245698,\n  datetime.date(2021, 6, 17),\n  datetime.date(2021, 7, 21),\n  datetime.date(2021, 8, 31),\n  157],\n [0.7213683247165128,\n  3294.610367854202,\n  1797.1834977577632,\n  datetime.date(2021, 6, 17),\n  datetime.date(2021, 7, 21),\n  datetime.date(2021, 8, 31),\n  158],\n [0.7817425564643884,\n  3533.2247487247005,\n  1924.5061700618505,\n  datetime.date(2021, 6, 17),\n  datetime.date(2021, 7, 21),\n  datetime.date(2021, 8, 31),\n  159],\n [0.7540885984889498,\n  3419.9208852998354,\n  1837.1943220269843,\n  datetime.date(2021, 6, 17),\n  datetime.date(2021, 7, 21),\n  datetime.date(2021, 8, 31),\n  160],\n [0.778768609380844,\n  3520.9231505735124,\n  1917.2770604622715,\n  datetime.date(2021, 6, 17),\n  datetime.date(2021, 7, 21),\n  datetime.date(2021, 8, 31),\n  161],\n [0.7785137531209124,\n  3446.256026791944,\n  1842.6848135691864,\n  datetime.date(2021, 6, 17),\n  datetime.date(2021, 7, 21),\n  datetime.date(2021, 8, 31),\n  162],\n [0.7785137531209124,\n  3479.623756686933,\n  1876.0525434641759,\n  datetime.date(2021, 6, 17),\n  datetime.date(2021, 7, 21),\n  datetime.date(2021, 8, 31),\n  163],\n [0.8735192166200563,\n  3946.6804723209143,\n  2136.3898976260493,\n  datetime.date(2021, 6, 17),\n  datetime.date(2021, 7, 21),\n  datetime.date(2021, 8, 31),\n  164],\n [0.7862718438433475,\n  3589.6957898352753,\n  1963.532523646354,\n  datetime.date(2021, 6, 17),\n  datetime.date(2021, 7, 21),\n  datetime.date(2021, 8, 31),\n  165],\n [0.7681077832072895,\n  3462.571051848009,\n  1883.1045251667008,\n  datetime.date(2021, 6, 17),\n  datetime.date(2021, 7, 21),\n  datetime.date(2021, 8, 31),\n  166],\n [0.7875165832481041,\n  3571.1169388557555,\n  1946.0896394834806,\n  datetime.date(2021, 6, 17),\n  datetime.date(2021, 7, 21),\n  datetime.date(2021, 8, 31),\n  167],\n [0.7637208242599107,\n  3456.997134984382,\n  1884.835035784172,\n  datetime.date(2021, 6, 17),\n  datetime.date(2021, 7, 21),\n  datetime.date(2021, 8, 31),\n  168],\n [0.7748267310619777,\n  3494.778611113617,\n  1901.5345067086832,\n  datetime.date(2021, 6, 17),\n  datetime.date(2021, 7, 21),\n  datetime.date(2021, 8, 31),\n  169],\n [0.7785137531209124,\n  3534.4325290053566,\n  1930.8613157825987,\n  datetime.date(2021, 6, 17),\n  datetime.date(2021, 7, 21),\n  datetime.date(2021, 8, 31),\n  170],\n [0.7785137531209124,\n  3535.427572198903,\n  1931.8563589761452,\n  datetime.date(2021, 6, 17),\n  datetime.date(2021, 7, 21),\n  datetime.date(2021, 8, 31),\n  171],\n [0.7785137531209124,\n  3520.1023014242146,\n  1916.5310882014571,\n  datetime.date(2021, 6, 17),\n  datetime.date(2021, 7, 21),\n  datetime.date(2021, 8, 31),\n  172],\n [0.7785137531209124,\n  3519.9827601473276,\n  1916.4115469245698,\n  datetime.date(2021, 6, 17),\n  datetime.date(2021, 7, 21),\n  datetime.date(2021, 8, 31),\n  173],\n [0.7785137531209124,\n  3519.9827601473276,\n  1916.4115469245698,\n  datetime.date(2021, 6, 17),\n  datetime.date(2021, 7, 21),\n  datetime.date(2021, 8, 31),\n  174],\n [0.7785137531209124,\n  3519.9827601473276,\n  1916.4115469245698,\n  datetime.date(2021, 6, 17),\n  datetime.date(2021, 7, 21),\n  datetime.date(2021, 8, 31),\n  175],\n [0.778302950511714,\n  3519.166248544914,\n  1915.9971856318825,\n  datetime.date(2021, 6, 17),\n  datetime.date(2021, 7, 21),\n  datetime.date(2021, 8, 31),\n  176],\n [0.7777463929972359,\n  3515.3453423058245,\n  1913.3699822138697,\n  datetime.date(2021, 6, 17),\n  datetime.date(2021, 7, 21),\n  datetime.date(2021, 8, 31),\n  177],\n [0.6951794592751622,\n  3043.6743360581468,\n  1631.371413856076,\n  datetime.date(2021, 6, 17),\n  datetime.date(2021, 7, 21),\n  datetime.date(2021, 8, 31),\n  178],\n [0.7560810269768322,\n  3383.280736011422,\n  1834.6994940954844,\n  datetime.date(2021, 6, 17),\n  datetime.date(2021, 7, 21),\n  datetime.date(2021, 8, 31),\n  179],\n [0.7785137531209124,\n  3519.9827601473276,\n  1916.4115469245698,\n  datetime.date(2021, 6, 17),\n  datetime.date(2021, 7, 21),\n  datetime.date(2021, 8, 31),\n  180],\n [0.7629451578234718,\n  3431.319235713443,\n  1864.3033650431207,\n  datetime.date(2021, 6, 17),\n  datetime.date(2021, 7, 21),\n  datetime.date(2021, 8, 31),\n  181],\n [0.7528644068024498,\n  3409.870672344195,\n  1861.152804833488,\n  datetime.date(2021, 6, 17),\n  datetime.date(2021, 7, 21),\n  datetime.date(2021, 8, 31),\n  182],\n [0.7810809207693076,\n  3722.4484003320526,\n  2108.0570885151446,\n  datetime.date(2021, 6, 17),\n  datetime.date(2021, 7, 21),\n  datetime.date(2021, 8, 31),\n  183],\n [0.7757051870185281,\n  3508.3490041118102,\n  1910.5318329608835,\n  datetime.date(2021, 6, 17),\n  datetime.date(2021, 7, 21),\n  datetime.date(2021, 8, 31),\n  184],\n [0.8112239685881665,\n  3678.569706901948,\n  1989.9627281386865,\n  datetime.date(2021, 6, 17),\n  datetime.date(2021, 7, 21),\n  datetime.date(2021, 8, 31),\n  185],\n [0.776847496064934,\n  3506.842099459096,\n  1908.2530852008824,\n  datetime.date(2021, 6, 17),\n  datetime.date(2021, 7, 21),\n  datetime.date(2021, 8, 31),\n  186],\n [0.7846127786842627,\n  3560.5089615100214,\n  1941.0908017334125,\n  datetime.date(2021, 6, 17),\n  datetime.date(2021, 7, 21),\n  datetime.date(2021, 8, 31),\n  187],\n [0.7785347650941982,\n  3531.738053917912,\n  1928.0809653700173,\n  datetime.date(2021, 6, 17),\n  datetime.date(2021, 7, 21),\n  datetime.date(2021, 8, 31),\n  188],\n [0.7773775960773948,\n  3513.2853121325197,\n  1912.483370117926,\n  datetime.date(2021, 6, 17),\n  datetime.date(2021, 7, 21),\n  datetime.date(2021, 8, 31),\n  189],\n [0.7738324302035123,\n  3474.0950296975134,\n  1884.7264996888764,\n  datetime.date(2021, 6, 17),\n  datetime.date(2021, 7, 21),\n  datetime.date(2021, 8, 31),\n  190],\n [0.7785137531209124,\n  3506.908072071635,\n  1903.3368588488775,\n  datetime.date(2021, 6, 17),\n  datetime.date(2021, 7, 21),\n  datetime.date(2021, 8, 31),\n  191],\n [0.7785137531209124,\n  3519.356903559077,\n  1915.7856903363192,\n  datetime.date(2021, 6, 17),\n  datetime.date(2021, 7, 21),\n  datetime.date(2021, 8, 31),\n  192],\n [0.8820480302248858,\n  3916.576844222928,\n  2116.4731161177815,\n  datetime.date(2021, 6, 17),\n  datetime.date(2021, 7, 21),\n  datetime.date(2021, 8, 31),\n  193],\n [0.7804224781245445,\n  3531.442884467558,\n  1922.196716558794,\n  datetime.date(2021, 6, 17),\n  datetime.date(2021, 7, 21),\n  datetime.date(2021, 8, 31),\n  194],\n [0.7780796602551305,\n  3516.4381861900083,\n  1915.007385074021,\n  datetime.date(2021, 6, 17),\n  datetime.date(2021, 7, 21),\n  datetime.date(2021, 8, 31),\n  195],\n [0.7785137531209124,\n  3519.919585536844,\n  1916.3483723140862,\n  datetime.date(2021, 6, 17),\n  datetime.date(2021, 7, 21),\n  datetime.date(2021, 8, 31),\n  196],\n [0.7785137531209124,\n  3520.040037794699,\n  1916.4688245719412,\n  datetime.date(2021, 6, 17),\n  datetime.date(2021, 7, 21),\n  datetime.date(2021, 8, 31),\n  197],\n [0.7785137531209124,\n  3520.3914066666157,\n  1916.8201934438578,\n  datetime.date(2021, 6, 17),\n  datetime.date(2021, 7, 21),\n  datetime.date(2021, 8, 31),\n  198],\n [0.7785137531209124,\n  3519.190515131958,\n  1915.6193019092009,\n  datetime.date(2021, 6, 17),\n  datetime.date(2021, 7, 21),\n  datetime.date(2021, 8, 31),\n  199],\n [0.7785137531209124,\n  3519.9827601473276,\n  1916.4115469245698,\n  datetime.date(2021, 6, 17),\n  datetime.date(2021, 7, 21),\n  datetime.date(2021, 8, 31),\n  200],\n [0.7785137531209124,\n  3519.9827601473276,\n  1916.4115469245698,\n  datetime.date(2021, 6, 17),\n  datetime.date(2021, 7, 21),\n  datetime.date(2021, 8, 31),\n  201],\n [0.7785137531209124,\n  3519.9827601473276,\n  1916.4115469245698,\n  datetime.date(2021, 6, 17),\n  datetime.date(2021, 7, 21),\n  datetime.date(2021, 8, 31),\n  202],\n [0.7785137531209124,\n  3519.9827601473276,\n  1916.4115469245698,\n  datetime.date(2021, 6, 17),\n  datetime.date(2021, 7, 21),\n  datetime.date(2021, 8, 31),\n  203],\n [0.7785137531209124,\n  3519.9827601473276,\n  1916.4115469245698,\n  datetime.date(2021, 6, 17),\n  datetime.date(2021, 7, 21),\n  datetime.date(2021, 8, 31),\n  204],\n [0.7724879820125108,\n  3488.3554890348946,\n  1893.8001416540937,\n  datetime.date(2021, 6, 16),\n  datetime.date(2021, 7, 20),\n  datetime.date(2021, 8, 29),\n  205],\n [0.7785137531209124,\n  3519.9827601473276,\n  1916.4115469245698,\n  datetime.date(2021, 6, 17),\n  datetime.date(2021, 7, 21),\n  datetime.date(2021, 8, 31),\n  206],\n [0.7785137531209124,\n  3519.9827601473276,\n  1916.4115469245698,\n  datetime.date(2021, 6, 17),\n  datetime.date(2021, 7, 21),\n  datetime.date(2021, 8, 31),\n  207],\n [0.979167919427097,\n  5063.189955469585,\n  2847.6420628950864,\n  datetime.date(2021, 6, 17),\n  datetime.date(2021, 7, 21),\n  datetime.date(2021, 8, 31),\n  208],\n [1.0572414365296663,\n  5384.502477165661,\n  3010.716304304442,\n  datetime.date(2021, 6, 17),\n  datetime.date(2021, 7, 21),\n  datetime.date(2021, 8, 31),\n  209],\n [0.979167919427097,\n  5063.189955469585,\n  2847.6420628950864,\n  datetime.date(2021, 6, 17),\n  datetime.date(2021, 7, 21),\n  datetime.date(2021, 8, 31),\n  210],\n [0.9621803657535144,\n  4991.208382719893,\n  2809.389541185249,\n  datetime.date(2021, 6, 17),\n  datetime.date(2021, 7, 21),\n  datetime.date(2021, 8, 31),\n  211],\n [0.9968513525391864,\n  5141.452171633482,\n  2895.6335293602497,\n  datetime.date(2021, 6, 17),\n  datetime.date(2021, 7, 21),\n  datetime.date(2021, 8, 31),\n  212],\n [0.9607812820129309,\n  4981.381976330416,\n  2782.676871098679,\n  datetime.date(2021, 6, 17),\n  datetime.date(2021, 7, 21),\n  datetime.date(2021, 8, 31),\n  213],\n [0.9824091580049044,\n  5076.274389087084,\n  2859.691068403731,\n  datetime.date(2021, 6, 17),\n  datetime.date(2021, 7, 21),\n  datetime.date(2021, 8, 31),\n  214],\n [0.979167919427097,\n  4651.631843065679,\n  2436.083950491182,\n  datetime.date(2021, 6, 17),\n  datetime.date(2021, 7, 21),\n  datetime.date(2021, 8, 31),\n  215],\n [0.979167919427097,\n  5079.958310272737,\n  2864.41041769824,\n  datetime.date(2021, 6, 17),\n  datetime.date(2021, 7, 21),\n  datetime.date(2021, 8, 31),\n  216],\n [0.8598405302174388,\n  4468.358652163888,\n  2532.8368214602338,\n  datetime.date(2021, 6, 17),\n  datetime.date(2021, 7, 21),\n  datetime.date(2021, 8, 31),\n  217],\n [1.0154756658218942,\n  5423.026663656768,\n  3095.8599302288603,\n  datetime.date(2021, 6, 17),\n  datetime.date(2021, 7, 21),\n  datetime.date(2021, 8, 31),\n  218],\n [0.9882218822519528,\n  5118.299462406463,\n  2880.2464379689422,\n  datetime.date(2021, 6, 17),\n  datetime.date(2021, 7, 21),\n  datetime.date(2021, 8, 31),\n  219],\n [0.9619500816002476,\n  4955.614893728369,\n  2784.0085359911322,\n  datetime.date(2021, 6, 17),\n  datetime.date(2021, 7, 21),\n  datetime.date(2021, 8, 31),\n  220],\n [0.9491766078295774,\n  4926.2640884866905,\n  2778.4081804546645,\n  datetime.date(2021, 6, 17),\n  datetime.date(2021, 7, 21),\n  datetime.date(2021, 8, 31),\n  221],\n [0.9552301041338118,\n  4891.460116253364,\n  2746.6268867566714,\n  datetime.date(2021, 6, 17),\n  datetime.date(2021, 7, 21),\n  datetime.date(2021, 8, 31),\n  222],\n [0.979167919427097,\n  4996.018554513625,\n  2780.4706619391263,\n  datetime.date(2021, 6, 17),\n  datetime.date(2021, 7, 21),\n  datetime.date(2021, 8, 31),\n  223],\n [0.979167919427097,\n  5038.674287652267,\n  2823.126395077769,\n  datetime.date(2021, 6, 17),\n  datetime.date(2021, 7, 21),\n  datetime.date(2021, 8, 31),\n  224],\n [0.979167919427097,\n  5059.6450390002865,\n  2844.097146425789,\n  datetime.date(2021, 6, 17),\n  datetime.date(2021, 7, 21),\n  datetime.date(2021, 8, 31),\n  225],\n [0.979167919427097,\n  5063.189955469585,\n  2847.6420628950864,\n  datetime.date(2021, 6, 17),\n  datetime.date(2021, 7, 21),\n  datetime.date(2021, 8, 31),\n  226],\n [0.979167919427097,\n  5063.189955469585,\n  2847.6420628950864,\n  datetime.date(2021, 6, 17),\n  datetime.date(2021, 7, 21),\n  datetime.date(2021, 8, 31),\n  227],\n [0.979167919427097,\n  5063.189955469585,\n  2847.6420628950864,\n  datetime.date(2021, 6, 17),\n  datetime.date(2021, 7, 21),\n  datetime.date(2021, 8, 31),\n  228],\n [0.9809309543988395,\n  5070.560356188304,\n  2851.410075604061,\n  datetime.date(2021, 6, 17),\n  datetime.date(2021, 7, 21),\n  datetime.date(2021, 8, 31),\n  229],\n [0.9778239938933774,\n  5054.473846552359,\n  2841.9040552034962,\n  datetime.date(2021, 6, 17),\n  datetime.date(2021, 7, 21),\n  datetime.date(2021, 8, 31),\n  230],\n [0.9443183938138222,\n  4849.030656232491,\n  2718.4285896949377,\n  datetime.date(2021, 6, 17),\n  datetime.date(2021, 7, 21),\n  datetime.date(2021, 8, 31),\n  231],\n [0.9782825808439553,\n  5057.47067630823,\n  2844.211688463773,\n  datetime.date(2021, 6, 17),\n  datetime.date(2021, 7, 21),\n  datetime.date(2021, 8, 31),\n  232],\n [0.979167919427097,\n  5063.189955469585,\n  2847.6420628950864,\n  datetime.date(2021, 6, 17),\n  datetime.date(2021, 7, 21),\n  datetime.date(2021, 8, 31),\n  233],\n [1.0666361509507838,\n  5606.409951691254,\n  3171.548898895182,\n  datetime.date(2021, 6, 17),\n  datetime.date(2021, 7, 21),\n  datetime.date(2021, 8, 31),\n  234],\n [0.8872757176957592,\n  4634.531635732622,\n  2629.950687752157,\n  datetime.date(2021, 6, 17),\n  datetime.date(2021, 7, 21),\n  datetime.date(2021, 8, 31),\n  235],\n [0.9778426232786708,\n  4958.693484911941,\n  2748.9255761872005,\n  datetime.date(2021, 6, 17),\n  datetime.date(2021, 7, 21),\n  datetime.date(2021, 8, 31),\n  236],\n [0.9983523423036742,\n  5148.303465163572,\n  2890.7947705703023,\n  datetime.date(2021, 6, 17),\n  datetime.date(2021, 7, 21),\n  datetime.date(2021, 8, 31),\n  237],\n [0.903697435477247,\n  4669.529500397678,\n  2660.9220094287716,\n  datetime.date(2021, 6, 17),\n  datetime.date(2021, 7, 21),\n  datetime.date(2021, 8, 31),\n  238],\n [0.9739369947604313,\n  5018.017261291395,\n  2819.0768081543074,\n  datetime.date(2021, 6, 17),\n  datetime.date(2021, 7, 21),\n  datetime.date(2021, 8, 31),\n  239],\n [0.9927671167287434,\n  5163.964664912668,\n  2910.499234043268,\n  datetime.date(2021, 6, 17),\n  datetime.date(2021, 7, 21),\n  datetime.date(2021, 8, 31),\n  240],\n [0.9791384369777107,\n  5045.048575331715,\n  2829.625251842479,\n  datetime.date(2021, 6, 17),\n  datetime.date(2021, 7, 21),\n  datetime.date(2021, 8, 31),\n  241],\n [0.9795107656872295,\n  5065.432004744348,\n  2848.9828142407246,\n  datetime.date(2021, 6, 17),\n  datetime.date(2021, 7, 21),\n  datetime.date(2021, 8, 31),\n  242],\n [0.9811217125428602,\n  5084.730839022451,\n  2862.8278602292958,\n  datetime.date(2021, 6, 17),\n  datetime.date(2021, 7, 21),\n  datetime.date(2021, 8, 31),\n  243],\n [0.979167919427097,\n  5110.616543698203,\n  2895.068651123705,\n  datetime.date(2021, 6, 17),\n  datetime.date(2021, 7, 21),\n  datetime.date(2021, 8, 31),\n  244],\n [0.979167919427097,\n  5061.965422337814,\n  2846.417529763316,\n  datetime.date(2021, 6, 17),\n  datetime.date(2021, 7, 21),\n  datetime.date(2021, 8, 31),\n  245],\n [1.0283788202168023,\n  5268.616197578256,\n  2952.5945961999255,\n  datetime.date(2021, 6, 17),\n  datetime.date(2021, 7, 21),\n  datetime.date(2021, 8, 31),\n  246],\n [0.979765450179173,\n  5066.956897218027,\n  2849.562514164004,\n  datetime.date(2021, 6, 17),\n  datetime.date(2021, 7, 21),\n  datetime.date(2021, 8, 31),\n  247],\n [0.9786976755099561,\n  5059.23358547846,\n  2846.06509894014,\n  datetime.date(2021, 6, 17),\n  datetime.date(2021, 7, 21),\n  datetime.date(2021, 8, 31),\n  248],\n [0.979167919427097,\n  5062.814715396677,\n  2847.2668228221783,\n  datetime.date(2021, 6, 17),\n  datetime.date(2021, 7, 21),\n  datetime.date(2021, 8, 31),\n  249],\n [0.979167919427097,\n  5063.248874162002,\n  2847.7009815875035,\n  datetime.date(2021, 6, 17),\n  datetime.date(2021, 7, 21),\n  datetime.date(2021, 8, 31),\n  250],\n [0.979167919427097,\n  5065.063192698817,\n  2849.515300124319,\n  datetime.date(2021, 6, 17),\n  datetime.date(2021, 7, 21),\n  datetime.date(2021, 8, 31),\n  251],\n [0.979167919427097,\n  5062.662443044326,\n  2847.114550469828,\n  datetime.date(2021, 6, 17),\n  datetime.date(2021, 7, 21),\n  datetime.date(2021, 8, 31),\n  252],\n [0.979167919427097,\n  5063.189955469585,\n  2847.6420628950864,\n  datetime.date(2021, 6, 17),\n  datetime.date(2021, 7, 21),\n  datetime.date(2021, 8, 31),\n  253],\n [0.979167919427097,\n  5063.189955469585,\n  2847.6420628950864,\n  datetime.date(2021, 6, 17),\n  datetime.date(2021, 7, 21),\n  datetime.date(2021, 8, 31),\n  254],\n [0.979167919427097,\n  5063.189955469585,\n  2847.6420628950864,\n  datetime.date(2021, 6, 17),\n  datetime.date(2021, 7, 21),\n  datetime.date(2021, 8, 31),\n  255],\n [0.979167919427097,\n  5063.189955469585,\n  2847.6420628950864,\n  datetime.date(2021, 6, 17),\n  datetime.date(2021, 7, 21),\n  datetime.date(2021, 8, 31),\n  256],\n [0.979167919427097,\n  5063.189955469585,\n  2847.6420628950864,\n  datetime.date(2021, 6, 17),\n  datetime.date(2021, 7, 21),\n  datetime.date(2021, 8, 31),\n  257],\n [0.979167919427097,\n  5063.189955469585,\n  2847.6420628950864,\n  datetime.date(2021, 6, 17),\n  datetime.date(2021, 7, 21),\n  datetime.date(2021, 8, 31),\n  258],\n [0.979167919427097,\n  5063.189955469585,\n  2847.6420628950864,\n  datetime.date(2021, 6, 17),\n  datetime.date(2021, 7, 21),\n  datetime.date(2021, 8, 31),\n  259],\n [0.7887372662266631,\n  3768.350631598688,\n  2005.9092256790932,\n  datetime.date(2021, 6, 17),\n  datetime.date(2021, 7, 21),\n  datetime.date(2021, 8, 31),\n  260],\n [0.8555844035781847,\n  4033.7950379730014,\n  2134.6731525109126,\n  datetime.date(2021, 6, 17),\n  datetime.date(2021, 7, 21),\n  datetime.date(2021, 8, 31),\n  261],\n [0.870383916559012,\n  4092.164917938896,\n  2164.0951426119404,\n  datetime.date(2021, 6, 17),\n  datetime.date(2021, 7, 21),\n  datetime.date(2021, 8, 31),\n  262],\n [0.8413027397397714,\n  3973.5450580739343,\n  2098.618953835209,\n  datetime.date(2021, 6, 17),\n  datetime.date(2021, 7, 21),\n  datetime.date(2021, 8, 31),\n  263],\n [0.8711709678388889,\n  4103.922134846736,\n  2191.0017932669894,\n  datetime.date(2021, 6, 17),\n  datetime.date(2021, 7, 21),\n  datetime.date(2021, 8, 31),\n  264],\n [0.8527962850659467,\n  4021.839352281929,\n  2123.587454676139,\n  datetime.date(2021, 6, 17),\n  datetime.date(2021, 7, 21),\n  datetime.date(2021, 8, 31),\n  265],\n [0.8555844035781847,\n  4416.659888682789,\n  2517.5380032206995,\n  datetime.date(2021, 6, 17),\n  datetime.date(2021, 7, 21),\n  datetime.date(2021, 8, 31),\n  266],\n [0.8555844035781847,\n  4021.5475646051977,\n  2122.425679143109,\n  datetime.date(2021, 6, 17),\n  datetime.date(2021, 7, 21),\n  datetime.date(2021, 8, 31),\n  267],\n [0.9608471860719053,\n  4515.148263896697,\n  2374.193745051411,\n  datetime.date(2021, 6, 17),\n  datetime.date(2021, 7, 21),\n  datetime.date(2021, 8, 31),\n  268],\n [0.8239280859125461,\n  3743.3840111747986,\n  1941.9908774606888,\n  datetime.date(2021, 6, 17),\n  datetime.date(2021, 7, 21),\n  datetime.date(2021, 8, 31),\n  269],\n [0.8481957902999745,\n  3991.6979377022635,\n  2110.8569069805994,\n  datetime.date(2021, 6, 17),\n  datetime.date(2021, 7, 21),\n  datetime.date(2021, 8, 31),\n  270],\n [0.8696347288969257,\n  4116.954034200786,\n  2182.0191035199173,\n  datetime.date(2021, 6, 17),\n  datetime.date(2021, 7, 21),\n  datetime.date(2021, 8, 31),\n  271],\n [0.8816019122772735,\n  4147.284809030887,\n  2189.154680854006,\n  datetime.date(2021, 6, 17),\n  datetime.date(2021, 7, 21),\n  datetime.date(2021, 8, 31),\n  272],\n [0.8769714582010845,\n  4190.381837673103,\n  2227.0270784463582,\n  datetime.date(2021, 6, 17),\n  datetime.date(2021, 7, 21),\n  datetime.date(2021, 8, 31),\n  273],\n [0.8555844035781847,\n  4095.017266172529,\n  2195.8953807104403,\n  datetime.date(2021, 6, 17),\n  datetime.date(2021, 7, 21),\n  datetime.date(2021, 8, 31),\n  274],\n [0.8555844035781847,\n  4052.1482241851736,\n  2153.026338723085,\n  datetime.date(2021, 6, 17),\n  datetime.date(2021, 7, 21),\n  datetime.date(2021, 8, 31),\n  275],\n [0.8555844035781847,\n  4036.044384134258,\n  2136.9224986721692,\n  datetime.date(2021, 6, 17),\n  datetime.date(2021, 7, 21),\n  datetime.date(2021, 8, 31),\n  276],\n [0.8555844035781847,\n  4033.7950379730014,\n  2134.6731525109126,\n  datetime.date(2021, 6, 17),\n  datetime.date(2021, 7, 21),\n  datetime.date(2021, 8, 31),\n  277],\n [0.8555844035781847,\n  4033.7950379730014,\n  2134.6731525109126,\n  datetime.date(2021, 6, 17),\n  datetime.date(2021, 7, 21),\n  datetime.date(2021, 8, 31),\n  278],\n [0.8555844035781847,\n  4033.7950379730014,\n  2134.6731525109126,\n  datetime.date(2021, 6, 17),\n  datetime.date(2021, 7, 21),\n  datetime.date(2021, 8, 31),\n  279],\n [0.8542193554534385,\n  4028.434753063202,\n  2132.084754477205,\n  datetime.date(2021, 6, 17),\n  datetime.date(2021, 7, 21),\n  datetime.date(2021, 8, 31),\n  280],\n [0.8567521436251022,\n  4040.9628356915027,\n  2139.2369149097854,\n  datetime.date(2021, 6, 17),\n  datetime.date(2021, 7, 21),\n  datetime.date(2021, 8, 31),\n  281],\n [0.8857160690834031,\n  4215.038337174373,\n  2241.712824975603,\n  datetime.date(2021, 6, 17),\n  datetime.date(2021, 7, 21),\n  datetime.date(2021, 8, 31),\n  282],\n [0.8563635306490325,\n  4038.810117015182,\n  2137.6511743709357,\n  datetime.date(2021, 6, 17),\n  datetime.date(2021, 7, 21),\n  datetime.date(2021, 8, 31),\n  283],\n [0.8555844035781847,\n  4033.7950379730014,\n  2134.6731525109126,\n  datetime.date(2021, 6, 17),\n  datetime.date(2021, 7, 21),\n  datetime.date(2021, 8, 31),\n  284],\n [0.7898348055133101,\n  3643.9557035521666,\n  1909.7975474097027,\n  datetime.date(2021, 6, 17),\n  datetime.date(2021, 7, 21),\n  datetime.date(2021, 8, 31),\n  285],\n [0.9394801385397292,\n  4397.925720741032,\n  2308.455877436868,\n  datetime.date(2021, 6, 17),\n  datetime.date(2021, 7, 21),\n  datetime.date(2021, 8, 31),\n  286],\n [0.8567157996305815,\n  4114.539488859225,\n  2210.4626219392294,\n  datetime.date(2021, 6, 17),\n  datetime.date(2021, 7, 21),\n  datetime.date(2021, 8, 31),\n  287],\n [0.8412617350967789,\n  3972.892693591244,\n  2105.1205681055994,\n  datetime.date(2021, 6, 17),\n  datetime.date(2021, 7, 21),\n  datetime.date(2021, 8, 31),\n  288],\n [0.9223192630055762,\n  4374.990769362505,\n  2289.2837914915763,\n  datetime.date(2021, 6, 17),\n  datetime.date(2021, 7, 21),\n  datetime.date(2021, 8, 31),\n  289],\n [0.8595766429047158,\n  4069.1288691213294,\n  2157.1931808390755,\n  datetime.date(2021, 6, 17),\n  datetime.date(2021, 7, 21),\n  datetime.date(2021, 8, 31),\n  290],\n [0.8442308091345154,\n  3954.412686361949,\n  2086.7704566706952,\n  datetime.date(2021, 6, 17),\n  datetime.date(2021, 7, 21),\n  datetime.date(2021, 8, 31),\n  291],\n [0.85560886379523,\n  4047.4598276220795,\n  2148.2342752356453,\n  datetime.date(2021, 6, 17),\n  datetime.date(2021, 7, 21),\n  datetime.date(2021, 8, 31),\n  292],\n [0.8553012729968178,\n  4031.970054295154,\n  2133.5942730008637,\n  datetime.date(2021, 6, 17),\n  datetime.date(2021, 7, 21),\n  datetime.date(2021, 8, 31),\n  293],\n [0.8539807284120593,\n  4016.3020107261304,\n  2122.3767315337427,\n  datetime.date(2021, 6, 17),\n  datetime.date(2021, 7, 21),\n  datetime.date(2021, 8, 31),\n  294],\n [0.8555844035781847,\n  3998.6267441533864,\n  2099.5048586912976,\n  datetime.date(2021, 6, 17),\n  datetime.date(2021, 7, 21),\n  datetime.date(2021, 8, 31),\n  295],\n [0.8555844035781847,\n  4034.670847119022,\n  2135.548961656933,\n  datetime.date(2021, 6, 17),\n  datetime.date(2021, 7, 21),\n  datetime.date(2021, 8, 31),\n  296],\n [0.8144390751992843,\n  3869.5620227874583,\n  2054.7452769016336,\n  datetime.date(2021, 6, 17),\n  datetime.date(2021, 7, 21),\n  datetime.date(2021, 8, 31),\n  297],\n [0.8551480602244386,\n  4030.9732028919652,\n  2133.2338965569907,\n  datetime.date(2021, 6, 17),\n  datetime.date(2021, 7, 21),\n  datetime.date(2021, 8, 31),\n  298],\n [0.8559262400193303,\n  4036.87817034796,\n  2135.9824955873087,\n  datetime.date(2021, 6, 17),\n  datetime.date(2021, 7, 21),\n  datetime.date(2021, 8, 31),\n  299],\n [0.8555844035781847,\n  4034.081218961149,\n  2134.95933349906,\n  datetime.date(2021, 6, 17),\n  datetime.date(2021, 7, 21),\n  datetime.date(2021, 8, 31),\n  300],\n [0.8555844035781847,\n  4033.749585224156,\n  2134.627699762067,\n  datetime.date(2021, 6, 17),\n  datetime.date(2021, 7, 21),\n  datetime.date(2021, 8, 31),\n  301],\n [0.8555844035781847,\n  4032.4166099413646,\n  2133.294724479276,\n  datetime.date(2021, 6, 17),\n  datetime.date(2021, 7, 21),\n  datetime.date(2021, 8, 31),\n  302],\n [0.8555844035781847,\n  4034.1759808403376,\n  2135.054095378249,\n  datetime.date(2021, 6, 17),\n  datetime.date(2021, 7, 21),\n  datetime.date(2021, 8, 31),\n  303],\n [0.8555844035781847,\n  4033.7950379730014,\n  2134.6731525109126,\n  datetime.date(2021, 6, 17),\n  datetime.date(2021, 7, 21),\n  datetime.date(2021, 8, 31),\n  304],\n [0.8555844035781847,\n  4033.7950379730014,\n  2134.6731525109126,\n  datetime.date(2021, 6, 17),\n  datetime.date(2021, 7, 21),\n  datetime.date(2021, 8, 31),\n  305],\n [0.8555844035781847,\n  4033.7950379730014,\n  2134.6731525109126,\n  datetime.date(2021, 6, 17),\n  datetime.date(2021, 7, 21),\n  datetime.date(2021, 8, 31),\n  306],\n [0.8555844035781847,\n  4033.7950379730014,\n  2134.6731525109126,\n  datetime.date(2021, 6, 17),\n  datetime.date(2021, 7, 21),\n  datetime.date(2021, 8, 31),\n  307],\n [0.8555844035781847,\n  4033.7950379730014,\n  2134.6731525109126,\n  datetime.date(2021, 6, 17),\n  datetime.date(2021, 7, 21),\n  datetime.date(2021, 8, 31),\n  308],\n [0.8555844035781847,\n  4033.7950379730014,\n  2134.6731525109126,\n  datetime.date(2021, 6, 17),\n  datetime.date(2021, 7, 21),\n  datetime.date(2021, 8, 31),\n  309],\n [0.8555844035781847,\n  4033.7950379730014,\n  2134.6731525109126,\n  datetime.date(2021, 6, 17),\n  datetime.date(2021, 7, 21),\n  datetime.date(2021, 8, 31),\n  310],\n [0.8555844035781847,\n  4033.7950379730014,\n  2134.6731525109126,\n  datetime.date(2021, 6, 17),\n  datetime.date(2021, 7, 21),\n  datetime.date(2021, 8, 31),\n  311],\n [0.8291110047631093,\n  3459.8854576187823,\n  1732.2300006923317,\n  datetime.date(2021, 6, 17),\n  datetime.date(2021, 7, 21),\n  datetime.date(2021, 8, 31),\n  312],\n [0.7459661415837344,\n  3165.1859913582343,\n  1596.4763053675433,\n  datetime.date(2021, 6, 17),\n  datetime.date(2021, 7, 21),\n  datetime.date(2021, 8, 31),\n  313],\n [0.8291110047631093,\n  3459.8854576187823,\n  1732.2300006923317,\n  datetime.date(2021, 6, 17),\n  datetime.date(2021, 7, 21),\n  datetime.date(2021, 8, 31),\n  314],\n [0.8615027827438828,\n  3573.1986618873107,\n  1786.8025489019897,\n  datetime.date(2021, 6, 17),\n  datetime.date(2021, 7, 21),\n  datetime.date(2021, 8, 31),\n  315],\n [0.8630424973182662,\n  3587.6037892159666,\n  1807.4076986970406,\n  datetime.date(2021, 6, 17),\n  datetime.date(2021, 7, 21),\n  datetime.date(2021, 8, 31),\n  316],\n [0.8195384166717403,\n  3420.727637958361,\n  1700.8774922624316,\n  datetime.date(2021, 6, 17),\n  datetime.date(2021, 7, 21),\n  datetime.date(2021, 8, 31),\n  317],\n [0.8265434223871629,\n  3450.005757199777,\n  1723.0736513556913,\n  datetime.date(2021, 6, 17),\n  datetime.date(2021, 7, 21),\n  datetime.date(2021, 8, 31),\n  318],\n [0.8291110047631093,\n  3751.2892416648483,\n  2023.6337847383977,\n  datetime.date(2021, 6, 17),\n  datetime.date(2021, 7, 21),\n  datetime.date(2021, 8, 31),\n  319],\n [0.8291110047631093,\n  3407.9764146217426,\n  1680.3209576952922,\n  datetime.date(2021, 6, 17),\n  datetime.date(2021, 7, 21),\n  datetime.date(2021, 8, 31),\n  320],\n [0.9082885569468256,\n  3787.5801817116453,\n  1887.4046761227848,\n  datetime.date(2021, 6, 17),\n  datetime.date(2021, 7, 21),\n  datetime.date(2021, 8, 31),\n  321],\n [0.8136227954249291,\n  3324.584426983016,\n  1644.3759633007721,\n  datetime.date(2021, 6, 17),\n  datetime.date(2021, 7, 21),\n  datetime.date(2021, 8, 31),\n  322],\n [0.8161966968898957,\n  3393.3047731156394,\n  1696.1121506681923,\n  datetime.date(2021, 6, 17),\n  datetime.date(2021, 7, 21),\n  datetime.date(2021, 8, 31),\n  323],\n [0.8640292009049765,\n  3648.2768627783635,\n  1835.0962621410108,\n  datetime.date(2021, 6, 17),\n  datetime.date(2021, 7, 21),\n  datetime.date(2021, 8, 31),\n  324],\n [0.8513904401336811,\n  3547.6727048146604,\n  1771.9352247211516,\n  datetime.date(2021, 6, 17),\n  datetime.date(2021, 7, 21),\n  datetime.date(2021, 8, 31),\n  325],\n [0.8410637419377149,\n  3543.4939266410124,\n  1779.8839688894009,\n  datetime.date(2021, 6, 17),\n  datetime.date(2021, 7, 21),\n  datetime.date(2021, 8, 31),\n  326],\n [0.8291110047631093,\n  3468.077307012276,\n  1740.4218500858253,\n  datetime.date(2021, 6, 17),\n  datetime.date(2021, 7, 21),\n  datetime.date(2021, 8, 31),\n  327],\n [0.8291110047631093,\n  3455.2984023952936,\n  1727.6429454688432,\n  datetime.date(2021, 6, 17),\n  datetime.date(2021, 7, 21),\n  datetime.date(2021, 8, 31),\n  328],\n [0.8291110047631093,\n  3462.784463324023,\n  1735.1290063975725,\n  datetime.date(2021, 6, 17),\n  datetime.date(2021, 7, 21),\n  datetime.date(2021, 8, 31),\n  329],\n [0.8291110047631093,\n  3459.8854576187823,\n  1732.2300006923317,\n  datetime.date(2021, 6, 17),\n  datetime.date(2021, 7, 21),\n  datetime.date(2021, 8, 31),\n  330],\n [0.8291110047631093,\n  3459.8854576187823,\n  1732.2300006923317,\n  datetime.date(2021, 6, 17),\n  datetime.date(2021, 7, 21),\n  datetime.date(2021, 8, 31),\n  331],\n [0.8291110047631093,\n  3459.8854576187823,\n  1732.2300006923317,\n  datetime.date(2021, 6, 17),\n  datetime.date(2021, 7, 21),\n  datetime.date(2021, 8, 31),\n  332],\n [0.8282123073388034,\n  3456.753821612743,\n  1730.8001702175588,\n  datetime.date(2021, 6, 17),\n  datetime.date(2021, 7, 21),\n  datetime.date(2021, 8, 31),\n  333],\n [0.8293195039941064,\n  3461.012313349118,\n  1732.9181946704568,\n  datetime.date(2021, 6, 17),\n  datetime.date(2021, 7, 21),\n  datetime.date(2021, 8, 31),\n  334],\n [0.8217507054276095,\n  3419.8917671008494,\n  1709.6284175456856,\n  datetime.date(2021, 6, 17),\n  datetime.date(2021, 7, 21),\n  datetime.date(2021, 8, 31),\n  335],\n [0.8200792899777625,\n  3405.7759049354463,\n  1701.2462910576462,\n  datetime.date(2021, 6, 17),\n  datetime.date(2021, 7, 21),\n  datetime.date(2021, 8, 31),\n  336],\n [0.8291110047631093,\n  3459.8854576187823,\n  1732.2300006923317,\n  datetime.date(2021, 6, 17),\n  datetime.date(2021, 7, 21),\n  datetime.date(2021, 8, 31),\n  337],\n [0.7341702914778809,\n  2950.758419832963,\n  1451.404735768389,\n  datetime.date(2021, 6, 17),\n  datetime.date(2021, 7, 21),\n  datetime.date(2021, 8, 31),\n  338],\n [0.965316998288709,\n  3988.383112403529,\n  1968.4492026690841,\n  datetime.date(2021, 6, 17),\n  datetime.date(2021, 7, 21),\n  datetime.date(2021, 8, 31),\n  339],\n [0.8300739916420807,\n  3531.3328119115863,\n  1799.1544954971814,\n  datetime.date(2021, 6, 17),\n  datetime.date(2021, 7, 21),\n  datetime.date(2021, 8, 31),\n  340],\n [0.799664280631409,\n  3347.217973995417,\n  1680.4302039898537,\n  datetime.date(2021, 6, 17),\n  datetime.date(2021, 7, 21),\n  datetime.date(2021, 8, 31),\n  341],\n [0.874512199651706,\n  3673.2663516137764,\n  1821.6218987218085,\n  datetime.date(2021, 6, 17),\n  datetime.date(2021, 7, 21),\n  datetime.date(2021, 8, 31),\n  342],\n [0.8312057251079137,\n  3477.5305251614254,\n  1743.000888593968,\n  datetime.date(2021, 6, 17),\n  datetime.date(2021, 7, 21),\n  datetime.date(2021, 8, 31),\n  343],\n [0.8220986819261491,\n  3413.6716553241663,\n  1705.2019262178405,\n  datetime.date(2021, 6, 17),\n  datetime.date(2021, 7, 21),\n  datetime.date(2021, 8, 31),\n  344],\n [0.8291143412126628,\n  3461.8134438519983,\n  1734.1428709295674,\n  datetime.date(2021, 6, 17),\n  datetime.date(2021, 7, 21),\n  datetime.date(2021, 8, 31),\n  345],\n [0.8286862379188933,\n  3457.3112903020756,\n  1730.7526676424588,\n  datetime.date(2021, 6, 17),\n  datetime.date(2021, 7, 21),\n  datetime.date(2021, 8, 31),\n  346],\n [0.827506210392253,\n  3443.068435119618,\n  1720.652305370983,\n  datetime.date(2021, 6, 17),\n  datetime.date(2021, 7, 21),\n  datetime.date(2021, 8, 31),\n  347],\n [0.8291110047631093,\n  3446.359993385528,\n  1718.7045364590776,\n  datetime.date(2021, 6, 17),\n  datetime.date(2021, 7, 21),\n  datetime.date(2021, 8, 31),\n  348],\n [0.8291110047631093,\n  3462.168531939191,\n  1734.5130750127403,\n  datetime.date(2021, 6, 17),\n  datetime.date(2021, 7, 21),\n  datetime.date(2021, 8, 31),\n  349],\n [0.7817392046302843,\n  3291.17487063954,\n  1654.2551773685352,\n  datetime.date(2021, 6, 17),\n  datetime.date(2021, 7, 21),\n  datetime.date(2021, 8, 31),\n  350],\n [0.829333709397782,\n  3461.2877149925907,\n  1732.8956414992344,\n  datetime.date(2021, 6, 17),\n  datetime.date(2021, 7, 21),\n  datetime.date(2021, 8, 31),\n  351],\n [0.8292552041009064,\n  3461.1970957748063,\n  1732.7272934690732,\n  datetime.date(2021, 6, 17),\n  datetime.date(2021, 7, 21),\n  datetime.date(2021, 8, 31),\n  352],\n [0.8291110047631093,\n  3460.0843814748087,\n  1732.428924548358,\n  datetime.date(2021, 6, 17),\n  datetime.date(2021, 7, 21),\n  datetime.date(2021, 8, 31),\n  353],\n [0.8291110047631093,\n  3459.9047379092335,\n  1732.2492809827831,\n  datetime.date(2021, 6, 17),\n  datetime.date(2021, 7, 21),\n  datetime.date(2021, 8, 31),\n  354],\n [0.8291110047631093,\n  3460.4509355037844,\n  1732.7954785773343,\n  datetime.date(2021, 6, 17),\n  datetime.date(2021, 7, 21),\n  datetime.date(2021, 8, 31),\n  355],\n [0.8291110047631093,\n  3460.1360785330767,\n  1732.4806216066263,\n  datetime.date(2021, 6, 17),\n  datetime.date(2021, 7, 21),\n  datetime.date(2021, 8, 31),\n  356],\n [0.8291110047631093,\n  3459.8854576187823,\n  1732.2300006923317,\n  datetime.date(2021, 6, 17),\n  datetime.date(2021, 7, 21),\n  datetime.date(2021, 8, 31),\n  357],\n [0.8291110047631093,\n  3459.8854576187823,\n  1732.2300006923317,\n  datetime.date(2021, 6, 17),\n  datetime.date(2021, 7, 21),\n  datetime.date(2021, 8, 31),\n  358],\n [0.8291110047631093,\n  3459.8854576187823,\n  1732.2300006923317,\n  datetime.date(2021, 6, 17),\n  datetime.date(2021, 7, 21),\n  datetime.date(2021, 8, 31),\n  359],\n [0.8291110047631093,\n  3459.8854576187823,\n  1732.2300006923317,\n  datetime.date(2021, 6, 17),\n  datetime.date(2021, 7, 21),\n  datetime.date(2021, 8, 31),\n  360],\n [0.8291110047631093,\n  3459.8854576187823,\n  1732.2300006923317,\n  datetime.date(2021, 6, 17),\n  datetime.date(2021, 7, 21),\n  datetime.date(2021, 8, 31),\n  361],\n [0.8165350360991358,\n  3411.324432888959,\n  1699.2734209192836,\n  datetime.date(2021, 6, 18),\n  datetime.date(2021, 7, 22),\n  datetime.date(2021, 9, 1),\n  362],\n [0.8291110047631093,\n  3459.8854576187823,\n  1732.2300006923317,\n  datetime.date(2021, 6, 17),\n  datetime.date(2021, 7, 21),\n  datetime.date(2021, 8, 31),\n  363],\n [0.9597835576664767,\n  4156.032252164658,\n  2131.683871343616,\n  datetime.date(2021, 6, 18),\n  datetime.date(2021, 7, 22),\n  datetime.date(2021, 9, 1),\n  364],\n [0.8668965826804533,\n  3823.597492780833,\n  1975.556776382996,\n  datetime.date(2021, 6, 18),\n  datetime.date(2021, 7, 22),\n  datetime.date(2021, 9, 1),\n  365],\n [0.8336038735974105,\n  3699.93443214309,\n  1914.048939431822,\n  datetime.date(2021, 6, 18),\n  datetime.date(2021, 7, 22),\n  datetime.date(2021, 9, 1),\n  366],\n [0.8306024473617392,\n  3679.977313465239,\n  1890.7108444422502,\n  datetime.date(2021, 6, 18),\n  datetime.date(2021, 7, 22),\n  datetime.date(2021, 9, 1),\n  367],\n [0.8773964149423092,\n  3865.4139751012067,\n  2008.4411071747834,\n  datetime.date(2021, 6, 18),\n  datetime.date(2021, 7, 22),\n  datetime.date(2021, 9, 1),\n  368],\n [0.8697216852435244,\n  3833.830083733654,\n  1984.9373293915864,\n  datetime.date(2021, 6, 18),\n  datetime.date(2021, 7, 22),\n  datetime.date(2021, 9, 1),\n  369],\n [0.8668965826804533,\n  3520.37269792024,\n  1672.331981522403,\n  datetime.date(2021, 6, 18),\n  datetime.date(2021, 7, 22),\n  datetime.date(2021, 9, 1),\n  370],\n [0.8668965826804533,\n  3862.8197966870757,\n  2014.779080289239,\n  datetime.date(2021, 6, 18),\n  datetime.date(2021, 7, 22),\n  datetime.date(2021, 9, 1),\n  371],\n [0.7882577646206954,\n  3477.9290464034602,\n  1806.6978851683168,\n  datetime.date(2021, 6, 18),\n  datetime.date(2021, 7, 22),\n  datetime.date(2021, 9, 1),\n  372],\n [0.8830709128617685,\n  3971.491694409781,\n  2072.701458960431,\n  datetime.date(2021, 6, 18),\n  datetime.date(2021, 7, 22),\n  datetime.date(2021, 9, 1),\n  373],\n [0.8801752029963521,\n  3895.8476304260657,\n  2015.6226024391076,\n  datetime.date(2021, 6, 18),\n  datetime.date(2021, 7, 22),\n  datetime.date(2021, 9, 1),\n  374],\n [0.8295341586142968,\n  3618.4252467678384,\n  1862.6260874863876,\n  datetime.date(2021, 6, 18),\n  datetime.date(2021, 7, 22),\n  datetime.date(2021, 9, 1),\n  375],\n [0.8413291666865033,\n  3720.0057992811244,\n  1927.1501645063793,\n  datetime.date(2021, 6, 18),\n  datetime.date(2021, 7, 22),\n  datetime.date(2021, 9, 1),\n  376],\n [0.8537854117186244,\n  3732.963550656157,\n  1924.4481291954876,\n  datetime.date(2021, 6, 18),\n  datetime.date(2021, 7, 22),\n  datetime.date(2021, 9, 1),\n  377],\n [0.8668965826804533,\n  3815.034507751173,\n  1966.9937913533356,\n  datetime.date(2021, 6, 18),\n  datetime.date(2021, 7, 22),\n  datetime.date(2021, 9, 1),\n  378],\n [0.8668965826804533,\n  3829.535046836664,\n  1981.4943304388273,\n  datetime.date(2021, 6, 18),\n  datetime.date(2021, 7, 22),\n  datetime.date(2021, 9, 1),\n  379],\n [0.8668965826804533,\n  3820.0477553364103,\n  1972.0070389385733,\n  datetime.date(2021, 6, 18),\n  datetime.date(2021, 7, 22),\n  datetime.date(2021, 9, 1),\n  380],\n [0.8668965826804533,\n  3823.597492780833,\n  1975.556776382996,\n  datetime.date(2021, 6, 18),\n  datetime.date(2021, 7, 22),\n  datetime.date(2021, 9, 1),\n  381],\n [0.8668965826804533,\n  3823.597492780833,\n  1975.556776382996,\n  datetime.date(2021, 6, 18),\n  datetime.date(2021, 7, 22),\n  datetime.date(2021, 9, 1),\n  382],\n [0.8668965826804533,\n  3823.597492780833,\n  1975.556776382996,\n  datetime.date(2021, 6, 18),\n  datetime.date(2021, 7, 22),\n  datetime.date(2021, 9, 1),\n  383],\n [0.8668965826804533,\n  3823.597492780833,\n  1975.556776382996,\n  datetime.date(2021, 6, 18),\n  datetime.date(2021, 7, 22),\n  datetime.date(2021, 9, 1),\n  384],\n [0.8666479476999354,\n  3822.1708846571582,\n  1974.6549290652208,\n  datetime.date(2021, 6, 18),\n  datetime.date(2021, 7, 22),\n  datetime.date(2021, 9, 1),\n  385],\n [0.8757166291270305,\n  3871.555364864208,\n  2002.7673361785803,\n  datetime.date(2021, 6, 18),\n  datetime.date(2021, 7, 22),\n  datetime.date(2021, 9, 1),\n  386],\n [0.8776115676825182,\n  3886.0252299903286,\n  2010.93897609583,\n  datetime.date(2021, 6, 18),\n  datetime.date(2021, 7, 22),\n  datetime.date(2021, 9, 1),\n  387],\n [0.8668965826804533,\n  3823.597492780833,\n  1975.556776382996,\n  datetime.date(2021, 6, 18),\n  datetime.date(2021, 7, 22),\n  datetime.date(2021, 9, 1),\n  388],\n [0.9891161078559297,\n  4500.0500907794,\n  2354.1385462834405,\n  datetime.date(2021, 6, 18),\n  datetime.date(2021, 7, 22),\n  datetime.date(2021, 9, 1),\n  389],\n [0.7417691042897365,\n  3303.2109579712996,\n  1729.9301660177225,\n  datetime.date(2021, 6, 18),\n  datetime.date(2021, 7, 22),\n  datetime.date(2021, 9, 1),\n  390],\n [0.865851011052779,\n  3744.9204000905575,\n  1902.137424072542,\n  datetime.date(2021, 6, 18),\n  datetime.date(2021, 7, 22),\n  datetime.date(2021, 9, 1),\n  391],\n [0.9050616796722573,\n  3972.394121732311,\n  2045.4250453877694,\n  datetime.date(2021, 6, 18),\n  datetime.date(2021, 7, 22),\n  datetime.date(2021, 9, 1),\n  392],\n [0.8182935005207475,\n  3593.69232830307,\n  1877.4084204362737,\n  datetime.date(2021, 6, 18),\n  datetime.date(2021, 7, 22),\n  datetime.date(2021, 9, 1),\n  393],\n [0.8641891930069955,\n  3802.894070242426,\n  1963.4097486462026,\n  datetime.date(2021, 6, 18),\n  datetime.date(2021, 7, 22),\n  datetime.date(2021, 9, 1),\n  394],\n [0.8746875678891877,\n  3876.8091172686773,\n  2007.0000953743122,\n  datetime.date(2021, 6, 18),\n  datetime.date(2021, 7, 22),\n  datetime.date(2021, 9, 1),\n  395],\n [0.8668926640906036,\n  3821.3851184835094,\n  1973.3633661673234,\n  datetime.date(2021, 6, 18),\n  datetime.date(2021, 7, 22),\n  datetime.date(2021, 9, 1),\n  396],\n [0.8673839338197061,\n  3826.5224529485213,\n  1977.2160963848962,\n  datetime.date(2021, 6, 18),\n  datetime.date(2021, 7, 22),\n  datetime.date(2021, 9, 1),\n  397],\n [0.8686882861273769,\n  3842.501727910115,\n  1988.4138223752502,\n  datetime.date(2021, 6, 18),\n  datetime.date(2021, 7, 22),\n  datetime.date(2021, 9, 1),\n  398],\n [0.8668965826804533,\n  3839.8566432353127,\n  1991.815926837476,\n  datetime.date(2021, 6, 18),\n  datetime.date(2021, 7, 22),\n  datetime.date(2021, 9, 1),\n  399],\n [0.8668965826804533,\n  3820.9155837478775,\n  1972.8748673500406,\n  datetime.date(2021, 6, 18),\n  datetime.date(2021, 7, 22),\n  datetime.date(2021, 9, 1),\n  400],\n [0.9208995619158624,\n  4020.4810790660167,\n  2068.8614511816218,\n  datetime.date(2021, 6, 18),\n  datetime.date(2021, 7, 22),\n  datetime.date(2021, 9, 1),\n  401],\n [0.8666113079910912,\n  3821.836121534324,\n  1974.7488878536121,\n  datetime.date(2021, 6, 18),\n  datetime.date(2021, 7, 22),\n  datetime.date(2021, 9, 1),\n  402],\n [0.8667231415526686,\n  3822.0703121426886,\n  1975.050360952239,\n  datetime.date(2021, 6, 18),\n  datetime.date(2021, 7, 22),\n  datetime.date(2021, 9, 1),\n  403],\n [0.8668965826804533,\n  3823.373605422373,\n  1975.3328890245361,\n  datetime.date(2021, 6, 18),\n  datetime.date(2021, 7, 22),\n  datetime.date(2021, 9, 1),\n  404],\n [0.8668965826804533,\n  3823.576267068286,\n  1975.5355506704493,\n  datetime.date(2021, 6, 18),\n  datetime.date(2021, 7, 22),\n  datetime.date(2021, 9, 1),\n  405],\n [0.8668965826804533,\n  3822.927106496859,\n  1974.886390099022,\n  datetime.date(2021, 6, 18),\n  datetime.date(2021, 7, 22),\n  datetime.date(2021, 9, 1),\n  406],\n [0.8668965826804533,\n  3823.3057396485674,\n  1975.26502325073,\n  datetime.date(2021, 6, 18),\n  datetime.date(2021, 7, 22),\n  datetime.date(2021, 9, 1),\n  407],\n [0.8668965826804533,\n  3823.597492780833,\n  1975.556776382996,\n  datetime.date(2021, 6, 18),\n  datetime.date(2021, 7, 22),\n  datetime.date(2021, 9, 1),\n  408],\n [0.8668965826804533,\n  3823.597492780833,\n  1975.556776382996,\n  datetime.date(2021, 6, 18),\n  datetime.date(2021, 7, 22),\n  datetime.date(2021, 9, 1),\n  409],\n [0.8668965826804533,\n  3823.597492780833,\n  1975.556776382996,\n  datetime.date(2021, 6, 18),\n  datetime.date(2021, 7, 22),\n  datetime.date(2021, 9, 1),\n  410],\n [0.8668965826804533,\n  3823.597492780833,\n  1975.556776382996,\n  datetime.date(2021, 6, 18),\n  datetime.date(2021, 7, 22),\n  datetime.date(2021, 9, 1),\n  411],\n [0.8668965826804533,\n  3823.597492780833,\n  1975.556776382996,\n  datetime.date(2021, 6, 18),\n  datetime.date(2021, 7, 22),\n  datetime.date(2021, 9, 1),\n  412],\n [0.8826536466212344,\n  3879.6195280855227,\n  2010.084921401989,\n  datetime.date(2021, 6, 17),\n  datetime.date(2021, 7, 21),\n  datetime.date(2021, 8, 31),\n  413],\n [0.8668965826804533,\n  3823.597492780833,\n  1975.556776382996,\n  datetime.date(2021, 6, 18),\n  datetime.date(2021, 7, 22),\n  datetime.date(2021, 9, 1),\n  414],\n [0.8668965826804533,\n  3823.597492780833,\n  1975.556776382996,\n  datetime.date(2021, 6, 18),\n  datetime.date(2021, 7, 22),\n  datetime.date(2021, 9, 1),\n  415],\n [0.9225695753577592,\n  4223.865241443029,\n  2259.107890687524,\n  datetime.date(2021, 6, 18),\n  datetime.date(2021, 7, 22),\n  datetime.date(2021, 9, 1),\n  416],\n [0.828030099721759,\n  3864.954267798403,\n  2082.3418786725792,\n  datetime.date(2021, 6, 18),\n  datetime.date(2021, 7, 22),\n  datetime.date(2021, 9, 1),\n  417],\n [0.9225695753577592,\n  4223.865241443029,\n  2259.107890687524,\n  datetime.date(2021, 6, 18),\n  datetime.date(2021, 7, 22),\n  datetime.date(2021, 9, 1),\n  418],\n [0.8333637006631623,\n  3881.9267451537135,\n  2083.0022607854935,\n  datetime.date(2021, 6, 18),\n  datetime.date(2021, 7, 22),\n  datetime.date(2021, 9, 1),\n  419],\n [0.9164124890998366,\n  4199.156709592713,\n  2244.089142376786,\n  datetime.date(2021, 6, 18),\n  datetime.date(2021, 7, 22),\n  datetime.date(2021, 9, 1),\n  420],\n [0.9284567898168699,\n  4247.7102825157535,\n  2278.141742240563,\n  datetime.date(2021, 6, 18),\n  datetime.date(2021, 7, 22),\n  datetime.date(2021, 9, 1),\n  421],\n [0.9192360332223681,\n  4211.529081384773,\n  2247.7421259714324,\n  datetime.date(2021, 6, 18),\n  datetime.date(2021, 7, 22),\n  datetime.date(2021, 9, 1),\n  422],\n [0.9225695753577592,\n  4246.154241917428,\n  2281.396891161923,\n  datetime.date(2021, 6, 18),\n  datetime.date(2021, 7, 22),\n  datetime.date(2021, 9, 1),\n  423],\n [0.9225695753577592,\n  4269.4005836066935,\n  2304.643232851188,\n  datetime.date(2021, 6, 18),\n  datetime.date(2021, 7, 22),\n  datetime.date(2021, 9, 1),\n  424],\n [0.8170153305077918,\n  3745.952811945242,\n  2017.4762326550951,\n  datetime.date(2021, 6, 18),\n  datetime.date(2021, 7, 22),\n  datetime.date(2021, 9, 1),\n  425],\n [0.930488073585489,\n  4300.879958109386,\n  2311.5578737494957,\n  datetime.date(2021, 6, 18),\n  datetime.date(2021, 7, 22),\n  datetime.date(2021, 9, 1),\n  426],\n [0.8653688601485188,\n  3902.1760760023,\n  2074.9413547996837,\n  datetime.date(2021, 6, 18),\n  datetime.date(2021, 7, 22),\n  datetime.date(2021, 9, 1),\n  427],\n [1.0467556708649464,\n  4934.66819640495,\n  2663.686546784981,\n  datetime.date(2021, 6, 18),\n  datetime.date(2021, 7, 22),\n  datetime.date(2021, 9, 1),\n  428],\n [0.9101460332516089,\n  4172.611608934104,\n  2234.442537059777,\n  datetime.date(2021, 6, 18),\n  datetime.date(2021, 7, 22),\n  datetime.date(2021, 9, 1),\n  429],\n [0.9295752986015946,\n  4272.886710064024,\n  2287.396423217941,\n  datetime.date(2021, 6, 18),\n  datetime.date(2021, 7, 22),\n  datetime.date(2021, 9, 1),\n  430],\n [0.9225695753577592,\n  4216.609563827168,\n  2251.852213071663,\n  datetime.date(2021, 6, 18),\n  datetime.date(2021, 7, 22),\n  datetime.date(2021, 9, 1),\n  431],\n [0.9225695753577592,\n  4193.474368326707,\n  2228.7170175712017,\n  datetime.date(2021, 6, 18),\n  datetime.date(2021, 7, 22),\n  datetime.date(2021, 9, 1),\n  432],\n [0.9225695753577592,\n  4220.632705088336,\n  2255.87535433283,\n  datetime.date(2021, 6, 18),\n  datetime.date(2021, 7, 22),\n  datetime.date(2021, 9, 1),\n  433],\n [0.9225695753577592,\n  4223.865241443029,\n  2259.107890687524,\n  datetime.date(2021, 6, 18),\n  datetime.date(2021, 7, 22),\n  datetime.date(2021, 9, 1),\n  434],\n [0.9225695753577592,\n  4223.865241443029,\n  2259.107890687524,\n  datetime.date(2021, 6, 18),\n  datetime.date(2021, 7, 22),\n  datetime.date(2021, 9, 1),\n  435],\n [0.9225695753577592,\n  4223.865241443029,\n  2259.107890687524,\n  datetime.date(2021, 6, 18),\n  datetime.date(2021, 7, 22),\n  datetime.date(2021, 9, 1),\n  436],\n [0.9225695753577592,\n  4223.865241443029,\n  2259.107890687524,\n  datetime.date(2021, 6, 18),\n  datetime.date(2021, 7, 22),\n  datetime.date(2021, 9, 1),\n  437],\n [0.9188049935699152,\n  4201.4312095526975,\n  2244.538638352853,\n  datetime.date(2021, 6, 18),\n  datetime.date(2021, 7, 22),\n  datetime.date(2021, 9, 1),\n  438],\n [0.8939350304328113,\n  4063.849224957598,\n  2165.8103325276065,\n  datetime.date(2021, 6, 18),\n  datetime.date(2021, 7, 22),\n  datetime.date(2021, 9, 1),\n  439],\n [0.9157746719242752,\n  4183.179252748218,\n  2235.421819991569,\n  datetime.date(2021, 6, 18),\n  datetime.date(2021, 7, 22),\n  datetime.date(2021, 9, 1),\n  440],\n [0.9225695753577592,\n  4223.865241443029,\n  2259.107890687524,\n  datetime.date(2021, 6, 18),\n  datetime.date(2021, 7, 22),\n  datetime.date(2021, 9, 1),\n  441],\n [0.9515566447408077,\n  4389.120708816437,\n  2354.3695557740243,\n  datetime.date(2021, 6, 18),\n  datetime.date(2021, 7, 22),\n  datetime.date(2021, 9, 1),\n  442],\n [0.9321344177700914,\n  4263.552263391448,\n  2278.1339180045825,\n  datetime.date(2021, 6, 18),\n  datetime.date(2021, 7, 22),\n  datetime.date(2021, 9, 1),\n  443],\n [0.9233952748260279,\n  4288.518270234921,\n  2319.880584242259,\n  datetime.date(2021, 6, 18),\n  datetime.date(2021, 7, 22),\n  datetime.date(2021, 9, 1),\n  444],\n [0.9736624701921694,\n  4426.9846857682405,\n  2357.246129130958,\n  datetime.date(2021, 6, 18),\n  datetime.date(2021, 7, 22),\n  datetime.date(2021, 9, 1),\n  445],\n [0.9711544091453266,\n  4456.220603269934,\n  2359.664482089648,\n  datetime.date(2021, 6, 18),\n  datetime.date(2021, 7, 22),\n  datetime.date(2021, 9, 1),\n  446],\n [0.9221679140751899,\n  4220.697159664722,\n  2257.1952669823104,\n  datetime.date(2021, 6, 18),\n  datetime.date(2021, 7, 22),\n  datetime.date(2021, 9, 1),\n  447],\n [0.9241103433205804,\n  4234.729389160051,\n  2265.721910613613,\n  datetime.date(2021, 6, 18),\n  datetime.date(2021, 7, 22),\n  datetime.date(2021, 9, 1),\n  448],\n [0.9225298071806591,\n  4201.023203436987,\n  2236.4458261871214,\n  datetime.date(2021, 6, 18),\n  datetime.date(2021, 7, 22),\n  datetime.date(2021, 9, 1),\n  449],\n [0.9231260468348814,\n  4227.350449132807,\n  2261.1520942037987,\n  datetime.date(2021, 6, 18),\n  datetime.date(2021, 7, 22),\n  datetime.date(2021, 9, 1),\n  450],\n [0.9216462482620482,\n  4213.87631940247,\n  2252.1625899939386,\n  datetime.date(2021, 6, 18),\n  datetime.date(2021, 7, 22),\n  datetime.date(2021, 9, 1),\n  451],\n [0.9225695753577592,\n  4242.378868631515,\n  2277.621517876009,\n  datetime.date(2021, 6, 18),\n  datetime.date(2021, 7, 22),\n  datetime.date(2021, 9, 1),\n  452],\n [0.9225695753577592,\n  4223.434765865515,\n  2258.6774151100094,\n  datetime.date(2021, 6, 18),\n  datetime.date(2021, 7, 22),\n  datetime.date(2021, 9, 1),\n  453],\n [0.9091813087121893,\n  4173.387538013332,\n  2234.3062900820905,\n  datetime.date(2021, 6, 18),\n  datetime.date(2021, 7, 22),\n  datetime.date(2021, 9, 1),\n  454],\n [0.9238231094663023,\n  4231.635533006257,\n  2262.7631379104205,\n  datetime.date(2021, 6, 18),\n  datetime.date(2021, 7, 22),\n  datetime.date(2021, 9, 1),\n  455],\n [0.9227282816010138,\n  4225.23524144743,\n  2259.5822934631306,\n  datetime.date(2021, 6, 18),\n  datetime.date(2021, 7, 22),\n  datetime.date(2021, 9, 1),\n  456],\n [0.9225695753577592,\n  4223.939365964064,\n  2259.1820152085584,\n  datetime.date(2021, 6, 18),\n  datetime.date(2021, 7, 22),\n  datetime.date(2021, 9, 1),\n  457],\n [0.9225695753577592,\n  4223.746856968567,\n  2258.9895062130618,\n  datetime.date(2021, 6, 18),\n  datetime.date(2021, 7, 22),\n  datetime.date(2021, 9, 1),\n  458],\n [0.9225695753577592,\n  4221.480648350802,\n  2256.723297595296,\n  datetime.date(2021, 6, 18),\n  datetime.date(2021, 7, 22),\n  datetime.date(2021, 9, 1),\n  459],\n [0.9225695753577592,\n  4223.528574155664,\n  2258.7712234001583,\n  datetime.date(2021, 6, 18),\n  datetime.date(2021, 7, 22),\n  datetime.date(2021, 9, 1),\n  460],\n [0.9225695753577592,\n  4223.865241443029,\n  2259.107890687524,\n  datetime.date(2021, 6, 18),\n  datetime.date(2021, 7, 22),\n  datetime.date(2021, 9, 1),\n  461],\n [0.9225695753577592,\n  4223.865241443029,\n  2259.107890687524,\n  datetime.date(2021, 6, 18),\n  datetime.date(2021, 7, 22),\n  datetime.date(2021, 9, 1),\n  462],\n [0.9225695753577592,\n  4223.865241443029,\n  2259.107890687524,\n  datetime.date(2021, 6, 18),\n  datetime.date(2021, 7, 22),\n  datetime.date(2021, 9, 1),\n  463],\n [0.9225695753577592,\n  4223.865241443029,\n  2259.107890687524,\n  datetime.date(2021, 6, 18),\n  datetime.date(2021, 7, 22),\n  datetime.date(2021, 9, 1),\n  464],\n [0.9225695753577592,\n  4223.865241443029,\n  2259.107890687524,\n  datetime.date(2021, 6, 18),\n  datetime.date(2021, 7, 22),\n  datetime.date(2021, 9, 1),\n  465],\n [0.9225695753577592,\n  4223.865241443029,\n  2259.107890687524,\n  datetime.date(2021, 6, 18),\n  datetime.date(2021, 7, 22),\n  datetime.date(2021, 9, 1),\n  466],\n [0.9225695753577592,\n  4223.865241443029,\n  2259.107890687524,\n  datetime.date(2021, 6, 18),\n  datetime.date(2021, 7, 22),\n  datetime.date(2021, 9, 1),\n  467],\n [0.8681097886338053,\n  4240.427068422943,\n  2310.1543039049725,\n  datetime.date(2021, 6, 18),\n  datetime.date(2021, 7, 22),\n  datetime.date(2021, 9, 1),\n  468],\n [0.7769234296217872,\n  3863.9431872051637,\n  2119.617971755252,\n  datetime.date(2021, 6, 18),\n  datetime.date(2021, 7, 22),\n  datetime.date(2021, 9, 1),\n  469],\n [0.8628043327550154,\n  4222.726502976804,\n  2308.9496628484985,\n  datetime.date(2021, 6, 18),\n  datetime.date(2021, 7, 22),\n  datetime.date(2021, 9, 1),\n  470],\n [0.7825368060230382,\n  3889.06003102081,\n  2134.9951110076113,\n  datetime.date(2021, 6, 18),\n  datetime.date(2021, 7, 22),\n  datetime.date(2021, 9, 1),\n  471],\n [0.7714062522379739,\n  3839.6696222455166,\n  2100.494762038865,\n  datetime.date(2021, 6, 18),\n  datetime.date(2021, 7, 22),\n  datetime.date(2021, 9, 1),\n  472],\n [0.7800319036153249,\n  3876.2928213849696,\n  2130.9325868000856,\n  datetime.date(2021, 6, 18),\n  datetime.date(2021, 7, 22),\n  datetime.date(2021, 9, 1),\n  473],\n [0.7769234296217872,\n  3845.390828635265,\n  2101.065613185353,\n  datetime.date(2021, 6, 18),\n  datetime.date(2021, 7, 22),\n  datetime.date(2021, 9, 1),\n  474],\n [0.7769234296217872,\n  3825.708510400314,\n  2081.383294950402,\n  datetime.date(2021, 6, 18),\n  datetime.date(2021, 7, 22),\n  datetime.date(2021, 9, 1),\n  475],\n [0.8783807986603039,\n  4357.848116061311,\n  2373.0891811286633,\n  datetime.date(2021, 6, 18),\n  datetime.date(2021, 7, 22),\n  datetime.date(2021, 9, 1),\n  476],\n [0.7689613193999284,\n  3785.4954513990797,\n  2066.915565904259,\n  datetime.date(2021, 6, 18),\n  datetime.date(2021, 7, 22),\n  datetime.date(2021, 9, 1),\n  477],\n [0.8251848458771583,\n  4159.989780980099,\n  2292.126740472478,\n  datetime.date(2021, 6, 18),\n  datetime.date(2021, 7, 22),\n  datetime.date(2021, 9, 1),\n  478],\n [0.6782952957955404,\n  3260.1387927961932,\n  1770.8017172550503,\n  datetime.date(2021, 6, 18),\n  datetime.date(2021, 7, 22),\n  datetime.date(2021, 9, 1),\n  479],\n [0.7881084988756306,\n  3915.311362077585,\n  2145.3480866798805,\n  datetime.date(2021, 6, 18),\n  datetime.date(2021, 7, 22),\n  datetime.date(2021, 9, 1),\n  480],\n [0.7701506367642754,\n  3813.4597629261925,\n  2090.0184512368583,\n  datetime.date(2021, 6, 18),\n  datetime.date(2021, 7, 22),\n  datetime.date(2021, 9, 1),\n  481],\n [0.7769234296217872,\n  3871.338991439328,\n  2127.013775989416,\n  datetime.date(2021, 6, 18),\n  datetime.date(2021, 7, 22),\n  datetime.date(2021, 9, 1),\n  482],\n [0.7769234296217872,\n  3896.371481977697,\n  2152.046266527785,\n  datetime.date(2021, 6, 18),\n  datetime.date(2021, 7, 22),\n  datetime.date(2021, 9, 1),\n  483],\n [0.7769234296217872,\n  3867.635528288773,\n  2123.310312838861,\n  datetime.date(2021, 6, 18),\n  datetime.date(2021, 7, 22),\n  datetime.date(2021, 9, 1),\n  484],\n [0.7769234296217872,\n  3863.9431872051637,\n  2119.617971755252,\n  datetime.date(2021, 6, 18),\n  datetime.date(2021, 7, 22),\n  datetime.date(2021, 9, 1),\n  485],\n [0.7769234296217872,\n  3863.9431872051637,\n  2119.617971755252,\n  datetime.date(2021, 6, 18),\n  datetime.date(2021, 7, 22),\n  datetime.date(2021, 9, 1),\n  486],\n [0.7769234296217872,\n  3863.9431872051637,\n  2119.617971755252,\n  datetime.date(2021, 6, 18),\n  datetime.date(2021, 7, 22),\n  datetime.date(2021, 9, 1),\n  487],\n [0.7769234296217872,\n  3863.9431872051637,\n  2119.617971755252,\n  datetime.date(2021, 6, 18),\n  datetime.date(2021, 7, 22),\n  datetime.date(2021, 9, 1),\n  488],\n [0.7801702681638722,\n  3886.6212709673705,\n  2134.9797010384214,\n  datetime.date(2021, 6, 18),\n  datetime.date(2021, 7, 22),\n  datetime.date(2021, 9, 1),\n  489],\n [0.8034036421573351,\n  4029.515913479836,\n  2219.3090991548047,\n  datetime.date(2021, 6, 18),\n  datetime.date(2021, 7, 22),\n  datetime.date(2021, 9, 1),\n  490],\n [0.7835994516771114,\n  3907.2484113749497,\n  2145.310176719373,\n  datetime.date(2021, 6, 18),\n  datetime.date(2021, 7, 22),\n  datetime.date(2021, 9, 1),\n  491],\n [0.7769234296217872,\n  3863.9431872051637,\n  2119.617971755252,\n  datetime.date(2021, 6, 18),\n  datetime.date(2021, 7, 22),\n  datetime.date(2021, 9, 1),\n  492],\n [0.7522639512121387,\n  3710.598727251054,\n  2029.4110808679047,\n  datetime.date(2021, 6, 18),\n  datetime.date(2021, 7, 22),\n  datetime.date(2021, 9, 1),\n  493],\n [0.7683160498520709,\n  3823.9925708270575,\n  2099.5877389517373,\n  datetime.date(2021, 6, 18),\n  datetime.date(2021, 7, 22),\n  datetime.date(2021, 9, 1),\n  494],\n [0.7761650551518641,\n  3804.9182735838885,\n  2064.232939916663,\n  datetime.date(2021, 6, 18),\n  datetime.date(2021, 7, 22),\n  datetime.date(2021, 9, 1),\n  495],\n [0.7345403322892742,\n  3672.112788093011,\n  2021.8780207152956,\n  datetime.date(2021, 6, 18),\n  datetime.date(2021, 7, 22),\n  datetime.date(2021, 9, 1),\n  496],\n [0.7353035941384055,\n  3645.2040539672716,\n  2018.4054816721718,\n  datetime.date(2021, 6, 18),\n  datetime.date(2021, 7, 22),\n  datetime.date(2021, 9, 1),\n  497],\n [0.777295403989368,\n  3866.9860523788893,\n  2121.46928814227,\n  datetime.date(2021, 6, 18),\n  datetime.date(2021, 7, 22),\n  datetime.date(2021, 9, 1),\n  498],\n [0.7755020434012726,\n  3853.4741492302423,\n  2113.21056837743,\n  datetime.date(2021, 6, 18),\n  datetime.date(2021, 7, 22),\n  datetime.date(2021, 9, 1),\n  499],\n [0.7769607678434256,\n  3885.524396251734,\n  2141.026392171141,\n  datetime.date(2021, 6, 18),\n  datetime.date(2021, 7, 22),\n  datetime.date(2021, 9, 1),\n  500],\n [0.7764037425388557,\n  3860.560045039446,\n  2117.630099108498,\n  datetime.date(2021, 6, 18),\n  datetime.date(2021, 7, 22),\n  datetime.date(2021, 9, 1),\n  501],\n [0.777788350341675,\n  3873.508987146833,\n  2126.247528911557,\n  datetime.date(2021, 6, 18),\n  datetime.date(2021, 7, 22),\n  datetime.date(2021, 9, 1),\n  502],\n [0.7769234296217872,\n  3845.967530304533,\n  2101.642314854621,\n  datetime.date(2021, 6, 18),\n  datetime.date(2021, 7, 22),\n  datetime.date(2021, 9, 1),\n  503],\n [0.7769234296217872,\n  3864.373985433616,\n  2120.048769983704,\n  datetime.date(2021, 6, 18),\n  datetime.date(2021, 7, 22),\n  datetime.date(2021, 9, 1),\n  504],\n [0.7886737540079289,\n  3913.708239866285,\n  2145.090369247459,\n  datetime.date(2021, 6, 18),\n  datetime.date(2021, 7, 22),\n  datetime.date(2021, 9, 1),\n  505],\n [0.775761489717837,\n  3856.4349837809277,\n  2115.969255378222,\n  datetime.date(2021, 6, 18),\n  datetime.date(2021, 7, 22),\n  datetime.date(2021, 9, 1),\n  506],\n [0.776777014544664,\n  3862.6475666571323,\n  2119.1460618811448,\n  datetime.date(2021, 6, 18),\n  datetime.date(2021, 7, 22),\n  datetime.date(2021, 9, 1),\n  507],\n [0.7769234296217872,\n  3863.88193421582,\n  2119.556718765908,\n  datetime.date(2021, 6, 18),\n  datetime.date(2021, 7, 22),\n  datetime.date(2021, 9, 1),\n  508],\n [0.7769234296217872,\n  3864.040603375596,\n  2119.7153879256844,\n  datetime.date(2021, 6, 18),\n  datetime.date(2021, 7, 22),\n  datetime.date(2021, 9, 1),\n  509],\n [0.7769234296217872,\n  3866.088207933847,\n  2121.7629924839352,\n  datetime.date(2021, 6, 18),\n  datetime.date(2021, 7, 22),\n  datetime.date(2021, 9, 1),\n  510],\n [0.7769234296217872,\n  3864.2519339935934,\n  2119.9267185436815,\n  datetime.date(2021, 6, 18),\n  datetime.date(2021, 7, 22),\n  datetime.date(2021, 9, 1),\n  511],\n [0.7769234296217872,\n  3863.9431872051637,\n  2119.617971755252,\n  datetime.date(2021, 6, 18),\n  datetime.date(2021, 7, 22),\n  datetime.date(2021, 9, 1),\n  512],\n [0.7769234296217872,\n  3863.9431872051637,\n  2119.617971755252,\n  datetime.date(2021, 6, 18),\n  datetime.date(2021, 7, 22),\n  datetime.date(2021, 9, 1),\n  513],\n [0.7769234296217872,\n  3863.9431872051637,\n  2119.617971755252,\n  datetime.date(2021, 6, 18),\n  datetime.date(2021, 7, 22),\n  datetime.date(2021, 9, 1),\n  514],\n [0.7769234296217872,\n  3863.9431872051637,\n  2119.617971755252,\n  datetime.date(2021, 6, 18),\n  datetime.date(2021, 7, 22),\n  datetime.date(2021, 9, 1),\n  515],\n [0.7769234296217872,\n  3863.9431872051637,\n  2119.617971755252,\n  datetime.date(2021, 6, 18),\n  datetime.date(2021, 7, 22),\n  datetime.date(2021, 9, 1),\n  516],\n [0.7769234296217872,\n  3863.9431872051637,\n  2119.617971755252,\n  datetime.date(2021, 6, 18),\n  datetime.date(2021, 7, 22),\n  datetime.date(2021, 9, 1),\n  517],\n [0.7769234296217872,\n  3863.9431872051637,\n  2119.617971755252,\n  datetime.date(2021, 6, 18),\n  datetime.date(2021, 7, 22),\n  datetime.date(2021, 9, 1),\n  518],\n [0.7769234296217872,\n  3863.9431872051637,\n  2119.617971755252,\n  datetime.date(2021, 6, 18),\n  datetime.date(2021, 7, 22),\n  datetime.date(2021, 9, 1),\n  519],\n [0.7047569092344569,\n  3433.177241444274,\n  1836.1417379040622,\n  datetime.date(2021, 6, 16),\n  datetime.date(2021, 7, 20),\n  datetime.date(2021, 8, 29),\n  520],\n [0.76859324462359,\n  3698.7243813705354,\n  1967.3402520205984,\n  datetime.date(2021, 6, 16),\n  datetime.date(2021, 7, 20),\n  datetime.date(2021, 8, 29),\n  521],\n [0.7047569092344569,\n  3433.177241444274,\n  1836.1417379040622,\n  datetime.date(2021, 6, 16),\n  datetime.date(2021, 7, 20),\n  datetime.date(2021, 8, 29),\n  522],\n [1.0054727488212216,\n  4637.177808604629,\n  2444.968355957726,\n  datetime.date(2021, 6, 16),\n  datetime.date(2021, 7, 20),\n  datetime.date(2021, 8, 29),\n  523],\n [0.6604675271749735,\n  3235.7284826686255,\n  1718.6461481087176,\n  datetime.date(2021, 6, 16),\n  datetime.date(2021, 7, 20),\n  datetime.date(2021, 8, 29),\n  524],\n [0.6885298853070417,\n  3361.5397984254532,\n  1780.311334301088,\n  datetime.date(2021, 6, 16),\n  datetime.date(2021, 7, 20),\n  datetime.date(2021, 8, 29),\n  525],\n [0.7065091962203844,\n  3440.1315993628104,\n  1842.5130503414857,\n  datetime.date(2021, 6, 16),\n  datetime.date(2021, 7, 20),\n  datetime.date(2021, 8, 29),\n  526],\n [0.7047569092344569,\n  3408.8223675276254,\n  1811.7868639874137,\n  datetime.date(2021, 6, 16),\n  datetime.date(2021, 7, 20),\n  datetime.date(2021, 8, 29),\n  527],\n [0.7047569092344569,\n  3388.1749113552232,\n  1791.1394078150115,\n  datetime.date(2021, 6, 16),\n  datetime.date(2021, 7, 20),\n  datetime.date(2021, 8, 29),\n  528],\n [0.7360612265530715,\n  3586.7793366757696,\n  1914.9727926141145,\n  datetime.date(2021, 6, 16),\n  datetime.date(2021, 7, 20),\n  datetime.date(2021, 8, 29),\n  529],\n [0.6845165600811539,\n  3242.5818518874385,\n  1708.1666758835972,\n  datetime.date(2021, 6, 16),\n  datetime.date(2021, 7, 20),\n  datetime.date(2021, 8, 29),\n  530],\n [0.7250778473426278,\n  3552.834859251188,\n  1904.6022571561932,\n  datetime.date(2021, 6, 16),\n  datetime.date(2021, 7, 20),\n  datetime.date(2021, 8, 29),\n  531],\n [0.6353318453046963,\n  3009.9801504895695,\n  1593.1765991699742,\n  datetime.date(2021, 6, 16),\n  datetime.date(2021, 7, 20),\n  datetime.date(2021, 8, 29),\n  532],\n [0.7155842379729108,\n  3483.1612260920438,\n  1860.7643717927492,\n  datetime.date(2021, 6, 16),\n  datetime.date(2021, 7, 20),\n  datetime.date(2021, 8, 29),\n  533],\n [0.6938239278822351,\n  3355.436556518257,\n  1791.3163084050118,\n  datetime.date(2021, 6, 16),\n  datetime.date(2021, 7, 20),\n  datetime.date(2021, 8, 29),\n  534],\n [0.7047569092344569,\n  3440.1464501833916,\n  1843.1109466431797,\n  datetime.date(2021, 6, 16),\n  datetime.date(2021, 7, 20),\n  datetime.date(2021, 8, 29),\n  535],\n [0.7047569092344569,\n  3447.7496999274845,\n  1850.7141963872728,\n  datetime.date(2021, 6, 16),\n  datetime.date(2021, 7, 20),\n  datetime.date(2021, 8, 29),\n  536],\n [0.7047569092344569,\n  3442.463361365011,\n  1845.4278578247993,\n  datetime.date(2021, 6, 16),\n  datetime.date(2021, 7, 20),\n  datetime.date(2021, 8, 29),\n  537],\n [0.7047569092344569,\n  3433.177241444274,\n  1836.1417379040622,\n  datetime.date(2021, 6, 16),\n  datetime.date(2021, 7, 20),\n  datetime.date(2021, 8, 29),\n  538],\n [0.7047569092344569,\n  3433.177241444274,\n  1836.1417379040622,\n  datetime.date(2021, 6, 16),\n  datetime.date(2021, 7, 20),\n  datetime.date(2021, 8, 29),\n  539],\n [0.7047569092344569,\n  3433.177241444274,\n  1836.1417379040622,\n  datetime.date(2021, 6, 16),\n  datetime.date(2021, 7, 20),\n  datetime.date(2021, 8, 29),\n  540],\n [0.7045221855657091,\n  3432.1862662229482,\n  1835.6480469293651,\n  datetime.date(2021, 6, 16),\n  datetime.date(2021, 7, 20),\n  datetime.date(2021, 8, 29),\n  541],\n [0.7069562571663451,\n  3445.8346790113733,\n  1843.8176037064427,\n  datetime.date(2021, 6, 16),\n  datetime.date(2021, 7, 20),\n  datetime.date(2021, 8, 29),\n  542],\n [0.6992174308097281,\n  3398.9142122818303,\n  1815.8534933246372,\n  datetime.date(2021, 6, 16),\n  datetime.date(2021, 7, 20),\n  datetime.date(2021, 8, 29),\n  543],\n [0.7076142174736387,\n  3451.9919446044446,\n  1847.2395062752157,\n  datetime.date(2021, 6, 16),\n  datetime.date(2021, 7, 20),\n  datetime.date(2021, 8, 29),\n  544],\n [0.7047569092344569,\n  3433.177241444274,\n  1836.1417379040622,\n  datetime.date(2021, 6, 16),\n  datetime.date(2021, 7, 20),\n  datetime.date(2021, 8, 29),\n  545],\n [0.635750867000749,\n  3012.268707711264,\n  1592.1741434095588,\n  datetime.date(2021, 6, 16),\n  datetime.date(2021, 7, 20),\n  datetime.date(2021, 8, 29),\n  546],\n [0.7423203845854461,\n  3607.0568855504876,\n  1921.5361728875257,\n  datetime.date(2021, 6, 16),\n  datetime.date(2021, 7, 20),\n  datetime.date(2021, 8, 29),\n  547],\n [0.7059913795969935,\n  3519.2843272461314,\n  1916.9920418047636,\n  datetime.date(2021, 6, 16),\n  datetime.date(2021, 7, 20),\n  datetime.date(2021, 8, 29),\n  548],\n [0.649918391182471,\n  3183.94417059438,\n  1711.4977671248548,\n  datetime.date(2021, 6, 16),\n  datetime.date(2021, 7, 20),\n  datetime.date(2021, 8, 29),\n  549],\n [0.6828783945321001,\n  3317.315421634493,\n  1781.9496491019634,\n  datetime.date(2021, 6, 16),\n  datetime.date(2021, 7, 20),\n  datetime.date(2021, 8, 29),\n  550],\n [0.7040413595907395,\n  3426.806104010001,\n  1832.1257827630484,\n  datetime.date(2021, 6, 16),\n  datetime.date(2021, 7, 20),\n  datetime.date(2021, 8, 29),\n  551],\n [0.6996339237850807,\n  3397.5624041350916,\n  1814.7664167399066,\n  datetime.date(2021, 6, 16),\n  datetime.date(2021, 7, 20),\n  datetime.date(2021, 8, 29),\n  552],\n [0.7048032830527904,\n  3457.9320179464294,\n  1860.7051862655385,\n  datetime.date(2021, 6, 16),\n  datetime.date(2021, 7, 20),\n  datetime.date(2021, 8, 29),\n  553],\n [0.7059520535981135,\n  3440.702988789114,\n  1840.5100098901598,\n  datetime.date(2021, 6, 16),\n  datetime.date(2021, 7, 20),\n  datetime.date(2021, 8, 29),\n  554],\n [0.7039579635118294,\n  3424.939268674663,\n  1830.4710696388122,\n  datetime.date(2021, 6, 16),\n  datetime.date(2021, 7, 20),\n  datetime.date(2021, 8, 29),\n  555],\n [0.7047569092344569,\n  3403.5176837170784,\n  1806.4821801768664,\n  datetime.date(2021, 6, 16),\n  datetime.date(2021, 7, 20),\n  datetime.date(2021, 8, 29),\n  556],\n [0.7047569092344569,\n  3432.432710598747,\n  1835.3972070585348,\n  datetime.date(2021, 6, 16),\n  datetime.date(2021, 7, 20),\n  datetime.date(2021, 8, 29),\n  557],\n [0.7280888495658218,\n  3531.928779148163,\n  1885.3544517089356,\n  datetime.date(2021, 6, 16),\n  datetime.date(2021, 7, 20),\n  datetime.date(2021, 8, 29),\n  558],\n [0.7028014254252343,\n  3420.756516420698,\n  1829.7595406516273,\n  datetime.date(2021, 6, 16),\n  datetime.date(2021, 7, 20),\n  datetime.date(2021, 8, 29),\n  559],\n [0.7044507047095216,\n  3430.5710464779677,\n  1835.0482721573696,\n  datetime.date(2021, 6, 16),\n  datetime.date(2021, 7, 20),\n  datetime.date(2021, 8, 29),\n  560],\n [0.7047569092344569,\n  3433.1797820833262,\n  1836.1442785431145,\n  datetime.date(2021, 6, 16),\n  datetime.date(2021, 7, 20),\n  datetime.date(2021, 8, 29),\n  561],\n [0.7047569092344569,\n  3433.2114084612012,\n  1836.1759049209893,\n  datetime.date(2021, 6, 16),\n  datetime.date(2021, 7, 20),\n  datetime.date(2021, 8, 29),\n  562],\n [0.7047569092344569,\n  3433.748399112535,\n  1836.7128955723233,\n  datetime.date(2021, 6, 16),\n  datetime.date(2021, 7, 20),\n  datetime.date(2021, 8, 29),\n  563],\n [0.7047569092344569,\n  3433.326891718939,\n  1836.2913881787274,\n  datetime.date(2021, 6, 16),\n  datetime.date(2021, 7, 20),\n  datetime.date(2021, 8, 29),\n  564],\n [0.7047569092344569,\n  3433.177241444274,\n  1836.1417379040622,\n  datetime.date(2021, 6, 16),\n  datetime.date(2021, 7, 20),\n  datetime.date(2021, 8, 29),\n  565],\n [0.7047569092344569,\n  3433.177241444274,\n  1836.1417379040622,\n  datetime.date(2021, 6, 16),\n  datetime.date(2021, 7, 20),\n  datetime.date(2021, 8, 29),\n  566],\n [0.7047569092344569,\n  3433.177241444274,\n  1836.1417379040622,\n  datetime.date(2021, 6, 16),\n  datetime.date(2021, 7, 20),\n  datetime.date(2021, 8, 29),\n  567],\n [0.7047569092344569,\n  3433.177241444274,\n  1836.1417379040622,\n  datetime.date(2021, 6, 16),\n  datetime.date(2021, 7, 20),\n  datetime.date(2021, 8, 29),\n  568],\n [0.7047569092344569,\n  3433.177241444274,\n  1836.1417379040622,\n  datetime.date(2021, 6, 16),\n  datetime.date(2021, 7, 20),\n  datetime.date(2021, 8, 29),\n  569],\n [0.7047569092344569,\n  3433.177241444274,\n  1836.1417379040622,\n  datetime.date(2021, 6, 16),\n  datetime.date(2021, 7, 20),\n  datetime.date(2021, 8, 29),\n  570],\n [0.6995186320108459,\n  3419.103077065631,\n  1827.4195752359158,\n  datetime.date(2021, 6, 18),\n  datetime.date(2021, 7, 22),\n  datetime.date(2021, 9, 1),\n  571],\n [0.7696606614828646,\n  3298.3681359134684,\n  1663.9687217268497,\n  datetime.date(2021, 6, 17),\n  datetime.date(2021, 7, 21),\n  datetime.date(2021, 8, 31),\n  572],\n [0.8384617426756915,\n  3547.099687325393,\n  1778.8069816887637,\n  datetime.date(2021, 6, 17),\n  datetime.date(2021, 7, 21),\n  datetime.date(2021, 8, 31),\n  573],\n [0.5876005338667711,\n  2598.6142901670055,\n  1312.3398596199916,\n  datetime.date(2021, 6, 17),\n  datetime.date(2021, 7, 21),\n  datetime.date(2021, 8, 31),\n  574],\n [0.887898383326934,\n  3735.6934832263023,\n  1889.2625810464992,\n  datetime.date(2021, 6, 17),\n  datetime.date(2021, 7, 21),\n  datetime.date(2021, 8, 31),\n  575],\n [0.8549198310331493,\n  3614.10075315867,\n  1832.052769161215,\n  datetime.date(2021, 6, 17),\n  datetime.date(2021, 7, 21),\n  datetime.date(2021, 8, 31),\n  576],\n [0.8366917671950402,\n  3540.325423048046,\n  1772.5493203015847,\n  datetime.date(2021, 6, 17),\n  datetime.date(2021, 7, 21),\n  datetime.date(2021, 8, 31),\n  577],\n [0.8384617426756915,\n  3580.0691265022724,\n  1811.7764208656433,\n  datetime.date(2021, 6, 17),\n  datetime.date(2021, 7, 21),\n  datetime.date(2021, 8, 31),\n  578],\n [0.8384617426756915,\n  3605.3144177340837,\n  1837.0217120974542,\n  datetime.date(2021, 6, 17),\n  datetime.date(2021, 7, 21),\n  datetime.date(2021, 8, 31),\n  579],\n [0.8045198601149507,\n  3399.8070151810125,\n  1707.7324213716317,\n  datetime.date(2021, 6, 17),\n  datetime.date(2021, 7, 21),\n  datetime.date(2021, 8, 31),\n  580],\n [0.8590208075122228,\n  3735.6011441105766,\n  1904.2884892422924,\n  datetime.date(2021, 6, 17),\n  datetime.date(2021, 7, 21),\n  datetime.date(2021, 8, 31),\n  581],\n [0.8149651531793662,\n  3423.717755855122,\n  1711.407097820639,\n  datetime.date(2021, 6, 17),\n  datetime.date(2021, 7, 21),\n  datetime.date(2021, 8, 31),\n  582],\n [0.9235355837886408,\n  4016.831048780742,\n  2037.9819105841286,\n  datetime.date(2021, 6, 17),\n  datetime.date(2021, 7, 21),\n  datetime.date(2021, 8, 31),\n  583],\n [0.8262370551232401,\n  3498.259529087747,\n  1756.5507386237384,\n  datetime.date(2021, 6, 17),\n  datetime.date(2021, 7, 21),\n  datetime.date(2021, 8, 31),\n  584],\n [0.8490384475862505,\n  3619.202774870485,\n  1819.7292907842123,\n  datetime.date(2021, 6, 17),\n  datetime.date(2021, 7, 21),\n  datetime.date(2021, 8, 31),\n  585],\n [0.8384617426756915,\n  3540.7627530017458,\n  1772.4700473651164,\n  datetime.date(2021, 6, 17),\n  datetime.date(2021, 7, 21),\n  datetime.date(2021, 8, 31),\n  586],\n [0.8384617426756915,\n  3534.6916818406307,\n  1766.3989762040012,\n  datetime.date(2021, 6, 17),\n  datetime.date(2021, 7, 21),\n  datetime.date(2021, 8, 31),\n  587],\n [0.8384617426756915,\n  3539.7536711119924,\n  1771.460965475363,\n  datetime.date(2021, 6, 17),\n  datetime.date(2021, 7, 21),\n  datetime.date(2021, 8, 31),\n  588],\n [0.8384617426756915,\n  3547.099687325393,\n  1778.8069816887637,\n  datetime.date(2021, 6, 17),\n  datetime.date(2021, 7, 21),\n  datetime.date(2021, 8, 31),\n  589],\n [0.8384617426756915,\n  3547.099687325393,\n  1778.8069816887637,\n  datetime.date(2021, 6, 17),\n  datetime.date(2021, 7, 21),\n  datetime.date(2021, 8, 31),\n  590],\n [0.8384617426756915,\n  3547.099687325393,\n  1778.8069816887637,\n  datetime.date(2021, 6, 17),\n  datetime.date(2021, 7, 21),\n  datetime.date(2021, 8, 31),\n  591],\n [0.8387793550060328,\n  3548.2357332773936,\n  1779.3293889833624,\n  datetime.date(2021, 6, 17),\n  datetime.date(2021, 7, 21),\n  datetime.date(2021, 8, 31),\n  592],\n [0.8363515136833958,\n  3536.097153187382,\n  1772.2972869653804,\n  datetime.date(2021, 6, 17),\n  datetime.date(2021, 7, 21),\n  datetime.date(2021, 8, 31),\n  593],\n [0.8445015712696826,\n  3579.4474960266375,\n  1796.8845841078635,\n  datetime.date(2021, 6, 17),\n  datetime.date(2021, 7, 21),\n  datetime.date(2021, 8, 31),\n  594],\n [0.8354342459896092,\n  3529.2230120247123,\n  1768.6078102090873,\n  datetime.date(2021, 6, 17),\n  datetime.date(2021, 7, 21),\n  datetime.date(2021, 8, 31),\n  595],\n [0.8384617426756915,\n  3547.099687325393,\n  1778.8069816887637,\n  datetime.date(2021, 6, 17),\n  datetime.date(2021, 7, 21),\n  datetime.date(2021, 8, 31),\n  596],\n [0.9247317120325468,\n  4018.698577312144,\n  2040.912282757962,\n  datetime.date(2021, 6, 17),\n  datetime.date(2021, 7, 21),\n  datetime.date(2021, 8, 31),\n  597],\n [0.8002286690811579,\n  3392.324374708349,\n  1708.0997178990144,\n  datetime.date(2021, 6, 17),\n  datetime.date(2021, 7, 21),\n  datetime.date(2021, 8, 31),\n  598],\n [0.8372660129068329,\n  3467.4784889551765,\n  1704.3837345827692,\n  datetime.date(2021, 6, 17),\n  datetime.date(2021, 7, 21),\n  datetime.date(2021, 8, 31),\n  599],\n [0.9095183365185804,\n  3819.3826787130474,\n  1902.5702934589924,\n  datetime.date(2021, 6, 17),\n  datetime.date(2021, 7, 21),\n  datetime.date(2021, 8, 31),\n  600],\n [0.8623714752546445,\n  3659.7933311971856,\n  1826.7367586851078,\n  datetime.date(2021, 6, 17),\n  datetime.date(2021, 7, 21),\n  datetime.date(2021, 8, 31),\n  601],\n [0.8392937556691401,\n  3553.936177872418,\n  1782.991404668611,\n  datetime.date(2021, 6, 17),\n  datetime.date(2021, 7, 21),\n  datetime.date(2021, 8, 31),\n  602],\n [0.8440488829903561,\n  3584.5233293929355,\n  1800.922671775771,\n  datetime.date(2021, 6, 17),\n  datetime.date(2021, 7, 21),\n  datetime.date(2021, 8, 31),\n  603],\n [0.8384128158806694,\n  3519.2402251612225,\n  1751.1527225187263,\n  datetime.date(2021, 6, 17),\n  datetime.date(2021, 7, 21),\n  datetime.date(2021, 8, 31),\n  604],\n [0.8371981561997047,\n  3539.303469702002,\n  1774.2925315592731,\n  datetime.date(2021, 6, 17),\n  datetime.date(2021, 7, 21),\n  datetime.date(2021, 8, 31),\n  605],\n [0.8393109588489199,\n  3555.9495485546286,\n  1784.9360891523258,\n  datetime.date(2021, 6, 17),\n  datetime.date(2021, 7, 21),\n  datetime.date(2021, 8, 31),\n  606],\n [0.8384617426756915,\n  3578.4459358715567,\n  1810.1532302349272,\n  datetime.date(2021, 6, 17),\n  datetime.date(2021, 7, 21),\n  datetime.date(2021, 8, 31),\n  607],\n [0.8384617426756915,\n  3547.9189966768754,\n  1779.6262910402463,\n  datetime.date(2021, 6, 17),\n  datetime.date(2021, 7, 21),\n  datetime.date(2021, 8, 31),\n  608],\n [0.8106185149009424,\n  3446.064564615044,\n  1732.0224726183992,\n  datetime.date(2021, 6, 17),\n  datetime.date(2021, 7, 21),\n  datetime.date(2021, 8, 31),\n  609],\n [0.8406333865824747,\n  3560.2466555545434,\n  1785.111306236601,\n  datetime.date(2021, 6, 17),\n  datetime.date(2021, 7, 21),\n  datetime.date(2021, 8, 31),\n  610],\n [0.8387961442838165,\n  3549.9138554004076,\n  1779.8974970698196,\n  datetime.date(2021, 6, 17),\n  datetime.date(2021, 7, 21),\n  datetime.date(2021, 8, 31),\n  611],\n [0.8384617426756915,\n  3547.0961108410897,\n  1778.8034052044604,\n  datetime.date(2021, 6, 17),\n  datetime.date(2021, 7, 21),\n  datetime.date(2021, 8, 31),\n  612],\n [0.8384617426756915,\n  3547.0504038602667,\n  1778.7576982236371,\n  datetime.date(2021, 6, 17),\n  datetime.date(2021, 7, 21),\n  datetime.date(2021, 8, 31),\n  613],\n [0.8384617426756915,\n  3546.36263283058,\n  1778.0699271939504,\n  datetime.date(2021, 6, 17),\n  datetime.date(2021, 7, 21),\n  datetime.date(2021, 8, 31),\n  614],\n [0.8384617426756915,\n  3546.903223270883,\n  1778.6105176342535,\n  datetime.date(2021, 6, 17),\n  datetime.date(2021, 7, 21),\n  datetime.date(2021, 8, 31),\n  615],\n [0.8384617426756915,\n  3547.099687325393,\n  1778.8069816887637,\n  datetime.date(2021, 6, 17),\n  datetime.date(2021, 7, 21),\n  datetime.date(2021, 8, 31),\n  616],\n [0.8384617426756915,\n  3547.099687325393,\n  1778.8069816887637,\n  datetime.date(2021, 6, 17),\n  datetime.date(2021, 7, 21),\n  datetime.date(2021, 8, 31),\n  617],\n [0.8384617426756915,\n  3547.099687325393,\n  1778.8069816887637,\n  datetime.date(2021, 6, 17),\n  datetime.date(2021, 7, 21),\n  datetime.date(2021, 8, 31),\n  618],\n [0.8384617426756915,\n  3547.099687325393,\n  1778.8069816887637,\n  datetime.date(2021, 6, 17),\n  datetime.date(2021, 7, 21),\n  datetime.date(2021, 8, 31),\n  619],\n [0.8384617426756915,\n  3547.099687325393,\n  1778.8069816887637,\n  datetime.date(2021, 6, 17),\n  datetime.date(2021, 7, 21),\n  datetime.date(2021, 8, 31),\n  620],\n [0.8227496931981542,\n  3490.24526913294,\n  1744.9202843055496,\n  datetime.date(2021, 6, 18),\n  datetime.date(2021, 7, 22),\n  datetime.date(2021, 9, 1),\n  621],\n [0.8341077303248513,\n  3531.954139393444,\n  1769.314810680449,\n  datetime.date(2021, 6, 16),\n  datetime.date(2021, 7, 20),\n  datetime.date(2021, 8, 29),\n  622],\n [0.8384617426756915,\n  3547.099687325393,\n  1778.8069816887637,\n  datetime.date(2021, 6, 17),\n  datetime.date(2021, 7, 21),\n  datetime.date(2021, 8, 31),\n  623],\n [1.0772121079223065,\n  5314.013248510672,\n  3054.914068078435,\n  datetime.date(2021, 6, 17),\n  datetime.date(2021, 7, 21),\n  datetime.date(2021, 8, 31),\n  624],\n [1.085495895309734,\n  5346.074205513214,\n  3071.5386921851423,\n  datetime.date(2021, 6, 17),\n  datetime.date(2021, 7, 21),\n  datetime.date(2021, 8, 31),\n  625],\n [1.0772121079223065,\n  5314.013248510672,\n  3054.914068078435,\n  datetime.date(2021, 6, 17),\n  datetime.date(2021, 7, 21),\n  datetime.date(2021, 8, 31),\n  626],\n [0.8124700161219645,\n  4218.721891805857,\n  2453.9391718286197,\n  datetime.date(2021, 6, 17),\n  datetime.date(2021, 7, 21),\n  datetime.date(2021, 8, 31),\n  627],\n [1.0744139071663246,\n  5302.532742802639,\n  3047.7961326887103,\n  datetime.date(2021, 6, 17),\n  datetime.date(2021, 7, 21),\n  datetime.date(2021, 8, 31),\n  628],\n [1.0788457307700097,\n  5320.391785274208,\n  3059.9557815703683,\n  datetime.date(2021, 6, 17),\n  datetime.date(2021, 7, 21),\n  datetime.date(2021, 8, 31),\n  629],\n [1.078313202811132,\n  5317.8847750851655,\n  3058.4714973410114,\n  datetime.date(2021, 6, 17),\n  datetime.date(2021, 7, 21),\n  datetime.date(2021, 8, 31),\n  630],\n [1.0772121079223065,\n  4963.805267478896,\n  2704.706087046659,\n  datetime.date(2021, 6, 17),\n  datetime.date(2021, 7, 21),\n  datetime.date(2021, 8, 31),\n  631],\n [1.0772121079223065,\n  5258.861723425121,\n  2999.762542992884,\n  datetime.date(2021, 6, 17),\n  datetime.date(2021, 7, 21),\n  datetime.date(2021, 8, 31),\n  632],\n [1.2931778714574107,\n  6231.827042757651,\n  3524.555924983669,\n  datetime.date(2021, 6, 17),\n  datetime.date(2021, 7, 21),\n  datetime.date(2021, 8, 31),\n  633],\n [1.0666130033055012,\n  5220.905175288119,\n  2992.1169140627617,\n  datetime.date(2021, 6, 17),\n  datetime.date(2021, 7, 21),\n  datetime.date(2021, 8, 31),\n  634],\n [1.154299192805203,\n  5750.0944278755305,\n  3314.155730029386,\n  datetime.date(2021, 6, 17),\n  datetime.date(2021, 7, 21),\n  datetime.date(2021, 8, 31),\n  635],\n [0.8920222604875284,\n  4242.859602716826,\n  2420.22854156422,\n  datetime.date(2021, 6, 17),\n  datetime.date(2021, 7, 21),\n  datetime.date(2021, 8, 31),\n  636],\n [1.0186240669386781,\n  5063.119204866582,\n  2927.204804451048,\n  datetime.date(2021, 6, 17),\n  datetime.date(2021, 7, 21),\n  datetime.date(2021, 8, 31),\n  637],\n [1.0801221997104253,\n  5334.021244552064,\n  3066.6317227178665,\n  datetime.date(2021, 6, 17),\n  datetime.date(2021, 7, 21),\n  datetime.date(2021, 8, 31),\n  638],\n [1.0772121079223065,\n  5319.405081230365,\n  3060.305900798128,\n  datetime.date(2021, 6, 17),\n  datetime.date(2021, 7, 21),\n  datetime.date(2021, 8, 31),\n  639],\n [1.0772121079223065,\n  5317.758751161595,\n  3058.6595707293573,\n  datetime.date(2021, 6, 17),\n  datetime.date(2021, 7, 21),\n  datetime.date(2021, 8, 31),\n  640],\n [1.0772121079223065,\n  5328.508301892147,\n  3069.409121459909,\n  datetime.date(2021, 6, 17),\n  datetime.date(2021, 7, 21),\n  datetime.date(2021, 8, 31),\n  641],\n [1.0772121079223065,\n  5314.013248510672,\n  3054.914068078435,\n  datetime.date(2021, 6, 17),\n  datetime.date(2021, 7, 21),\n  datetime.date(2021, 8, 31),\n  642],\n [1.0772121079223065,\n  5314.013248510672,\n  3054.914068078435,\n  datetime.date(2021, 6, 17),\n  datetime.date(2021, 7, 21),\n  datetime.date(2021, 8, 31),\n  643],\n [1.0772121079223065,\n  5314.013248510672,\n  3054.914068078435,\n  datetime.date(2021, 6, 17),\n  datetime.date(2021, 7, 21),\n  datetime.date(2021, 8, 31),\n  644],\n [1.0781074505641357,\n  5317.490465645847,\n  3056.721508046985,\n  datetime.date(2021, 6, 17),\n  datetime.date(2021, 7, 21),\n  datetime.date(2021, 8, 31),\n  645],\n [1.079951360576046,\n  5332.534750441111,\n  3067.8091166456993,\n  datetime.date(2021, 6, 17),\n  datetime.date(2021, 7, 21),\n  datetime.date(2021, 8, 31),\n  646],\n [0.9952846689067522,\n  4825.030218750642,\n  2753.888759698913,\n  datetime.date(2021, 6, 17),\n  datetime.date(2021, 7, 21),\n  datetime.date(2021, 8, 31),\n  647],\n [1.0957295902390172,\n  5426.887292078261,\n  3122.4811668388597,\n  datetime.date(2021, 6, 17),\n  datetime.date(2021, 7, 21),\n  datetime.date(2021, 8, 31),\n  648],\n [1.0772121079223065,\n  5314.013248510672,\n  3054.914068078435,\n  datetime.date(2021, 6, 17),\n  datetime.date(2021, 7, 21),\n  datetime.date(2021, 8, 31),\n  649],\n [0.9541842488917939,\n  4594.628002202176,\n  2622.703572544544,\n  datetime.date(2021, 6, 17),\n  datetime.date(2021, 7, 21),\n  datetime.date(2021, 8, 31),\n  650],\n [1.088162850791533,\n  5360.553814060671,\n  3078.417433076506,\n  datetime.date(2021, 6, 17),\n  datetime.date(2021, 7, 21),\n  datetime.date(2021, 8, 31),\n  651],\n [1.0805060286512098,\n  5607.799951768037,\n  3334.2131797005222,\n  datetime.date(2021, 6, 17),\n  datetime.date(2021, 7, 21),\n  datetime.date(2021, 8, 31),\n  652],\n [1.0998510960517092,\n  5407.333890471638,\n  3102.602264585533,\n  datetime.date(2021, 6, 17),\n  datetime.date(2021, 7, 21),\n  datetime.date(2021, 8, 31),\n  653],\n [0.9900108041486594,\n  4890.891897991582,\n  2857.02952556409,\n  datetime.date(2021, 6, 17),\n  datetime.date(2021, 7, 21),\n  datetime.date(2021, 8, 31),\n  654],\n [1.0749531296798294,\n  5295.827623358331,\n  3043.6801882485565,\n  datetime.date(2021, 6, 17),\n  datetime.date(2021, 7, 21),\n  datetime.date(2021, 8, 31),\n  655],\n [1.0772075091500226,\n  5313.981628424873,\n  3054.8945188457133,\n  datetime.date(2021, 6, 17),\n  datetime.date(2021, 7, 21),\n  datetime.date(2021, 8, 31),\n  656],\n [1.0771548030991691,\n  5281.604851633681,\n  3022.7498005623574,\n  datetime.date(2021, 6, 17),\n  datetime.date(2021, 7, 21),\n  datetime.date(2021, 8, 31),\n  657],\n [1.0764199363194893,\n  5309.128576375314,\n  3052.009256278311,\n  datetime.date(2021, 6, 17),\n  datetime.date(2021, 7, 21),\n  datetime.date(2021, 8, 31),\n  658],\n [1.0772049392928607,\n  5313.940399387954,\n  3054.863616403968,\n  datetime.date(2021, 6, 17),\n  datetime.date(2021, 7, 21),\n  datetime.date(2021, 8, 31),\n  659],\n [1.0772121079223065,\n  5279.347864846744,\n  3020.248684414507,\n  datetime.date(2021, 6, 17),\n  datetime.date(2021, 7, 21),\n  datetime.date(2021, 8, 31),\n  660],\n [1.0772121079223065,\n  5315.837493910893,\n  3056.738313478655,\n  datetime.date(2021, 6, 17),\n  datetime.date(2021, 7, 21),\n  datetime.date(2021, 8, 31),\n  661],\n [0.9712803315864884,\n  4890.660273943715,\n  2832.3264957363904,\n  datetime.date(2021, 6, 17),\n  datetime.date(2021, 7, 21),\n  datetime.date(2021, 8, 31),\n  662],\n [1.0770918458684557,\n  5313.313629407987,\n  3054.576813409023,\n  datetime.date(2021, 6, 17),\n  datetime.date(2021, 7, 21),\n  datetime.date(2021, 8, 31),\n  663],\n [1.0779331928720741,\n  5319.8168149370285,\n  3057.0115203981773,\n  datetime.date(2021, 6, 17),\n  datetime.date(2021, 7, 21),\n  datetime.date(2021, 8, 31),\n  664],\n [1.0772121079223065,\n  5314.2899251566005,\n  3055.190744724363,\n  datetime.date(2021, 6, 17),\n  datetime.date(2021, 7, 21),\n  datetime.date(2021, 8, 31),\n  665],\n [1.0772121079223065,\n  5313.98233459999,\n  3054.883154167753,\n  datetime.date(2021, 6, 17),\n  datetime.date(2021, 7, 21),\n  datetime.date(2021, 8, 31),\n  666],\n [1.0772121079223065,\n  5312.067965670714,\n  3052.968785238477,\n  datetime.date(2021, 6, 17),\n  datetime.date(2021, 7, 21),\n  datetime.date(2021, 8, 31),\n  667],\n [1.0772121079223065,\n  5314.709052360675,\n  3055.609871928437,\n  datetime.date(2021, 6, 17),\n  datetime.date(2021, 7, 21),\n  datetime.date(2021, 8, 31),\n  668],\n [1.0772121079223065,\n  5314.013248510672,\n  3054.914068078435,\n  datetime.date(2021, 6, 17),\n  datetime.date(2021, 7, 21),\n  datetime.date(2021, 8, 31),\n  669],\n [1.0772121079223065,\n  5314.013248510672,\n  3054.914068078435,\n  datetime.date(2021, 6, 17),\n  datetime.date(2021, 7, 21),\n  datetime.date(2021, 8, 31),\n  670],\n [1.0772121079223065,\n  5314.013248510672,\n  3054.914068078435,\n  datetime.date(2021, 6, 17),\n  datetime.date(2021, 7, 21),\n  datetime.date(2021, 8, 31),\n  671],\n [1.0772121079223065,\n  5314.013248510672,\n  3054.914068078435,\n  datetime.date(2021, 6, 17),\n  datetime.date(2021, 7, 21),\n  datetime.date(2021, 8, 31),\n  672],\n [1.0772121079223065,\n  5314.013248510672,\n  3054.914068078435,\n  datetime.date(2021, 6, 17),\n  datetime.date(2021, 7, 21),\n  datetime.date(2021, 8, 31),\n  673],\n [0.9933025703195375,\n  4989.31125262374,\n  2932.7984462312834,\n  datetime.date(2021, 6, 21),\n  datetime.date(2021, 7, 24),\n  datetime.date(2021, 9, 4),\n  674],\n [1.0641437562788636,\n  5233.613847533772,\n  2996.5639950864634,\n  datetime.date(2021, 6, 16),\n  datetime.date(2021, 7, 20),\n  datetime.date(2021, 8, 29),\n  675],\n [0.5487456937412029,\n  2523.3854818723353,\n  1401.6963958540507,\n  datetime.date(2021, 6, 19),\n  datetime.date(2021, 7, 22),\n  datetime.date(2021, 9, 1),\n  676],\n [0.5534361588301746,\n  2542.302539896688,\n  1411.6096845653597,\n  datetime.date(2021, 6, 19),\n  datetime.date(2021, 7, 22),\n  datetime.date(2021, 9, 1),\n  677],\n [0.7328368945763049,\n  3247.668154833205,\n  1794.2565945080732,\n  datetime.date(2021, 6, 19),\n  datetime.date(2021, 7, 22),\n  datetime.date(2021, 9, 1),\n  678],\n [0.5548984812770892,\n  2548.709623559834,\n  1415.680894232767,\n  datetime.date(2021, 6, 19),\n  datetime.date(2021, 7, 22),\n  datetime.date(2021, 9, 1),\n  679],\n [0.5526465237516143,\n  2538.6333719833565,\n  1408.6119039950645,\n  datetime.date(2021, 6, 19),\n  datetime.date(2021, 7, 22),\n  datetime.date(2021, 9, 1),\n  680],\n [0.5528781444546362,\n  2539.885091768243,\n  1409.3603895448696,\n  datetime.date(2021, 6, 19),\n  datetime.date(2021, 7, 22),\n  datetime.date(2021, 9, 1),\n  681],\n [0.5534361588301746,\n  2763.901756434733,\n  1633.208901103405,\n  datetime.date(2021, 6, 19),\n  datetime.date(2021, 7, 22),\n  datetime.date(2021, 9, 1),\n  682],\n [0.5534361588301746,\n  2588.191958178988,\n  1457.4991028476597,\n  datetime.date(2021, 6, 19),\n  datetime.date(2021, 7, 22),\n  datetime.date(2021, 9, 1),\n  683],\n [0.4678027870692312,\n  2118.789645093332,\n  1180.2019872339683,\n  datetime.date(2021, 6, 19),\n  datetime.date(2021, 7, 22),\n  datetime.date(2021, 9, 1),\n  684],\n [0.5585175112337266,\n  2593.8857436549633,\n  1447.8924409223157,\n  datetime.date(2021, 6, 19),\n  datetime.date(2021, 7, 22),\n  datetime.date(2021, 9, 1),\n  685],\n [0.5200662600295047,\n  2338.6912148751353,\n  1287.869038701557,\n  datetime.date(2021, 6, 19),\n  datetime.date(2021, 7, 22),\n  datetime.date(2021, 9, 1),\n  686],\n [0.6488035888643606,\n  3135.918748220506,\n  1772.6650534418657,\n  datetime.date(2021, 6, 19),\n  datetime.date(2021, 7, 22),\n  datetime.date(2021, 9, 1),\n  687],\n [0.5871555533804469,\n  2692.5044251332492,\n  1489.905560977402,\n  datetime.date(2021, 6, 19),\n  datetime.date(2021, 7, 22),\n  datetime.date(2021, 9, 1),\n  688],\n [0.5517394288452102,\n  2530.026254981757,\n  1404.1231909318672,\n  datetime.date(2021, 6, 19),\n  datetime.date(2021, 7, 22),\n  datetime.date(2021, 9, 1),\n  689],\n [0.5534361588301746,\n  2539.497189103684,\n  1408.804333772356,\n  datetime.date(2021, 6, 19),\n  datetime.date(2021, 7, 22),\n  datetime.date(2021, 9, 1),\n  690],\n [0.5534361588301746,\n  2540.6684239335727,\n  1409.9755686022443,\n  datetime.date(2021, 6, 19),\n  datetime.date(2021, 7, 22),\n  datetime.date(2021, 9, 1),\n  691],\n [0.5534361588301746,\n  2537.7313146385404,\n  1407.0384593072122,\n  datetime.date(2021, 6, 19),\n  datetime.date(2021, 7, 22),\n  datetime.date(2021, 9, 1),\n  692],\n [0.5534361588301746,\n  2542.302539896688,\n  1411.6096845653597,\n  datetime.date(2021, 6, 19),\n  datetime.date(2021, 7, 22),\n  datetime.date(2021, 9, 1),\n  693],\n [0.5534361588301746,\n  2542.302539896688,\n  1411.6096845653597,\n  datetime.date(2021, 6, 19),\n  datetime.date(2021, 7, 22),\n  datetime.date(2021, 9, 1),\n  694],\n [0.5534361588301746,\n  2542.302539896688,\n  1411.6096845653597,\n  datetime.date(2021, 6, 19),\n  datetime.date(2021, 7, 22),\n  datetime.date(2021, 9, 1),\n  695],\n [0.5534361588301746,\n  2542.302539896688,\n  1411.6096845653597,\n  datetime.date(2021, 6, 19),\n  datetime.date(2021, 7, 22),\n  datetime.date(2021, 9, 1),\n  696],\n [0.5521442592875792,\n  2532.843376308492,\n  1404.9929990327241,\n  datetime.date(2021, 6, 19),\n  datetime.date(2021, 7, 22),\n  datetime.date(2021, 9, 1),\n  697],\n [0.6018761228471488,\n  2832.677208567665,\n  1589.7175936286237,\n  datetime.date(2021, 6, 19),\n  datetime.date(2021, 7, 22),\n  datetime.date(2021, 9, 1),\n  698],\n [0.5421670515003896,\n  2471.9670245043644,\n  1368.2377127522814,\n  datetime.date(2021, 6, 19),\n  datetime.date(2021, 7, 22),\n  datetime.date(2021, 9, 1),\n  699],\n [0.5534361588301746,\n  2542.302539896688,\n  1411.6096845653597,\n  datetime.date(2021, 6, 19),\n  datetime.date(2021, 7, 22),\n  datetime.date(2021, 9, 1),\n  700],\n [0.622297173482925,\n  2968.0722485145707,\n  1672.7079131178066,\n  datetime.date(2021, 6, 19),\n  datetime.date(2021, 7, 22),\n  datetime.date(2021, 9, 1),\n  701],\n [0.5484625569123802,\n  2519.795542206547,\n  1399.8277896857185,\n  datetime.date(2021, 6, 19),\n  datetime.date(2021, 7, 22),\n  datetime.date(2021, 9, 1),\n  702],\n [0.5517481942699671,\n  2420.2641807574028,\n  1296.8899978806921,\n  datetime.date(2021, 6, 19),\n  datetime.date(2021, 7, 22),\n  datetime.date(2021, 9, 1),\n  703],\n [0.5430987687335733,\n  2497.0476223926034,\n  1387.741748927966,\n  datetime.date(2021, 6, 19),\n  datetime.date(2021, 7, 22),\n  datetime.date(2021, 9, 1),\n  704],\n [0.600286937524602,\n  2784.9709912222293,\n  1529.8439274978707,\n  datetime.date(2021, 6, 19),\n  datetime.date(2021, 7, 22),\n  datetime.date(2021, 9, 1),\n  705],\n [0.5548856914658207,\n  2553.3451522801133,\n  1418.6290489840599,\n  datetime.date(2021, 6, 19),\n  datetime.date(2021, 7, 22),\n  datetime.date(2021, 9, 1),\n  706],\n [0.5534386944707121,\n  2542.3202495940286,\n  1411.620811348512,\n  datetime.date(2021, 6, 19),\n  datetime.date(2021, 7, 22),\n  datetime.date(2021, 9, 1),\n  707],\n [0.5534666727071182,\n  2561.8296768533046,\n  1431.0094148322062,\n  datetime.date(2021, 6, 19),\n  datetime.date(2021, 7, 22),\n  datetime.date(2021, 9, 1),\n  708],\n [0.5539276095443235,\n  2545.4084503398294,\n  1413.5113294781995,\n  datetime.date(2021, 6, 19),\n  datetime.date(2021, 7, 22),\n  datetime.date(2021, 9, 1),\n  709],\n [0.5534399114111195,\n  2542.3424203524273,\n  1411.638199070768,\n  datetime.date(2021, 6, 19),\n  datetime.date(2021, 7, 22),\n  datetime.date(2021, 9, 1),\n  710],\n [0.5534361588301746,\n  2561.1408333552313,\n  1430.447978023903,\n  datetime.date(2021, 6, 19),\n  datetime.date(2021, 7, 22),\n  datetime.date(2021, 9, 1),\n  711],\n [0.5534361588301746,\n  2541.4062831303063,\n  1410.7134277989778,\n  datetime.date(2021, 6, 19),\n  datetime.date(2021, 7, 22),\n  datetime.date(2021, 9, 1),\n  712],\n [0.616373174817043,\n  2796.0595390572535,\n  1544.6137756377204,\n  datetime.date(2021, 6, 19),\n  datetime.date(2021, 7, 22),\n  datetime.date(2021, 9, 1),\n  713],\n [0.5534951574464075,\n  2542.688307844,\n  1411.8182670092901,\n  datetime.date(2021, 6, 19),\n  datetime.date(2021, 7, 22),\n  datetime.date(2021, 9, 1),\n  714],\n [0.5531099927782457,\n  2539.4183970174827,\n  1410.361365043902,\n  datetime.date(2021, 6, 19),\n  datetime.date(2021, 7, 22),\n  datetime.date(2021, 9, 1),\n  715],\n [0.5534361588301746,\n  2542.1262215875113,\n  1411.433366256183,\n  datetime.date(2021, 6, 19),\n  datetime.date(2021, 7, 22),\n  datetime.date(2021, 9, 1),\n  716],\n [0.5534361588301746,\n  2542.3217807868677,\n  1411.6289254555393,\n  datetime.date(2021, 6, 19),\n  datetime.date(2021, 7, 22),\n  datetime.date(2021, 9, 1),\n  717],\n [0.5534361588301746,\n  2543.407728251903,\n  1412.714872920575,\n  datetime.date(2021, 6, 19),\n  datetime.date(2021, 7, 22),\n  datetime.date(2021, 9, 1),\n  718],\n [0.5534361588301746,\n  2541.9040844759575,\n  1411.2112291446292,\n  datetime.date(2021, 6, 19),\n  datetime.date(2021, 7, 22),\n  datetime.date(2021, 9, 1),\n  719],\n [0.5534361588301746,\n  2542.302539896688,\n  1411.6096845653597,\n  datetime.date(2021, 6, 19),\n  datetime.date(2021, 7, 22),\n  datetime.date(2021, 9, 1),\n  720],\n [0.5534361588301746,\n  2542.302539896688,\n  1411.6096845653597,\n  datetime.date(2021, 6, 19),\n  datetime.date(2021, 7, 22),\n  datetime.date(2021, 9, 1),\n  721],\n [0.5534361588301746,\n  2542.302539896688,\n  1411.6096845653597,\n  datetime.date(2021, 6, 19),\n  datetime.date(2021, 7, 22),\n  datetime.date(2021, 9, 1),\n  722],\n [0.5534361588301746,\n  2542.302539896688,\n  1411.6096845653597,\n  datetime.date(2021, 6, 19),\n  datetime.date(2021, 7, 22),\n  datetime.date(2021, 9, 1),\n  723],\n [0.5534361588301746,\n  2542.302539896688,\n  1411.6096845653597,\n  datetime.date(2021, 6, 19),\n  datetime.date(2021, 7, 22),\n  datetime.date(2021, 9, 1),\n  724],\n [0.5922038363518325,\n  2691.5243287975777,\n  1468.3340648571398,\n  datetime.date(2021, 6, 16),\n  datetime.date(2021, 7, 20),\n  datetime.date(2021, 8, 29),\n  725],\n [0.5413870819028878,\n  2496.3778386402423,\n  1392.2494494166704,\n  datetime.date(2021, 6, 21),\n  datetime.date(2021, 7, 24),\n  datetime.date(2021, 9, 4),\n  726],\n [0.5534361588301746,\n  2542.302539896688,\n  1411.6096845653597,\n  datetime.date(2021, 6, 19),\n  datetime.date(2021, 7, 22),\n  datetime.date(2021, 9, 1),\n  727],\n [0.5616789218257345,\n  2575.0868408142405,\n  1360.808874447989,\n  datetime.date(2021, 6, 19),\n  datetime.date(2021, 7, 22),\n  datetime.date(2021, 9, 1),\n  728],\n [0.6000731965951724,\n  2730.3317933317912,\n  1438.2482720879193,\n  datetime.date(2021, 6, 19),\n  datetime.date(2021, 7, 22),\n  datetime.date(2021, 9, 1),\n  729],\n [0.5616789218257345,\n  2575.0868408142405,\n  1360.808874447989,\n  datetime.date(2021, 6, 19),\n  datetime.date(2021, 7, 22),\n  datetime.date(2021, 9, 1),\n  730],\n [0.6199241973907914,\n  2812.911680109415,\n  1485.5207483749916,\n  datetime.date(2021, 6, 19),\n  datetime.date(2021, 7, 22),\n  datetime.date(2021, 9, 1),\n  731],\n [0.5946085016793008,\n  2719.397374282282,\n  1449.9672991720631,\n  datetime.date(2021, 6, 19),\n  datetime.date(2021, 7, 22),\n  datetime.date(2021, 9, 1),\n  732],\n [0.5644731393861155,\n  2587.7028843639155,\n  1370.9268435608997,\n  datetime.date(2021, 6, 19),\n  datetime.date(2021, 7, 22),\n  datetime.date(2021, 9, 1),\n  733],\n [0.5620868945664351,\n  2576.778742694046,\n  1362.3728824403772,\n  datetime.date(2021, 6, 19),\n  datetime.date(2021, 7, 22),\n  datetime.date(2021, 9, 1),\n  734],\n [0.5616789218257345,\n  2726.638696102438,\n  1512.3607297361864,\n  datetime.date(2021, 6, 19),\n  datetime.date(2021, 7, 22),\n  datetime.date(2021, 9, 1),\n  735],\n [0.5616789218257345,\n  2639.123440554862,\n  1424.8454741886105,\n  datetime.date(2021, 6, 19),\n  datetime.date(2021, 7, 22),\n  datetime.date(2021, 9, 1),\n  736],\n [0.48175793040068604,\n  2174.5987672318524,\n  1152.8942266883685,\n  datetime.date(2021, 6, 19),\n  datetime.date(2021, 7, 22),\n  datetime.date(2021, 9, 1),\n  737],\n [0.5708220445412667,\n  2670.483434601263,\n  1426.1352421006566,\n  datetime.date(2021, 6, 19),\n  datetime.date(2021, 7, 22),\n  datetime.date(2021, 9, 1),\n  738],\n [0.539297966138408,\n  2438.7169048223286,\n  1281.7815145670656,\n  datetime.date(2021, 6, 19),\n  datetime.date(2021, 7, 22),\n  datetime.date(2021, 9, 1),\n  739],\n [0.6002357419344115,\n  2813.258914671276,\n  1498.6580792267807,\n  datetime.date(2021, 6, 19),\n  datetime.date(2021, 7, 22),\n  datetime.date(2021, 9, 1),\n  740],\n [0.5944684176831795,\n  2722.260866741799,\n  1433.5031980582876,\n  datetime.date(2021, 6, 19),\n  datetime.date(2021, 7, 22),\n  datetime.date(2021, 9, 1),\n  741],\n [0.5606311290674824,\n  2567.285337377799,\n  1356.1817652003797,\n  datetime.date(2021, 6, 19),\n  datetime.date(2021, 7, 22),\n  datetime.date(2021, 9, 1),\n  742],\n [0.5616789218257345,\n  2576.126239060771,\n  1361.8482726945188,\n  datetime.date(2021, 6, 19),\n  datetime.date(2021, 7, 22),\n  datetime.date(2021, 9, 1),\n  743],\n [0.5616789218257345,\n  2577.8667784303816,\n  1363.58881206413,\n  datetime.date(2021, 6, 19),\n  datetime.date(2021, 7, 22),\n  datetime.date(2021, 9, 1),\n  744],\n [0.5616789218257345,\n  2569.482806085006,\n  1355.204839718754,\n  datetime.date(2021, 6, 19),\n  datetime.date(2021, 7, 22),\n  datetime.date(2021, 9, 1),\n  745],\n [0.5616789218257345,\n  2575.0868408142405,\n  1360.808874447989,\n  datetime.date(2021, 6, 19),\n  datetime.date(2021, 7, 22),\n  datetime.date(2021, 9, 1),\n  746],\n [0.5616789218257345,\n  2575.0868408142405,\n  1360.808874447989,\n  datetime.date(2021, 6, 19),\n  datetime.date(2021, 7, 22),\n  datetime.date(2021, 9, 1),\n  747],\n [0.5616789218257345,\n  2575.0868408142405,\n  1360.808874447989,\n  datetime.date(2021, 6, 19),\n  datetime.date(2021, 7, 22),\n  datetime.date(2021, 9, 1),\n  748],\n [0.5616789218257345,\n  2575.0868408142405,\n  1360.808874447989,\n  datetime.date(2021, 6, 19),\n  datetime.date(2021, 7, 22),\n  datetime.date(2021, 9, 1),\n  749],\n [0.5611681657172294,\n  2571.2942247137717,\n  1358.2099539833,\n  datetime.date(2021, 6, 19),\n  datetime.date(2021, 7, 22),\n  datetime.date(2021, 9, 1),\n  750],\n [0.6088857882708213,\n  2861.292189517574,\n  1530.8443958760242,\n  datetime.date(2021, 6, 19),\n  datetime.date(2021, 7, 22),\n  datetime.date(2021, 9, 1),\n  751],\n [0.5595442735745129,\n  2561.514064980445,\n  1352.7290303394475,\n  datetime.date(2021, 6, 19),\n  datetime.date(2021, 7, 22),\n  datetime.date(2021, 9, 1),\n  752],\n [0.5616789218257345,\n  2575.0868408142405,\n  1360.808874447989,\n  datetime.date(2021, 6, 19),\n  datetime.date(2021, 7, 22),\n  datetime.date(2021, 9, 1),\n  753],\n [0.6804182727786428,\n  3317.72306308866,\n  1798.7902974835654,\n  datetime.date(2021, 6, 19),\n  datetime.date(2021, 7, 22),\n  datetime.date(2021, 9, 1),\n  754],\n [0.5360773211482829,\n  2457.7326833852235,\n  1302.600422143148,\n  datetime.date(2021, 6, 19),\n  datetime.date(2021, 7, 22),\n  datetime.date(2021, 9, 1),\n  755],\n [0.5590301285316989,\n  2390.910106615523,\n  1188.7753613584946,\n  datetime.date(2021, 6, 19),\n  datetime.date(2021, 7, 22),\n  datetime.date(2021, 9, 1),\n  756],\n [0.577964303251195,\n  2646.662492294707,\n  1396.5103923872048,\n  datetime.date(2021, 6, 19),\n  datetime.date(2021, 7, 22),\n  datetime.date(2021, 9, 1),\n  757],\n [0.5931755213170103,\n  2739.8846812873917,\n  1435.8015041044514,\n  datetime.date(2021, 6, 19),\n  datetime.date(2021, 7, 22),\n  datetime.date(2021, 9, 1),\n  758],\n [0.5629592073064478,\n  2585.275132631028,\n  1367.1075218054157,\n  datetime.date(2021, 6, 19),\n  datetime.date(2021, 7, 22),\n  datetime.date(2021, 9, 1),\n  759],\n [0.5638331861897364,\n  2590.894181606587,\n  1370.5255491720814,\n  datetime.date(2021, 6, 19),\n  datetime.date(2021, 7, 22),\n  datetime.date(2021, 9, 1),\n  760],\n [0.5617059053296556,\n  2593.012099225306,\n  1378.6155234293751,\n  datetime.date(2021, 6, 19),\n  datetime.date(2021, 7, 22),\n  datetime.date(2021, 9, 1),\n  761],\n [0.5603814456386058,\n  2566.625633080614,\n  1355.7817233782691,\n  datetime.date(2021, 6, 19),\n  datetime.date(2021, 7, 22),\n  datetime.date(2021, 9, 1),\n  762],\n [0.5613119605194868,\n  2571.0024875478325,\n  1357.933956968053,\n  datetime.date(2021, 6, 19),\n  datetime.date(2021, 7, 22),\n  datetime.date(2021, 9, 1),\n  763],\n [0.5616789218257345,\n  2599.614296157367,\n  1385.336329791115,\n  datetime.date(2021, 6, 19),\n  datetime.date(2021, 7, 22),\n  datetime.date(2021, 9, 1),\n  764],\n [0.5616789218257345,\n  2575.3995838653827,\n  1361.121617499131,\n  datetime.date(2021, 6, 19),\n  datetime.date(2021, 7, 22),\n  datetime.date(2021, 9, 1),\n  765],\n [0.6473071077786481,\n  2922.8776791826094,\n  1534.7582734103278,\n  datetime.date(2021, 6, 19),\n  datetime.date(2021, 7, 22),\n  datetime.date(2021, 9, 1),\n  766],\n [0.5617425744357938,\n  2575.508517661113,\n  1361.0208656593113,\n  datetime.date(2021, 6, 19),\n  datetime.date(2021, 7, 22),\n  datetime.date(2021, 9, 1),\n  767],\n [0.561465014987163,\n  2573.1810773409293,\n  1360.0619284445052,\n  datetime.date(2021, 6, 19),\n  datetime.date(2021, 7, 22),\n  datetime.date(2021, 9, 1),\n  768],\n [0.5616789218257345,\n  2574.8069616658368,\n  1360.5289952995847,\n  datetime.date(2021, 6, 19),\n  datetime.date(2021, 7, 22),\n  datetime.date(2021, 9, 1),\n  769],\n [0.5616789218257345,\n  2575.1183686290296,\n  1360.8404022627776,\n  datetime.date(2021, 6, 19),\n  datetime.date(2021, 7, 22),\n  datetime.date(2021, 9, 1),\n  770],\n [0.5616789218257345,\n  2577.1998525106574,\n  1362.9218861444058,\n  datetime.date(2021, 6, 19),\n  datetime.date(2021, 7, 22),\n  datetime.date(2021, 9, 1),\n  771],\n [0.5616789218257345,\n  2574.782314327902,\n  1360.50434796165,\n  datetime.date(2021, 6, 19),\n  datetime.date(2021, 7, 22),\n  datetime.date(2021, 9, 1),\n  772],\n [0.5616789218257345,\n  2575.0868408142405,\n  1360.808874447989,\n  datetime.date(2021, 6, 19),\n  datetime.date(2021, 7, 22),\n  datetime.date(2021, 9, 1),\n  773],\n [0.5616789218257345,\n  2575.0868408142405,\n  1360.808874447989,\n  datetime.date(2021, 6, 19),\n  datetime.date(2021, 7, 22),\n  datetime.date(2021, 9, 1),\n  774],\n [0.5616789218257345,\n  2575.0868408142405,\n  1360.808874447989,\n  datetime.date(2021, 6, 19),\n  datetime.date(2021, 7, 22),\n  datetime.date(2021, 9, 1),\n  775],\n [0.5616789218257345,\n  2575.0868408142405,\n  1360.808874447989,\n  datetime.date(2021, 6, 19),\n  datetime.date(2021, 7, 22),\n  datetime.date(2021, 9, 1),\n  776],\n [0.5616789218257345,\n  2575.0868408142405,\n  1360.808874447989,\n  datetime.date(2021, 6, 19),\n  datetime.date(2021, 7, 22),\n  datetime.date(2021, 9, 1),\n  777],\n [0.5998218139450312,\n  2723.250765732654,\n  1409.796830696303,\n  datetime.date(2021, 6, 16),\n  datetime.date(2021, 7, 20),\n  datetime.date(2021, 8, 29),\n  778],\n [0.5616789218257345,\n  2575.0868408142405,\n  1360.808874447989,\n  datetime.date(2021, 6, 19),\n  datetime.date(2021, 7, 22),\n  datetime.date(2021, 9, 1),\n  779],\n [1.0033343328126139,\n  4887.390022407717,\n  2658.7033372069836,\n  datetime.date(2021, 6, 16),\n  datetime.date(2021, 7, 20),\n  datetime.date(2021, 8, 29),\n  780],\n [1.0659328913136403,\n  5134.31502531499,\n  2780.858153371487,\n  datetime.date(2021, 6, 16),\n  datetime.date(2021, 7, 20),\n  datetime.date(2021, 8, 29),\n  781],\n [0.9677325814901907,\n  4742.09748985132,\n  2578.717867436664,\n  datetime.date(2021, 6, 16),\n  datetime.date(2021, 7, 20),\n  datetime.date(2021, 8, 29),\n  782],\n [1.0070297315532002,\n  4892.596032959557,\n  2636.975314596206,\n  datetime.date(2021, 6, 16),\n  datetime.date(2021, 7, 20),\n  datetime.date(2021, 8, 29),\n  783],\n [1.0602294559680527,\n  5112.86345529587,\n  2764.3478362713972,\n  datetime.date(2021, 6, 16),\n  datetime.date(2021, 7, 20),\n  datetime.date(2021, 8, 29),\n  784],\n [1.0651660733500292,\n  5131.763998739234,\n  2778.5294530767515,\n  datetime.date(2021, 6, 16),\n  datetime.date(2021, 7, 20),\n  datetime.date(2021, 8, 29),\n  785],\n [1.0659328913136403,\n  4919.731788266507,\n  2566.274916323004,\n  datetime.date(2021, 6, 16),\n  datetime.date(2021, 7, 20),\n  datetime.date(2021, 8, 29),\n  786],\n [1.0659328913136403,\n  5057.51451720882,\n  2704.057645265317,\n  datetime.date(2021, 6, 16),\n  datetime.date(2021, 7, 20),\n  datetime.date(2021, 8, 29),\n  787],\n [1.2673527127493263,\n  6004.971248172604,\n  3205.939526132862,\n  datetime.date(2021, 6, 16),\n  datetime.date(2021, 7, 20),\n  datetime.date(2021, 8, 29),\n  788],\n [1.0470867912765198,\n  4966.647946518597,\n  2670.347068236788,\n  datetime.date(2021, 6, 16),\n  datetime.date(2021, 7, 20),\n  datetime.date(2021, 8, 29),\n  789],\n [1.1205300314902655,\n  5435.604306462146,\n  2950.3808934526483,\n  datetime.date(2021, 6, 16),\n  datetime.date(2021, 7, 20),\n  datetime.date(2021, 8, 29),\n  790],\n [0.9858899518537088,\n  4675.999380070198,\n  2523.5233194722114,\n  datetime.date(2021, 6, 16),\n  datetime.date(2021, 7, 20),\n  datetime.date(2021, 8, 29),\n  791],\n [1.0139953792680716,\n  4911.620024846061,\n  2674.32572987068,\n  datetime.date(2021, 6, 16),\n  datetime.date(2021, 7, 20),\n  datetime.date(2021, 8, 29),\n  792],\n [1.0676713845503694,\n  5146.269123061624,\n  2787.553996384688,\n  datetime.date(2021, 6, 16),\n  datetime.date(2021, 7, 20),\n  datetime.date(2021, 8, 29),\n  793],\n [1.0659328913136403,\n  5132.340288109113,\n  2778.8834161656105,\n  datetime.date(2021, 6, 16),\n  datetime.date(2021, 7, 20),\n  datetime.date(2021, 8, 29),\n  794],\n [1.0659328913136403,\n  5128.689603016306,\n  2775.2327310728037,\n  datetime.date(2021, 6, 16),\n  datetime.date(2021, 7, 20),\n  datetime.date(2021, 8, 29),\n  795],\n [1.0659328913136403,\n  5150.270598227081,\n  2796.813726283578,\n  datetime.date(2021, 6, 16),\n  datetime.date(2021, 7, 20),\n  datetime.date(2021, 8, 29),\n  796],\n [1.0659328913136403,\n  5134.31502531499,\n  2780.858153371487,\n  datetime.date(2021, 6, 16),\n  datetime.date(2021, 7, 20),\n  datetime.date(2021, 8, 29),\n  797],\n [1.0659328913136403,\n  5134.31502531499,\n  2780.858153371487,\n  datetime.date(2021, 6, 16),\n  datetime.date(2021, 7, 20),\n  datetime.date(2021, 8, 29),\n  798],\n [1.0659328913136403,\n  5134.31502531499,\n  2780.858153371487,\n  datetime.date(2021, 6, 16),\n  datetime.date(2021, 7, 20),\n  datetime.date(2021, 8, 29),\n  799],\n [1.067091352395644,\n  5138.8400478965505,\n  2783.088227474008,\n  datetime.date(2021, 6, 16),\n  datetime.date(2021, 7, 20),\n  datetime.date(2021, 8, 29),\n  800],\n [1.067231691059505,\n  5141.8024668983035,\n  2785.57901424443,\n  datetime.date(2021, 6, 16),\n  datetime.date(2021, 7, 20),\n  datetime.date(2021, 8, 29),\n  801],\n [0.9935166524102724,\n  4698.094089147338,\n  2520.5733729590393,\n  datetime.date(2021, 6, 16),\n  datetime.date(2021, 7, 20),\n  datetime.date(2021, 8, 29),\n  802],\n [1.0690782852968435,\n  5154.128648567188,\n  2792.2719406035876,\n  datetime.date(2021, 6, 16),\n  datetime.date(2021, 7, 20),\n  datetime.date(2021, 8, 29),\n  803],\n [1.0659328913136403,\n  5134.31502531499,\n  2780.858153371487,\n  datetime.date(2021, 6, 16),\n  datetime.date(2021, 7, 20),\n  datetime.date(2021, 8, 29),\n  804],\n [0.8771897376418815,\n  4043.567807280785,\n  2157.2348912931075,\n  datetime.date(2021, 6, 16),\n  datetime.date(2021, 7, 20),\n  datetime.date(2021, 8, 29),\n  805],\n [1.123997810843139,\n  5380.494454515878,\n  2897.2472157536417,\n  datetime.date(2021, 6, 16),\n  datetime.date(2021, 7, 20),\n  datetime.date(2021, 8, 29),\n  806],\n [1.0709965016152452,\n  5576.441769714915,\n  3200.146528410796,\n  datetime.date(2021, 6, 16),\n  datetime.date(2021, 7, 20),\n  datetime.date(2021, 8, 29),\n  807],\n [1.0350904693004928,\n  5005.407854888319,\n  2718.368953229676,\n  datetime.date(2021, 6, 16),\n  datetime.date(2021, 7, 20),\n  datetime.date(2021, 8, 29),\n  808],\n [1.0060456957216548,\n  4843.471030577871,\n  2654.8914185529065,\n  datetime.date(2021, 6, 16),\n  datetime.date(2021, 7, 20),\n  datetime.date(2021, 8, 29),\n  809],\n [1.0640861646332707,\n  5118.0983378977235,\n  2771.0262688316893,\n  datetime.date(2021, 6, 16),\n  datetime.date(2021, 7, 20),\n  datetime.date(2021, 8, 29),\n  810],\n [1.0620320570232764,\n  5107.316914123833,\n  2764.7242602248643,\n  datetime.date(2021, 6, 16),\n  datetime.date(2021, 7, 20),\n  datetime.date(2021, 8, 29),\n  811],\n [1.0658873107730122,\n  5108.335999733583,\n  2755.0778715313263,\n  datetime.date(2021, 6, 16),\n  datetime.date(2021, 7, 20),\n  datetime.date(2021, 8, 29),\n  812],\n [1.0679881649100318,\n  5147.076745022655,\n  2788.164490282257,\n  datetime.date(2021, 6, 16),\n  datetime.date(2021, 7, 20),\n  datetime.date(2021, 8, 29),\n  813],\n [1.0666280060212767,\n  5141.384018401361,\n  2785.6340124937597,\n  datetime.date(2021, 6, 16),\n  datetime.date(2021, 7, 20),\n  datetime.date(2021, 8, 29),\n  814],\n [1.0659328913136403,\n  5093.575988447379,\n  2740.1191165038767,\n  datetime.date(2021, 6, 16),\n  datetime.date(2021, 7, 20),\n  datetime.date(2021, 8, 29),\n  815],\n [1.0659328913136403,\n  5133.794471120875,\n  2780.3375991773723,\n  datetime.date(2021, 6, 16),\n  datetime.date(2021, 7, 20),\n  datetime.date(2021, 8, 29),\n  816],\n [0.9353663136319382,\n  4608.799337902551,\n  2518.537980257091,\n  datetime.date(2021, 6, 16),\n  datetime.date(2021, 7, 20),\n  datetime.date(2021, 8, 29),\n  817],\n [1.0658185149024357,\n  5133.641012029051,\n  2780.553782761078,\n  datetime.date(2021, 6, 16),\n  datetime.date(2021, 7, 20),\n  datetime.date(2021, 8, 29),\n  818],\n [1.0663418221533285,\n  5137.6733952817485,\n  2782.0064742522795,\n  datetime.date(2021, 6, 16),\n  datetime.date(2021, 7, 20),\n  datetime.date(2021, 8, 29),\n  819],\n [1.0659328913136403,\n  5134.714207214305,\n  2781.2573352708023,\n  datetime.date(2021, 6, 16),\n  datetime.date(2021, 7, 20),\n  datetime.date(2021, 8, 29),\n  820],\n [1.0659328913136403,\n  5134.270068171877,\n  2780.813196228374,\n  datetime.date(2021, 6, 16),\n  datetime.date(2021, 7, 20),\n  datetime.date(2021, 8, 29),\n  821],\n [1.0659328913136403,\n  5131.019547760906,\n  2777.562675817403,\n  datetime.date(2021, 6, 16),\n  datetime.date(2021, 7, 20),\n  datetime.date(2021, 8, 29),\n  822],\n [1.0659328913136403,\n  5134.7683075621435,\n  2781.31143561864,\n  datetime.date(2021, 6, 16),\n  datetime.date(2021, 7, 20),\n  datetime.date(2021, 8, 29),\n  823],\n [1.0659328913136403,\n  5134.31502531499,\n  2780.858153371487,\n  datetime.date(2021, 6, 16),\n  datetime.date(2021, 7, 20),\n  datetime.date(2021, 8, 29),\n  824],\n [1.0659328913136403,\n  5134.31502531499,\n  2780.858153371487,\n  datetime.date(2021, 6, 16),\n  datetime.date(2021, 7, 20),\n  datetime.date(2021, 8, 29),\n  825],\n [1.0659328913136403,\n  5134.31502531499,\n  2780.858153371487,\n  datetime.date(2021, 6, 16),\n  datetime.date(2021, 7, 20),\n  datetime.date(2021, 8, 29),\n  826],\n [1.0659328913136403,\n  5134.31502531499,\n  2780.858153371487,\n  datetime.date(2021, 6, 16),\n  datetime.date(2021, 7, 20),\n  datetime.date(2021, 8, 29),\n  827],\n [1.0659328913136403,\n  5134.31502531499,\n  2780.858153371487,\n  datetime.date(2021, 6, 16),\n  datetime.date(2021, 7, 20),\n  datetime.date(2021, 8, 29),\n  828],\n [1.0273350871140612,\n  5005.675098520445,\n  2771.8223423983563,\n  datetime.date(2021, 6, 19),\n  datetime.date(2021, 7, 22),\n  datetime.date(2021, 9, 1),\n  829],\n [1.0659328913136403,\n  5134.31502531499,\n  2780.858153371487,\n  datetime.date(2021, 6, 16),\n  datetime.date(2021, 7, 20),\n  datetime.date(2021, 8, 29),\n  830],\n [1.0659328913136403,\n  5134.31502531499,\n  2780.858153371487,\n  datetime.date(2021, 6, 16),\n  datetime.date(2021, 7, 20),\n  datetime.date(2021, 8, 29),\n  831],\n [1.1741005044537947,\n  5466.404022840792,\n  2952.7121161744903,\n  datetime.date(2021, 6, 19),\n  datetime.date(2021, 7, 22),\n  datetime.date(2021, 9, 1),\n  832],\n [1.1666981999051043,\n  5439.9932855327315,\n  2940.1298829722864,\n  datetime.date(2021, 6, 19),\n  datetime.date(2021, 7, 22),\n  datetime.date(2021, 9, 1),\n  833],\n [1.1741005044537947,\n  5466.404022840792,\n  2952.7121161744903,\n  datetime.date(2021, 6, 19),\n  datetime.date(2021, 7, 22),\n  datetime.date(2021, 9, 1),\n  834],\n [1.156870528119521,\n  5404.392722415905,\n  2921.787584583655,\n  datetime.date(2021, 6, 19),\n  datetime.date(2021, 7, 22),\n  datetime.date(2021, 9, 1),\n  835],\n [1.240742618950121,\n  5711.633614647884,\n  3097.071664002683,\n  datetime.date(2021, 6, 19),\n  datetime.date(2021, 7, 22),\n  datetime.date(2021, 9, 1),\n  836],\n [1.138276035321314,\n  5337.036626406552,\n  2851.580753906313,\n  datetime.date(2021, 6, 19),\n  datetime.date(2021, 7, 22),\n  datetime.date(2021, 9, 1),\n  837],\n [1.1754242387710614,\n  5470.631056325979,\n  2956.584659580616,\n  datetime.date(2021, 6, 19),\n  datetime.date(2021, 7, 22),\n  datetime.date(2021, 9, 1),\n  838],\n [1.1741005044537947,\n  5257.072184152699,\n  2743.380277486397,\n  datetime.date(2021, 6, 19),\n  datetime.date(2021, 7, 22),\n  datetime.date(2021, 9, 1),\n  839],\n [1.1741005044537947,\n  5452.922998756241,\n  2939.2310920899404,\n  datetime.date(2021, 6, 19),\n  datetime.date(2021, 7, 22),\n  datetime.date(2021, 9, 1),\n  840],\n [1.1179674595915579,\n  5230.138534285418,\n  2837.8377238283633,\n  datetime.date(2021, 6, 19),\n  datetime.date(2021, 7, 22),\n  datetime.date(2021, 9, 1),\n  841],\n [1.1404412584883223,\n  5169.47211824913,\n  2755.1446335004034,\n  datetime.date(2021, 6, 19),\n  datetime.date(2021, 7, 22),\n  datetime.date(2021, 9, 1),\n  842],\n [1.1209266932135202,\n  5175.351123625285,\n  2787.7795719504734,\n  datetime.date(2021, 6, 19),\n  datetime.date(2021, 7, 22),\n  datetime.date(2021, 9, 1),\n  843],\n [1.1912978643007823,\n  5559.926002011562,\n  3005.0358883281983,\n  datetime.date(2021, 6, 19),\n  datetime.date(2021, 7, 22),\n  datetime.date(2021, 9, 1),\n  844],\n [1.1842897708428073,\n  5506.1511539639805,\n  2971.1982172732914,\n  datetime.date(2021, 6, 19),\n  datetime.date(2021, 7, 22),\n  datetime.date(2021, 9, 1),\n  845],\n [1.1818579223351635,\n  5515.530720033229,\n  2979.9422371552755,\n  datetime.date(2021, 6, 19),\n  datetime.date(2021, 7, 22),\n  datetime.date(2021, 9, 1),\n  846],\n [1.1741005044537947,\n  5446.797997185869,\n  2933.1060905195673,\n  datetime.date(2021, 6, 19),\n  datetime.date(2021, 7, 22),\n  datetime.date(2021, 9, 1),\n  847],\n [1.1741005044537947,\n  5420.417445361637,\n  2906.7255386953357,\n  datetime.date(2021, 6, 19),\n  datetime.date(2021, 7, 22),\n  datetime.date(2021, 9, 1),\n  848],\n [1.1741005044537947,\n  5478.224149594567,\n  2964.5322429282655,\n  datetime.date(2021, 6, 19),\n  datetime.date(2021, 7, 22),\n  datetime.date(2021, 9, 1),\n  849],\n [1.1741005044537947,\n  5466.404022840792,\n  2952.7121161744903,\n  datetime.date(2021, 6, 19),\n  datetime.date(2021, 7, 22),\n  datetime.date(2021, 9, 1),\n  850],\n [1.1741005044537947,\n  5466.404022840792,\n  2952.7121161744903,\n  datetime.date(2021, 6, 19),\n  datetime.date(2021, 7, 22),\n  datetime.date(2021, 9, 1),\n  851],\n [1.1741005044537947,\n  5466.404022840792,\n  2952.7121161744903,\n  datetime.date(2021, 6, 19),\n  datetime.date(2021, 7, 22),\n  datetime.date(2021, 9, 1),\n  852],\n [1.1741005044537947,\n  5466.404022840792,\n  2952.7121161744903,\n  datetime.date(2021, 6, 19),\n  datetime.date(2021, 7, 22),\n  datetime.date(2021, 9, 1),\n  853],\n [1.1741719596395321,\n  5466.91293549369,\n  2953.068208467719,\n  datetime.date(2021, 6, 19),\n  datetime.date(2021, 7, 22),\n  datetime.date(2021, 9, 1),\n  854],\n [1.0716971017541759,\n  4925.309024056021,\n  2644.322618303186,\n  datetime.date(2021, 6, 19),\n  datetime.date(2021, 7, 22),\n  datetime.date(2021, 9, 1),\n  855],\n [1.1562070669166622,\n  5369.398871538806,\n  2898.197766579394,\n  datetime.date(2021, 6, 19),\n  datetime.date(2021, 7, 22),\n  datetime.date(2021, 9, 1),\n  856],\n [1.1741005044537947,\n  5466.404022840792,\n  2952.7121161744903,\n  datetime.date(2021, 6, 19),\n  datetime.date(2021, 7, 22),\n  datetime.date(2021, 9, 1),\n  857],\n [1.026378547739984,\n  4663.789915536156,\n  2497.763229821222,\n  datetime.date(2021, 6, 19),\n  datetime.date(2021, 7, 22),\n  datetime.date(2021, 9, 1),\n  858],\n [1.081803110789943,\n  5095.839758290556,\n  2778.6769572502217,\n  datetime.date(2021, 6, 19),\n  datetime.date(2021, 7, 22),\n  datetime.date(2021, 9, 1),\n  859],\n [1.1751361421382207,\n  5542.323281316767,\n  3024.036716154385,\n  datetime.date(2021, 6, 19),\n  datetime.date(2021, 7, 22),\n  datetime.date(2021, 9, 1),\n  860],\n [1.1539359845527082,\n  5388.976155086893,\n  2916.253927779075,\n  datetime.date(2021, 6, 19),\n  datetime.date(2021, 7, 22),\n  datetime.date(2021, 9, 1),\n  861],\n [1.1447418221221413,\n  5333.1040821268625,\n  2896.1320168698057,\n  datetime.date(2021, 6, 19),\n  datetime.date(2021, 7, 22),\n  datetime.date(2021, 9, 1),\n  862],\n [1.1700284968548265,\n  5438.05154379462,\n  2936.1244806871396,\n  datetime.date(2021, 6, 19),\n  datetime.date(2021, 7, 22),\n  datetime.date(2021, 9, 1),\n  863],\n [1.170838771597378,\n  5445.128913292203,\n  2940.152816464688,\n  datetime.date(2021, 6, 19),\n  datetime.date(2021, 7, 22),\n  datetime.date(2021, 9, 1),\n  864],\n [1.1741145001769517,\n  5473.590657581836,\n  2959.8392322954915,\n  datetime.date(2021, 6, 19),\n  datetime.date(2021, 7, 22),\n  datetime.date(2021, 9, 1),\n  865],\n [1.1741572857242888,\n  5466.735109860485,\n  2952.899661175215,\n  datetime.date(2021, 6, 19),\n  datetime.date(2021, 7, 22),\n  datetime.date(2021, 9, 1),\n  866],\n [1.1742984340547373,\n  5468.322105124077,\n  2954.0038022073595,\n  datetime.date(2021, 6, 19),\n  datetime.date(2021, 7, 22),\n  datetime.date(2021, 9, 1),\n  867],\n [1.1741005044537947,\n  5417.610329086717,\n  2903.9184224204155,\n  datetime.date(2021, 6, 19),\n  datetime.date(2021, 7, 22),\n  datetime.date(2021, 9, 1),\n  868],\n [1.1741005044537947,\n  5466.167126642602,\n  2952.475219976301,\n  datetime.date(2021, 6, 19),\n  datetime.date(2021, 7, 22),\n  datetime.date(2021, 9, 1),\n  869],\n [1.1048353876641597,\n  5213.926906693783,\n  2831.172095920369,\n  datetime.date(2021, 6, 19),\n  datetime.date(2021, 7, 22),\n  datetime.date(2021, 9, 1),\n  870],\n [1.1755243918615492,\n  5474.428943584766,\n  2956.370110247446,\n  datetime.date(2021, 6, 19),\n  datetime.date(2021, 7, 22),\n  datetime.date(2021, 9, 1),\n  871],\n [1.1746324166198039,\n  5470.567082983671,\n  2954.131075791161,\n  datetime.date(2021, 6, 19),\n  datetime.date(2021, 7, 22),\n  datetime.date(2021, 9, 1),\n  872],\n [1.1741005044537947,\n  5466.4124077859815,\n  2952.7205011196797,\n  datetime.date(2021, 6, 19),\n  datetime.date(2021, 7, 22),\n  datetime.date(2021, 9, 1),\n  873],\n [1.1741005044537947,\n  5466.493359151572,\n  2952.8014524852706,\n  datetime.date(2021, 6, 19),\n  datetime.date(2021, 7, 22),\n  datetime.date(2021, 9, 1),\n  874],\n [1.1741005044537947,\n  5468.251743601666,\n  2954.5598369353647,\n  datetime.date(2021, 6, 19),\n  datetime.date(2021, 7, 22),\n  datetime.date(2021, 9, 1),\n  875],\n [1.1741005044537947,\n  5466.4877646833065,\n  2952.7958580170043,\n  datetime.date(2021, 6, 19),\n  datetime.date(2021, 7, 22),\n  datetime.date(2021, 9, 1),\n  876],\n [1.1741005044537947,\n  5466.404022840792,\n  2952.7121161744903,\n  datetime.date(2021, 6, 19),\n  datetime.date(2021, 7, 22),\n  datetime.date(2021, 9, 1),\n  877],\n [1.1741005044537947,\n  5466.404022840792,\n  2952.7121161744903,\n  datetime.date(2021, 6, 19),\n  datetime.date(2021, 7, 22),\n  datetime.date(2021, 9, 1),\n  878],\n [1.1741005044537947,\n  5466.404022840792,\n  2952.7121161744903,\n  datetime.date(2021, 6, 19),\n  datetime.date(2021, 7, 22),\n  datetime.date(2021, 9, 1),\n  879],\n [1.1741005044537947,\n  5466.404022840792,\n  2952.7121161744903,\n  datetime.date(2021, 6, 19),\n  datetime.date(2021, 7, 22),\n  datetime.date(2021, 9, 1),\n  880],\n [1.1741005044537947,\n  5466.404022840792,\n  2952.7121161744903,\n  datetime.date(2021, 6, 19),\n  datetime.date(2021, 7, 22),\n  datetime.date(2021, 9, 1),\n  881],\n [1.2488680317527334,\n  5714.302089977144,\n  3020.112119274841,\n  datetime.date(2021, 6, 16),\n  datetime.date(2021, 7, 20),\n  datetime.date(2021, 8, 29),\n  882],\n [1.1741005044537947,\n  5466.404022840792,\n  2952.7121161744903,\n  datetime.date(2021, 6, 19),\n  datetime.date(2021, 7, 22),\n  datetime.date(2021, 9, 1),\n  883],\n [0.746195154544799,\n  3043.671766882361,\n  1490.739474926777,\n  datetime.date(2021, 6, 16),\n  datetime.date(2021, 7, 20),\n  datetime.date(2021, 8, 29),\n  884],\n [0.7409061635115431,\n  3025.1150649668207,\n  1482.3128859921844,\n  datetime.date(2021, 6, 16),\n  datetime.date(2021, 7, 20),\n  datetime.date(2021, 8, 29),\n  885],\n [0.7523010001981655,\n  3065.420332876791,\n  1501.5784787036655,\n  datetime.date(2021, 6, 16),\n  datetime.date(2021, 7, 20),\n  datetime.date(2021, 8, 29),\n  886],\n [0.7033045989996604,\n  2883.772460249036,\n  1401.4303727923495,\n  datetime.date(2021, 6, 16),\n  datetime.date(2021, 7, 20),\n  datetime.date(2021, 8, 29),\n  887],\n [0.7637981729106772,\n  3110.465391415095,\n  1548.422812177641,\n  datetime.date(2021, 6, 16),\n  datetime.date(2021, 7, 20),\n  datetime.date(2021, 8, 29),\n  888],\n [0.7401311861415473,\n  3022.489122930782,\n  1479.9104514911614,\n  datetime.date(2021, 6, 16),\n  datetime.date(2021, 7, 20),\n  datetime.date(2021, 8, 29),\n  889],\n [0.7409061635115431,\n  3162.6852006067406,\n  1619.8830216321044,\n  datetime.date(2021, 6, 16),\n  datetime.date(2021, 7, 20),\n  datetime.date(2021, 8, 29),\n  890],\n [0.7409061635115431,\n  3040.7730765599777,\n  1497.9708975853414,\n  datetime.date(2021, 6, 16),\n  datetime.date(2021, 7, 20),\n  datetime.date(2021, 8, 29),\n  891],\n [0.7818264027199054,\n  3196.402776152764,\n  1563.057938999742,\n  datetime.date(2021, 6, 16),\n  datetime.date(2021, 7, 20),\n  datetime.date(2021, 8, 29),\n  892],\n [0.7642529398113107,\n  3228.254958506129,\n  1614.2466708902487,\n  datetime.date(2021, 6, 16),\n  datetime.date(2021, 7, 20),\n  datetime.date(2021, 8, 29),\n  893],\n [0.7779161658847268,\n  3211.248483172685,\n  1581.435530146881,\n  datetime.date(2021, 6, 16),\n  datetime.date(2021, 7, 20),\n  datetime.date(2021, 8, 29),\n  894],\n [0.730597304141202,\n  2970.7460954549915,\n  1453.2419153482708,\n  datetime.date(2021, 6, 16),\n  datetime.date(2021, 7, 20),\n  datetime.date(2021, 8, 29),\n  895],\n [0.7347156697768887,\n  3000.9204437858198,\n  1471.4999913627523,\n  datetime.date(2021, 6, 16),\n  datetime.date(2021, 7, 20),\n  datetime.date(2021, 8, 29),\n  896],\n [0.735994859950303,\n  2993.5249583989207,\n  1465.3266525149634,\n  datetime.date(2021, 6, 16),\n  datetime.date(2021, 7, 20),\n  datetime.date(2021, 8, 29),\n  897],\n [0.7409061635115431,\n  3038.4235899474875,\n  1495.6214109728512,\n  datetime.date(2021, 6, 16),\n  datetime.date(2021, 7, 20),\n  datetime.date(2021, 8, 29),\n  898],\n [0.7409061635115431,\n  3045.676806112503,\n  1502.8746271378668,\n  datetime.date(2021, 6, 16),\n  datetime.date(2021, 7, 20),\n  datetime.date(2021, 8, 29),\n  899],\n [0.7409061635115431,\n  3019.7304810775395,\n  1476.9283021029032,\n  datetime.date(2021, 6, 16),\n  datetime.date(2021, 7, 20),\n  datetime.date(2021, 8, 29),\n  900],\n [0.7409061635115431,\n  3025.1150649668207,\n  1482.3128859921844,\n  datetime.date(2021, 6, 16),\n  datetime.date(2021, 7, 20),\n  datetime.date(2021, 8, 29),\n  901],\n [0.7409061635115431,\n  3025.1150649668207,\n  1482.3128859921844,\n  datetime.date(2021, 6, 16),\n  datetime.date(2021, 7, 20),\n  datetime.date(2021, 8, 29),\n  902],\n [0.7409061635115431,\n  3025.1150649668207,\n  1482.3128859921844,\n  datetime.date(2021, 6, 16),\n  datetime.date(2021, 7, 20),\n  datetime.date(2021, 8, 29),\n  903],\n [0.7401153284976982,\n  3022.3299192380864,\n  1481.0443167533874,\n  datetime.date(2021, 6, 16),\n  datetime.date(2021, 7, 20),\n  datetime.date(2021, 8, 29),\n  904],\n [0.7408196293587912,\n  3024.7086449094995,\n  1482.085216035544,\n  datetime.date(2021, 6, 16),\n  datetime.date(2021, 7, 20),\n  datetime.date(2021, 8, 29),\n  905],\n [0.8038428137914014,\n  3357.330522451835,\n  1666.3403650443565,\n  datetime.date(2021, 6, 16),\n  datetime.date(2021, 7, 20),\n  datetime.date(2021, 8, 29),\n  906],\n [0.7517572824064311,\n  3088.067996373292,\n  1517.0443186214272,\n  datetime.date(2021, 6, 16),\n  datetime.date(2021, 7, 20),\n  datetime.date(2021, 8, 29),\n  907],\n [0.7409061635115431,\n  3025.1150649668207,\n  1482.3128859921844,\n  datetime.date(2021, 6, 16),\n  datetime.date(2021, 7, 20),\n  datetime.date(2021, 8, 29),\n  908],\n [0.8465473284583224,\n  3583.9536234823,\n  1785.4678213195866,\n  datetime.date(2021, 6, 16),\n  datetime.date(2021, 7, 20),\n  datetime.date(2021, 8, 29),\n  909],\n [0.8014592111661392,\n  3261.2523224317392,\n  1587.0598721279223,\n  datetime.date(2021, 6, 16),\n  datetime.date(2021, 7, 20),\n  datetime.date(2021, 8, 29),\n  910],\n [0.7403736068434857,\n  2988.4579739208293,\n  1448.1373933849254,\n  datetime.date(2021, 6, 16),\n  datetime.date(2021, 7, 20),\n  datetime.date(2021, 8, 29),\n  911],\n [0.7531356583336889,\n  3071.405414950727,\n  1503.2468567760025,\n  datetime.date(2021, 6, 16),\n  datetime.date(2021, 7, 20),\n  datetime.date(2021, 8, 29),\n  912],\n [0.7585068441049987,\n  3105.373554675058,\n  1514.6701386507743,\n  datetime.date(2021, 6, 16),\n  datetime.date(2021, 7, 20),\n  datetime.date(2021, 8, 29),\n  913],\n [0.7428851305394297,\n  3042.1353539227275,\n  1492.5410349757997,\n  datetime.date(2021, 6, 16),\n  datetime.date(2021, 7, 20),\n  datetime.date(2021, 8, 29),\n  914],\n [0.7430044512488664,\n  3038.608144393709,\n  1490.0999608963023,\n  datetime.date(2021, 6, 16),\n  datetime.date(2021, 7, 20),\n  datetime.date(2021, 8, 29),\n  915],\n [0.7408985883798326,\n  3020.72798912283,\n  1477.9597924148306,\n  datetime.date(2021, 6, 16),\n  datetime.date(2021, 7, 20),\n  datetime.date(2021, 8, 29),\n  916],\n [0.7408667926863668,\n  3024.889706907841,\n  1482.1875325869412,\n  datetime.date(2021, 6, 16),\n  datetime.date(2021, 7, 20),\n  datetime.date(2021, 8, 29),\n  917],\n [0.7407835269099187,\n  3023.8970290556094,\n  1481.4922567620856,\n  datetime.date(2021, 6, 16),\n  datetime.date(2021, 7, 20),\n  datetime.date(2021, 8, 29),\n  918],\n [0.7409061635115431,\n  3053.488306825662,\n  1510.686127851026,\n  datetime.date(2021, 6, 16),\n  datetime.date(2021, 7, 20),\n  datetime.date(2021, 8, 29),\n  919],\n [0.7409061635115431,\n  3025.237225042584,\n  1482.435046067948,\n  datetime.date(2021, 6, 16),\n  datetime.date(2021, 7, 20),\n  datetime.date(2021, 8, 29),\n  920],\n [0.7900161863883921,\n  3197.9936376301735,\n  1561.0206503772454,\n  datetime.date(2021, 6, 16),\n  datetime.date(2021, 7, 20),\n  datetime.date(2021, 8, 29),\n  921],\n [0.7401755998288616,\n  3020.8075802763115,\n  1480.37863932723,\n  datetime.date(2021, 6, 16),\n  datetime.date(2021, 7, 20),\n  datetime.date(2021, 8, 29),\n  922],\n [0.7406391982048254,\n  3022.8709702789947,\n  1481.5607699026752,\n  datetime.date(2021, 6, 16),\n  datetime.date(2021, 7, 20),\n  datetime.date(2021, 8, 29),\n  923],\n [0.7409061635115431,\n  3025.1091785795043,\n  1482.306999604868,\n  datetime.date(2021, 6, 16),\n  datetime.date(2021, 7, 20),\n  datetime.date(2021, 8, 29),\n  924],\n [0.7409061635115431,\n  3025.053016460043,\n  1482.250837485407,\n  datetime.date(2021, 6, 16),\n  datetime.date(2021, 7, 20),\n  datetime.date(2021, 8, 29),\n  925],\n [0.7409061635115431,\n  3023.85496037006,\n  1481.0527813954236,\n  datetime.date(2021, 6, 16),\n  datetime.date(2021, 7, 20),\n  datetime.date(2021, 8, 29),\n  926],\n [0.7409061635115431,\n  3025.0594698298864,\n  1482.2572908552502,\n  datetime.date(2021, 6, 16),\n  datetime.date(2021, 7, 20),\n  datetime.date(2021, 8, 29),\n  927],\n [0.7409061635115431,\n  3025.1150649668207,\n  1482.3128859921844,\n  datetime.date(2021, 6, 16),\n  datetime.date(2021, 7, 20),\n  datetime.date(2021, 8, 29),\n  928],\n [0.7409061635115431,\n  3025.1150649668207,\n  1482.3128859921844,\n  datetime.date(2021, 6, 16),\n  datetime.date(2021, 7, 20),\n  datetime.date(2021, 8, 29),\n  929],\n [0.7409061635115431,\n  3025.1150649668207,\n  1482.3128859921844,\n  datetime.date(2021, 6, 16),\n  datetime.date(2021, 7, 20),\n  datetime.date(2021, 8, 29),\n  930],\n [0.7409061635115431,\n  3025.1150649668207,\n  1482.3128859921844,\n  datetime.date(2021, 6, 16),\n  datetime.date(2021, 7, 20),\n  datetime.date(2021, 8, 29),\n  931],\n [0.7409061635115431,\n  3025.1150649668207,\n  1482.3128859921844,\n  datetime.date(2021, 6, 16),\n  datetime.date(2021, 7, 20),\n  datetime.date(2021, 8, 29),\n  932],\n [0.699373059565448,\n  2880.4816933686516,\n  1443.7852988181724,\n  datetime.date(2021, 6, 19),\n  datetime.date(2021, 7, 22),\n  datetime.date(2021, 9, 1),\n  933],\n [0.7409061635115431,\n  3025.1150649668207,\n  1482.3128859921844,\n  datetime.date(2021, 6, 16),\n  datetime.date(2021, 7, 20),\n  datetime.date(2021, 8, 29),\n  934],\n [0.7409061635115431,\n  3025.1150649668207,\n  1482.3128859921844,\n  datetime.date(2021, 6, 16),\n  datetime.date(2021, 7, 20),\n  datetime.date(2021, 8, 29),\n  935],\n [0.5865224101283851,\n  2517.064798346476,\n  1280.4657975774278,\n  datetime.date(2021, 6, 16),\n  datetime.date(2021, 7, 20),\n  datetime.date(2021, 8, 29),\n  936],\n [0.5572770071993584,\n  2405.476407996931,\n  1226.8932453592058,\n  datetime.date(2021, 6, 16),\n  datetime.date(2021, 7, 20),\n  datetime.date(2021, 8, 29),\n  937],\n [0.5865224101283851,\n  2517.064798346476,\n  1280.4657975774278,\n  datetime.date(2021, 6, 16),\n  datetime.date(2021, 7, 20),\n  datetime.date(2021, 8, 29),\n  938],\n [0.5789080375960625,\n  2487.840425475663,\n  1265.7792119469502,\n  datetime.date(2021, 6, 16),\n  datetime.date(2021, 7, 20),\n  datetime.date(2021, 8, 29),\n  939],\n [0.5478063245693745,\n  2358.0428941619075,\n  1186.0478491982121,\n  datetime.date(2021, 6, 16),\n  datetime.date(2021, 7, 20),\n  datetime.date(2021, 8, 29),\n  940],\n [0.5988857606552056,\n  2568.995320227733,\n  1321.416489332976,\n  datetime.date(2021, 6, 16),\n  datetime.date(2021, 7, 20),\n  datetime.date(2021, 8, 29),\n  941],\n [0.5866732460477281,\n  2517.64862205982,\n  1281.0038778337316,\n  datetime.date(2021, 6, 16),\n  datetime.date(2021, 7, 20),\n  datetime.date(2021, 8, 29),\n  942],\n [0.5865224101283851,\n  2783.9014327157024,\n  1547.3024319466542,\n  datetime.date(2021, 6, 16),\n  datetime.date(2021, 7, 20),\n  datetime.date(2021, 8, 29),\n  943],\n [0.5865224101283851,\n  2504.772704414332,\n  1268.1737036452837,\n  datetime.date(2021, 6, 16),\n  datetime.date(2021, 7, 20),\n  datetime.date(2021, 8, 29),\n  944],\n [0.5638558727956012,\n  2413.7186938981895,\n  1228.9534057946405,\n  datetime.date(2021, 6, 16),\n  datetime.date(2021, 7, 20),\n  datetime.date(2021, 8, 29),\n  945],\n [0.6043847390964125,\n  2681.933742228496,\n  1389.920139758081,\n  datetime.date(2021, 6, 16),\n  datetime.date(2021, 7, 20),\n  datetime.date(2021, 8, 29),\n  946],\n [0.6385642332978152,\n  2800.062951984368,\n  1437.7154218236437,\n  datetime.date(2021, 6, 16),\n  datetime.date(2021, 7, 20),\n  datetime.date(2021, 8, 29),\n  947],\n [0.6237913042860246,\n  2730.110683026929,\n  1399.6910238679313,\n  datetime.date(2021, 6, 16),\n  datetime.date(2021, 7, 20),\n  datetime.date(2021, 8, 29),\n  948],\n [0.5828886569664359,\n  2501.7368174065737,\n  1273.2155942597367,\n  datetime.date(2021, 6, 16),\n  datetime.date(2021, 7, 20),\n  datetime.date(2021, 8, 29),\n  949],\n [0.5853123867158476,\n  2508.6271203381916,\n  1275.651423350307,\n  datetime.date(2021, 6, 16),\n  datetime.date(2021, 7, 20),\n  datetime.date(2021, 8, 29),\n  950],\n [0.5865224101283851,\n  2505.9175153391266,\n  1269.3185145700784,\n  datetime.date(2021, 6, 16),\n  datetime.date(2021, 7, 20),\n  datetime.date(2021, 8, 29),\n  951],\n [0.5865224101283851,\n  2530.9444732353704,\n  1294.345472466322,\n  datetime.date(2021, 6, 16),\n  datetime.date(2021, 7, 20),\n  datetime.date(2021, 8, 29),\n  952],\n [0.5865224101283851,\n  2515.8735493542754,\n  1279.2745485852272,\n  datetime.date(2021, 6, 16),\n  datetime.date(2021, 7, 20),\n  datetime.date(2021, 8, 29),\n  953],\n [0.5865224101283851,\n  2517.064798346476,\n  1280.4657975774278,\n  datetime.date(2021, 6, 16),\n  datetime.date(2021, 7, 20),\n  datetime.date(2021, 8, 29),\n  954],\n [0.5865224101283851,\n  2517.064798346476,\n  1280.4657975774278,\n  datetime.date(2021, 6, 16),\n  datetime.date(2021, 7, 20),\n  datetime.date(2021, 8, 29),\n  955],\n [0.5865224101283851,\n  2517.064798346476,\n  1280.4657975774278,\n  datetime.date(2021, 6, 16),\n  datetime.date(2021, 7, 20),\n  datetime.date(2021, 8, 29),\n  956],\n [0.5868343276620748,\n  2518.2482019311624,\n  1281.0320410866047,\n  datetime.date(2021, 6, 16),\n  datetime.date(2021, 7, 20),\n  datetime.date(2021, 8, 29),\n  957],\n [0.5854866952723077,\n  2511.7003202825613,\n  1277.315134161684,\n  datetime.date(2021, 6, 16),\n  datetime.date(2021, 7, 20),\n  datetime.date(2021, 8, 29),\n  958],\n [0.6378592079571321,\n  2814.2083455860165,\n  1453.3905508305522,\n  datetime.date(2021, 6, 16),\n  datetime.date(2021, 7, 20),\n  datetime.date(2021, 8, 29),\n  959],\n [0.5851663062929905,\n  2508.4989290806298,\n  1275.475789972703,\n  datetime.date(2021, 6, 16),\n  datetime.date(2021, 7, 20),\n  datetime.date(2021, 8, 29),\n  960],\n [0.5865224101283851,\n  2517.064798346476,\n  1280.4657975774278,\n  datetime.date(2021, 6, 16),\n  datetime.date(2021, 7, 20),\n  datetime.date(2021, 8, 29),\n  961],\n [0.7279297256544992,\n  3335.799899647788,\n  1746.8363224273146,\n  datetime.date(2021, 6, 16),\n  datetime.date(2021, 7, 20),\n  datetime.date(2021, 8, 29),\n  962],\n [0.6008459620843946,\n  2577.815008528884,\n  1309.150845038165,\n  datetime.date(2021, 6, 16),\n  datetime.date(2021, 7, 20),\n  datetime.date(2021, 8, 29),\n  963],\n [0.5872139965404335,\n  2570.187736425104,\n  1330.3993383500292,\n  datetime.date(2021, 6, 16),\n  datetime.date(2021, 7, 20),\n  datetime.date(2021, 8, 29),\n  964],\n [0.5951214043490911,\n  2552.244737502896,\n  1297.2661029739584,\n  datetime.date(2021, 6, 16),\n  datetime.date(2021, 7, 20),\n  datetime.date(2021, 8, 29),\n  965],\n [0.5824704605009673,\n  2497.1871973669336,\n  1271.7623310807555,\n  datetime.date(2021, 6, 16),\n  datetime.date(2021, 7, 20),\n  datetime.date(2021, 8, 29),\n  966],\n [0.587141361264781,\n  2522.6240491674944,\n  1283.936834243903,\n  datetime.date(2021, 6, 16),\n  datetime.date(2021, 7, 20),\n  datetime.date(2021, 8, 29),\n  967],\n [0.5903396152689842,\n  2543.0380319375436,\n  1295.9961727299328,\n  datetime.date(2021, 6, 16),\n  datetime.date(2021, 7, 20),\n  datetime.date(2021, 8, 29),\n  968],\n [0.5865056999421129,\n  2505.930004284372,\n  1269.4057521473183,\n  datetime.date(2021, 6, 16),\n  datetime.date(2021, 7, 20),\n  datetime.date(2021, 8, 29),\n  969],\n [0.5874551251409594,\n  2522.775907666053,\n  1283.7794061480524,\n  datetime.date(2021, 6, 16),\n  datetime.date(2021, 7, 20),\n  datetime.date(2021, 8, 29),\n  970],\n [0.5865420026133827,\n  2517.272160190265,\n  1280.6098831415306,\n  datetime.date(2021, 6, 16),\n  datetime.date(2021, 7, 20),\n  datetime.date(2021, 8, 29),\n  971],\n [0.5865224101283851,\n  2536.140830792793,\n  1299.541830023745,\n  datetime.date(2021, 6, 16),\n  datetime.date(2021, 7, 20),\n  datetime.date(2021, 8, 29),\n  972],\n [0.5865224101283851,\n  2516.8883225211093,\n  1280.2893217520611,\n  datetime.date(2021, 6, 16),\n  datetime.date(2021, 7, 20),\n  datetime.date(2021, 8, 29),\n  973],\n [0.6016601681242555,\n  2575.0596455916493,\n  1308.3761471715661,\n  datetime.date(2021, 6, 16),\n  datetime.date(2021, 7, 20),\n  datetime.date(2021, 8, 29),\n  974],\n [0.5847416941672628,\n  2506.0049777422564,\n  1275.0963058948917,\n  datetime.date(2021, 6, 16),\n  datetime.date(2021, 7, 20),\n  datetime.date(2021, 8, 29),\n  975],\n [0.5863887850970655,\n  2515.9005272434442,\n  1280.0260981597037,\n  datetime.date(2021, 6, 16),\n  datetime.date(2021, 7, 20),\n  datetime.date(2021, 8, 29),\n  976],\n [0.5865224101283851,\n  2517.097478810124,\n  1280.4984780410757,\n  datetime.date(2021, 6, 16),\n  datetime.date(2021, 7, 20),\n  datetime.date(2021, 8, 29),\n  977],\n [0.5865224101283851,\n  2516.991725827437,\n  1280.392725058389,\n  datetime.date(2021, 6, 16),\n  datetime.date(2021, 7, 20),\n  datetime.date(2021, 8, 29),\n  978],\n [0.5865224101283851,\n  2515.614535649191,\n  1279.0155348801427,\n  datetime.date(2021, 6, 16),\n  datetime.date(2021, 7, 20),\n  datetime.date(2021, 8, 29),\n  979],\n [0.5865224101283851,\n  2517.1916747229807,\n  1280.5926739539325,\n  datetime.date(2021, 6, 16),\n  datetime.date(2021, 7, 20),\n  datetime.date(2021, 8, 29),\n  980],\n [0.5865224101283851,\n  2517.064798346476,\n  1280.4657975774278,\n  datetime.date(2021, 6, 16),\n  datetime.date(2021, 7, 20),\n  datetime.date(2021, 8, 29),\n  981],\n [0.5865224101283851,\n  2517.064798346476,\n  1280.4657975774278,\n  datetime.date(2021, 6, 16),\n  datetime.date(2021, 7, 20),\n  datetime.date(2021, 8, 29),\n  982],\n [0.5865224101283851,\n  2517.064798346476,\n  1280.4657975774278,\n  datetime.date(2021, 6, 16),\n  datetime.date(2021, 7, 20),\n  datetime.date(2021, 8, 29),\n  983],\n [0.5865224101283851,\n  2517.064798346476,\n  1280.4657975774278,\n  datetime.date(2021, 6, 16),\n  datetime.date(2021, 7, 20),\n  datetime.date(2021, 8, 29),\n  984],\n [0.5865224101283851,\n  2517.064798346476,\n  1280.4657975774278,\n  datetime.date(2021, 6, 16),\n  datetime.date(2021, 7, 20),\n  datetime.date(2021, 8, 29),\n  985],\n [0.5827048247992493,\n  2500.3776480620663,\n  1269.020185478909,\n  datetime.date(2021, 6, 18),\n  datetime.date(2021, 7, 22),\n  datetime.date(2021, 9, 1),\n  986],\n [0.5865224101283851,\n  2517.064798346476,\n  1280.4657975774278,\n  datetime.date(2021, 6, 16),\n  datetime.date(2021, 7, 20),\n  datetime.date(2021, 8, 29),\n  987],\n [0.9045228130331456,\n  5147.4328526372765,\n  3078.4688434805676,\n  datetime.date(2021, 6, 18),\n  datetime.date(2021, 7, 22),\n  datetime.date(2021, 9, 1),\n  988],\n [0.8625253771055403,\n  4949.904662420612,\n  2968.8424837273,\n  datetime.date(2021, 6, 18),\n  datetime.date(2021, 7, 22),\n  datetime.date(2021, 9, 1),\n  989],\n [0.8741002752820181,\n  5005.222778764196,\n  3000.603194193891,\n  datetime.date(2021, 6, 18),\n  datetime.date(2021, 7, 22),\n  datetime.date(2021, 9, 1),\n  990],\n [0.9309116040113786,\n  5288.385723879762,\n  3187.3500055713657,\n  datetime.date(2021, 6, 18),\n  datetime.date(2021, 7, 22),\n  datetime.date(2021, 9, 1),\n  991],\n [0.842445468851218,\n  4853.1861287699785,\n  2891.2923848812397,\n  datetime.date(2021, 6, 18),\n  datetime.date(2021, 7, 22),\n  datetime.date(2021, 9, 1),\n  992],\n [0.8622400803088546,\n  4948.664287131056,\n  2967.699823544913,\n  datetime.date(2021, 6, 18),\n  datetime.date(2021, 7, 22),\n  datetime.date(2021, 9, 1),\n  993],\n [0.8625253771055403,\n  4478.661177245947,\n  2497.598998552635,\n  datetime.date(2021, 6, 18),\n  datetime.date(2021, 7, 22),\n  datetime.date(2021, 9, 1),\n  994],\n [0.8625253771055403,\n  4968.555742533993,\n  2987.493563840681,\n  datetime.date(2021, 6, 18),\n  datetime.date(2021, 7, 22),\n  datetime.date(2021, 9, 1),\n  995],\n [0.8963248478116839,\n  5133.457080344312,\n  3071.3817193794157,\n  datetime.date(2021, 6, 18),\n  datetime.date(2021, 7, 22),\n  datetime.date(2021, 9, 1),\n  996],\n [0.834512936534613,\n  4649.471002265262,\n  2757.442281405155,\n  datetime.date(2021, 6, 18),\n  datetime.date(2021, 7, 22),\n  datetime.date(2021, 9, 1),\n  997],\n [0.7941121346079405,\n  4479.123317636031,\n  2674.155580213608,\n  datetime.date(2021, 6, 18),\n  datetime.date(2021, 7, 22),\n  datetime.date(2021, 9, 1),\n  998],\n [0.8083886094846569,\n  4577.3203138968765,\n  2737.6559933890217,\n  datetime.date(2021, 6, 18),\n  datetime.date(2021, 7, 22),\n  datetime.date(2021, 9, 1),\n  999],\n ...]"
     },
     "execution_count": 13,
     "metadata": {},
     "output_type": "execute_result"
    }
   ],
   "source": [],
   "metadata": {
    "collapsed": false,
    "pycharm": {
     "name": "#%%\n"
    }
   }
  },
  {
   "cell_type": "code",
   "execution_count": 14,
   "outputs": [],
   "source": [
    "df_pp = pd.DataFrame(result_pp[\"0\"], columns=[\"LAIMAX\", \"TAGP\", \"TWSO\", \"DOE\", \"DOA\", \"DOM\", \"ID\"])"
   ],
   "metadata": {
    "collapsed": false,
    "pycharm": {
     "name": "#%%\n"
    }
   }
  },
  {
   "cell_type": "code",
   "execution_count": 25,
   "metadata": {
    "vscode": {
     "languageId": "python"
    },
    "pycharm": {
     "name": "#%%\n"
    }
   },
   "outputs": [],
   "source": [
    "Y = df_pp[\"DOM\"]"
   ]
  },
  {
   "cell_type": "code",
   "execution_count": 26,
   "metadata": {
    "vscode": {
     "languageId": "python"
    },
    "pycharm": {
     "name": "#%%\n"
    }
   },
   "outputs": [],
   "source": [
    "Y = Y.to_numpy()"
   ]
  },
  {
   "cell_type": "code",
   "execution_count": 27,
   "metadata": {
    "vscode": {
     "languageId": "python"
    },
    "pycharm": {
     "name": "#%%\n"
    }
   },
   "outputs": [
    {
     "data": {
      "text/plain": "array([datetime.date(2021, 9, 3), datetime.date(2021, 9, 3),\n       datetime.date(2021, 9, 3), ..., datetime.date(2021, 8, 29),\n       datetime.date(2021, 9, 1), datetime.date(2021, 9, 1)], dtype=object)"
     },
     "execution_count": 27,
     "metadata": {},
     "output_type": "execute_result"
    }
   ],
   "source": [
    "Y"
   ]
  },
  {
   "cell_type": "code",
   "execution_count": 23,
   "metadata": {
    "vscode": {
     "languageId": "python"
    },
    "pycharm": {
     "name": "#%%\n"
    }
   },
   "outputs": [],
   "source": [
    "Si = sobol.analyze(problem, Y, calc_second_order=calc_second_order)"
   ]
  },
  {
   "cell_type": "code",
   "execution_count": 24,
   "metadata": {
    "collapsed": false,
    "jupyter": {
     "outputs_hidden": false
    },
    "pycharm": {
     "name": "#%%\n"
    },
    "vscode": {
     "languageId": "python"
    }
   },
   "outputs": [
    {
     "data": {
      "text/plain": "<AxesSubplot:xlabel='Parameter'>"
     },
     "execution_count": 24,
     "metadata": {},
     "output_type": "execute_result"
    },
    {
     "data": {
      "text/plain": "<Figure size 1000x600 with 1 Axes>",
      "image/png": "[encoded data removed]"
     },
     "metadata": {},
     "output_type": "display_data"
    }
   ],
   "source": [
    "df_sensitivity = pd.DataFrame({\n",
    "    \"Parameter\": problem[\"names\"],\n",
    "    \"First_order\": Si[\"S1\"],\n",
    "    \"Total_order\": Si[\"ST\"]}).set_index(\"Parameter\")\n",
    "fig, axes = plt.subplots(figsize=(10,6))\n",
    "df_sensitivity.plot(kind=\"bar\", ax=axes)"
   ]
  },
  {
   "cell_type": "code",
   "execution_count": 9,
   "metadata": {
    "vscode": {
     "languageId": "python"
    },
    "pycharm": {
     "name": "#%%\n"
    }
   },
   "outputs": [],
   "source": []
  },
  {
   "cell_type": "code",
   "execution_count": 23,
   "metadata": {
    "vscode": {
     "languageId": "python"
    },
    "pycharm": {
     "name": "#%%\n"
    }
   },
   "outputs": [
    {
     "data": {
      "text/plain": [
       "'01'"
      ]
     },
     "execution_count": 23,
     "metadata": {},
     "output_type": "execute_result"
    }
   ],
   "source": []
  },
  {
   "cell_type": "code",
   "execution_count": 295,
   "metadata": {
    "collapsed": false,
    "jupyter": {
     "outputs_hidden": false
    },
    "pycharm": {
     "name": "#%%\n"
    },
    "vscode": {
     "languageId": "python"
    }
   },
   "outputs": [],
   "source": []
  },
  {
   "cell_type": "code",
   "execution_count": 296,
   "metadata": {
    "collapsed": false,
    "jupyter": {
     "outputs_hidden": false
    },
    "pycharm": {
     "name": "#%%\n"
    },
    "vscode": {
     "languageId": "python"
    }
   },
   "outputs": [],
   "source": []
  },
  {
   "cell_type": "code",
   "execution_count": 297,
   "metadata": {
    "collapsed": false,
    "jupyter": {
     "outputs_hidden": false
    },
    "pycharm": {
     "name": "#%%\n"
    },
    "vscode": {
     "languageId": "python"
    }
   },
   "outputs": [
    {
     "data": {
      "text/plain": [
       "{'DVS': 2.0,\n",
       " 'LAIMAX': 1.374125857971024,\n",
       " 'TAGP': 6481.005715263842,\n",
       " 'TWSO': 3696.896648798934,\n",
       " 'TWLV': 862.3064007340049,\n",
       " 'TWST': 1921.8026657309024,\n",
       " 'TWRT': 481.2448555816113,\n",
       " 'CTRAT': 9.615071426324379,\n",
       " 'RD': 84.80000000000005,\n",
       " 'DOS': datetime.date(2021, 6, 11),\n",
       " 'DOE': datetime.date(2021, 6, 16),\n",
       " 'DOA': datetime.date(2021, 7, 20),\n",
       " 'DOM': datetime.date(2021, 8, 29),\n",
       " 'DOH': None,\n",
       " 'DOV': None,\n",
       " 'CEVST': 5.01454052211001}"
      ]
     },
     "execution_count": 297,
     "metadata": {},
     "output_type": "execute_result"
    }
   ],
   "source": []
  },
  {
   "cell_type": "code",
   "execution_count": 294,
   "metadata": {
    "collapsed": false,
    "jupyter": {
     "outputs_hidden": false
    },
    "pycharm": {
     "name": "#%%\n"
    },
    "vscode": {
     "languageId": "python"
    }
   },
   "outputs": [
    {
     "name": "stdout",
     "output_type": "stream",
     "text": [
      "TDWI\n",
      "20\n",
      "LAIEM\n",
      "20\n"
     ]
    }
   ],
   "source": [
    "# row, col = paramsets.shape\n",
    "# name = problem[\"names\"]\n",
    "# for i in range(0, 2):\n",
    "#     print(name[i])\n",
    "#     flag = 0\n",
    "#     for j in range(20):\n",
    "#         value = deciaml1(paramsets[j][i], 3)\n",
    "#         parameters = crop_param.initial()\n",
    "#         try:\n",
    "#             parameters.set_override(name[i], value)\n",
    "#         except PCSEError:\n",
    "#             tmp_n = name[i][:-1]\n",
    "\n",
    "#             tem_d1 = param_dict[tmp_n]\n",
    "#             tmp_list = tem_d1[name[i]]\n",
    "#             tmp_value = parameters[tmp_n]\n",
    "#             try:\n",
    "#                 tmp_value[tmp_list[1] -1], tmp_value[tmp_list[1]] = tmp_list[0], value\n",
    "#             except IndexError:\n",
    "#                 tmp_value.extend([tmp_list[0], value])\n",
    "#             parameters.set_override(tmp_n, tmp_value)\n",
    "#         try:\n",
    "#             wofostpp = Wofost72_PP(parameters, wdp, agromanagement21)\n",
    "#             wofostpp.run_till_terminate()\n",
    "#             flag += 1\n",
    "#         except ZeroDivisionError:\n",
    "#             pass\n",
    "#         except PartitioningError:\n",
    "#             print(\"Error in partitioning\")\n",
    "#     print(flag)"
   ]
  },
  {
   "cell_type": "code",
   "execution_count": 265,
   "metadata": {
    "collapsed": false,
    "jupyter": {
     "outputs_hidden": false
    },
    "pycharm": {
     "name": "#%%\n"
    },
    "vscode": {
     "languageId": "python"
    }
   },
   "outputs": [
    {
     "data": {
      "text/plain": [
       "[0.0, 0.62, 0.33, 0.545, 0.88, 0.15, 0.95, 0.15, 1.1, 0.1, 1.2, 0.0, 2.0, 0.0]"
      ]
     },
     "execution_count": 265,
     "metadata": {},
     "output_type": "execute_result"
    }
   ],
   "source": [
    "paramsets[j][i]"
   ]
  },
  {
   "cell_type": "code",
   "execution_count": 267,
   "metadata": {
    "collapsed": false,
    "jupyter": {
     "outputs_hidden": false
    },
    "pycharm": {
     "name": "#%%\n"
    },
    "vscode": {
     "languageId": "python"
    }
   },
   "outputs": [],
   "source": []
  },
  {
   "cell_type": "code",
   "execution_count": 267,
   "metadata": {
    "collapsed": false,
    "jupyter": {
     "outputs_hidden": false
    },
    "pycharm": {
     "name": "#%%\n"
    },
    "vscode": {
     "languageId": "python"
    }
   },
   "outputs": [],
   "source": []
  },
  {
   "cell_type": "code",
   "execution_count": null,
   "metadata": {
    "collapsed": false,
    "jupyter": {
     "outputs_hidden": false
    },
    "pycharm": {
     "name": "#%%\n"
    },
    "vscode": {
     "languageId": "python"
    }
   },
   "outputs": [],
   "source": []
  }
 ],
 "metadata": {
  "kernelspec": {
   "display_name": "pcse",
   "language": "python",
   "name": "pcse"
  }
 },
 "nbformat": 4,
 "nbformat_minor": 4
}