{
 "cells": [
  {
   "cell_type": "markdown",
   "metadata": {
    "pycharm": {
     "name": "#%% md\n"
    }
   },
   "source": [
    "# 1 气象数据处理\n",
    "## CSV文件表头\n",
    "csv文件结构如下\n",
    "```\n",
    "## Site Characteristics\n",
    "Country     = 'Netherlands'\n",
    "Station     = 'Wageningen, Haarweg'\n",
    "Description = 'Observed data from Station Haarweg in Wageningen'\n",
    "Source      = 'Meteorology and Air Quality Group, Wageningen University'\n",
    "Contact     = 'Peter Uithol'\n",
    "Longitude = 5.67; Latitude = 51.97; Elevation = 7; AngstromA = 0.18; AngstromB = 0.55; HasSunshine = False\n",
    "## Daily weather observations (missing values are NaN)\n",
    "DAY,IRRAD,TMIN,TMAX,VAP,WIND,RAIN,SNOWDEPTH\n",
    "20040101,NaN,-0.7,1.1,0.55,3.6,0.5,NaN\n",
    "20040102,3888,-7.5,0.9,0.44,3.1,0,NaN\n",
    "20040103,2074,-6.8,-0.5,0.45,1.8,0,NaN\n",
    "20040104,1814,-3.6,5.9,0.66,3.2,2.5,NaN\n",
    "20040105,1469,3,5.7,0.78,2.3,1.3,NaN\n",
    "[...]\n",
    "\n",
    "with\n",
    "IRRAD in kJ/m2/day or hours\n",
    "TMIN and TMAX in Celsius (°C)\n",
    "VAP in kPa\n",
    "WIND in m/sec\n",
    "RAIN in mm\n",
    "SNOWDEPTH in cm\n",
    "```\n"
   ]
  },
  {
   "cell_type": "code",
   "execution_count": 2,
   "metadata": {
    "collapsed": false,
    "pycharm": {
     "is_executing": true,
     "name": "#%%\n"
    },
    "vscode": {
     "languageId": "python"
    }
   },
   "outputs": [],
   "source": [
    "import copy"
   ]
  },
  {
   "cell_type": "code",
   "execution_count": 2,
   "metadata": {
    "collapsed": false,
    "jupyter": {
     "outputs_hidden": false
    },
    "pycharm": {
     "name": "#%%\n"
    },
    "vscode": {
     "languageId": "python"
    }
   },
   "outputs": [],
   "source": [
    "## 两日相隔天数\n",
    "from datetime import datetime\n",
    "def calDays(start, end, format=\"%Y-%m-%d\"):\n",
    "    strptime, strftime = datetime.strptime, datetime.strftime\n",
    "    days = (strptime(end, format) - strptime(start, format)).days\n",
    "    return days"
   ]
  },
  {
   "cell_type": "code",
   "execution_count": 3,
   "metadata": {
    "pycharm": {
     "name": "#%%\n"
    },
    "vscode": {
     "languageId": "python"
    }
   },
   "outputs": [],
   "source": [
    "def csv_header(country=\"China\", station=\"Yangling\", longitude=108.12, latitude=34.33, elevation=521):\n",
    "    res_s = f\"## Site Characteristics\\nCountry     = {country}\\nStation     = {station}\\nDescription = 'Observed data from Station {station} in {country}'\\\n",
    "    \\nSource      = 'Meteorology and Air Quality Group, Wageningen University'\\nContact     = 'Peter Uithol'\\\n",
    "    \\nLongitude = {longitude:.2f}; Latitude = {latitude:.2f}; Elevation = {elevation:.0f}; AngstromA = 0.18; AngstromB = 0.55; HasSunshine = False\\\n",
    "    \\n## Daily weather observations (missing values are NaN)\"\n",
    "    return res_s"
   ]
  },
  {
   "cell_type": "code",
   "execution_count": 4,
   "metadata": {
    "pycharm": {
     "name": "#%%\n"
    },
    "vscode": {
     "languageId": "python"
    }
   },
   "outputs": [
    {
     "name": "stdout",
     "output_type": "stream",
     "text": [
      "## Site Characteristics\n",
      "Country     = China\n",
      "Station     = Yangling\n",
      "Description = 'Observed data from Station Yangling in China'    \n",
      "Source      = 'Meteorology and Air Quality Group, Wageningen University'\n",
      "Contact     = 'Peter Uithol'    \n",
      "Longitude = 108.12; Latitude = 34.33; Elevation = 521; AngstromA = 0.18; AngstromB = 0.55; HasSunshine = False    \n",
      "## Daily weather observations (missing values are NaN)\n"
     ]
    }
   ],
   "source": [
    "print(csv_header())"
   ]
  },
  {
   "cell_type": "code",
   "execution_count": 4,
   "metadata": {
    "pycharm": {
     "name": "#%%\n"
    },
    "vscode": {
     "languageId": "python"
    }
   },
   "outputs": [],
   "source": []
  },
  {
   "cell_type": "markdown",
   "metadata": {
    "pycharm": {
     "name": "#%% md\n"
    }
   },
   "source": [
    "# 2 读取模型参数"
   ]
  },
  {
   "cell_type": "code",
   "execution_count": 3,
   "metadata": {
    "pycharm": {
     "is_executing": true,
     "name": "#%%\n"
    },
    "vscode": {
     "languageId": "python"
    }
   },
   "outputs": [
    {
     "name": "stdout",
     "output_type": "stream",
     "text": [
      "This notebook was built with:\n",
      "python version: 3.8.15 (default, Nov  4 2022, 15:16:59) [MSC v.1916 64 bit (AMD64)] \n",
      "PCSE version: 5.5.4\n"
     ]
    }
   ],
   "source": [
    "%matplotlib inline\n",
    "import sys, os\n",
    "import matplotlib\n",
    "matplotlib.style.use(\"ggplot\")\n",
    "import matplotlib.pyplot as plt\n",
    "import pandas as pd\n",
    "\n",
    "data_dir = os.path.join(os.getcwd(), \"data\")\n",
    "import pcse\n",
    "print(\"This notebook was built with:\")\n",
    "print(\"python version: %s \" % sys.version)\n",
    "print(\"PCSE version: %s\" %  pcse.__version__)"
   ]
  },
  {
   "cell_type": "markdown",
   "metadata": {
    "pycharm": {
     "name": "#%% md\n"
    }
   },
   "source": [
    "## 2.1 作物参数"
   ]
  },
  {
   "cell_type": "code",
   "execution_count": 4,
   "metadata": {
    "collapsed": false,
    "jupyter": {
     "outputs_hidden": false
    },
    "pycharm": {
     "name": "#%%\n"
    },
    "vscode": {
     "languageId": "python"
    }
   },
   "outputs": [],
   "source": [
    "from pcse.fileinput import YAMLCropDataProvider, CABOFileReader\n",
    "from pcse.exceptions import PCSEError, PartitioningError"
   ]
  },
  {
   "cell_type": "code",
   "execution_count": 5,
   "metadata": {
    "collapsed": true,
    "jupyter": {
     "outputs_hidden": true
    },
    "pycharm": {
     "name": "#%%\n"
    },
    "tags": [],
    "vscode": {
     "languageId": "python"
    }
   },
   "outputs": [],
   "source": [
    "cropfile = os.path.join(data_dir, 'crop', 'maize.yaml')\n",
    "cropd = YAMLCropDataProvider()\n",
    "cropd.set_active_crop('maize', 'Grain_maize_201')"
   ]
  },
  {
   "cell_type": "code",
   "execution_count": 7,
   "metadata": {
    "collapsed": false,
    "pycharm": {
     "name": "#%%\n"
    },
    "vscode": {
     "languageId": "python"
    }
   },
   "outputs": [],
   "source": []
  },
  {
   "cell_type": "code",
   "execution_count": 7,
   "metadata": {
    "collapsed": false,
    "jupyter": {
     "outputs_hidden": false
    },
    "pycharm": {
     "name": "#%%\n"
    },
    "vscode": {
     "languageId": "python"
    }
   },
   "outputs": [],
   "source": []
  },
  {
   "cell_type": "markdown",
   "metadata": {
    "pycharm": {
     "name": "#%% md\n"
    }
   },
   "source": [
    "## 2.2 土壤参数"
   ]
  },
  {
   "cell_type": "code",
   "execution_count": 6,
   "metadata": {
    "pycharm": {
     "name": "#%%\n"
    },
    "vscode": {
     "languageId": "python"
    }
   },
   "outputs": [],
   "source": [
    "soilfile = os.path.join(data_dir, 'soil', 'ec3_copy1.soil')\n",
    "soild = CABOFileReader(soilfile)"
   ]
  },
  {
   "cell_type": "markdown",
   "metadata": {
    "collapsed": false,
    "pycharm": {
     "name": "#%% md\n"
    }
   },
   "source": [
    "## 2.3 站点数据"
   ]
  },
  {
   "cell_type": "code",
   "execution_count": 7,
   "metadata": {
    "collapsed": false,
    "pycharm": {
     "name": "#%%\n"
    },
    "vscode": {
     "languageId": "python"
    }
   },
   "outputs": [],
   "source": [
    "from pcse.util import WOFOST72SiteDataProvider\n",
    "sited = WOFOST72SiteDataProvider(WAV=18)"
   ]
  },
  {
   "cell_type": "markdown",
   "metadata": {
    "collapsed": false,
    "pycharm": {
     "name": "#%% md\n"
    }
   },
   "source": [
    "## 2.4 整合模型参数"
   ]
  },
  {
   "cell_type": "code",
   "execution_count": 8,
   "metadata": {
    "collapsed": false,
    "pycharm": {
     "name": "#%%\n"
    },
    "vscode": {
     "languageId": "python"
    }
   },
   "outputs": [],
   "source": [
    "from pcse.base import ParameterProvider\n",
    "# parameters = ParameterProvider(cropdata=cropd, soildata=soild, sitedata=sited)"
   ]
  },
  {
   "cell_type": "code",
   "execution_count": 9,
   "metadata": {
    "collapsed": false,
    "pycharm": {
     "name": "#%%\n"
    },
    "vscode": {
     "languageId": "python"
    }
   },
   "outputs": [],
   "source": [
    "# cropfile = os.path.join(data_dir, 'crop', 'MAG201.CAB')\n",
    "# crop_param = CropParam(cropfile, soild, sited)\n",
    "parameters = ParameterProvider(cropdata=cropd, soildata=soild, sitedata=sited)"
   ]
  },
  {
   "cell_type": "markdown",
   "metadata": {
    "collapsed": false,
    "pycharm": {
     "name": "#%% md\n"
    }
   },
   "source": [
    "## 2.5 管理文件"
   ]
  },
  {
   "cell_type": "code",
   "execution_count": 93,
   "metadata": {
    "collapsed": false,
    "pycharm": {
     "name": "#%%\n"
    },
    "vscode": {
     "languageId": "python"
    }
   },
   "outputs": [],
   "source": [
    "from pcse.fileinput import YAMLAgroManagementReader\n",
    "agromanagement21 = YAMLAgroManagementReader(os.path.join(data_dir, 'agro', 'maize_2021.agro'))\n",
    "agromanagement22 = YAMLAgroManagementReader(os.path.join(data_dir, 'agro', 'maize_2022.agro'))"
   ]
  },
  {
   "cell_type": "markdown",
   "metadata": {
    "collapsed": false,
    "pycharm": {
     "name": "#%% md\n"
    }
   },
   "source": [
    "## 2.6气象数据"
   ]
  },
  {
   "cell_type": "code",
   "execution_count": 94,
   "metadata": {
    "collapsed": false,
    "pycharm": {
     "name": "#%%\n"
    },
    "vscode": {
     "languageId": "python"
    }
   },
   "outputs": [
    {
     "name": "stdout",
     "output_type": "stream",
     "text": [
      "Weather data provided by: ExcelWeatherDataProvider\n",
      "--------Description---------\n",
      "Weather data for:\n",
      "Country: China\n",
      "Station: Yangling, Shannxi\n",
      "Description: Observed data from Station Yangling in China\n",
      "Source: Meteorology and Air Quality Group, Wageningen University\n",
      "Contact: Peter Uithol\n",
      "----Site characteristics----\n",
      "Elevation:  521.0\n",
      "Latitude:  34.330\n",
      "Longitude: 108.120\n",
      "Data available for 2021-06-01 - 2022-10-31\n",
      "Number of missing days: 182\n",
      "\n"
     ]
    }
   ],
   "source": [
    "from pcse.fileinput import ExcelWeatherDataProvider\n",
    "weatherfile = os.path.join(data_dir, 'meteo', 'WOFOSTYL.xlsx')\n",
    "wdp = ExcelWeatherDataProvider(weatherfile)\n",
    "print(wdp)"
   ]
  },
  {
   "cell_type": "markdown",
   "metadata": {
    "collapsed": false,
    "pycharm": {
     "name": "#%% md\n"
    }
   },
   "source": [
    "## 测试参数是否可用于敏感性分析"
   ]
  },
  {
   "cell_type": "markdown",
   "metadata": {
    "collapsed": false,
    "pycharm": {
     "name": "#%% md\n"
    }
   },
   "source": [
    "TMPFTB=[0, 4, 16, 18, 20, 28, 36, 42]\n",
    "TMNFTB = 8℃\n",
    "RFSETB 只涉及后两个参数[0, 1.5, 1.75, 2]"
   ]
  },
  {
   "cell_type": "code",
   "execution_count": 18,
   "metadata": {
    "collapsed": false,
    "pycharm": {
     "name": "#%%\n"
    },
    "vscode": {
     "languageId": "python"
    }
   },
   "outputs": [],
   "source": [
    "# parameters.clear_override()\n",
    "# parameters.set_override(\"TSUMEM\", 150.0)\n",
    "# parameters.set_override(\"TSUM1\", 1290)\n",
    "# parameters.set_override(\"TSUM2\", 650)"
   ]
  },
  {
   "cell_type": "code",
   "execution_count": 19,
   "metadata": {
    "collapsed": false,
    "pycharm": {
     "name": "#%%\n"
    },
    "vscode": {
     "languageId": "python"
    }
   },
   "outputs": [
    {
     "name": "stdout",
     "output_type": "stream",
     "text": [
      "150.0\n"
     ]
    }
   ],
   "source": [
    "# from pcse.models import Wofost72_PP, Wofost72_WLP_FD\n",
    "# # wofostpp = Wofost72_PP(parameters, wdp, agromanagement21)\n",
    "# wofostwlp = Wofost72_WLP_FD(parameters, wdp, agromanagement22)\n",
    "# print(parameters[\"TSUMEM\"])\n",
    "# # wofostpp.run_till_terminate()\n",
    "# wofostwlp.run_till_terminate()"
   ]
  },
  {
   "cell_type": "code",
   "execution_count": 20,
   "metadata": {
    "collapsed": false,
    "pycharm": {
     "name": "#%%\n"
    },
    "vscode": {
     "languageId": "python"
    }
   },
   "outputs": [
    {
     "data": {
      "text/plain": [
       "110"
      ]
     },
     "execution_count": 20,
     "metadata": {},
     "output_type": "execute_result"
    }
   ],
   "source": [
    "calDays(\"2021-06-12\", \"2021-09-30\")"
   ]
  },
  {
   "cell_type": "code",
   "execution_count": 69,
   "metadata": {
    "collapsed": false,
    "pycharm": {
     "name": "#%%\n"
    },
    "vscode": {
     "languageId": "python"
    }
   },
   "outputs": [
    {
     "data": {
      "text/plain": [
       "[{'DVS': 2.0,\n",
       "  'LAIMAX': 4.900533915204891,\n",
       "  'TAGP': 13606.692400736049,\n",
       "  'TWSO': 4056.622022326808,\n",
       "  'TWLV': 3282.686717539008,\n",
       "  'TWST': 6267.383660870233,\n",
       "  'TWRT': 1952.9191748063402,\n",
       "  'CTRAT': 25.23405195892749,\n",
       "  'RD': 100.0,\n",
       "  'DOS': datetime.date(2022, 6, 11),\n",
       "  'DOE': datetime.date(2022, 6, 18),\n",
       "  'DOA': datetime.date(2022, 8, 16),\n",
       "  'DOM': datetime.date(2022, 9, 24),\n",
       "  'DOH': None,\n",
       "  'DOV': None,\n",
       "  'CEVST': 6.894467012479122}]"
      ]
     },
     "execution_count": 69,
     "metadata": {},
     "output_type": "execute_result"
    }
   ],
   "source": [
    "# wofostwlp.get_summary_output()"
   ]
  },
  {
   "cell_type": "code",
   "execution_count": 21,
   "metadata": {
    "collapsed": false,
    "pycharm": {
     "name": "#%%\n"
    },
    "vscode": {
     "languageId": "python"
    }
   },
   "outputs": [
    {
     "data": {
      "text/plain": [
       "101"
      ]
     },
     "execution_count": 21,
     "metadata": {},
     "output_type": "execute_result"
    }
   ],
   "source": [
    "i = calDays(\"2021-06-11\", \"2021-09-20\")\n",
    "i"
   ]
  },
  {
   "cell_type": "code",
   "execution_count": 70,
   "metadata": {
    "collapsed": false,
    "pycharm": {
     "name": "#%%\n"
    },
    "vscode": {
     "languageId": "python"
    }
   },
   "outputs": [],
   "source": []
  },
  {
   "cell_type": "code",
   "execution_count": 70,
   "metadata": {
    "collapsed": false,
    "pycharm": {
     "name": "#%%\n"
    },
    "vscode": {
     "languageId": "python"
    }
   },
   "outputs": [],
   "source": [
    "\n"
   ]
  },
  {
   "cell_type": "code",
   "execution_count": 70,
   "metadata": {
    "collapsed": false,
    "pycharm": {
     "name": "#%%\n"
    },
    "vscode": {
     "languageId": "python"
    }
   },
   "outputs": [],
   "source": []
  },
  {
   "cell_type": "code",
   "execution_count": 71,
   "metadata": {
    "collapsed": false,
    "pycharm": {
     "name": "#%%\n"
    },
    "vscode": {
     "languageId": "python"
    }
   },
   "outputs": [],
   "source": [
    "param_name = [\"TDWI\", \"LAIEM\", \"RGRLAI\", \"SLATB\", \"SPAN\", \"TBASE\", \"KDIFTB\", \"EFFTB\", \"AMAXTB\", \"TMPFTB\", \"TMNFTB\", \"CVL\", \"CVO\", \"CVR\", \"CVS\", \"Q10\", \"RML\",\n",
    "              \"RMO\", \"RMR\", \"RMS\", \"RFSETB\", \"FRTB\", \"FLTB\", \"FOTB\", \"RDRRTB\", \"RDRSTB\", \"CFET\", \"DEPNR\", \"RDI\", \"RRI\", \"RDMCR\"]"
   ]
  },
  {
   "cell_type": "code",
   "execution_count": 72,
   "metadata": {
    "collapsed": false,
    "pycharm": {
     "name": "#%%\n"
    },
    "vscode": {
     "languageId": "python"
    }
   },
   "outputs": [
    {
     "ename": "KeyError",
     "evalue": "'LAIEM'",
     "output_type": "error",
     "traceback": [
      "\u001b[1;31m---------------------------------------------------------------------------\u001b[0m",
      "\u001b[1;31mKeyError\u001b[0m                                  Traceback (most recent call last)",
      "Cell \u001b[1;32mIn [72], line 1\u001b[0m\n\u001b[1;32m----> 1\u001b[0m \u001b[43mparameters\u001b[49m\u001b[43m[\u001b[49m\u001b[38;5;124;43m\"\u001b[39;49m\u001b[38;5;124;43mLAIEM\u001b[39;49m\u001b[38;5;124;43m\"\u001b[39;49m\u001b[43m]\u001b[49m\n",
      "File \u001b[1;32mD:\\anaconda3\\envs\\pcse\\lib\\site-packages\\pcse\\base\\parameter_providers.py:197\u001b[0m, in \u001b[0;36mParameterProvider.__getitem__\u001b[1;34m(self, key)\u001b[0m\n\u001b[0;32m    195\u001b[0m     \u001b[38;5;28;01mif\u001b[39;00m key \u001b[38;5;129;01min\u001b[39;00m mapping:\n\u001b[0;32m    196\u001b[0m         \u001b[38;5;28;01mreturn\u001b[39;00m mapping[key]\n\u001b[1;32m--> 197\u001b[0m \u001b[38;5;28;01mraise\u001b[39;00m \u001b[38;5;167;01mKeyError\u001b[39;00m(key)\n",
      "\u001b[1;31mKeyError\u001b[0m: 'LAIEM'"
     ]
    }
   ],
   "source": [
    "parameters[\"LAIEM\"]"
   ]
  },
  {
   "cell_type": "code",
   "execution_count": 73,
   "metadata": {
    "collapsed": false,
    "pycharm": {
     "name": "#%%\n"
    },
    "vscode": {
     "languageId": "python"
    }
   },
   "outputs": [
    {
     "name": "stdout",
     "output_type": "stream",
     "text": [
      "LAIEM\n"
     ]
    }
   ],
   "source": [
    "for each in param_name:\n",
    "    try:\n",
    "        # print(\"**************\\n\")\n",
    "\n",
    "        test = parameters[each]\n",
    "\n",
    "    except KeyError:\n",
    "        print(each)"
   ]
  },
  {
   "cell_type": "markdown",
   "metadata": {
    "collapsed": false,
    "pycharm": {
     "name": "#%% md\n"
    }
   },
   "source": [
    "\n",
    "# 3 敏感性分析"
   ]
  },
  {
   "cell_type": "code",
   "execution_count": 10,
   "metadata": {
    "collapsed": false,
    "pycharm": {
     "name": "#%%\n"
    },
    "vscode": {
     "languageId": "python"
    }
   },
   "outputs": [],
   "source": [
    "import yaml\n",
    "import numpy as np\n",
    "# import pandas as pd\n",
    "from SALib.sample import saltelli\n",
    "from SALib.analyze import sobol, fast\n",
    "# import matplotlib.pyplot as plt\n",
    "from IPython.display import display\n",
    "# pd.set_option(\"display.max_rows\", None)\n",
    "pd.set_option(\"display.max_colwidth\", 250)\n",
    "from progressbar import printProgressBar, PrintProgressBar"
   ]
  },
  {
   "cell_type": "markdown",
   "metadata": {
    "collapsed": false,
    "pycharm": {
     "name": "#%% md\n"
    }
   },
   "source": [
    "## 3.1敏感性分析设置"
   ]
  },
  {
   "cell_type": "code",
   "execution_count": 36,
   "metadata": {
    "collapsed": false,
    "pycharm": {
     "name": "#%%\n"
    },
    "vscode": {
     "languageId": "python"
    }
   },
   "outputs": [],
   "source": [
    "# Define the target variable\n",
    "# target_variable = [\"TWSO\", \"TWLV\", \"TWST\", \"TAGP\", \"LAImax\"]\n",
    "with open(os.path.join(data_dir, 'yaml', 'params2.yaml'), 'r', encoding='utf-8') as f:\n",
    "    problem_yaml = f.read()\n",
    "# For each scalar parameter, determine a sensible interval\n",
    "# problem_yaml = \"\"\"\n",
    "#     num_vars: 5\n",
    "#     names:\n",
    "#     - TSUM1\n",
    "#     - TSUM2\n",
    "#     - SPAN\n",
    "#     - Q10\n",
    "#     - TDWI\n",
    "#     bounds:\n",
    "#     - [500, 800]\n",
    "#     - [1200, 1600]\n",
    "#     - [28, 37]\n",
    "#     - [1.8, 2.2]\n",
    "#     - [0.4, 0.6]\n",
    "# \"\"\"\n",
    "problem = yaml.safe_load(problem_yaml)"
   ]
  },
  {
   "cell_type": "code",
   "execution_count": null,
   "metadata": {
    "collapsed": false,
    "pycharm": {
     "name": "#%%\n"
    },
    "vscode": {
     "languageId": "python"
    }
   },
   "outputs": [],
   "source": [
    "# from SALib.sample import sobol as sobolSample\n",
    "# calc_second_order = True\n",
    "# nsamples = 2 ** 6\n",
    "# boundss_sobol = sobolSample.sample(problem, nsamples, calc_second_order=calc_second_order, seed=630)\n",
    "# print(\"We are going to do %s simulations\" % len(paramsets_sobol))"
   ]
  },
  {
   "cell_type": "code",
   "execution_count": 31,
   "metadata": {
    "collapsed": false,
    "pycharm": {
     "name": "#%%\n"
    },
    "vscode": {
     "languageId": "python"
    }
   },
   "outputs": [],
   "source": [
    "# names = problem[\"names\"]\n",
    "# bounds = problem[\"bounds\"]"
   ]
  },
  {
   "cell_type": "code",
   "execution_count": 32,
   "metadata": {
    "pycharm": {
     "name": "#%%\n"
    },
    "vscode": {
     "languageId": "python"
    }
   },
   "outputs": [],
   "source": [
    "# mycropd = {\n",
    "#         \"AMAXTB\": [0.0, 70.0, 1.25, 70.0, 1.5, 63.0, 1.75, 49.0, 2.0, 21.0],\n",
    "#         \"TMPFTB\": [0.00, 0.01, 9.00, 0.05, 16.0, 0.80, 18.0, 0.94, 20.0, 1.0, 30.0, 1.0, 36.0, 0.95, 42.0, 0.56],\n",
    "#         \"TMNFTB\": [5.0, 0.0, 8.0, 1.0],\n",
    "#         \"RFSETB\": [0.0, 1.0, 1.5, 1.0, 1.75, 0.75, 2.0, 0.25],\n",
    "#         \"SLATB\": [0.0, 0.0026, 1.0, 0.0012, 2.0, 0.0012],\n",
    "#         \"KDIFTB\": [0.0, 0.6, 2.0, 0.6],\n",
    "#         \"EFFTB\": [0.0, 0.45, 40.0, 0.45]\n",
    "\n",
    "#     }"
   ]
  },
  {
   "cell_type": "code",
   "execution_count": 28,
   "metadata": {
    "collapsed": false,
    "pycharm": {
     "name": "#%%\n"
    },
    "vscode": {
     "languageId": "python"
    }
   },
   "outputs": [],
   "source": [
    "# value_slatb = mycropd[\"SLATB\"]\n",
    "# bounds[0], bounds[1], bounds[2]= my_bounds(value_slatb[1]), my_bounds(value_slatb[3]), my_bounds(value_slatb[5])\n",
    "\n",
    "# values = mycropd[\"KDIFTB\"]\n",
    "# bounds[3], bounds[4] = my_bounds(values[1]), my_bounds(values[3])\n",
    "\n",
    "# values = mycropd[\"EFFTB\"]\n",
    "# bounds[5], bounds[6] = my_bounds(values[1]), my_bounds(values[3])\n",
    "\n",
    "# values = mycropd[\"AMAXTB\"]\n",
    "# bounds[10], bounds[7], bounds[8], bounds[9], bounds[11] = my_bounds(values[1]), my_bounds(values[3]), my_bounds(values[5]), my_bounds(values[7]), my_bounds(values[9]) \n",
    "\n",
    "# values = mycropd[\"TMPFTB\"]\n",
    "# bounds[12], bounds[13] = my_bounds(values[1]), my_bounds(values[11])\n",
    "\n",
    "# values = mycropd[\"TMNFTB\"]\n",
    "# bounds[14] = my_bounds(values[3])\n",
    "\n",
    "# values = mycropd[\"RFSETB\"]\n",
    "# bounds[15], bounds[16] = my_bounds(values[1]), my_bounds(values[7])"
   ]
  },
  {
   "cell_type": "code",
   "execution_count": null,
   "metadata": {
    "collapsed": false,
    "pycharm": {
     "name": "#%%\n"
    },
    "vscode": {
     "languageId": "python"
    }
   },
   "outputs": [],
   "source": [
    "# def my_bounds(aa):\n",
    "#     return [0.5*aa, 1.5*aa]"
   ]
  },
  {
   "cell_type": "code",
   "execution_count": null,
   "metadata": {
    "collapsed": false,
    "pycharm": {
     "name": "#%%\n"
    },
    "vscode": {
     "languageId": "python"
    }
   },
   "outputs": [],
   "source": [
    "# for i in range(17, len(names)):\n",
    "#     value = parameters[names[i]]\n",
    "#     bounds[i] = my_bounds(value)\n"
   ]
  },
  {
   "cell_type": "code",
   "execution_count": 29,
   "metadata": {
    "collapsed": false,
    "pycharm": {
     "name": "#%%\n"
    },
    "vscode": {
     "languageId": "python"
    }
   },
   "outputs": [],
   "source": [
    "# with open(\"./data/yaml/params2.yaml\", 'w') as f:\n",
    "#     f.write(yaml.dump(problem, allow_unicode=True))"
   ]
  },
  {
   "cell_type": "code",
   "execution_count": 35,
   "metadata": {
    "pycharm": {
     "name": "#%%\n"
    },
    "vscode": {
     "languageId": "python"
    }
   },
   "outputs": [
    {
     "name": "stdout",
     "output_type": "stream",
     "text": [
      "SLATB1: [0.0013, 0.0039]\n",
      "SLATB2: [0.0006, 0.0018]\n",
      "SLATB3: [0.0006, 0.0018]\n",
      "KDIFTB0: [0.3, 0.8999999999999999]\n",
      "KDIFTB2: [0.3, 0.8999999999999999]\n",
      "EFFTB1: [0.225, 0.675]\n",
      "EFFTB2: [0.225, 0.675]\n",
      "AMAXTB125: [35.0, 105.0]\n",
      "AMAXTB150: [31.5, 94.5]\n",
      "AMAXTB175: [24.5, 73.5]\n",
      "AMAXTB000: [35.0, 105.0]\n",
      "AMAXTB200: [10.5, 31.5]\n",
      "TMPFTB0: [0.005, 0.015]\n",
      "TMPFTB30: [0.5, 1.5]\n",
      "TMNFTB8: [0.5, 1.5]\n",
      "RFSETB0: [0.5, 1.5]\n",
      "RFSETB2: [0.125, 0.375]\n",
      "CVL: [0.34, 1.02]\n",
      "CVO: [0.3355, 1.0065]\n",
      "CVR: [0.345, 1.035]\n",
      "CVS: [0.329, 0.9870000000000001]\n",
      "Q10: [1.0, 3.0]\n",
      "RML: [0.015, 0.045]\n",
      "RMO: [0.005, 0.015]\n",
      "RMR: [0.0075, 0.0225]\n",
      "RMS: [0.0075, 0.0225]\n",
      "PERDL: [0.015, 0.045]\n",
      "RDI: [5.0, 15.0]\n",
      "RRI: [1.1, 3.3000000000000003]\n",
      "TBASEM: [2.0, 6.0]\n",
      "TEFFMX: [15.0, 45.0]\n",
      "TSUM1: [347.5, 1042.5]\n",
      "TSUM2: [400.0, 1200.0]\n",
      "TDWI: [25.0, 75.0]\n",
      "RGRLAI: [0.0147, 0.0441]\n",
      "SPAN: [16.5, 49.5]\n"
     ]
    }
   ],
   "source": []
  },
  {
   "cell_type": "code",
   "execution_count": 16,
   "metadata": {
    "pycharm": {
     "name": "#%%\n"
    },
    "vscode": {
     "languageId": "python"
    }
   },
   "outputs": [],
   "source": [
    "def my_bounds(aa):\n",
    "    return [0.5*aa, 1.5*aa]"
   ]
  },
  {
   "cell_type": "code",
   "execution_count": 17,
   "metadata": {
    "pycharm": {
     "name": "#%%\n"
    },
    "vscode": {
     "languageId": "python"
    }
   },
   "outputs": [],
   "source": [
    "for i in range(17, len(names)):\n",
    "    value = parameters[names[i]]\n",
    "    bounds[i] = my_bounds(value)\n"
   ]
  },
  {
   "cell_type": "code",
   "execution_count": 19,
   "metadata": {
    "pycharm": {
     "name": "#%%\n"
    },
    "vscode": {
     "languageId": "python"
    }
   },
   "outputs": [],
   "source": [
    "with open(\"./data/yaml/params2.yaml\", 'w') as f:\n",
    "    f.write(yaml.dump(problem, allow_unicode=True))"
   ]
  },
  {
   "cell_type": "code",
   "execution_count": 63,
   "metadata": {
    "collapsed": false,
    "pycharm": {
     "name": "#%%\n"
    },
    "vscode": {
     "languageId": "python"
    }
   },
   "outputs": [],
   "source": [
    "from SALib.sample.fast_sampler import sample as efast_sample\n",
    "nsamples = 100\n",
    "paramsets = efast_sample(problem, nsamples, 4, seed=1354331612)\n",
    "paramset = paramsets[0]"
   ]
  },
  {
   "cell_type": "code",
   "execution_count": 64,
   "metadata": {
    "collapsed": false,
    "pycharm": {
     "name": "#%%\n"
    },
    "vscode": {
     "languageId": "python"
    }
   },
   "outputs": [],
   "source": [
    "# 修改作物参数用\n",
    "param_dict = {\n",
    "    \"SLATB\": {\"SLATB1\": [0.00, 1], \"SLATB2\": [0.50, 3], \"SLATB3\": [0.78, 5], \"SLATB4\": [2.00, 7]},\n",
    "    \"KDIFTB\": {\"KDIFTB1\": [0.0, 1], \"KDIFTB2\": [2.0, 3]},\n",
    "    \"EFFTB\": {\"EFFTB1\": [0.0, 1], \"EFFTB2\": [40.0, 3]},\n",
    "    \"AMAXTB\": {\"AMAXTB1\": [0.00, 1], \"AMAXTB2\": [1.25, 3], \"AMAXTB3\": [1.50, 5], \"AMAXTB4\": [1.75, 7], \"AMAXTB5\": [2.00, 9]},\n",
    "    \"TMPFTB\": {\n",
    "        \"TMPFTB1\": [0.00, 1],\n",
    "        \"TMPFTB2\": [4.00, 3],\n",
    "        \"TMPFTB3\": [16.00, 5],\n",
    "        \"TMPFTB4\": [18.00, 7],\n",
    "        \"TMPFTB5\": [20.00, 9],\n",
    "        \"TMPFTB6\": [28.00, 11],\n",
    "        \"TMPFTB7\": [36.00, 13],\n",
    "        \"TMPFTB8\": [42.00, 15]\n",
    "    },\n",
    "    \"TMNFTB\": {\"TMNFTB1\": [8.00, 3]},\n",
    "    \"RFSETB\": {\n",
    "        \"RFSETB1\": [1.75, 5],\n",
    "        \"RFSETB2\": [2.00, 7],\n",
    "    },\n",
    "    \"FRTB\": {\n",
    "        \"FRTB1\": [0.00, 1],\n",
    "        \"FRTB2\": [0.70, 15],\n",
    "        \"FRTB3\": [0.90, 19]\n",
    "    },\n",
    "    \"FLTB\": {\n",
    "        \"FLTB1\": [0.00, 1],\n",
    "        \"FLTB2\": [0.33, 3],\n",
    "        \"FLTB3\": [0.88, 5],\n",
    "        \"FLTB4\": [1.10, 9],\n",
    "    },\n",
    "    \"FOTB\": {\"FOTB1\": [1.25, 7]},\n",
    "    \"RDRRTB\": {\n",
    "        \"RDRRTB1\": [1.5001, 5],\n",
    "        \"RDRRTB2\": [2.00, 7]\n",
    "    },\n",
    "    \"RDRSTB\": {\n",
    "        \"RDRSTB1\": [1.5001, 5],\n",
    "        \"RDRSTB2\": [2.00, 7],\n",
    "    }\n",
    "}"
   ]
  },
  {
   "cell_type": "code",
   "execution_count": 64,
   "metadata": {
    "collapsed": false,
    "pycharm": {
     "name": "#%%\n"
    },
    "vscode": {
     "languageId": "python"
    }
   },
   "outputs": [],
   "source": []
  },
  {
   "cell_type": "code",
   "execution_count": 65,
   "metadata": {
    "collapsed": false,
    "pycharm": {
     "name": "#%%\n"
    },
    "vscode": {
     "languageId": "python"
    }
   },
   "outputs": [],
   "source": [
    "\n",
    "# parameters.clear_override()\n",
    "# for name, value in zip(problem[\"names\"], paramsets[0]):\n",
    "#     try:\n",
    "#         parameters.set_override(name, value)\n",
    "#     except PCSEError:\n",
    "#         tmp_n = name[: -1]\n",
    "#         tem_d1 = param_dict[tmp_n]\n",
    "#         tmp_list = tem_d1[name]\n",
    "#         tmp_value = parameters[tmp_n]\n",
    "#         try:\n",
    "#             tmp_value[tmp_list[1] -1], tmp_value[tmp_list[1]] = tmp_list[0], value\n",
    "#         except IndexError:\n",
    "#             tmp_value.extend([tmp_list[0], value])\n",
    "#             print(tmp_value)\n",
    "#         parameters.set_override(tmp_n, tmp_value)\n"
   ]
  },
  {
   "cell_type": "code",
   "execution_count": 66,
   "metadata": {
    "collapsed": false,
    "pycharm": {
     "name": "#%%\n"
    },
    "vscode": {
     "languageId": "python"
    }
   },
   "outputs": [],
   "source": [
    "\n",
    "def deciaml1(num:float, n:int):\n",
    "    return int(num * 10**n) / 10 ** n"
   ]
  },
  {
   "cell_type": "code",
   "execution_count": 66,
   "metadata": {
    "collapsed": false,
    "pycharm": {
     "name": "#%%\n"
    },
    "vscode": {
     "languageId": "python"
    }
   },
   "outputs": [],
   "source": []
  },
  {
   "cell_type": "code",
   "execution_count": 67,
   "metadata": {
    "collapsed": false,
    "pycharm": {
     "name": "#%%\n"
    },
    "vscode": {
     "languageId": "python"
    }
   },
   "outputs": [],
   "source": [
    "# parameters = crop_param.initial()\n",
    "# parameters.set_override(\"FLTB\", [0.00, 0.62, 0.33, 0.59, 0.88, 0.16, 0.95, 0.15, 1.10, 0.11, 1.20, 0.00, 2.00, 0.00])\n",
    "# wofostpp = Wofost72_PP(parameters, wdp, agromanagement21)\n",
    "# wofostpp.run_till_terminate()"
   ]
  },
  {
   "cell_type": "code",
   "execution_count": 68,
   "metadata": {
    "collapsed": false,
    "pycharm": {
     "name": "#%%\n"
    },
    "vscode": {
     "languageId": "python"
    }
   },
   "outputs": [],
   "source": [
    "from pcse.models import Wofost72_PP, Wofost72_WLP_FD"
   ]
  },
  {
   "cell_type": "markdown",
   "metadata": {
    "collapsed": false,
    "pycharm": {
     "name": "#%% md\n"
    }
   },
   "source": [
    "### 3.1.1设置提取的值 "
   ]
  },
  {
   "cell_type": "code",
   "execution_count": 68,
   "metadata": {
    "collapsed": false,
    "pycharm": {
     "name": "#%%\n"
    },
    "vscode": {
     "languageId": "python"
    }
   },
   "outputs": [],
   "source": []
  },
  {
   "cell_type": "code",
   "execution_count": 69,
   "metadata": {
    "collapsed": false,
    "pycharm": {
     "name": "#%%\n"
    },
    "vscode": {
     "languageId": "python"
    }
   },
   "outputs": [],
   "source": [
    "# def parase_model_ouput(model_outplut: list, var_name: list, pid, idx=0):\n",
    "#     res_ = list()\n",
    "#     for each in var_name:\n",
    "#         try:\n",
    "#             res_.append(model_outplut[idx][each])\n",
    "#         except KeyError as e:\n",
    "#             print(\"%s\\n 不存在key=%s\"%(e, each))\n",
    "#             res_.append(None)\n",
    "#         except IndexError:\n",
    "#             res_.append(None)\n",
    "#\n",
    "#     res_.append(pid)\n",
    "#     return res_"
   ]
  },
  {
   "cell_type": "code",
   "execution_count": 70,
   "metadata": {
    "collapsed": false,
    "pycharm": {
     "name": "#%%\n"
    },
    "vscode": {
     "languageId": "python"
    }
   },
   "outputs": [],
   "source": [
    "def create_dict(key_das):\n",
    "    res_dict = dict()\n",
    "    res_dict[\"0\"] = list()\n",
    "    for each in key_das:\n",
    "        dict_key = str(each)\n",
    "        res_dict[dict_key] = list()\n",
    "    return res_dict\n",
    "#\n",
    "#\n",
    "# def get_wofost_output(wofostModel, var_names, template_dict, pid, var_list=None):\n",
    "#     wofostModel.run_till_terminate()\n",
    "#     r = wofostModel.get_summary_output()\n",
    "#     tmp_res = parase_model_ouput(r, var_name=var_names, pid=pid, idx=0)\n",
    "#     template_dict[\"0\"].append(tmp_res)\n",
    "#     if var_list is None:\n",
    "#         pass\n",
    "#     else:\n",
    "#         days, name_ = var_list\n",
    "#         r = wofostModel.get_output()\n",
    "#         for ii in days:\n",
    "#             # print(ii)\n",
    "#             tmp_res = None\n",
    "#             tmp_res = parase_model_ouput(r, var_name=name_, idx=ii, pid=pid)\n",
    "#             template_dict[str(ii)].append(tmp_res)\n",
    "#\n",
    "#     return template_dict\n",
    "#\n"
   ]
  },
  {
   "cell_type": "code",
   "execution_count": 71,
   "metadata": {
    "collapsed": false,
    "pycharm": {
     "name": "#%%\n"
    },
    "vscode": {
     "languageId": "python"
    }
   },
   "outputs": [],
   "source": [
    "tmp_dict = problem[\"bounds\"]"
   ]
  },
  {
   "cell_type": "code",
   "execution_count": 72,
   "metadata": {
    "collapsed": false,
    "pycharm": {
     "name": "#%%\n"
    },
    "vscode": {
     "languageId": "python"
    }
   },
   "outputs": [
    {
     "data": {
      "text/plain": [
       "{'num_vars': 36,\n",
       " 'names': ['SLATB1',\n",
       "  'SLATB2',\n",
       "  'SLATB3',\n",
       "  'KDIFTB0',\n",
       "  'KDIFTB2',\n",
       "  'EFFTB1',\n",
       "  'EFFTB2',\n",
       "  'AMAXTB125',\n",
       "  'AMAXTB150',\n",
       "  'AMAXTB175',\n",
       "  'AMAXTB000',\n",
       "  'AMAXTB200',\n",
       "  'TMPFTB0',\n",
       "  'TMPFTB30',\n",
       "  'TMNFTB5',\n",
       "  'RFSETB0',\n",
       "  'RFSETB2',\n",
       "  'CVL',\n",
       "  'CVO',\n",
       "  'CVR',\n",
       "  'CVS',\n",
       "  'Q10',\n",
       "  'RML',\n",
       "  'RMO',\n",
       "  'RMR',\n",
       "  'RMS',\n",
       "  'PERDL',\n",
       "  'RDI',\n",
       "  'RRI',\n",
       "  'TBASEM',\n",
       "  'TEFFMX',\n",
       "  'TSUM1',\n",
       "  'TSUM2',\n",
       "  'TDWI',\n",
       "  'RGRLAI',\n",
       "  'SPAN'],\n",
       " 'bounds': [[0.00175, 0.00525],\n",
       "  [0.0008, 0.0024000000000000002],\n",
       "  [0.0008, 0.0024000000000000002],\n",
       "  [0.3, 0.8999999999999999],\n",
       "  [0.3, 0.8999999999999999],\n",
       "  [0.25, 0.75],\n",
       "  [0.25, 0.75],\n",
       "  [35.0, 105.0],\n",
       "  [31.5, 94.5],\n",
       "  [24.5, 73.5],\n",
       "  [35.0, 105.0],\n",
       "  [10.5, 31.5],\n",
       "  [0.0025, 0.0075],\n",
       "  [0.5, 1.5],\n",
       "  [0.0025, 0.0075],\n",
       "  [0.5, 1.5],\n",
       "  [0.5, 1.5],\n",
       "  [0.36, 1.08],\n",
       "  [0.36, 1.08],\n",
       "  [0.36, 1.08],\n",
       "  [0.345, 1.035],\n",
       "  [1.0, 3.0],\n",
       "  [0.015, 0.045],\n",
       "  [0.005, 0.015],\n",
       "  [0.005, 0.015],\n",
       "  [0.0075, 0.0225],\n",
       "  [0.015, 0.045],\n",
       "  [5.0, 15.0],\n",
       "  [0.6, 1.7999999999999998],\n",
       "  [4.875, 14.625],\n",
       "  [15.0, 45.0],\n",
       "  [356.5, 1069.5],\n",
       "  [355.0, 1065.0],\n",
       "  [25.0, 75.0],\n",
       "  [0.025, 0.07500000000000001],\n",
       "  [20.0, 60.0]],\n",
       " 'sample_scaled': True}"
      ]
     },
     "execution_count": 72,
     "metadata": {},
     "output_type": "execute_result"
    }
   ],
   "source": [
    "problem"
   ]
  },
  {
   "cell_type": "code",
   "execution_count": 73,
   "metadata": {
    "collapsed": false,
    "pycharm": {
     "name": "#%%\n"
    },
    "vscode": {
     "languageId": "python"
    }
   },
   "outputs": [],
   "source": [
    "for i in range(len(tmp_dict)):\n",
    "    tmp_list = tmp_dict[i]\n",
    "    mean_ = np.mean(tmp_list)\n",
    "    tmp_list[0], tmp_list[1] = mean_ - mean_ * 0.5, mean_ + mean_ * 0.5\n",
    "    tmp_dict[i] = tmp_list"
   ]
  },
  {
   "cell_type": "code",
   "execution_count": 74,
   "metadata": {
    "collapsed": false,
    "pycharm": {
     "name": "#%%\n"
    },
    "vscode": {
     "languageId": "python"
    }
   },
   "outputs": [
    {
     "data": {
      "text/plain": [
       "[31.5, 94.5]"
      ]
     },
     "execution_count": 74,
     "metadata": {},
     "output_type": "execute_result"
    }
   ],
   "source": [
    "tmp_dict[8]"
   ]
  },
  {
   "cell_type": "code",
   "execution_count": 7,
   "metadata": {
    "collapsed": false,
    "pycharm": {
     "name": "#%%\n"
    },
    "vscode": {
     "languageId": "python"
    }
   },
   "outputs": [],
   "source": [
    "final_target = [\"LAIMAX\", \"TAGP\", \"TWSO\", \"DOE\", \"DOA\", \"DOM\"]\n",
    "time_target = [\"LAI\", \"TAGP\"]\n",
    "das = [i for i in range(126)]\n",
    "model_start_date = \"2021-06-01\"\n",
    "sowing_date = \"2021-06-11\"\n",
    "base_i = calDays(model_start_date, sowing_date)\n",
    "for idx, value_ in enumerate(das):\n",
    "    das[idx] = base_i + value_\n",
    "\n",
    "col1 = [\"LAIMAX\", \"TAGP\", \"TWSO\", \"DOE\", \"DOA\", \"DOM\", \"id\"]\n",
    "col2 = [\"LAI\", \"TAGP\", \"id\"]"
   ]
  },
  {
   "cell_type": "code",
   "execution_count": 8,
   "metadata": {
    "collapsed": false,
    "pycharm": {
     "name": "#%%\n"
    },
    "vscode": {
     "languageId": "python"
    }
   },
   "outputs": [
    {
     "data": {
      "text/plain": [
       "[10,\n",
       " 11,\n",
       " 12,\n",
       " 13,\n",
       " 14,\n",
       " 15,\n",
       " 16,\n",
       " 17,\n",
       " 18,\n",
       " 19,\n",
       " 20,\n",
       " 21,\n",
       " 22,\n",
       " 23,\n",
       " 24,\n",
       " 25,\n",
       " 26,\n",
       " 27,\n",
       " 28,\n",
       " 29,\n",
       " 30,\n",
       " 31,\n",
       " 32,\n",
       " 33,\n",
       " 34,\n",
       " 35,\n",
       " 36,\n",
       " 37,\n",
       " 38,\n",
       " 39,\n",
       " 40,\n",
       " 41,\n",
       " 42,\n",
       " 43,\n",
       " 44,\n",
       " 45,\n",
       " 46,\n",
       " 47,\n",
       " 48,\n",
       " 49,\n",
       " 50,\n",
       " 51,\n",
       " 52,\n",
       " 53,\n",
       " 54,\n",
       " 55,\n",
       " 56,\n",
       " 57,\n",
       " 58,\n",
       " 59,\n",
       " 60,\n",
       " 61,\n",
       " 62,\n",
       " 63,\n",
       " 64,\n",
       " 65,\n",
       " 66,\n",
       " 67,\n",
       " 68,\n",
       " 69,\n",
       " 70,\n",
       " 71,\n",
       " 72,\n",
       " 73,\n",
       " 74,\n",
       " 75,\n",
       " 76,\n",
       " 77,\n",
       " 78,\n",
       " 79,\n",
       " 80,\n",
       " 81,\n",
       " 82,\n",
       " 83,\n",
       " 84,\n",
       " 85,\n",
       " 86,\n",
       " 87,\n",
       " 88,\n",
       " 89,\n",
       " 90,\n",
       " 91,\n",
       " 92,\n",
       " 93,\n",
       " 94,\n",
       " 95,\n",
       " 96,\n",
       " 97,\n",
       " 98,\n",
       " 99,\n",
       " 100,\n",
       " 101,\n",
       " 102,\n",
       " 103,\n",
       " 104,\n",
       " 105,\n",
       " 106,\n",
       " 107,\n",
       " 108,\n",
       " 109,\n",
       " 110,\n",
       " 111,\n",
       " 112,\n",
       " 113,\n",
       " 114,\n",
       " 115,\n",
       " 116,\n",
       " 117,\n",
       " 118,\n",
       " 119,\n",
       " 120,\n",
       " 121,\n",
       " 122,\n",
       " 123,\n",
       " 124,\n",
       " 125,\n",
       " 126,\n",
       " 127,\n",
       " 128,\n",
       " 129,\n",
       " 130,\n",
       " 131,\n",
       " 132,\n",
       " 133,\n",
       " 134,\n",
       " 135]"
      ]
     },
     "execution_count": 8,
     "metadata": {},
     "output_type": "execute_result"
    }
   ],
   "source": [
    "das"
   ]
  },
  {
   "cell_type": "code",
   "execution_count": 76,
   "metadata": {
    "collapsed": false,
    "pycharm": {
     "name": "#%%\n"
    },
    "vscode": {
     "languageId": "python"
    }
   },
   "outputs": [],
   "source": [
    "mycropd = {\n",
    "    \"AMAXTB\": [0.0, 70.0, 1.25, 70.0, 1.5, 63.0, 1.75, 49.0, 2.0, 21.0],\n",
    "    \"TMPFTB\": [0.00, 0.01, 9.00, 0.05, 16.0, 0.80, 18.0, 0.94, 20.0, 1.0, 30.0, 1.0, 36.0, 0.95, 42.0, 0.56],\n",
    "    \"TMNFTB\": [5.0, 0.0, 8.0, 1.0],\n",
    "    \"RFSETB\": [0.0, 1.0, 1.5, 1.0, 1.75, 0.75, 2.0, 0.25],\n",
    "    \"SLATB\": [0.0, 0.0026, 1.0, 0.0012, 2.0, 0.0012],\n",
    "    \"KDIFTB\": [0.0, 0.6, 2.0, 0.6],\n",
    "    \"EFFTB\": [0.0, 0.45, 40.0, 0.45]\n",
    "\n",
    "}\n"
   ]
  },
  {
   "cell_type": "code",
   "execution_count": 77,
   "metadata": {
    "collapsed": false,
    "pycharm": {
     "name": "#%%\n"
    },
    "vscode": {
     "languageId": "python"
    }
   },
   "outputs": [],
   "source": [
    "import time\n",
    "import pickle\n",
    "from progressbar import printProgressBar, PrintProgressBar\n",
    "from wofostSA import run_wofost"
   ]
  },
  {
   "cell_type": "code",
   "execution_count": 77,
   "metadata": {
    "collapsed": false,
    "pycharm": {
     "name": "#%%\n"
    },
    "vscode": {
     "languageId": "python"
    }
   },
   "outputs": [],
   "source": []
  },
  {
   "cell_type": "code",
   "execution_count": 78,
   "metadata": {
    "collapsed": false,
    "pycharm": {
     "name": "#%%\n"
    },
    "vscode": {
     "languageId": "python"
    }
   },
   "outputs": [],
   "source": [
    "nsets = len(paramsets)\n",
    "result_template = create_dict(das)\n",
    "# result_wlp = create_dict(das)\n",
    "result_template[\"names1\"] = col1\n",
    "result_template[\"names2\"] = col2\n",
    "# result_wlp[\"names1\"] = col1\n",
    "# result_wlp[\"names2\"] = col2\n",
    "## params1用\n",
    "# pbar = PrintProgressBar(nsets, prefix='Progress:', suffix='Complete', decimals=1, length=50, fill='█', printEnd=\"\\r\")\n",
    "# pbar.printProgressBar(0)\n",
    "# # printProgressBar(0, nsets, prefix = 'Progress:', suffix = 'Complete', length = 50)\n",
    "# for i, paramset in enumerate(paramsets):\n",
    "#     parameters.clear_override()\n",
    "#     # parameters.set_override(\"TSUMEM\", 150.0)\n",
    "#     # parameters.set_override(\"TSUM1\", 1290)\n",
    "#     # parameters.set_override(\"TSUM2\", 650)\n",
    "#     ## 修改敏感参数值\n",
    "#     value_slatb = mycropd[\"SLATB\"]\n",
    "#     value_slatb[1], value_slatb[3], value_slatb[5] = paramset[0], paramset[1], paramset[2]\n",
    "#     parameters.set_override(\"SLATB\", value_slatb)\n",
    "#\n",
    "#     values = mycropd[\"KDIFTB\"]\n",
    "#     values[1], values[3] = paramset[3], paramset[4]\n",
    "#     parameters.set_override(\"KDIFTB\", values)\n",
    "#\n",
    "#     values = mycropd[\"EFFTB\"]\n",
    "#     values[1], values[3] = paramset[5], paramset[6]\n",
    "#     parameters.set_override(\"EFFTB\", values)\n",
    "#\n",
    "#     values = mycropd[\"AMAXTB\"]\n",
    "#     values[1], values[3], values[5], values[7], values[9] = paramset[10], paramset[7], paramset[8], paramset[9], paramset[11]\n",
    "#     parameters.set_override(\"AMAXTB\", values)\n",
    "#\n",
    "#     values = mycropd[\"TMPFTB\"]\n",
    "#     values[1], values[11] = paramset[12], paramset[13]\n",
    "#     parameters.set_override(\"TMPFTB\", values)\n",
    "#\n",
    "#     values = mycropd[\"TMNFTB\"]\n",
    "#     values[1] = paramset[14]\n",
    "#     parameters.set_override(\"TMNFTB\", values)\n",
    "#\n",
    "#     values = mycropd[\"RFSETB\"]\n",
    "#     values[1], values[7] = paramset[15], paramset[16]\n",
    "#     parameters.set_override(\"RFSETB\", values)\n",
    "#     # print(\"RFSETB: %s\"%values)\n",
    "#\n",
    "#     for name, value in zip(problem[\"names\"][17: ], paramset[17: ]):\n",
    "#         try:\n",
    "#             parameters.set_override(name, value)\n",
    "#         except PCSEError:\n",
    "#             tmp_n = name[: -1]\n",
    "#             tem_d1 = param_dict[tmp_n]\n",
    "#             tmp_list = tem_d1[name]\n",
    "#             tmp_value = parameters[tmp_n]\n",
    "#             try:\n",
    "#                 tmp_value[tmp_list[1] -1], tmp_value[tmp_list[1]] = tmp_list[0], value\n",
    "#             except IndexError:\n",
    "#                 tmp_value.extend([tmp_list[0], value])\n",
    "#                 # print(tmp_value)\n",
    "#             parameters.set_override(tmp_n, tmp_value)\n",
    "#     ## 模型运算\n",
    "#     # 潜在产量数据\n",
    "#     try:\n",
    "#         wofostpp = Wofost72_PP(parameters, wdp, agromanagement22)\n",
    "#         # wofostwlp = Wofost72_WLP_FD(parameters, wdp, agromanagement21)\n",
    "#         result_pp = get_wofost_output(wofostpp, final_target, result_pp, pid=i, var_list=(das, time_target))\n",
    "#         # result_wlp = get_wofost_output(wofostwlp, final_target, result_wlp, pid=i, var_list=(das, time_target))\n",
    "#\n",
    "#     except ZeroDivisionError as e:\n",
    "#         print(e)\n",
    "#\n",
    "#     if (i + 1) % 50 == 0 or (i + 1) == nsets:\n",
    "#         with open(\"./data/pickleFile/result_pp2022.pkl\", \"wb\") as f:\n",
    "#             pickle.dump(result_pp, f)\n",
    "#         # with open(\"./data/pickleFile/result_wlp2021.pkl\", \"wb\") as f:\n",
    "#         #     pickle.dump(result_wlp, f)\n",
    "#\n",
    "#     pbar.printProgressBar(i+1)\n"
   ]
  },
  {
   "cell_type": "code",
   "execution_count": 79,
   "metadata": {
    "collapsed": false,
    "pycharm": {
     "name": "#%%\n"
    },
    "vscode": {
     "languageId": "python"
    }
   },
   "outputs": [],
   "source": [
    "# nsets = len(paramsets)\n",
    "# result_pp = create_dict(das)\n",
    "# result_wlp = create_dict(das)\n",
    "# result_pp[\"names1\"] = col1\n",
    "# result_pp[\"names2\"] = col2\n",
    "# result_wlp[\"names1\"] = col1\n",
    "# result_wlp[\"names2\"] = col2\n",
    "# pbar = PrintProgressBar(nsets, prefix='Progress:', suffix='Complete', decimals=1, length=50, fill='█', printEnd=\"\\r\")\n",
    "# pbar.printProgressBar(0)\n",
    "# # printProgressBar(0, nsets, prefix = 'Progress:', suffix = 'Complete', length = 50)\n",
    "# for i, paramset in enumerate(paramsets):\n",
    "#     parameters.clear_override()\n",
    "#     parameters.set_override(\"TSUMEM\", 150.0)\n",
    "#     parameters.set_override(\"TSUM1\", 1290)\n",
    "#     parameters.set_override(\"TSUM2\", 650)\n",
    "#     ## 修改敏感参数值\n",
    "#     for name, value in zip(problem[\"names\"], paramsets[i]):\n",
    "#         try:\n",
    "#             parameters.set_override(name, value)\n",
    "#         except PCSEError:\n",
    "#             tmp_n = name[: -1]\n",
    "#             tem_d1 = param_dict[tmp_n]\n",
    "#             tmp_list = tem_d1[name]\n",
    "#             tmp_value = parameters[tmp_n]\n",
    "#             try:\n",
    "#                 tmp_value[tmp_list[1] -1], tmp_value[tmp_list[1]] = tmp_list[0], value\n",
    "#             except IndexError:\n",
    "#                 tmp_value.extend([tmp_list[0], value])\n",
    "#                 # print(tmp_value)\n",
    "#             parameters.set_override(tmp_n, tmp_value)\n",
    "#     ## 模型运算\n",
    "#     # 潜在产量数据\n",
    "#     tmp_res = None\n",
    "#     try:\n",
    "#         wofostpp = Wofost72_PP(parameters, wdp, agromanagement21)\n",
    "#         # wofostwlp = Wofost72_WLP_FD(parameters, wdp, agromanagement21)\n",
    "#         result_pp = get_wofost_output(wofostpp, final_target, result_pp, pid=i, var_list=(das, time_target))\n",
    "#         # result_wlp = get_wofost_output(wofostwlp, final_target, result_wlp, pid=i, var_list=(das, time_target))\n",
    "#\n",
    "#     except ZeroDivisionError as e:\n",
    "#         print(e)\n",
    "#\n",
    "#     if (i + 1) % 50 == 0 or (i + 1) == nsets:\n",
    "#         with open(\"./data/pickleFile/result_pp2021.pkl\", \"wb\") as f:\n",
    "#             pickle.dump(result_pp, f)\n",
    "#         # with open(\"./data/pickleFile/result_wlp2021.pkl\", \"wb\") as f:\n",
    "#         #     pickle.dump(result_wlp, f)\n",
    "#\n",
    "#     pbar.printProgressBar(i+1)\n"
   ]
  },
  {
   "cell_type": "code",
   "execution_count": 80,
   "metadata": {
    "collapsed": false,
    "pycharm": {
     "name": "#%%\n"
    },
    "vscode": {
     "languageId": "python"
    }
   },
   "outputs": [
    {
     "data": {
      "text/plain": [
       "[{datetime.date(2022, 6, 1): {'CropCalendar': {'crop_name': 'maize',\n",
       "    'variety_name': 'Grain_maize_201',\n",
       "    'crop_start_date': datetime.date(2022, 6, 11),\n",
       "    'crop_start_type': 'sowing',\n",
       "    'crop_end_date': None,\n",
       "    'crop_end_type': 'maturity',\n",
       "    'max_duration': 140},\n",
       "   'TimedEvents': [{'event_signal': 'irrigate',\n",
       "     'name': 'Timed irrigation events',\n",
       "     'comment': 'All irrigation amounts in cm',\n",
       "     'events_table': [{datetime.date(2022, 6, 28): {'amount': 7.5,\n",
       "        'efficiency': 0.9}},\n",
       "      {datetime.date(2022, 7, 7): {'amount': 7.5, 'efficiency': 0.9}},\n",
       "      {datetime.date(2022, 8, 8): {'amount': 7.5, 'efficiency': 0.9}}]},\n",
       "    {'event_signal': 'apply_npk',\n",
       "     'name': 'Timed N/P/K application table',\n",
       "     'comment': 'All fertilizer amounts in kg/ha',\n",
       "     'events_table': [{datetime.date(2022, 6, 11): {'N_amount': 0,\n",
       "        'P_amount': 90,\n",
       "        'K_amount': 60}},\n",
       "      {datetime.date(2022, 7, 15): {'N_amount': 0,\n",
       "        'P_amount': 0,\n",
       "        'K_amount': 0}}]}],\n",
       "   'StateEvents': None}}]"
      ]
     },
     "execution_count": 80,
     "metadata": {},
     "output_type": "execute_result"
    }
   ],
   "source": [
    "agromanagement22"
   ]
  },
  {
   "cell_type": "markdown",
   "metadata": {
    "collapsed": false,
    "pycharm": {
     "name": "#%% md\n"
    }
   },
   "source": [
    "### efast"
   ]
  },
  {
   "cell_type": "code",
   "execution_count": 95,
   "metadata": {
    "collapsed": false,
    "pycharm": {
     "name": "#%%\n"
    },
    "vscode": {
     "languageId": "python"
    }
   },
   "outputs": [
    {
     "name": "stderr",
     "output_type": "stream",
     "text": [
      "完成进度: 100%|█████████████████████████████|3600/3600[40:22<00:00, number=3599]0<?]\n"
     ]
    }
   ],
   "source": [
    "parameters.clear_override()\n",
    "time1 = datetime.now()\n",
    "result_2021pp = copy.deepcopy(result_template)\n",
    "pklfile = \"./data/pickleFile/result_pp2021_{0}M{1}D{2}H{3}M{4}.pkl\".format(time1.month, time1.day, time1.hour, time1.minute, time1.second)\n",
    "\n",
    "result_2021pp = run_wofost(problem=problem, paramsets=paramsets, result_dict=result_2021pp, parameters=parameters,\n",
    "                       agrodata=agromanagement21, weatherdata=wdp, pkl_file=pklfile, target_variables=final_target, target_list=(das, time_target))\n",
    "\n",
    "# time1 = datetime.now()\n",
    "# pklfile = \"./data/pickleFile/result_pp2022_{0}M{1}D{2}H{3}M{4}.pkl\".format(time1.month, time1.day, time1.hour, time1.minute, time1.second)\n",
    "# result_2022pp = copy.deepcopy(result_template)\n",
    "# result_2022pp = run_wofost(problem=problem, paramsets=paramsets, result_dict=result_2022pp, parameters=parameters,\n",
    "#                          agrodata=agromanagement22, weatherdata=wdp, pkl_file=pklfile, target_variables=final_target, target_list=(das, time_target))"
   ]
  },
  {
   "cell_type": "code",
   "execution_count": null,
   "metadata": {
    "collapsed": false,
    "pycharm": {
     "name": "#%%\n"
    },
    "vscode": {
     "languageId": "python"
    }
   },
   "outputs": [],
   "source": [
    "time1 = datetime.now()\n",
    "result_2021wlp = copy.deepcopy(result_template)\n",
    "pklfile = \"./data/pickleFile/result_wlp2021_{0}M{1}D{2}H{3}M{4}.pkl\".format(time1.month, time1.day, time1.hour, time1.minute, time1.second)\n",
    "\n",
    "result_2021wlp = run_wofost(problem=problem, paramsets=paramsets, result_dict=result_2021wlp, parameters=parameters,\n",
    "                           agrodata=agromanagement21, weatherdata=wdp, pkl_file=pklfile, target_variables=final_target, target_list=(das, time_target), method=1)\n",
    "\n",
    "# time1 = datetime.now()\n",
    "pklfile = \"./data/pickleFile/result_wlp2022_{0}M{1}D{2}H{3}M{4}.pkl\".format(time1.month, time1.day, time1.hour, time1.minute, time1.second)\n",
    "result_2022wlp = copy.deepcopy(result_template)\n",
    "result_2022wlp = run_wofost(problem=problem, paramsets=paramsets, result_dict=result_2022wlp, parameters=parameters,\n",
    "                           agrodata=agromanagement22, weatherdata=wdp, pkl_file=pklfile, target_variables=final_target, target_list=(das, time_target), method=1)"
   ]
  },
  {
   "cell_type": "markdown",
   "metadata": {
    "collapsed": false,
    "pycharm": {
     "name": "#%% md\n"
    }
   },
   "source": [
    "## sobol"
   ]
  },
  {
   "cell_type": "code",
   "execution_count": 77,
   "metadata": {
    "collapsed": false,
    "pycharm": {
     "name": "#%%\n"
    },
    "vscode": {
     "languageId": "python"
    }
   },
   "outputs": [
    {
     "name": "stderr",
     "output_type": "stream",
     "text": [
      "完成进度: 100%|███████████████████████████|4736/4736[1:14:38<00:00, number=4735]0<?]\n",
      "完成进度: 100%|███████████████████████████|4736/4736[1:13:37<00:00, number=4735]0<?]\n"
     ]
    }
   ],
   "source": [
    "# time1 = datetime.now()\n",
    "# result_2021s = copy.deepcopy(result_template)\n",
    "# pklfile = \"./data/pickleFile/result_pp2021s_{0}M{1}D{2}H{3}M{4}.pkl\".format(time1.month, time1.day, time1.hour, time1.minute, time1.second)\n",
    "#\n",
    "# result_2021s = run_wofost(problem=problem, paramsets=paramsets_sobol, result_dict=result_2021s, parameters=parameters, agrodata=agromanagement21, weatherdata=wdp, pkl_file=pklfile, target_variables=final_target, target_list=(das, time_target))\n",
    "#\n",
    "# time1 = datetime.now()\n",
    "# pklfile = \"./data/pickleFile/result_pp2022s_{0}M{1}D{2}H{3}M{4}.pkl\".format(time1.month, time1.day, time1.hour, time1.minute, time1.second)\n",
    "# result_2022s = copy.deepcopy(result_template)\n",
    "# result_2022s = run_wofost(problem=problem, paramsets=paramsets_sobol, result_dict=result_2022s, parameters=parameters,\n",
    "#                          agrodata=agromanagement22, weatherdata=wdp, pkl_file=pklfile, target_variables=final_target, target_list=(das, time_target))"
   ]
  },
  {
   "cell_type": "code",
   "execution_count": 78,
   "metadata": {
    "collapsed": false,
    "pycharm": {
     "name": "#%%\n"
    },
    "vscode": {
     "languageId": "python"
    }
   },
   "outputs": [],
   "source": []
  },
  {
   "cell_type": "code",
   "execution_count": 162,
   "metadata": {
    "collapsed": false,
    "pycharm": {
     "name": "#%%\n"
    },
    "vscode": {
     "languageId": "python"
    }
   },
   "outputs": [],
   "source": [
    "import pickle\n",
    "pkl_file = \"./data/pickleFile/parameterset_fast.pkl\"\n",
    "pkl_data = paramsets\n",
    "with open(pkl_file, 'wb') as pf:\n",
    "    pickle.dump(pkl_data, pf)"
   ]
  },
  {
   "cell_type": "code",
   "execution_count": 26,
   "metadata": {
    "collapsed": false,
    "pycharm": {
     "name": "#%%\n"
    },
    "vscode": {
     "languageId": "python"
    }
   },
   "outputs": [],
   "source": [
    "with open(\"./data/pickleFile/result_pp2021.pkl\", \"rb\") as f:\n",
    "    result_pp = pickle.load(f)"
   ]
  },
  {
   "cell_type": "code",
   "execution_count": 5,
   "metadata": {
    "collapsed": false,
    "pycharm": {
     "name": "#%%\n"
    },
    "vscode": {
     "languageId": "python"
    }
   },
   "outputs": [],
   "source": [
    "from datetime import datetime"
   ]
  },
  {
   "cell_type": "code",
   "execution_count": 6,
   "metadata": {
    "collapsed": false,
    "pycharm": {
     "name": "#%%\n"
    },
    "vscode": {
     "languageId": "python"
    }
   },
   "outputs": [],
   "source": [
    "now = datetime.now()"
   ]
  },
  {
   "cell_type": "code",
   "execution_count": 49,
   "metadata": {
    "collapsed": false,
    "pycharm": {
     "name": "#%%\n"
    },
    "vscode": {
     "languageId": "python"
    }
   },
   "outputs": [
    {
     "data": {
      "text/plain": [
       "dict_keys(['0', '10', '11', '12', '13', '14', '15', '16', '17', '18', '19', '20', '21', '22', '23', '24', '25', '26', '27', '28', '29', '30', '31', '32', '33', '34', '35', '36', '37', '38', '39', '40', '41', '42', '43', '44', '45', '46', '47', '48', '49', '50', '51', '52', '53', '54', '55', '56', '57', '58', '59', '60', '61', '62', '63', '64', '65', '66', '67', '68', '69', '70', '71', '72', '73', '74', '75', '76', '77', '78', '79', '80', '81', '82', '83', '84', '85', '86', '87', '88', '89', '90', '91', '92', '93', '94', '95', '96', '97', '98', '99', '100', '101', '102', '103', '104', '105', '106', '107', '108', '109', '110', '111', '112', '113', '114', '115', '116', '117', '118', '119', '120', '121', '122', '123', '124', '125', '126', '127', '128', '129', '130', '131', '132', '133', '134', '135', 'names1', 'names2'])"
      ]
     },
     "execution_count": 49,
     "metadata": {},
     "output_type": "execute_result"
    }
   ],
   "source": [
    "result_2021pp.keys()"
   ]
  },
  {
   "cell_type": "code",
   "execution_count": 96,
   "metadata": {
    "collapsed": false,
    "pycharm": {
     "name": "#%%\n"
    },
    "vscode": {
     "languageId": "python"
    }
   },
   "outputs": [],
   "source": [
    "df_pp = pd.DataFrame(result_2021pp[\"0\"], columns=result_2021pp[\"names1\"])"
   ]
  },
  {
   "cell_type": "code",
   "execution_count": 38,
   "metadata": {
    "collapsed": false,
    "pycharm": {
     "name": "#%%\n"
    },
    "vscode": {
     "languageId": "python"
    }
   },
   "outputs": [],
   "source": [
    "Y = np.loadtxt(\"./data/sa.csv\")"
   ]
  },
  {
   "cell_type": "code",
   "execution_count": 41,
   "metadata": {
    "pycharm": {
     "name": "#%%\n"
    },
    "vscode": {
     "languageId": "python"
    }
   },
   "outputs": [
    {
     "data": {
      "text/plain": [
       "array([1051.72616204, 1738.79481604, 3374.11752271, ..., 7273.04900434,\n",
       "       8143.39876848, 8436.98153672])"
      ]
     },
     "execution_count": 41,
     "metadata": {},
     "output_type": "execute_result"
    }
   ],
   "source": [
    "Y[:, 2]"
   ]
  },
  {
   "cell_type": "code",
   "execution_count": 98,
   "metadata": {
    "collapsed": false,
    "pycharm": {
     "name": "#%%\n"
    },
    "vscode": {
     "languageId": "python"
    }
   },
   "outputs": [],
   "source": [
    "Y = df_pp[\"TWSO\"]"
   ]
  },
  {
   "cell_type": "code",
   "execution_count": 99,
   "metadata": {
    "collapsed": false,
    "pycharm": {
     "name": "#%%\n"
    },
    "vscode": {
     "languageId": "python"
    }
   },
   "outputs": [],
   "source": [
    "Y = Y.to_numpy()"
   ]
  },
  {
   "cell_type": "code",
   "execution_count": 100,
   "metadata": {
    "collapsed": false,
    "pycharm": {
     "name": "#%%\n"
    },
    "vscode": {
     "languageId": "python"
    }
   },
   "outputs": [
    {
     "data": {
      "text/plain": [
       "1.5000364038961425"
      ]
     },
     "execution_count": 100,
     "metadata": {},
     "output_type": "execute_result"
    }
   ],
   "source": [
    "Y.min()"
   ]
  },
  {
   "cell_type": "code",
   "execution_count": 100,
   "metadata": {
    "collapsed": false,
    "pycharm": {
     "name": "#%%\n"
    },
    "vscode": {
     "languageId": "python"
    }
   },
   "outputs": [],
   "source": []
  },
  {
   "cell_type": "code",
   "execution_count": 46,
   "metadata": {
    "collapsed": false,
    "pycharm": {
     "name": "#%%\n"
    },
    "vscode": {
     "languageId": "python"
    }
   },
   "outputs": [],
   "source": [
    "Si = fast.analyze(problem, Y[:, 1], print_to_console=False)"
   ]
  },
  {
   "cell_type": "code",
   "execution_count": 48,
   "metadata": {
    "collapsed": false,
    "pycharm": {
     "name": "#%%\n"
    },
    "vscode": {
     "languageId": "python"
    }
   },
   "outputs": [
    {
     "data": {
      "text/plain": [
       "<AxesSubplot:xlabel='Parameter'>"
      ]
     },
     "execution_count": 48,
     "metadata": {},
     "output_type": "execute_result"
    },
    {
     "data": {
      "image/png": "[encoded data removed]",
      "text/plain": [
       "<Figure size 1000x500 with 1 Axes>"
      ]
     },
     "metadata": {},
     "output_type": "display_data"
    }
   ],
   "source": [
    "df_sensitivity = pd.DataFrame({\n",
    "    \"Parameter\": problem[\"names\"],\n",
    "    \"First_order\": Si[\"S1\"],\n",
    "    \"Total_order\": Si[\"ST\"]}).set_index(\"Parameter\")\n",
    "fig, axes = plt.subplots(figsize=(10,5))\n",
    "df_sensitivity.plot(kind=\"bar\", ax=axes)"
   ]
  },
  {
   "cell_type": "code",
   "execution_count": 103,
   "metadata": {
    "collapsed": false,
    "pycharm": {
     "name": "#%%\n"
    },
    "vscode": {
     "languageId": "python"
    }
   },
   "outputs": [],
   "source": [
    "df_2021 = df_sensitivity.copy()"
   ]
  },
  {
   "cell_type": "code",
   "execution_count": 104,
   "metadata": {
    "collapsed": false,
    "pycharm": {
     "name": "#%%\n"
    },
    "vscode": {
     "languageId": "python"
    }
   },
   "outputs": [],
   "source": [
    "ddd = df_sensitivity + df_2021"
   ]
  },
  {
   "cell_type": "code",
   "execution_count": 105,
   "metadata": {
    "collapsed": false,
    "pycharm": {
     "name": "#%%\n"
    },
    "vscode": {
     "languageId": "python"
    }
   },
   "outputs": [],
   "source": [
    "ddd = ddd / 2"
   ]
  },
  {
   "cell_type": "code",
   "execution_count": 106,
   "metadata": {
    "collapsed": false,
    "pycharm": {
     "name": "#%%\n"
    },
    "vscode": {
     "languageId": "python"
    }
   },
   "outputs": [
    {
     "data": {
      "text/plain": [
       "<AxesSubplot:xlabel='Parameter'>"
      ]
     },
     "execution_count": 106,
     "metadata": {},
     "output_type": "execute_result"
    },
    {
     "data": {
      "image/png": "[encoded data removed]",
      "text/plain": [
       "<Figure size 1000x600 with 1 Axes>"
      ]
     },
     "metadata": {},
     "output_type": "display_data"
    }
   ],
   "source": [
    "fig, axes = plt.subplots(figsize=(10,6))\n",
    "ddd.plot(kind=\"bar\", ax=axes)"
   ]
  },
  {
   "cell_type": "markdown",
   "metadata": {
    "collapsed": false,
    "pycharm": {
     "name": "#%% md\n"
    }
   },
   "source": [
    "### sobol分析"
   ]
  },
  {
   "cell_type": "code",
   "execution_count": 103,
   "metadata": {
    "collapsed": false,
    "pycharm": {
     "name": "#%%\n"
    },
    "vscode": {
     "languageId": "python"
    }
   },
   "outputs": [],
   "source": [
    "df_pp = pd.DataFrame(result_2021s[\"0\"], columns=result_2021s[\"names1\"])"
   ]
  },
  {
   "cell_type": "code",
   "execution_count": 104,
   "metadata": {
    "collapsed": false,
    "pycharm": {
     "name": "#%%\n"
    },
    "vscode": {
     "languageId": "python"
    }
   },
   "outputs": [],
   "source": [
    "Y = df_pp[\"TWSO\"]"
   ]
  },
  {
   "cell_type": "code",
   "execution_count": 106,
   "metadata": {
    "collapsed": false,
    "pycharm": {
     "name": "#%%\n"
    },
    "vscode": {
     "languageId": "python"
    }
   },
   "outputs": [],
   "source": [
    "Y = Y.to_numpy()"
   ]
  },
  {
   "cell_type": "code",
   "execution_count": 107,
   "metadata": {
    "collapsed": false,
    "pycharm": {
     "name": "#%%\n"
    },
    "vscode": {
     "languageId": "python"
    }
   },
   "outputs": [],
   "source": [
    "Si = sobol.analyze(problem, Y, calc_second_order=calc_second_order)"
   ]
  },
  {
   "cell_type": "code",
   "execution_count": 108,
   "metadata": {
    "collapsed": false,
    "pycharm": {
     "name": "#%%\n"
    },
    "vscode": {
     "languageId": "python"
    }
   },
   "outputs": [
    {
     "data": {
      "text/plain": [
       "<AxesSubplot:xlabel='Parameter'>"
      ]
     },
     "execution_count": 108,
     "metadata": {},
     "output_type": "execute_result"
    },
    {
     "data": {
      "image/png": "[encoded data removed]",
      "text/plain": [
       "<Figure size 1000x600 with 1 Axes>"
      ]
     },
     "metadata": {},
     "output_type": "display_data"
    }
   ],
   "source": [
    "df_sensitivity = pd.DataFrame({\n",
    "    \"Parameter\": problem[\"names\"],\n",
    "    \"First_order\": Si[\"S1\"],\n",
    "    \"Total_order\": Si[\"ST\"]}).set_index(\"Parameter\")\n",
    "fig, axes = plt.subplots(figsize=(10,6))\n",
    "df_sensitivity.plot(kind=\"bar\", ax=axes)"
   ]
  },
  {
   "cell_type": "code",
   "execution_count": null,
   "metadata": {
    "collapsed": false,
    "pycharm": {
     "name": "#%%\n"
    },
    "vscode": {
     "languageId": "python"
    }
   },
   "outputs": [],
   "source": [
    "# row, col = paramsets.shape\n",
    "# name = problem[\"names\"]\n",
    "# for i in range(0, 2):\n",
    "#     print(name[i])\n",
    "#     flag = 0\n",
    "#     for j in range(20):\n",
    "#         value = deciaml1(paramsets[j][i], 3)\n",
    "#         parameters = crop_param.initial()\n",
    "#         try:\n",
    "#             parameters.set_override(name[i], value)\n",
    "#         except PCSEError:\n",
    "#             tmp_n = name[i][:-1]\n",
    "\n",
    "#             tem_d1 = param_dict[tmp_n]\n",
    "#             tmp_list = tem_d1[name[i]]\n",
    "#             tmp_value = parameters[tmp_n]\n",
    "#             try:\n",
    "#                 tmp_value[tmp_list[1] -1], tmp_value[tmp_list[1]] = tmp_list[0], value\n",
    "#             except IndexError:\n",
    "#                 tmp_value.extend([tmp_list[0], value])\n",
    "#             parameters.set_override(tmp_n, tmp_value)\n",
    "#         try:\n",
    "#             wofostpp = Wofost72_PP(parameters, wdp, agromanagement21)\n",
    "#             wofostpp.run_till_terminate()\n",
    "#             flag += 1\n",
    "#         except ZeroDivisionError:\n",
    "#             pass\n",
    "#         except PartitioningError:\n",
    "#             print(\"Error in partitioning\")\n",
    "#     print(flag)"
   ]
  },
  {
   "cell_type": "code",
   "execution_count": 72,
   "metadata": {
    "pycharm": {
     "name": "#%%\n"
    },
    "vscode": {
     "languageId": "python"
    }
   },
   "outputs": [],
   "source": [
    "col1 = final_target.copy()\n",
    "col2 = time_target.copy()\n",
    "col1.extend([\"id\"])\n",
    "col2.extend([\"id\"])\n",
    "result_pp[\"names1\"] = col1\n",
    "result_pp[\"names2\"] = col2\n",
    "result_wlp[\"names1\"] = col1\n",
    "result_wlp[\"names2\"] = col2"
   ]
  },
  {
   "cell_type": "code",
   "execution_count": 81,
   "metadata": {
    "pycharm": {
     "name": "#%%\n"
    },
    "vscode": {
     "languageId": "python"
    }
   },
   "outputs": [],
   "source": [
    "# import pickle\n",
    "# pkl_file = \"./data/pickleFile/parameterset.pkl\"\n",
    "# pkl_data = paramsets\n",
    "# with open(pkl_file, 'wb') as pf:\n",
    "#     pickle.dump(pkl_data, pf)"
   ]
  },
  {
   "cell_type": "code",
   "execution_count": 55,
   "metadata": {
    "pycharm": {
     "name": "#%%\n"
    },
    "vscode": {
     "languageId": "python"
    }
   },
   "outputs": [],
   "source": [
    "Y = df_pp[\"TWSO\"]"
   ]
  },
  {
   "cell_type": "code",
   "execution_count": 56,
   "metadata": {
    "pycharm": {
     "name": "#%%\n"
    },
    "vscode": {
     "languageId": "python"
    }
   },
   "outputs": [],
   "source": [
    "Y = Y.to_numpy()"
   ]
  },
  {
   "cell_type": "code",
   "execution_count": 57,
   "metadata": {
    "pycharm": {
     "name": "#%%\n"
    },
    "vscode": {
     "languageId": "python"
    }
   },
   "outputs": [
    {
     "data": {
      "text/plain": [
       "array([437.54855194, 392.2436496 , 355.1951152 , ..., 849.94165358,\n",
       "       923.59473188, 981.80748112])"
      ]
     },
     "execution_count": 57,
     "metadata": {},
     "output_type": "execute_result"
    }
   ],
   "source": [
    "Y"
   ]
  },
  {
   "cell_type": "code",
   "execution_count": 58,
   "metadata": {
    "pycharm": {
     "name": "#%%\n"
    },
    "vscode": {
     "languageId": "python"
    }
   },
   "outputs": [],
   "source": [
    "Si = fast.analyze(problem, Y, print_to_console=False)"
   ]
  },
  {
   "cell_type": "code",
   "execution_count": 59,
   "metadata": {
    "collapsed": false,
    "jupyter": {
     "outputs_hidden": false
    },
    "pycharm": {
     "name": "#%%\n"
    },
    "vscode": {
     "languageId": "python"
    }
   },
   "outputs": [
    {
     "data": {
      "text/plain": [
       "<AxesSubplot:xlabel='Parameter'>"
      ]
     },
     "execution_count": 59,
     "metadata": {},
     "output_type": "execute_result"
    },
    {
     "data": {
      "image/png": "[encoded data removed]",
      "text/plain": [
       "<Figure size 1000x600 with 1 Axes>"
      ]
     },
     "metadata": {},
     "output_type": "display_data"
    }
   ],
   "source": [
    "df_sensitivity = pd.DataFrame({\n",
    "    \"Parameter\": problem[\"names\"],\n",
    "    \"First_order\": Si[\"S1\"],\n",
    "    \"Total_order\": Si[\"ST\"]}).set_index(\"Parameter\")\n",
    "fig, axes = plt.subplots(figsize=(10,6))\n",
    "df_sensitivity.plot(kind=\"bar\", ax=axes)"
   ]
  },
  {
   "cell_type": "code",
   "execution_count": 35,
   "metadata": {
    "pycharm": {
     "name": "#%%\n"
    },
    "vscode": {
     "languageId": "python"
    }
   },
   "outputs": [
    {
     "data": {
      "text/html": [
       "<div>\n",
       "<style scoped>\n",
       "    .dataframe tbody tr th:only-of-type {\n",
       "        vertical-align: middle;\n",
       "    }\n",
       "\n",
       "    .dataframe tbody tr th {\n",
       "        vertical-align: top;\n",
       "    }\n",
       "\n",
       "    .dataframe thead th {\n",
       "        text-align: right;\n",
       "    }\n",
       "</style>\n",
       "<table border=\"1\" class=\"dataframe\">\n",
       "  <thead>\n",
       "    <tr style=\"text-align: right;\">\n",
       "      <th></th>\n",
       "      <th>First_order</th>\n",
       "      <th>Total_order</th>\n",
       "    </tr>\n",
       "    <tr>\n",
       "      <th>Parameter</th>\n",
       "      <th></th>\n",
       "      <th></th>\n",
       "    </tr>\n",
       "  </thead>\n",
       "  <tbody>\n",
       "    <tr>\n",
       "      <th>TDWI</th>\n",
       "      <td>0.000459</td>\n",
       "      <td>0.001895</td>\n",
       "    </tr>\n",
       "    <tr>\n",
       "      <th>LAIEM</th>\n",
       "      <td>0.000279</td>\n",
       "      <td>0.001949</td>\n",
       "    </tr>\n",
       "    <tr>\n",
       "      <th>RGRLAI</th>\n",
       "      <td>0.000141</td>\n",
       "      <td>0.001361</td>\n",
       "    </tr>\n",
       "    <tr>\n",
       "      <th>SLATB1</th>\n",
       "      <td>0.000781</td>\n",
       "      <td>0.004863</td>\n",
       "    </tr>\n",
       "    <tr>\n",
       "      <th>SLATB2</th>\n",
       "      <td>0.002553</td>\n",
       "      <td>0.004609</td>\n",
       "    </tr>\n",
       "    <tr>\n",
       "      <th>SLATB3</th>\n",
       "      <td>0.001712</td>\n",
       "      <td>0.003949</td>\n",
       "    </tr>\n",
       "    <tr>\n",
       "      <th>SLATB4</th>\n",
       "      <td>0.000278</td>\n",
       "      <td>0.001779</td>\n",
       "    </tr>\n",
       "    <tr>\n",
       "      <th>SPAN</th>\n",
       "      <td>0.033823</td>\n",
       "      <td>0.050343</td>\n",
       "    </tr>\n",
       "    <tr>\n",
       "      <th>TBASE</th>\n",
       "      <td>0.001453</td>\n",
       "      <td>0.003552</td>\n",
       "    </tr>\n",
       "    <tr>\n",
       "      <th>KDIFTB1</th>\n",
       "      <td>0.000088</td>\n",
       "      <td>0.004241</td>\n",
       "    </tr>\n",
       "    <tr>\n",
       "      <th>KDIFTB2</th>\n",
       "      <td>0.001001</td>\n",
       "      <td>0.002381</td>\n",
       "    </tr>\n",
       "    <tr>\n",
       "      <th>EFFTB1</th>\n",
       "      <td>0.001698</td>\n",
       "      <td>0.003327</td>\n",
       "    </tr>\n",
       "    <tr>\n",
       "      <th>EFFTB2</th>\n",
       "      <td>0.010728</td>\n",
       "      <td>0.014357</td>\n",
       "    </tr>\n",
       "    <tr>\n",
       "      <th>AMAXTB1</th>\n",
       "      <td>0.000307</td>\n",
       "      <td>0.001686</td>\n",
       "    </tr>\n",
       "    <tr>\n",
       "      <th>AMAXTB2</th>\n",
       "      <td>0.000654</td>\n",
       "      <td>0.002268</td>\n",
       "    </tr>\n",
       "    <tr>\n",
       "      <th>AMAXTB3</th>\n",
       "      <td>0.000293</td>\n",
       "      <td>0.001742</td>\n",
       "    </tr>\n",
       "    <tr>\n",
       "      <th>AMAXTB4</th>\n",
       "      <td>0.000069</td>\n",
       "      <td>0.001814</td>\n",
       "    </tr>\n",
       "    <tr>\n",
       "      <th>AMAXTB5</th>\n",
       "      <td>0.000180</td>\n",
       "      <td>0.001602</td>\n",
       "    </tr>\n",
       "    <tr>\n",
       "      <th>TMPFTB1</th>\n",
       "      <td>0.000275</td>\n",
       "      <td>0.001945</td>\n",
       "    </tr>\n",
       "    <tr>\n",
       "      <th>TMPFTB2</th>\n",
       "      <td>0.000150</td>\n",
       "      <td>0.001505</td>\n",
       "    </tr>\n",
       "    <tr>\n",
       "      <th>TMPFTB3</th>\n",
       "      <td>0.000126</td>\n",
       "      <td>0.001354</td>\n",
       "    </tr>\n",
       "    <tr>\n",
       "      <th>TMPFTB4</th>\n",
       "      <td>0.000172</td>\n",
       "      <td>0.001676</td>\n",
       "    </tr>\n",
       "    <tr>\n",
       "      <th>TMPFTB5</th>\n",
       "      <td>0.000292</td>\n",
       "      <td>0.001748</td>\n",
       "    </tr>\n",
       "    <tr>\n",
       "      <th>TMPFTB6</th>\n",
       "      <td>0.002986</td>\n",
       "      <td>0.004714</td>\n",
       "    </tr>\n",
       "    <tr>\n",
       "      <th>TMPFTB7</th>\n",
       "      <td>0.000364</td>\n",
       "      <td>0.002083</td>\n",
       "    </tr>\n",
       "    <tr>\n",
       "      <th>TMPFTB8</th>\n",
       "      <td>0.000260</td>\n",
       "      <td>0.001845</td>\n",
       "    </tr>\n",
       "    <tr>\n",
       "      <th>TMNFTB1</th>\n",
       "      <td>0.013143</td>\n",
       "      <td>0.017308</td>\n",
       "    </tr>\n",
       "    <tr>\n",
       "      <th>CVL</th>\n",
       "      <td>0.000093</td>\n",
       "      <td>0.002453</td>\n",
       "    </tr>\n",
       "    <tr>\n",
       "      <th>CVO</th>\n",
       "      <td>0.007125</td>\n",
       "      <td>0.011284</td>\n",
       "    </tr>\n",
       "    <tr>\n",
       "      <th>CVR</th>\n",
       "      <td>0.000400</td>\n",
       "      <td>0.001783</td>\n",
       "    </tr>\n",
       "    <tr>\n",
       "      <th>CVS</th>\n",
       "      <td>0.000175</td>\n",
       "      <td>0.001930</td>\n",
       "    </tr>\n",
       "    <tr>\n",
       "      <th>Q10</th>\n",
       "      <td>0.000039</td>\n",
       "      <td>0.001181</td>\n",
       "    </tr>\n",
       "    <tr>\n",
       "      <th>RML</th>\n",
       "      <td>0.000063</td>\n",
       "      <td>0.001501</td>\n",
       "    </tr>\n",
       "    <tr>\n",
       "      <th>RMO</th>\n",
       "      <td>0.000139</td>\n",
       "      <td>0.001533</td>\n",
       "    </tr>\n",
       "    <tr>\n",
       "      <th>RMR</th>\n",
       "      <td>0.000286</td>\n",
       "      <td>0.002186</td>\n",
       "    </tr>\n",
       "    <tr>\n",
       "      <th>RMS</th>\n",
       "      <td>0.000748</td>\n",
       "      <td>0.002335</td>\n",
       "    </tr>\n",
       "    <tr>\n",
       "      <th>RFSETB1</th>\n",
       "      <td>0.000526</td>\n",
       "      <td>0.001782</td>\n",
       "    </tr>\n",
       "    <tr>\n",
       "      <th>RFSETB2</th>\n",
       "      <td>0.000140</td>\n",
       "      <td>0.001361</td>\n",
       "    </tr>\n",
       "    <tr>\n",
       "      <th>FRTB1</th>\n",
       "      <td>0.000371</td>\n",
       "      <td>0.002019</td>\n",
       "    </tr>\n",
       "    <tr>\n",
       "      <th>FRTB2</th>\n",
       "      <td>0.000234</td>\n",
       "      <td>0.001667</td>\n",
       "    </tr>\n",
       "    <tr>\n",
       "      <th>FRTB3</th>\n",
       "      <td>0.000178</td>\n",
       "      <td>0.001689</td>\n",
       "    </tr>\n",
       "    <tr>\n",
       "      <th>RDRRTB1</th>\n",
       "      <td>0.000238</td>\n",
       "      <td>0.001659</td>\n",
       "    </tr>\n",
       "    <tr>\n",
       "      <th>RDRRTB2</th>\n",
       "      <td>0.000193</td>\n",
       "      <td>0.001711</td>\n",
       "    </tr>\n",
       "    <tr>\n",
       "      <th>RDRSTB1</th>\n",
       "      <td>0.000296</td>\n",
       "      <td>0.001856</td>\n",
       "    </tr>\n",
       "    <tr>\n",
       "      <th>RDRSTB2</th>\n",
       "      <td>0.000250</td>\n",
       "      <td>0.001877</td>\n",
       "    </tr>\n",
       "    <tr>\n",
       "      <th>CFET</th>\n",
       "      <td>0.000284</td>\n",
       "      <td>0.002056</td>\n",
       "    </tr>\n",
       "    <tr>\n",
       "      <th>DEPNR</th>\n",
       "      <td>0.000236</td>\n",
       "      <td>0.001656</td>\n",
       "    </tr>\n",
       "    <tr>\n",
       "      <th>RDI</th>\n",
       "      <td>0.000164</td>\n",
       "      <td>0.001521</td>\n",
       "    </tr>\n",
       "    <tr>\n",
       "      <th>RRI</th>\n",
       "      <td>0.000142</td>\n",
       "      <td>0.001358</td>\n",
       "    </tr>\n",
       "    <tr>\n",
       "      <th>RDMCR</th>\n",
       "      <td>0.000233</td>\n",
       "      <td>0.001863</td>\n",
       "    </tr>\n",
       "    <tr>\n",
       "      <th>TBASEM</th>\n",
       "      <td>0.000101</td>\n",
       "      <td>0.001783</td>\n",
       "    </tr>\n",
       "    <tr>\n",
       "      <th>TEFFMX</th>\n",
       "      <td>0.000169</td>\n",
       "      <td>0.001559</td>\n",
       "    </tr>\n",
       "    <tr>\n",
       "      <th>TSUMEM</th>\n",
       "      <td>0.000554</td>\n",
       "      <td>0.002569</td>\n",
       "    </tr>\n",
       "    <tr>\n",
       "      <th>TSUM1</th>\n",
       "      <td>0.038574</td>\n",
       "      <td>0.075281</td>\n",
       "    </tr>\n",
       "    <tr>\n",
       "      <th>TSUM2</th>\n",
       "      <td>0.006995</td>\n",
       "      <td>0.021869</td>\n",
       "    </tr>\n",
       "  </tbody>\n",
       "</table>\n",
       "</div>"
      ],
      "text/plain": [
       "           First_order  Total_order\n",
       "Parameter                          \n",
       "TDWI          0.000459     0.001895\n",
       "LAIEM         0.000279     0.001949\n",
       "RGRLAI        0.000141     0.001361\n",
       "SLATB1        0.000781     0.004863\n",
       "SLATB2        0.002553     0.004609\n",
       "SLATB3        0.001712     0.003949\n",
       "SLATB4        0.000278     0.001779\n",
       "SPAN          0.033823     0.050343\n",
       "TBASE         0.001453     0.003552\n",
       "KDIFTB1       0.000088     0.004241\n",
       "KDIFTB2       0.001001     0.002381\n",
       "EFFTB1        0.001698     0.003327\n",
       "EFFTB2        0.010728     0.014357\n",
       "AMAXTB1       0.000307     0.001686\n",
       "AMAXTB2       0.000654     0.002268\n",
       "AMAXTB3       0.000293     0.001742\n",
       "AMAXTB4       0.000069     0.001814\n",
       "AMAXTB5       0.000180     0.001602\n",
       "TMPFTB1       0.000275     0.001945\n",
       "TMPFTB2       0.000150     0.001505\n",
       "TMPFTB3       0.000126     0.001354\n",
       "TMPFTB4       0.000172     0.001676\n",
       "TMPFTB5       0.000292     0.001748\n",
       "TMPFTB6       0.002986     0.004714\n",
       "TMPFTB7       0.000364     0.002083\n",
       "TMPFTB8       0.000260     0.001845\n",
       "TMNFTB1       0.013143     0.017308\n",
       "CVL           0.000093     0.002453\n",
       "CVO           0.007125     0.011284\n",
       "CVR           0.000400     0.001783\n",
       "CVS           0.000175     0.001930\n",
       "Q10           0.000039     0.001181\n",
       "RML           0.000063     0.001501\n",
       "RMO           0.000139     0.001533\n",
       "RMR           0.000286     0.002186\n",
       "RMS           0.000748     0.002335\n",
       "RFSETB1       0.000526     0.001782\n",
       "RFSETB2       0.000140     0.001361\n",
       "FRTB1         0.000371     0.002019\n",
       "FRTB2         0.000234     0.001667\n",
       "FRTB3         0.000178     0.001689\n",
       "RDRRTB1       0.000238     0.001659\n",
       "RDRRTB2       0.000193     0.001711\n",
       "RDRSTB1       0.000296     0.001856\n",
       "RDRSTB2       0.000250     0.001877\n",
       "CFET          0.000284     0.002056\n",
       "DEPNR         0.000236     0.001656\n",
       "RDI           0.000164     0.001521\n",
       "RRI           0.000142     0.001358\n",
       "RDMCR         0.000233     0.001863\n",
       "TBASEM        0.000101     0.001783\n",
       "TEFFMX        0.000169     0.001559\n",
       "TSUMEM        0.000554     0.002569\n",
       "TSUM1         0.038574     0.075281\n",
       "TSUM2         0.006995     0.021869"
      ]
     },
     "execution_count": 35,
     "metadata": {},
     "output_type": "execute_result"
    }
   ],
   "source": [
    "df_sensitivity"
   ]
  },
  {
   "cell_type": "code",
   "execution_count": 23,
   "metadata": {
    "pycharm": {
     "name": "#%%\n"
    },
    "vscode": {
     "languageId": "python"
    }
   },
   "outputs": [
    {
     "data": {
      "text/plain": [
       "'01'"
      ]
     },
     "execution_count": 23,
     "metadata": {},
     "output_type": "execute_result"
    }
   ],
   "source": []
  },
  {
   "cell_type": "code",
   "execution_count": 57,
   "metadata": {
    "collapsed": false,
    "jupyter": {
     "outputs_hidden": false
    },
    "pycharm": {
     "name": "#%%\n"
    },
    "vscode": {
     "languageId": "python"
    }
   },
   "outputs": [],
   "source": [
    "def aa(mm):\n",
    "    return (0.5*mm, 1.5*mm)"
   ]
  },
  {
   "cell_type": "code",
   "execution_count": 62,
   "metadata": {
    "collapsed": false,
    "jupyter": {
     "outputs_hidden": false
    },
    "pycharm": {
     "name": "#%%\n"
    },
    "vscode": {
     "languageId": "python"
    }
   },
   "outputs": [
    {
     "name": "stdout",
     "output_type": "stream",
     "text": [
      "CVL: (0.34, 1.02)\n",
      "CVO: (0.3355, 1.0065)\n",
      "CVR: (0.345, 1.035)\n",
      "CVS: (0.329, 0.9870000000000001)\n",
      "Q10: (1.0, 3.0)\n",
      "RML: (0.015, 0.045)\n",
      "RMO: (0.005, 0.015)\n",
      "RMR: (0.0075, 0.0225)\n",
      "RMS: (0.0075, 0.0225)\n",
      "PERDL: (0.015, 0.045)\n",
      "RDI: (5.0, 15.0)\n",
      "RRI: (1.1, 3.3000000000000003)\n",
      "TBASEM: (2.0, 6.0)\n",
      "TEFFMX: (15.0, 45.0)\n",
      "TSUM1: (347.5, 1042.5)\n",
      "TSUM2: (400.0, 1200.0)\n",
      "TDWI: (25.0, 75.0)\n",
      "RGRLAI: (0.0147, 0.0441)\n",
      "SPAN: (16.5, 49.5)\n"
     ]
    }
   ],
   "source": [
    "parameters.clear_override()\n",
    "for name in problem[\"names\"][17: ]:\n",
    "    bb = aa(parameters[name])\n",
    "    print(f\"{name}: {bb}\")"
   ]
  },
  {
   "cell_type": "code",
   "execution_count": 297,
   "metadata": {
    "collapsed": false,
    "jupyter": {
     "outputs_hidden": false
    },
    "pycharm": {
     "name": "#%%\n"
    },
    "vscode": {
     "languageId": "python"
    }
   },
   "outputs": [
    {
     "data": {
      "text/plain": [
       "{'DVS': 2.0,\n",
       " 'LAIMAX': 1.374125857971024,\n",
       " 'TAGP': 6481.005715263842,\n",
       " 'TWSO': 3696.896648798934,\n",
       " 'TWLV': 862.3064007340049,\n",
       " 'TWST': 1921.8026657309024,\n",
       " 'TWRT': 481.2448555816113,\n",
       " 'CTRAT': 9.615071426324379,\n",
       " 'RD': 84.80000000000005,\n",
       " 'DOS': datetime.date(2021, 6, 11),\n",
       " 'DOE': datetime.date(2021, 6, 16),\n",
       " 'DOA': datetime.date(2021, 7, 20),\n",
       " 'DOM': datetime.date(2021, 8, 29),\n",
       " 'DOH': None,\n",
       " 'DOV': None,\n",
       " 'CEVST': 5.01454052211001}"
      ]
     },
     "execution_count": 297,
     "metadata": {},
     "output_type": "execute_result"
    }
   ],
   "source": []
  },
  {
   "cell_type": "code",
   "execution_count": 294,
   "metadata": {
    "collapsed": false,
    "jupyter": {
     "outputs_hidden": false
    },
    "pycharm": {
     "name": "#%%\n"
    },
    "vscode": {
     "languageId": "python"
    }
   },
   "outputs": [
    {
     "name": "stdout",
     "output_type": "stream",
     "text": [
      "TDWI\n",
      "20\n",
      "LAIEM\n",
      "20\n"
     ]
    }
   ],
   "source": [
    "# row, col = paramsets.shape\n",
    "# name = problem[\"names\"]\n",
    "# for i in range(0, 2):\n",
    "#     print(name[i])\n",
    "#     flag = 0\n",
    "#     for j in range(20):\n",
    "#         value = deciaml1(paramsets[j][i], 3)\n",
    "#         parameters = crop_param.initial()\n",
    "#         try:\n",
    "#             parameters.set_override(name[i], value)\n",
    "#         except PCSEError:\n",
    "#             tmp_n = name[i][:-1]\n",
    "\n",
    "#             tem_d1 = param_dict[tmp_n]\n",
    "#             tmp_list = tem_d1[name[i]]\n",
    "#             tmp_value = parameters[tmp_n]\n",
    "#             try:\n",
    "#                 tmp_value[tmp_list[1] -1], tmp_value[tmp_list[1]] = tmp_list[0], value\n",
    "#             except IndexError:\n",
    "#                 tmp_value.extend([tmp_list[0], value])\n",
    "#             parameters.set_override(tmp_n, tmp_value)\n",
    "#         try:\n",
    "#             wofostpp = Wofost72_PP(parameters, wdp, agromanagement21)\n",
    "#             wofostpp.run_till_terminate()\n",
    "#             flag += 1\n",
    "#         except ZeroDivisionError:\n",
    "#             pass\n",
    "#         except PartitioningError:\n",
    "#             print(\"Error in partitioning\")\n",
    "#     print(flag)"
   ]
  },
  {
   "cell_type": "code",
   "execution_count": 265,
   "metadata": {
    "collapsed": false,
    "jupyter": {
     "outputs_hidden": false
    },
    "pycharm": {
     "name": "#%%\n"
    },
    "vscode": {
     "languageId": "python"
    }
   },
   "outputs": [
    {
     "data": {
      "text/plain": [
       "[0.0, 0.62, 0.33, 0.545, 0.88, 0.15, 0.95, 0.15, 1.1, 0.1, 1.2, 0.0, 2.0, 0.0]"
      ]
     },
     "execution_count": 265,
     "metadata": {},
     "output_type": "execute_result"
    }
   ],
   "source": [
    "paramsets[j][i]"
   ]
  },
  {
   "cell_type": "code",
   "execution_count": 267,
   "metadata": {
    "collapsed": false,
    "jupyter": {
     "outputs_hidden": false
    },
    "pycharm": {
     "name": "#%%\n"
    },
    "vscode": {
     "languageId": "python"
    }
   },
   "outputs": [],
   "source": []
  },
  {
   "cell_type": "code",
   "execution_count": 267,
   "metadata": {
    "collapsed": false,
    "jupyter": {
     "outputs_hidden": false
    },
    "pycharm": {
     "name": "#%%\n"
    },
    "vscode": {
     "languageId": "python"
    }
   },
   "outputs": [],
   "source": []
  },
  {
   "cell_type": "code",
   "execution_count": null,
   "metadata": {
    "collapsed": false,
    "jupyter": {
     "outputs_hidden": false
    },
    "pycharm": {
     "name": "#%%\n"
    },
    "vscode": {
     "languageId": "python"
    }
   },
   "outputs": [],
   "source": []
  }
 ],
 "metadata": {
  "kernelspec": {
   "display_name": "pcse",
   "language": "python",
   "name": "pcse"
  }
 },
 "nbformat": 4,
 "nbformat_minor": 4
}
