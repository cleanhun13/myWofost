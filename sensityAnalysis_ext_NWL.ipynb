{
 "cells": [
  {
   "cell_type": "markdown",
   "metadata": {
    "pycharm": {
     "name": "#%% md\n"
    }
   },
   "source": [
    "# 1 气象数据处理\n",
    "## CSV文件表头\n",
    "csv文件结构如下\n",
    "```\n",
    "## Site Characteristics\n",
    "Country     = 'Netherlands'\n",
    "Station     = 'Wageningen, Haarweg'\n",
    "Description = 'Observed data from Station Haarweg in Wageningen'\n",
    "Source      = 'Meteorology and Air Quality Group, Wageningen University'\n",
    "Contact     = 'Peter Uithol'\n",
    "Longitude = 5.67; Latitude = 51.97; Elevation = 7; AngstromA = 0.18; AngstromB = 0.55; HasSunshine = False\n",
    "## Daily weather observations (missing values are NaN)\n",
    "DAY,IRRAD,TMIN,TMAX,VAP,WIND,RAIN,SNOWDEPTH\n",
    "20040101,NaN,-0.7,1.1,0.55,3.6,0.5,NaN\n",
    "20040102,3888,-7.5,0.9,0.44,3.1,0,NaN\n",
    "20040103,2074,-6.8,-0.5,0.45,1.8,0,NaN\n",
    "20040104,1814,-3.6,5.9,0.66,3.2,2.5,NaN\n",
    "20040105,1469,3,5.7,0.78,2.3,1.3,NaN\n",
    "[...]\n",
    "\n",
    "with\n",
    "IRRAD in kJ/m2/day or hours\n",
    "TMIN and TMAX in Celsius (°C)\n",
    "VAP in kPa\n",
    "WIND in m/sec\n",
    "RAIN in mm\n",
    "SNOWDEPTH in cm\n",
    "```\n"
   ]
  },
  {
   "cell_type": "code",
   "execution_count": 1,
   "metadata": {
    "collapsed": false,
    "pycharm": {
     "name": "#%%\n"
    },
    "vscode": {
     "languageId": "python"
    }
   },
   "outputs": [],
   "source": [
    "import copy\n",
    "import yaml\n",
    "import numpy as np"
   ]
  },
  {
   "cell_type": "code",
   "execution_count": 2,
   "metadata": {
    "collapsed": false,
    "jupyter": {
     "outputs_hidden": false
    },
    "pycharm": {
     "name": "#%%\n"
    },
    "vscode": {
     "languageId": "python"
    }
   },
   "outputs": [],
   "source": [
    "## 两日相隔天数\n",
    "from datetime import datetime\n",
    "def calDays(start, end, format=\"%Y-%m-%d\"):\n",
    "    strptime, strftime = datetime.strptime, datetime.strftime\n",
    "    days = (strptime(end, format) - strptime(start, format)).days\n",
    "    return days"
   ]
  },
  {
   "cell_type": "code",
   "execution_count": 3,
   "metadata": {
    "pycharm": {
     "name": "#%%\n"
    },
    "vscode": {
     "languageId": "python"
    }
   },
   "outputs": [],
   "source": [
    "def csv_header(country=\"China\", station=\"Yangling\", longitude=108.12, latitude=34.33, elevation=521):\n",
    "    res_s = f\"## Site Characteristics\\nCountry     = {country}\\nStation     = {station}\\nDescription = 'Observed data from Station {station} in {country}'\\\n",
    "    \\nSource      = 'Meteorology and Air Quality Group, Wageningen University'\\nContact     = 'Peter Uithol'\\\n",
    "    \\nLongitude = {longitude:.2f}; Latitude = {latitude:.2f}; Elevation = {elevation:.0f}; AngstromA = 0.18; AngstromB = 0.55; HasSunshine = False\\\n",
    "    \\n## Daily weather observations (missing values are NaN)\"\n",
    "    return res_s"
   ]
  },
  {
   "cell_type": "code",
   "execution_count": 4,
   "metadata": {
    "pycharm": {
     "name": "#%%\n"
    },
    "vscode": {
     "languageId": "python"
    }
   },
   "outputs": [
    {
     "name": "stdout",
     "output_type": "stream",
     "text": [
      "## Site Characteristics\n",
      "Country     = China\n",
      "Station     = Yangling\n",
      "Description = 'Observed data from Station Yangling in China'    \n",
      "Source      = 'Meteorology and Air Quality Group, Wageningen University'\n",
      "Contact     = 'Peter Uithol'    \n",
      "Longitude = 108.12; Latitude = 34.33; Elevation = 521; AngstromA = 0.18; AngstromB = 0.55; HasSunshine = False    \n",
      "## Daily weather observations (missing values are NaN)\n"
     ]
    }
   ],
   "source": [
    "print(csv_header())"
   ]
  },
  {
   "cell_type": "code",
   "execution_count": null,
   "metadata": {
    "pycharm": {
     "name": "#%%\n"
    },
    "vscode": {
     "languageId": "python"
    }
   },
   "outputs": [],
   "source": []
  },
  {
   "cell_type": "markdown",
   "metadata": {
    "pycharm": {
     "name": "#%% md\n"
    }
   },
   "source": [
    "# 2 读取模型参数"
   ]
  },
  {
   "cell_type": "code",
   "execution_count": 5,
   "metadata": {
    "pycharm": {
     "name": "#%%\n"
    },
    "vscode": {
     "languageId": "python"
    }
   },
   "outputs": [
    {
     "name": "stdout",
     "output_type": "stream",
     "text": [
      "This notebook was built with:\n",
      "python version: 3.8.15 (default, Nov  4 2022, 15:16:59) [MSC v.1916 64 bit (AMD64)] \n",
      "PCSE version: 5.5.4\n"
     ]
    }
   ],
   "source": [
    "%matplotlib inline\n",
    "import sys, os\n",
    "import matplotlib\n",
    "matplotlib.style.use(\"ggplot\")\n",
    "import matplotlib.pyplot as plt\n",
    "import pandas as pd\n",
    "\n",
    "data_dir = os.path.join(os.getcwd(), \"data\")\n",
    "import pcse\n",
    "print(\"This notebook was built with:\")\n",
    "print(\"python version: %s \" % sys.version)\n",
    "print(\"PCSE version: %s\" %  pcse.__version__)"
   ]
  },
  {
   "cell_type": "markdown",
   "metadata": {
    "pycharm": {
     "name": "#%% md\n"
    }
   },
   "source": [
    "## 2.1 作物参数"
   ]
  },
  {
   "cell_type": "code",
   "execution_count": 6,
   "metadata": {
    "collapsed": false,
    "jupyter": {
     "outputs_hidden": false
    },
    "pycharm": {
     "name": "#%%\n"
    },
    "vscode": {
     "languageId": "python"
    }
   },
   "outputs": [],
   "source": [
    "from pcse.fileinput import YAMLCropDataProvider, CABOFileReader\n",
    "from pcse.exceptions import PCSEError, PartitioningError"
   ]
  },
  {
   "cell_type": "code",
   "execution_count": 7,
   "metadata": {
    "collapsed": true,
    "jupyter": {
     "outputs_hidden": true
    },
    "pycharm": {
     "name": "#%%\n"
    },
    "tags": [],
    "vscode": {
     "languageId": "python"
    }
   },
   "outputs": [],
   "source": [
    "cropfile = os.path.join(data_dir, 'npkfile', 'wofost_npk.crop')\n",
    "cropd = CABOFileReader(cropfile)\n"
   ]
  },
  {
   "cell_type": "code",
   "execution_count": null,
   "metadata": {
    "collapsed": false,
    "jupyter": {
     "outputs_hidden": false
    },
    "pycharm": {
     "name": "#%%\n"
    },
    "vscode": {
     "languageId": "python"
    }
   },
   "outputs": [],
   "source": []
  },
  {
   "cell_type": "markdown",
   "metadata": {
    "pycharm": {
     "name": "#%% md\n"
    }
   },
   "source": [
    "## 2.2 土壤参数"
   ]
  },
  {
   "cell_type": "code",
   "execution_count": 8,
   "metadata": {
    "pycharm": {
     "name": "#%%\n"
    },
    "vscode": {
     "languageId": "python"
    }
   },
   "outputs": [],
   "source": [
    "soilfile = os.path.join(data_dir, 'soil', 'ec3_copy1.soil')\n",
    "soild = CABOFileReader(soilfile)"
   ]
  },
  {
   "cell_type": "markdown",
   "metadata": {
    "collapsed": false,
    "pycharm": {
     "name": "#%% md\n"
    }
   },
   "source": [
    "## 2.3 站点数据"
   ]
  },
  {
   "cell_type": "code",
   "execution_count": 9,
   "metadata": {
    "collapsed": false,
    "pycharm": {
     "name": "#%%\n"
    },
    "vscode": {
     "languageId": "python"
    }
   },
   "outputs": [],
   "source": [
    "from pcse.util import WOFOST80SiteDataProvider\n",
    "sited = WOFOST80SiteDataProvider(WAV=18, NAVAILI=20.5, PAVAILI=50.0,KAVAILI=250.0)"
   ]
  },
  {
   "cell_type": "markdown",
   "metadata": {
    "collapsed": false,
    "pycharm": {
     "name": "#%% md\n"
    }
   },
   "source": [
    "## 2.4 整合模型参数"
   ]
  },
  {
   "cell_type": "code",
   "execution_count": 10,
   "metadata": {
    "collapsed": false,
    "pycharm": {
     "name": "#%%\n"
    },
    "vscode": {
     "languageId": "python"
    }
   },
   "outputs": [],
   "source": [
    "from pcse.base import ParameterProvider\n",
    "# parameters = ParameterProvider(cropdata=cropd, soildata=soild, sitedata=sited)"
   ]
  },
  {
   "cell_type": "code",
   "execution_count": 11,
   "metadata": {
    "collapsed": false,
    "pycharm": {
     "name": "#%%\n"
    },
    "vscode": {
     "languageId": "python"
    }
   },
   "outputs": [],
   "source": [
    "# cropfile = os.path.join(data_dir, 'crop', 'MAG201.CAB')\n",
    "# crop_param = CropParam(cropfile, soild, sited)\n",
    "parameters = ParameterProvider(cropdata=cropd, soildata=soild, sitedata=sited)"
   ]
  },
  {
   "cell_type": "markdown",
   "metadata": {
    "collapsed": false,
    "pycharm": {
     "name": "#%% md\n"
    }
   },
   "source": [
    "## 2.5 管理文件"
   ]
  },
  {
   "cell_type": "code",
   "execution_count": 12,
   "metadata": {
    "collapsed": false,
    "pycharm": {
     "name": "#%%\n"
    },
    "vscode": {
     "languageId": "python"
    }
   },
   "outputs": [],
   "source": [
    "# 管理文件\n",
    "with open(\"./data/npkfile/wofost_npk2022.agro\", 'r') as f:\n",
    "    yaml_agro_2022 = f.read()\n",
    "with open(\"./data/npkfile/wofost_npk2021.agro\", 'r') as f:\n",
    "    yaml_agro_2021 = f.read()"
   ]
  },
  {
   "cell_type": "code",
   "execution_count": 13,
   "metadata": {
    "pycharm": {
     "name": "#%%\n"
    },
    "vscode": {
     "languageId": "python"
    }
   },
   "outputs": [],
   "source": [
    "def my_agro(agro_yaml, n_amount):\n",
    "    yaml_agro = copy.deepcopy(agro_yaml)\n",
    "    n1 = n_amount * 0.6\n",
    "    n2 = n_amount - n1\n",
    "    yaml_agro = yaml_agro.replace(\"My_N1\", str(n1))\n",
    "    yaml_agro = yaml_agro.replace(\"My_N2\", str(n2))\n",
    "    \n",
    "    return yaml.safe_load(yaml_agro)['AgroManagement']"
   ]
  },
  {
   "cell_type": "markdown",
   "metadata": {
    "collapsed": false,
    "pycharm": {
     "name": "#%% md\n"
    }
   },
   "source": [
    "## 2.6气象数据"
   ]
  },
  {
   "cell_type": "code",
   "execution_count": 14,
   "metadata": {
    "collapsed": false,
    "pycharm": {
     "name": "#%%\n"
    },
    "vscode": {
     "languageId": "python"
    }
   },
   "outputs": [
    {
     "name": "stdout",
     "output_type": "stream",
     "text": [
      "Weather data provided by: ExcelWeatherDataProvider\n",
      "--------Description---------\n",
      "Weather data for:\n",
      "Country: China\n",
      "Station: Yangling, Shannxi\n",
      "Description: Observed data from Station Yangling in China\n",
      "Source: Meteorology and Air Quality Group, Wageningen University\n",
      "Contact: Peter Uithol\n",
      "----Site characteristics----\n",
      "Elevation:  521.0\n",
      "Latitude:  34.330\n",
      "Longitude: 108.120\n",
      "Data available for 2021-06-01 - 2022-10-31\n",
      "Number of missing days: 182\n",
      "\n"
     ]
    }
   ],
   "source": [
    "from pcse.fileinput import ExcelWeatherDataProvider\n",
    "weatherfile = os.path.join(data_dir, 'meteo', 'WOFOSTYL.xlsx')\n",
    "wdp = ExcelWeatherDataProvider(weatherfile)\n",
    "print(wdp)"
   ]
  },
  {
   "cell_type": "code",
   "execution_count": 15,
   "metadata": {
    "collapsed": false,
    "pycharm": {
     "name": "#%%\n"
    },
    "vscode": {
     "languageId": "python"
    }
   },
   "outputs": [],
   "source": [
    "param_name = [\"TDWI\", \"LAIEM\", \"RGRLAI\", \"SLATB\", \"SPAN\", \"TBASE\", \"KDIFTB\", \"EFFTB\", \"AMAXTB\", \"TMPFTB\", \"TMNFTB\", \"CVL\", \"CVO\", \"CVR\", \"CVS\", \"Q10\", \"RML\",\n",
    "              \"RMO\", \"RMR\", \"RMS\", \"RFSETB\", \"FRTB\", \"FLTB\", \"FOTB\", \"RDRRTB\", \"RDRSTB\", \"CFET\", \"DEPNR\", \"RDI\", \"RRI\", \"RDMCR\"]"
   ]
  },
  {
   "cell_type": "code",
   "execution_count": 16,
   "metadata": {
    "collapsed": false,
    "pycharm": {
     "name": "#%%\n"
    },
    "vscode": {
     "languageId": "python"
    }
   },
   "outputs": [],
   "source": [
    "for each in param_name:\n",
    "    try:\n",
    "        # print(\"**************\\n\")\n",
    "\n",
    "        test = parameters[each]\n",
    "\n",
    "    except KeyError:\n",
    "        print(each)"
   ]
  },
  {
   "cell_type": "markdown",
   "metadata": {
    "collapsed": false,
    "pycharm": {
     "name": "#%% md\n"
    }
   },
   "source": [
    "\n",
    "# 3 敏感性分析"
   ]
  },
  {
   "cell_type": "markdown",
   "metadata": {
    "collapsed": false,
    "pycharm": {
     "name": "#%% md\n"
    }
   },
   "source": [
    "## 3.1敏感性分析设置"
   ]
  },
  {
   "cell_type": "code",
   "execution_count": null,
   "metadata": {
    "collapsed": false,
    "pycharm": {
     "name": "#%%\n"
    },
    "vscode": {
     "languageId": "python"
    }
   },
   "outputs": [],
   "source": []
  },
  {
   "cell_type": "code",
   "execution_count": 17,
   "metadata": {
    "collapsed": false,
    "pycharm": {
     "name": "#%%\n"
    },
    "vscode": {
     "languageId": "python"
    }
   },
   "outputs": [],
   "source": [
    "from pcse.models import Wofost80_NWLP_FD_beta as Wofost80_NWLP_FD"
   ]
  },
  {
   "cell_type": "markdown",
   "metadata": {
    "collapsed": false,
    "pycharm": {
     "name": "#%% md\n"
    }
   },
   "source": [
    "### 3.1.1设置提取的值 "
   ]
  },
  {
   "cell_type": "code",
   "execution_count": 18,
   "metadata": {
    "collapsed": false,
    "pycharm": {
     "name": "#%%\n"
    },
    "vscode": {
     "languageId": "python"
    }
   },
   "outputs": [],
   "source": [
    "def create_dict(key_das):\n",
    "    res_dict = dict()\n",
    "    res_dict[\"0\"] = list()\n",
    "    for each in key_das:\n",
    "        dict_key = str(each)\n",
    "        res_dict[dict_key] = list()\n",
    "    return res_dict\n",
    "#\n",
    "#\n",
    "# def get_wofost_output(wofostModel, var_names, template_dict, pid, var_list=None):\n",
    "#     wofostModel.run_till_terminate()\n",
    "#     r = wofostModel.get_summary_output()\n",
    "#     tmp_res = parase_model_ouput(r, var_name=var_names, pid=pid, idx=0)\n",
    "#     template_dict[\"0\"].append(tmp_res)\n",
    "#     if var_list is None:\n",
    "#         pass\n",
    "#     else:\n",
    "#         days, name_ = var_list\n",
    "#         r = wofostModel.get_output()\n",
    "#         for ii in days:\n",
    "#             # print(ii)\n",
    "#             tmp_res = None\n",
    "#             tmp_res = parase_model_ouput(r, var_name=name_, idx=ii, pid=pid)\n",
    "#             template_dict[str(ii)].append(tmp_res)\n",
    "#\n",
    "#     return template_dict\n",
    "#\n"
   ]
  },
  {
   "cell_type": "code",
   "execution_count": 19,
   "metadata": {
    "collapsed": false,
    "pycharm": {
     "name": "#%%\n"
    },
    "vscode": {
     "languageId": "python"
    }
   },
   "outputs": [],
   "source": [
    "final_target = [\"LAIMAX\", \"TAGP\", \"TWSO\"]\n",
    "time_target = [\"LAI\", \"TAGP\"]\n",
    "das = [i for i in range(126)]\n",
    "model_start_date = \"2021-06-01\"\n",
    "sowing_date = \"2021-06-11\"\n",
    "base_i = calDays(model_start_date, sowing_date)\n",
    "for idx, value_ in enumerate(das):\n",
    "    das[idx] = base_i + value_\n",
    "\n",
    "col1 = [\"LAIMAX\", \"TAGP\", \"TWSO\", \"id\"]\n",
    "col2 = [\"LAI\", \"TAGP\", \"id\"]"
   ]
  },
  {
   "cell_type": "code",
   "execution_count": 20,
   "metadata": {
    "collapsed": false,
    "pycharm": {
     "name": "#%%\n"
    },
    "vscode": {
     "languageId": "python"
    }
   },
   "outputs": [],
   "source": [
    "def my_crop_dict():\n",
    "\n",
    "    mycropd = {\n",
    "\n",
    "        \"AMAXTB\": [0.0, 70.0, \n",
    "                   1.25, 70.0, \n",
    "                   1.5, 63.0, \n",
    "                   1.75, 49.0, \n",
    "                   2.0, 21.0],\n",
    "\n",
    "        \"TMPFTB\": [0.00, 0.01, \n",
    "                   9.00, 0.05, \n",
    "                   16.0, 0.8, \n",
    "                   18.0, 0.94, \n",
    "                   20.0, 1.0, \n",
    "                   30.0, 1.0, \n",
    "                   36.0, 0.95, \n",
    "                   42.0, 0.56],\n",
    "\n",
    "        \"TMNFTB\": [5.0, 0.0, 8.0, 1.0],\n",
    "\n",
    "        \"RFSETB\": [0.0, 1.0, \n",
    "                   1.5, 1.0, \n",
    "                   1.75, 0.75, \n",
    "                   2.0, 0.25],\n",
    "\n",
    "        \"SLATB\": [0.0, 0.0026, \n",
    "                  0.78, 0.001, \n",
    "                  2.00, 0.0012],\n",
    "\n",
    "        \"KDIFTB\": [0.0, 0.6, 2.0, 0.6],\n",
    "\n",
    "        \"EFFTB\": [0.0, 0.45, 40.0, 0.45],\n",
    "\n",
    "        \"FLTB\": [0.00, 0.62, \n",
    "                 0.33, 0.62, \n",
    "                 0.88, 0.15, \n",
    "                 0.95, 0.15, \n",
    "                 1.10, 0.10, \n",
    "                 1.20, 0.00, \n",
    "                 2.00, 0.00],\n",
    "\n",
    "        \"FOTB\": [0.00, 0.00, \n",
    "                 0.33, 0.00, \n",
    "                 0.88, 0.00, \n",
    "                 0.95, 0.00, \n",
    "                 1.10, 0.50, \n",
    "                 1.20, 1.00, \n",
    "                 2.00, 1.00],\n",
    "\n",
    "        \"FSTB\": [0.00, 0.38, \n",
    "                 0.33, 0.38, \n",
    "                 0.88, 0.85, \n",
    "                 0.95, 0.85, \n",
    "                 1.10, 0.40, \n",
    "                 1.20, 0.00, \n",
    "                 2.00, 0.00],\n",
    "        \"NMAXLV_TB\": [0.0, 0.06,\n",
    "                      0.4, 0.04,\n",
    "                      0.7, 0.03,\n",
    "                      1.0, 0.02,\n",
    "                      2.0, 0.014,\n",
    "                      2.1, 0.014,]\n",
    "        }\n",
    "\n",
    "    return mycropd"
   ]
  },
  {
   "cell_type": "code",
   "execution_count": 21,
   "metadata": {
    "collapsed": false,
    "pycharm": {
     "name": "#%%\n"
    },
    "vscode": {
     "languageId": "python"
    }
   },
   "outputs": [],
   "source": [
    "import yaml\n",
    "import numpy as np\n",
    "import pandas as pd\n",
    "# from SALib.sample import saltelli\n",
    "from SALib.analyze import fast\n",
    "# import matplotlib.pyplot as plt\n",
    "from IPython.display import display\n",
    "# pd.set_option(\"display.max_rows\", None)\n",
    "pd.set_option(\"display.max_colwidth\", 250)\n",
    "# from progressbar import printProgressBar, PrintProgressBar\n",
    "import time\n",
    "import pickle\n",
    "# from progressbar import printProgressBar, PrintProgressBar\n",
    "from wofostSA1 import run_wofost, convert2simlab1"
   ]
  },
  {
   "cell_type": "markdown",
   "metadata": {
    "pycharm": {
     "name": "#%% md\n"
    }
   },
   "source": [
    "## 选择参数集"
   ]
  },
  {
   "cell_type": "code",
   "execution_count": 22,
   "metadata": {
    "pycharm": {
     "name": "#%%\n"
    },
    "vscode": {
     "languageId": "python"
    }
   },
   "outputs": [],
   "source": [
    "with open(os.path.join(data_dir, 'yaml', 'params2.yaml'), 'r', encoding='utf-8') as f:\n",
    "    problem_yaml = f.read()\n",
    "problem = yaml.safe_load(problem_yaml)"
   ]
  },
  {
   "cell_type": "code",
   "execution_count": null,
   "metadata": {
    "pycharm": {
     "name": "#%%\n"
    },
    "vscode": {
     "languageId": "python"
    }
   },
   "outputs": [],
   "source": []
  },
  {
   "cell_type": "markdown",
   "metadata": {
    "collapsed": false,
    "pycharm": {
     "name": "#%% md\n"
    }
   },
   "source": [
    "## 读取数据样本"
   ]
  },
  {
   "cell_type": "code",
   "execution_count": 23,
   "metadata": {
    "collapsed": false,
    "pycharm": {
     "name": "#%%\n"
    },
    "vscode": {
     "languageId": "python"
    }
   },
   "outputs": [
    {
     "name": "stdout",
     "output_type": "stream",
     "text": [
      "['0.0013', '0.0039', '1']\n",
      "['0.0006', '0.0018', '1']\n",
      "['0.0006', '0.0018', '1']\n",
      "['0.3', '0.9', '1']\n",
      "['0.3', '0.9', '1']\n",
      "['0.225', '0.675', '1']\n",
      "['0.225', '0.675', '1']\n",
      "['35', '105', '1']\n",
      "['31.5', '94.5', '1']\n",
      "['24.5', '73.5', '1']\n",
      "['35', '105', '1']\n",
      "['10.5', '31.5', '1']\n",
      "['0.005', '0.015', '1']\n",
      "['0.5', '1.5', '1']\n",
      "['0.5', '1.5', '1']\n",
      "['0.5', '1.5', '1']\n",
      "['0.125', '0.375', '1']\n",
      "['0.34', '1.02', '1']\n",
      "['0.3355', '1.0065', '1']\n",
      "['0.345', '1.035', '1']\n",
      "['0.329', '0.987', '1']\n",
      "['1', '3', '1']\n",
      "['0.015', '0.045', '1']\n",
      "['0.005', '0.015', '1']\n",
      "['0.0075', '0.0225', '1']\n",
      "['0.0075', '0.0225', '1']\n",
      "['0.015', '0.045', '1']\n",
      "['5', '15', '1']\n",
      "['2', '6', '1']\n",
      "['15', '45', '1']\n",
      "['25', '75', '1']\n",
      "['0.0147', '0.0441', '1']\n",
      "['16.5', '49.5', '1']\n",
      "['1.1', '3.3', '1']\n",
      "['0.465', '0.775', '1']\n",
      "['0.465', '0.775', '1']\n",
      "['0.075', '0.225', '1']\n",
      "['0.075', '0.225', '1']\n",
      "['0.08', '0.12', '1']\n",
      "['0.3', '0.7', '1']\n",
      "['0.025', '0.075', '1']\n",
      "['0.7', '2', '1']\n",
      "['0.4', '1.2', '1']\n",
      "['0.25', '0.75', '1']\n",
      "['0.5', '1.5', '1']\n",
      "['0.25', '0.75', '1']\n",
      "['0.25', '0.75', '1']\n",
      "['0.5', '1.5', '1']\n",
      "['0.5', '1.5', '1']\n",
      "['0.0011', '0.0033', '1']\n",
      "['0.5', '1.5', '1']\n",
      "['0.25', '0.75', '1']\n",
      "['0.00265', '0.00795', '1']\n",
      "['0.00135', '0.00405', '1']\n",
      "['0.00135', '0.00405', '1']\n",
      "['5', '15', '1']\n",
      "['5', '15', '1']\n",
      "['0.03', '0.09', '1']\n",
      "['0.02', '0.06', '1']\n",
      "['0.01', '0.03', '1']\n",
      "['0.007', '0.021', '1']\n"
     ]
    }
   ],
   "source": [
    "with open(\"./NLWP1.sam\", \"r\", encoding=\"utf-8\") as f:\n",
    "    problem_name, bounds1 = list(), list()\n",
    "    tmp_list, res_list = list(), list()\n",
    "    count = 0\n",
    "    f.seek(0)\n",
    "    flag = 0\n",
    "    flag2 = 0\n",
    "    for num, line in enumerate(f):\n",
    "        if num == 1:\n",
    "            total = int(line)\n",
    "            continue\n",
    "        elif num == 2:\n",
    "            num_var = int(line)\n",
    "            continue\n",
    "\n",
    "        elif num > 2:\n",
    "\n",
    "            try:\n",
    "                line = line.rstrip()\n",
    "                tmp_list = line.split('\\t')\n",
    "                # print(len(tmp_list))\n",
    "                if len(tmp_list) == num_var and count < total:\n",
    "                    res_list.append(tmp_list)\n",
    "                    count += 1\n",
    "                else:\n",
    "                    temp_str = f\"{num_var} Distributions\"\n",
    "                    if temp_str in line:\n",
    "                        start1 = num + 2\n",
    "                        flag = 1\n",
    "                        count1 = 0\n",
    "                        count2 = 0\n",
    "                    \n",
    "                    if flag and count1 < num_var and num == start1 + count1*6:\n",
    "                        start2 = num\n",
    "                        problem_name.append(line)\n",
    "                        count1 += 1\n",
    "                        flag2 = 1\n",
    "\n",
    "                    if flag2 and count2 < num_var and num == start2 + 3:\n",
    "                        __tmp = line.split(\"\\t\")\n",
    "                        print(__tmp)\n",
    "                        bounds1.append([float(__tmp[0]), float(__tmp[1])])\n",
    "                        count2 += 1\n",
    "\n",
    "            except ValueError:\n",
    "                pass\n",
    "\n",
    "\n",
    "paramsets = np.array(res_list, dtype=np.float64)"
   ]
  },
  {
   "cell_type": "code",
   "execution_count": 24,
   "metadata": {
    "collapsed": false,
    "pycharm": {
     "name": "#%%\n"
    },
    "vscode": {
     "languageId": "python"
    }
   },
   "outputs": [
    {
     "data": {
      "text/plain": [
       "(6405, 61)"
      ]
     },
     "execution_count": 24,
     "metadata": {},
     "output_type": "execute_result"
    }
   ],
   "source": [
    "paramsets.shape"
   ]
  },
  {
   "cell_type": "code",
   "execution_count": null,
   "metadata": {
    "collapsed": false,
    "pycharm": {
     "name": "#%%\n"
    },
    "vscode": {
     "languageId": "python"
    }
   },
   "outputs": [],
   "source": []
  },
  {
   "cell_type": "code",
   "execution_count": 25,
   "metadata": {
    "collapsed": false,
    "pycharm": {
     "name": "#%%\n"
    },
    "vscode": {
     "languageId": "python"
    }
   },
   "outputs": [],
   "source": [
    "problem_dict1 = dict()\n",
    "for each in problem_name:\n",
    "    for name, value in zip(problem[\"names\"], problem[\"bounds\"]):\n",
    "        if each == name:\n",
    "            problem_dict1[each] = value"
   ]
  },
  {
   "cell_type": "code",
   "execution_count": 26,
   "metadata": {
    "pycharm": {
     "name": "#%%\n"
    },
    "vscode": {
     "languageId": "python"
    }
   },
   "outputs": [],
   "source": [
    "bounds_list = list()"
   ]
  },
  {
   "cell_type": "code",
   "execution_count": 27,
   "metadata": {
    "collapsed": false,
    "pycharm": {
     "name": "#%%\n"
    },
    "vscode": {
     "languageId": "python"
    }
   },
   "outputs": [
    {
     "data": {
      "text/plain": [
       "True"
      ]
     },
     "execution_count": 27,
     "metadata": {},
     "output_type": "execute_result"
    }
   ],
   "source": [
    "len(bounds1) == len(problem_name)"
   ]
  },
  {
   "cell_type": "code",
   "execution_count": 77,
   "metadata": {
    "pycharm": {
     "name": "#%%\n"
    },
    "vscode": {
     "languageId": "python"
    }
   },
   "outputs": [
    {
     "ename": "KeyError",
     "evalue": "'NMAXLV_TB001'",
     "output_type": "error",
     "traceback": [
      "\u001b[1;31m---------------------------------------------------------------------------\u001b[0m",
      "\u001b[1;31mKeyError\u001b[0m                                  Traceback (most recent call last)",
      "Cell \u001b[1;32mIn [77], line 2\u001b[0m\n\u001b[0;32m      1\u001b[0m \u001b[39mfor\u001b[39;00m each \u001b[39min\u001b[39;00m problem_name:\n\u001b[1;32m----> 2\u001b[0m     bounds_list\u001b[39m.\u001b[39mappend(problem_dict1[each])\n",
      "\u001b[1;31mKeyError\u001b[0m: 'NMAXLV_TB001'"
     ]
    }
   ],
   "source": [
    "for each in problem_name:\n",
    "    bounds_list.append(problem_dict1[each])"
   ]
  },
  {
   "cell_type": "code",
   "execution_count": 28,
   "metadata": {
    "pycharm": {
     "name": "#%%\n"
    },
    "vscode": {
     "languageId": "python"
    }
   },
   "outputs": [],
   "source": [
    "problem = dict()\n",
    "problem[\"bounds\"] = bounds1\n",
    "problem[\"names\"] = problem_name\n",
    "problem[\"num_vars\"] = len(bounds1)"
   ]
  },
  {
   "cell_type": "code",
   "execution_count": 29,
   "metadata": {
    "pycharm": {
     "name": "#%%\n"
    },
    "vscode": {
     "languageId": "python"
    }
   },
   "outputs": [
    {
     "name": "stdout",
     "output_type": "stream",
     "text": [
      "SLATB001 [0.0013, 0.0039]\n",
      "SLATB003 [0.0006, 0.0018]\n",
      "SLATB005 [0.0006, 0.0018]\n",
      "KDIFTB001 [0.3, 0.9]\n",
      "KDIFTB003 [0.3, 0.9]\n",
      "EFFTB001 [0.225, 0.675]\n",
      "EFFTB003 [0.225, 0.675]\n",
      "AMAXTB003 [35.0, 105.0]\n",
      "AMAXTB005 [31.5, 94.5]\n",
      "AMAXTB007 [24.5, 73.5]\n",
      "AMAXTB001 [35.0, 105.0]\n",
      "AMAXTB009 [10.5, 31.5]\n",
      "TMPFTB001 [0.005, 0.015]\n",
      "TMPFTB007 [0.5, 1.5]\n",
      "TMNFTB003 [0.5, 1.5]\n",
      "RFSETB001 [0.5, 1.5]\n",
      "RFSETB007 [0.125, 0.375]\n",
      "CVL [0.34, 1.02]\n",
      "CVO [0.3355, 1.0065]\n",
      "CVR [0.345, 1.035]\n",
      "CVS [0.329, 0.987]\n",
      "Q10 [1.0, 3.0]\n",
      "RML [0.015, 0.045]\n",
      "RMO [0.005, 0.015]\n",
      "RMR [0.0075, 0.0225]\n",
      "RMS [0.0075, 0.0225]\n",
      "PERDL [0.015, 0.045]\n",
      "RDI [5.0, 15.0]\n",
      "TBASEM [2.0, 6.0]\n",
      "TEFFMX [15.0, 45.0]\n",
      "TDWI [25.0, 75.0]\n",
      "RGRLAI [0.0147, 0.0441]\n",
      "SPAN [16.5, 49.5]\n",
      "RRI [1.1, 3.3]\n",
      "FLTB001 [0.465, 0.775]\n",
      "FLTB003 [0.465, 0.775]\n",
      "FLTB005 [0.075, 0.225]\n",
      "FLTB007 [0.075, 0.225]\n",
      "FLTB009 [0.08, 0.12]\n",
      "FOTB009 [0.3, 0.7]\n",
      "RDRLV_NPK [0.025, 0.075]\n",
      "DVS_NPK_STOP [0.7, 2.0]\n",
      "DVS_NPK_TRANSL [0.4, 1.2]\n",
      "NPK_TRANSLRT_FR [0.25, 0.75]\n",
      "NCRIT_FR [0.5, 1.5]\n",
      "NMAXRT_FR [0.25, 0.75]\n",
      "NMAXST_FR [0.25, 0.75]\n",
      "NLAI_NPK [0.5, 1.5]\n",
      "NLUE_NPK [0.5, 1.5]\n",
      "NMAXSO [0.0011, 0.0033]\n",
      "NPART [0.5, 1.5]\n",
      "NSLA_NPK [0.25, 0.75]\n",
      "NRESIDLV [0.00265, 0.00795]\n",
      "NRESIDST [0.00135, 0.00405]\n",
      "NRESIDRT [0.00135, 0.00405]\n",
      "TCNT [5.0, 15.0]\n",
      "RNUPTAKEMAX [5.0, 15.0]\n",
      "NMAXLV_TB001 [0.03, 0.09]\n",
      "NMAXLV_TB003 [0.02, 0.06]\n",
      "NMAXLV_TB005 [0.01, 0.03]\n",
      "NMAXLV_TB007 [0.007, 0.021]\n"
     ]
    }
   ],
   "source": [
    "for name, bound in zip(problem[\"names\"], problem[\"bounds\"]):\n",
    "    print(\"%s %s\" % (name, bound))"
   ]
  },
  {
   "cell_type": "code",
   "execution_count": 30,
   "metadata": {
    "collapsed": false,
    "pycharm": {
     "name": "#%%\n"
    },
    "vscode": {
     "languageId": "python"
    }
   },
   "outputs": [],
   "source": [
    "nsets = len(paramsets)\n",
    "result_template = create_dict(das)\n",
    "# result_wlp = create_dict(das)\n",
    "result_template[\"names1\"] = col1\n",
    "result_template[\"names2\"] = col2\n",
    "# result_wlp[\"names1\"] = col1\n",
    "# result_wlp[\"names2\"] = col2"
   ]
  },
  {
   "cell_type": "code",
   "execution_count": 31,
   "metadata": {
    "collapsed": false,
    "pycharm": {
     "name": "#%%\n"
    },
    "vscode": {
     "languageId": "python"
    }
   },
   "outputs": [],
   "source": [
    "def parase_res_dict(input_dict: dict(), prefix):\n",
    "    \"\"\"\n",
    "    @param prefix: must contain \"_s_\"\n",
    "    \"\"\"\n",
    "    tmp_df = None\n",
    "    for key_ in input_dict.keys():\n",
    "        \n",
    "        if key_.isnumeric():\n",
    "            file_name = prefix.replace(\"_s_\", key_)\n",
    "            if key_ == \"0\":\n",
    "                tmp_df = pd.DataFrame(input_dict[key_], columns=input_dict[\"names1\"])\n",
    "            else:\n",
    "                tmp_df = pd.DataFrame(input_dict[key_], columns=input_dict[\"names2\"])\n",
    "\n",
    "            convert2simlab1(tmp_df, file_name)\n"
   ]
  },
  {
   "cell_type": "code",
   "execution_count": 32,
   "metadata": {
    "pycharm": {
     "name": "#%%\n"
    },
    "vscode": {
     "languageId": "python"
    }
   },
   "outputs": [],
   "source": [
    "def gen_res_dict(input_dict: dict):\n",
    "    tmp_df = None\n",
    "    for key_ in input_dict.keys():\n",
    "        \n",
    "        if key_.isnumeric():\n",
    "            if key_ == \"0\":\n",
    "                name = input_dict[\"names1\"]\n",
    "                tmp_df = pd.DataFrame(input_dict[key_], columns=input_dict[\"names1\"])\n",
    "            else:\n",
    "                name = input_dict[\"names2\"]\n",
    "                tmp_df = pd.DataFrame(input_dict[key_], columns=input_dict[\"names2\"])\n",
    "            \n",
    "            yield (key_, name, tmp_df)"
   ]
  },
  {
   "cell_type": "code",
   "execution_count": null,
   "metadata": {
    "pycharm": {
     "name": "#%%\n"
    },
    "vscode": {
     "languageId": "python"
    }
   },
   "outputs": [],
   "source": []
  },
  {
   "cell_type": "code",
   "execution_count": null,
   "metadata": {
    "pycharm": {
     "name": "#%%\n"
    },
    "vscode": {
     "languageId": "python"
    }
   },
   "outputs": [],
   "source": []
  },
  {
   "cell_type": "code",
   "execution_count": 33,
   "metadata": {
    "pycharm": {
     "name": "#%%\n"
    },
    "vscode": {
     "languageId": "python"
    }
   },
   "outputs": [],
   "source": [
    "def save_pickle(data, pkl_path):\n",
    "    with open(pkl_path, \"wb\") as f:\n",
    "        pickle.dump(data, f)\n",
    "        print(f\"{pkl_path}保存成功\\n\")\n",
    "     "
   ]
  },
  {
   "cell_type": "markdown",
   "metadata": {
    "collapsed": false,
    "pycharm": {
     "name": "#%% md\n"
    }
   },
   "source": [
    "### efast"
   ]
  },
  {
   "cell_type": "code",
   "execution_count": 34,
   "metadata": {
    "pycharm": {
     "name": "#%%\n"
    },
    "vscode": {
     "languageId": "python"
    }
   },
   "outputs": [],
   "source": [
    "save_dir = \"./data/pickleFile/12161/\""
   ]
  },
  {
   "cell_type": "code",
   "execution_count": 35,
   "metadata": {
    "collapsed": false,
    "pycharm": {
     "name": "#%%\n"
    },
    "vscode": {
     "languageId": "python"
    }
   },
   "outputs": [
    {
     "name": "stderr",
     "output_type": "stream",
     "text": [
      "完成进度: 100%|████████████████| 6405/6405 [48:34<00:00,  2.20it/s, number=6404]ing]\n"
     ]
    },
    {
     "name": "stdout",
     "output_type": "stream",
     "text": [
      "./data/pickleFile/12161/PPN1802021.pkl保存成功\n",
      "\n"
     ]
    },
    {
     "name": "stderr",
     "output_type": "stream",
     "text": [
      "完成进度: 100%|████████████████| 6405/6405 [46:42<00:00,  2.29it/s, number=6404]ing]\n"
     ]
    },
    {
     "name": "stdout",
     "output_type": "stream",
     "text": [
      "./data/pickleFile/12161/PPN1802022.pkl保存成功\n",
      "\n"
     ]
    }
   ],
   "source": [
    "save_dir = \"./data/pickleFile/12161/\"\n",
    "n_amounts = [180]\n",
    "for nn in n_amounts:\n",
    "    parameters.clear_override()\n",
    "    result_pp = copy.deepcopy(result_template)\n",
    "    pklfile = \"%sPPN%s2021.pkl\" % (save_dir, nn)\n",
    "    agromanagement21 = my_agro(yaml_agro_2021, nn)\n",
    "    agromanagement22 = my_agro(yaml_agro_2022, nn)\n",
    "    result_pp = run_wofost(variable_name=problem[\"names\"], paramsets=paramsets, result_dict=result_pp, parameters=parameters,\n",
    "                        agrodata=agromanagement21, weatherdata=wdp, pkl_file=pklfile, target_variables=final_target, target_list=(das, time_target), phenology=True)\n",
    "    # parase_res_dict(result_2021pp, \"./data/modelOut/2021PP/2021PP_s_.psc\")\n",
    "    save_pickle(result_pp, pklfile)\n",
    "    pklfile = \"%sPPN%s2022.pkl\" % (save_dir, nn)\n",
    "    result_pp = copy.deepcopy(result_template)\n",
    "    result_pp = run_wofost(variable_name=problem[\"names\"], paramsets=paramsets, result_dict=result_pp, parameters=parameters,\n",
    "                            agrodata=agromanagement22, weatherdata=wdp, pkl_file=pklfile, target_variables=final_target, target_list=(das, time_target), phenology=True)\n",
    "    save_pickle(result_pp, pklfile)\n",
    "    # parase_res_dict(result_2022pp, \"./data/modelOut/2022PP/2022PP_s_.psc\")"
   ]
  },
  {
   "attachments": {},
   "cell_type": "markdown",
   "metadata": {},
   "source": [
    "**暂时不用**"
   ]
  },
  {
   "cell_type": "code",
   "execution_count": 14,
   "metadata": {
    "collapsed": false,
    "pycharm": {
     "name": "#%%\n"
    },
    "vscode": {
     "languageId": "python"
    }
   },
   "outputs": [
    {
     "name": "stdout",
     "output_type": "stream",
     "text": [
      "['0.0013', '0.0039', '1']\n",
      "['0.0006', '0.0018', '1']\n",
      "['0.0006', '0.0018', '1']\n",
      "['0.3', '0.9', '1']\n",
      "['0.3', '0.9', '1']\n",
      "['0.225', '0.675', '1']\n",
      "['0.225', '0.675', '1']\n",
      "['35', '105', '1']\n",
      "['31.5', '94.5', '1']\n",
      "['24.5', '73.5', '1']\n",
      "['35', '105', '1']\n",
      "['10.5', '31.5', '1']\n",
      "['0.005', '0.015', '1']\n",
      "['0.5', '1.5', '1']\n",
      "['0.5', '1.5', '1']\n",
      "['0.5', '1.5', '1']\n",
      "['0.125', '0.375', '1']\n",
      "['0.34', '1.02', '1']\n",
      "['0.3355', '1.0065', '1']\n",
      "['0.345', '1.035', '1']\n",
      "['0.329', '0.987', '1']\n",
      "['1', '3', '1']\n",
      "['0.015', '0.045', '1']\n",
      "['0.005', '0.015', '1']\n",
      "['0.0075', '0.0225', '1']\n",
      "['0.0075', '0.0225', '1']\n",
      "['0.015', '0.045', '1']\n",
      "['5', '15', '1']\n",
      "['2', '6', '1']\n",
      "['15', '45', '1']\n",
      "['25', '75', '1']\n",
      "['0.0147', '0.0441', '1']\n",
      "['16.5', '49.5', '1']\n",
      "['1.1', '3.3', '1']\n",
      "['0.465', '0.775', '1']\n",
      "['0.465', '0.775', '1']\n",
      "['0.075', '0.225', '1']\n",
      "['0.075', '0.225', '1']\n",
      "['0.08', '0.12', '1']\n",
      "['0.3', '0.7', '1']\n"
     ]
    }
   ],
   "source": [
    "with open(\"./fastsample33LAI.sam\", \"r\", encoding=\"utf-8\") as f:\n",
    "    problem_name, bounds1 = list(), list()\n",
    "    tmp_list, res_list = list(), list()\n",
    "    count = 0\n",
    "    f.seek(0)\n",
    "    flag = 0\n",
    "    flag2 = 0\n",
    "    for num, line in enumerate(f):\n",
    "        if num == 1:\n",
    "            total = int(line)\n",
    "            continue\n",
    "        elif num == 2:\n",
    "            num_var = int(line)\n",
    "            continue\n",
    "\n",
    "        elif num > 2:\n",
    "\n",
    "            try:\n",
    "                line = line.rstrip()\n",
    "                tmp_list = line.split('\\t')\n",
    "                # print(len(tmp_list))\n",
    "                if len(tmp_list) == num_var and count < total:\n",
    "                    res_list.append(tmp_list)\n",
    "                    count += 1\n",
    "                else:\n",
    "                    temp_str = f\"{num_var} Distributions\"\n",
    "                    if temp_str in line:\n",
    "                        start1 = num + 2\n",
    "                        flag = 1\n",
    "                        count1 = 0\n",
    "                        count2 = 0\n",
    "\n",
    "                    if flag and count1 < num_var and num == start1 + count1*6:\n",
    "                        start2 = num\n",
    "                        problem_name.append(line)\n",
    "                        count1 += 1\n",
    "                        flag2 = 1\n",
    "\n",
    "                    if flag2 and count2 < num_var and num == start2 + 3:\n",
    "                        __tmp = line.split(\"\\t\")\n",
    "                        print(__tmp)\n",
    "                        bounds1.append([float(__tmp[0]), float(__tmp[1])])\n",
    "                        count2 += 1\n",
    "\n",
    "            except ValueError:\n",
    "                pass\n",
    "\n",
    "\n",
    "paramsets = np.array(res_list, dtype=np.float64)\n",
    "problem[\"bounds\"] = bounds1\n",
    "problem[\"names\"] = problem_name\n",
    "problem[\"num_vars\"] = len(bounds1)"
   ]
  },
  {
   "cell_type": "code",
   "execution_count": null,
   "metadata": {
    "vscode": {
     "languageId": "python"
    }
   },
   "outputs": [],
   "source": []
  },
  {
   "cell_type": "code",
   "execution_count": null,
   "metadata": {
    "collapsed": false,
    "pycharm": {
     "name": "#%%\n"
    },
    "vscode": {
     "languageId": "python"
    }
   },
   "outputs": [],
   "source": [
    "save_dir = \"./data/pickleFile/LAI42/\"\n",
    "n_amounts = [0, 90, 180, 270]\n",
    "for nn in n_amounts:\n",
    "    parameters.clear_override()\n",
    "    result_pp = copy.deepcopy(result_template)\n",
    "    pklfile = \"%sPPN%s2021.pkl\" % (save_dir, nn)\n",
    "    agromanagement21 = my_agro(yaml_agro_2021, nn)\n",
    "    agromanagement22 = my_agro(yaml_agro_2022, nn)\n",
    "    result_pp = run_wofost(variable_name=problem[\"names\"], paramsets=paramsets, result_dict=result_pp, parameters=parameters,\n",
    "                           agrodata=agromanagement21, weatherdata=wdp, pkl_file=pklfile, target_variables=final_target, target_list=(das, time_target))\n",
    "    # parase_res_dict(result_2021pp, \"./data/modelOut/2021PP/2021PP_s_.psc\")\n",
    "    save_pickle(result_pp, pklfile)\n",
    "    pklfile = \"%sPPN%s2022.pkl\" % (save_dir, nn)\n",
    "    result_pp = copy.deepcopy(result_template)\n",
    "    result_pp = run_wofost(variable_name=problem[\"names\"], paramsets=paramsets, result_dict=result_pp, parameters=parameters,\n",
    "                           agrodata=agromanagement22, weatherdata=wdp, pkl_file=pklfile, target_variables=final_target, target_list=(das, time_target))\n",
    "    save_pickle(result_pp, pklfile)\n",
    "    # parase_res_dict(result_2022pp, \"./data/modelOut/2022PP/2022PP_s_.psc\")"
   ]
  },
  {
   "cell_type": "code",
   "execution_count": null,
   "metadata": {
    "collapsed": false,
    "pycharm": {
     "name": "#%%\n"
    },
    "vscode": {
     "languageId": "python"
    }
   },
   "outputs": [],
   "source": []
  },
  {
   "cell_type": "code",
   "execution_count": 36,
   "metadata": {
    "vscode": {
     "languageId": "python"
    }
   },
   "outputs": [],
   "source": [
    "def isdir_demo(dir_path):\n",
    "    if not os.path.isdir(dir_path):\n",
    "        try:\n",
    "            os.mkdir(dir_path)\n",
    "        except FileNotFoundError:\n",
    "            os.makedirs(dir_path)"
   ]
  },
  {
   "cell_type": "code",
   "execution_count": 37,
   "metadata": {
    "collapsed": false,
    "pycharm": {
     "name": "#%%\n"
    },
    "vscode": {
     "languageId": "python"
    }
   },
   "outputs": [],
   "source": [
    "import sqlite3\n",
    "from tqdm import tqdm\n",
    "import pickle\n",
    "from SALib.analyze import fast"
   ]
  },
  {
   "cell_type": "code",
   "execution_count": 40,
   "metadata": {
    "pycharm": {
     "name": "#%%\n"
    },
    "vscode": {
     "languageId": "python"
    }
   },
   "outputs": [
    {
     "name": "stderr",
     "output_type": "stream",
     "text": [
      "127it [01:53,  1.12it/s]\n",
      "127it [01:54,  1.11it/s]\n"
     ]
    },
    {
     "ename": "UnpicklingError",
     "evalue": "the STRING opcode argument must be quoted",
     "output_type": "error",
     "traceback": [
      "\u001b[1;31m---------------------------------------------------------------------------\u001b[0m",
      "\u001b[1;31mUnpicklingError\u001b[0m                           Traceback (most recent call last)",
      "Cell \u001b[1;32mIn [40], line 11\u001b[0m\n\u001b[0;32m      9\u001b[0m table_name \u001b[39m=\u001b[39m save_name[:\u001b[39m-\u001b[39m\u001b[39m4\u001b[39m]\n\u001b[0;32m     10\u001b[0m \u001b[39mwith\u001b[39;00m \u001b[39mopen\u001b[39m(os\u001b[39m.\u001b[39mpath\u001b[39m.\u001b[39mjoin(dir_root, file_name), \u001b[39m'\u001b[39m\u001b[39mrb\u001b[39m\u001b[39m'\u001b[39m) \u001b[39mas\u001b[39;00m f:\n\u001b[1;32m---> 11\u001b[0m     result_pp \u001b[39m=\u001b[39m pickle\u001b[39m.\u001b[39;49mload(f)\n\u001b[0;32m     13\u001b[0m gen_dict \u001b[39m=\u001b[39m gen_res_dict(result_pp)\n\u001b[0;32m     14\u001b[0m \u001b[39mfor\u001b[39;00m num_, names_l, df1 \u001b[39min\u001b[39;00m tqdm(gen_dict):\n",
      "\u001b[1;31mUnpicklingError\u001b[0m: the STRING opcode argument must be quoted"
     ]
    }
   ],
   "source": [
    "root_dir = \"./data/modelOut/NWLP1/\"\n",
    "save_dir1 = \"./data/modelOut/NWLP1/Siraw/\"\n",
    "isdir_demo(save_dir1)\n",
    "connLAI = sqlite3.connect(os.path.join(save_dir1, \"LAI_ori.db\"))\n",
    "for dir_root, _, file_list in os.walk(root_dir):\n",
    "    for file_name in file_list:\n",
    "        save_name = file_name.split(\".\")[0]\n",
    "        year_ = save_name[-4: ]\n",
    "        table_name = save_name[:-4]\n",
    "        with open(os.path.join(dir_root, file_name), 'rb') as f:\n",
    "            result_pp = pickle.load(f)\n",
    "        \n",
    "        gen_dict = gen_res_dict(result_pp)\n",
    "        for num_, names_l, df1 in tqdm(gen_dict):\n",
    "            for each in names_l[: -1]:\n",
    "                Y = df1[each]\n",
    "                Y = Y.to_numpy()\n",
    "                Si = fast.analyze(problem, Y, print_to_console=False)\n",
    "                df_sensitivity = pd.DataFrame({\n",
    "                    \"Parameter\": problem[\"names\"],\n",
    "                    \"First_order\": Si[\"S1\"],\n",
    "                    \"Total_order\": Si[\"ST\"]}).set_index(\"Parameter\")\n",
    "                if num_ == \"0\":\n",
    "                    save_name1 = f\"{save_name}_{each}_{num_}.csv\"\n",
    "                    df_sensitivity.to_csv(os.path.join(save_dir1, save_name1))\n",
    "                else:\n",
    "                    df_sensitivity['YEAR'] = int(year_)\n",
    "                    df_sensitivity['DOY'] = int(num_)\n",
    "                    df_sensitivity.to_sql(f\"{table_name}{each}\", con=connLAI, chunksize=10000, if_exists='append')\n",
    "\n",
    "connLAI.close()\n"
   ]
  },
  {
   "cell_type": "code",
   "execution_count": 42,
   "metadata": {
    "pycharm": {
     "name": "#%%\n"
    },
    "vscode": {
     "languageId": "python"
    }
   },
   "outputs": [],
   "source": [
    "connLAI.close()\n"
   ]
  },
  {
   "cell_type": "code",
   "execution_count": 114,
   "metadata": {
    "pycharm": {
     "name": "#%%\n"
    },
    "vscode": {
     "languageId": "python"
    }
   },
   "outputs": [
    {
     "data": {
      "text/plain": [
       "[1, 2, 3, 4]"
      ]
     },
     "execution_count": 114,
     "metadata": {},
     "output_type": "execute_result"
    }
   ],
   "source": []
  },
  {
   "cell_type": "code",
   "execution_count": 40,
   "metadata": {
    "collapsed": false,
    "pycharm": {
     "name": "#%%\n"
    },
    "vscode": {
     "languageId": "python"
    }
   },
   "outputs": [],
   "source": [
    "df_pp = pd.DataFrame(result_2021wlp[\"0\"], columns=result_2021wlp[\"names1\"])"
   ]
  },
  {
   "cell_type": "code",
   "execution_count": null,
   "metadata": {
    "pycharm": {
     "name": "#%%\n"
    },
    "vscode": {
     "languageId": "python"
    }
   },
   "outputs": [],
   "source": [
    "Y = df_pp[\"TWSO\"]"
   ]
  },
  {
   "cell_type": "code",
   "execution_count": null,
   "metadata": {
    "pycharm": {
     "name": "#%%\n"
    },
    "vscode": {
     "languageId": "python"
    }
   },
   "outputs": [],
   "source": [
    "Y = Y.to_numpy()"
   ]
  },
  {
   "cell_type": "code",
   "execution_count": null,
   "metadata": {
    "pycharm": {
     "name": "#%%\n"
    },
    "vscode": {
     "languageId": "python"
    }
   },
   "outputs": [],
   "source": [
    "Y"
   ]
  },
  {
   "cell_type": "code",
   "execution_count": null,
   "metadata": {
    "pycharm": {
     "name": "#%%\n"
    },
    "vscode": {
     "languageId": "python"
    }
   },
   "outputs": [],
   "source": [
    "Si = fast.analyze(problem, Y, print_to_console=False)"
   ]
  },
  {
   "cell_type": "code",
   "execution_count": null,
   "metadata": {
    "collapsed": false,
    "jupyter": {
     "outputs_hidden": false
    },
    "pycharm": {
     "name": "#%%\n"
    },
    "vscode": {
     "languageId": "python"
    }
   },
   "outputs": [],
   "source": [
    "df_sensitivity = pd.DataFrame({\n",
    "    \"Parameter\": problem[\"names\"],\n",
    "    \"First_order\": Si[\"S1\"],\n",
    "    \"Total_order\": Si[\"ST\"]}).set_index(\"Parameter\")\n",
    "fig, axes = plt.subplots(figsize=(10,6))\n",
    "df_sensitivity.plot(kind=\"bar\", ax=axes)"
   ]
  },
  {
   "cell_type": "code",
   "execution_count": null,
   "metadata": {
    "pycharm": {
     "name": "#%%\n"
    },
    "vscode": {
     "languageId": "python"
    }
   },
   "outputs": [],
   "source": [
    "df_sensitivity"
   ]
  },
  {
   "cell_type": "code",
   "execution_count": null,
   "metadata": {
    "pycharm": {
     "name": "#%%\n"
    },
    "vscode": {
     "languageId": "python"
    }
   },
   "outputs": [],
   "source": []
  },
  {
   "cell_type": "code",
   "execution_count": null,
   "metadata": {
    "collapsed": false,
    "jupyter": {
     "outputs_hidden": false
    },
    "pycharm": {
     "name": "#%%\n"
    },
    "vscode": {
     "languageId": "python"
    }
   },
   "outputs": [],
   "source": []
  },
  {
   "cell_type": "code",
   "execution_count": null,
   "metadata": {
    "collapsed": false,
    "jupyter": {
     "outputs_hidden": false
    },
    "pycharm": {
     "name": "#%%\n"
    },
    "vscode": {
     "languageId": "python"
    }
   },
   "outputs": [],
   "source": []
  },
  {
   "cell_type": "code",
   "execution_count": null,
   "metadata": {
    "collapsed": false,
    "jupyter": {
     "outputs_hidden": false
    },
    "pycharm": {
     "name": "#%%\n"
    },
    "vscode": {
     "languageId": "python"
    }
   },
   "outputs": [],
   "source": []
  }
 ],
 "metadata": {
  "kernelspec": {
   "display_name": "pcse",
   "language": "python",
   "name": "pcse"
  }
 },
 "nbformat": 4,
 "nbformat_minor": 4
}
